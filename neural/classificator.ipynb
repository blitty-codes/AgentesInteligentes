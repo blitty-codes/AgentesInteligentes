{
  "cells": [
    {
      "cell_type": "code",
      "execution_count": 1,
      "metadata": {
        "id": "edM_ZEc5qAkP"
      },
      "outputs": [
        {
          "name": "stderr",
          "output_type": "stream",
          "text": [
            "2023-04-28 09:42:34.832656: I tensorflow/core/util/port.cc:110] oneDNN custom operations are on. You may see slightly different numerical results due to floating-point round-off errors from different computation orders. To turn them off, set the environment variable `TF_ENABLE_ONEDNN_OPTS=0`.\n",
            "2023-04-28 09:42:34.861953: I tensorflow/tsl/cuda/cudart_stub.cc:28] Could not find cuda drivers on your machine, GPU will not be used.\n",
            "2023-04-28 09:42:34.995908: I tensorflow/tsl/cuda/cudart_stub.cc:28] Could not find cuda drivers on your machine, GPU will not be used.\n",
            "2023-04-28 09:42:34.996891: I tensorflow/core/platform/cpu_feature_guard.cc:182] This TensorFlow binary is optimized to use available CPU instructions in performance-critical operations.\n",
            "To enable the following instructions: AVX2 AVX_VNNI FMA, in other operations, rebuild TensorFlow with the appropriate compiler flags.\n",
            "2023-04-28 09:42:35.641749: W tensorflow/compiler/tf2tensorrt/utils/py_utils.cc:38] TF-TRT Warning: Could not find TensorRT\n"
          ]
        }
      ],
      "source": [
        "import nltk\n",
        "import numpy as np\n",
        "import pandas as pd\n",
        "import seaborn as sns\n",
        "import tensorflow as tf\n",
        "import matplotlib.pyplot as plt"
      ]
    },
    {
      "cell_type": "markdown",
      "metadata": {
        "id": "aAcVHXU4-j9O"
      },
      "source": [
        "Download:\n",
        "\n",
        "- punkt\n",
        "- stopwords\n",
        "- averaged_perceptron_tagger"
      ]
    },
    {
      "cell_type": "code",
      "execution_count": 2,
      "metadata": {
        "colab": {
          "base_uri": "https://localhost:8080/"
        },
        "id": "uSNknmNErYBD",
        "outputId": "7ace9eff-50b4-48ca-a792-0d99e2af784f"
      },
      "outputs": [
        {
          "name": "stdout",
          "output_type": "stream",
          "text": [
            "NLTK Downloader\n",
            "---------------------------------------------------------------------------\n",
            "    d) Download   l) List    u) Update   c) Config   h) Help   q) Quit\n",
            "---------------------------------------------------------------------------\n"
          ]
        },
        {
          "data": {
            "text/plain": [
              "True"
            ]
          },
          "execution_count": 2,
          "metadata": {},
          "output_type": "execute_result"
        }
      ],
      "source": [
        "nltk.download()"
      ]
    },
    {
      "cell_type": "markdown",
      "metadata": {
        "id": "KvXJ3l7QlOUV"
      },
      "source": [
        "# Funcion general"
      ]
    },
    {
      "cell_type": "code",
      "execution_count": 3,
      "metadata": {
        "id": "6_GnFh3elQrA"
      },
      "outputs": [],
      "source": [
        "def plot_history(history, metric):\n",
        "    plt.subplot(1, 2, 1)\n",
        "    plt.plot(history.history['loss'], label='Training')\n",
        "    plt.plot(history.history['val_loss'], label='Validation')\n",
        "    plt.xlabel('Epoch')\n",
        "    plt.ylabel('Loss')\n",
        "    plt.title(f'Training: {history.history[\"loss\"][-1]:.2f}, validation: {history.history[\"val_loss\"][-1]:.2f}')\n",
        "    plt.legend()\n",
        "\n",
        "    plt.subplot(1, 2, 2)\n",
        "    #plt.plot(history.history['accuracy'], label='Training')\n",
        "    plt.plot(history.history[f'{metric}'], label='Training')\n",
        "    plt.plot(history.history[f'val_{metric}'], label='Validation')\n",
        "    plt.xlabel('Epoch')\n",
        "    plt.ylabel('Accuracy')\n",
        "    plt.title(f'Training: {history.history[f\"{metric}\"][-1]:.2f}, validation: {history.history[f\"val_{metric}\"][-1]:.2f}')\n",
        "    plt.legend()\n",
        "\n",
        "    plt.show()"
      ]
    },
    {
      "cell_type": "markdown",
      "metadata": {
        "id": "L3T2IgBQlSGG"
      },
      "source": [
        "# Apartir de aquí, la parte bonita del notebook. Diviertete!! ♥\n",
        "\n",
        "\n",
        "Hecho por NeuralHive 🐝"
      ]
    },
    {
      "cell_type": "code",
      "execution_count": 4,
      "metadata": {
        "id": "CpME5deSp9Tp"
      },
      "outputs": [],
      "source": [
        "papers_path = 'papers.csv'"
      ]
    },
    {
      "cell_type": "code",
      "execution_count": 5,
      "metadata": {
        "colab": {
          "base_uri": "https://localhost:8080/",
          "height": 354
        },
        "id": "zFGK44VRp9uJ",
        "outputId": "600fc911-cf6e-40a7-a1ff-0eb7f1c9918b"
      },
      "outputs": [
        {
          "name": "stdout",
          "output_type": "stream",
          "text": [
            "(4555, 3)\n"
          ]
        },
        {
          "data": {
            "text/html": [
              "<div>\n",
              "<style scoped>\n",
              "    .dataframe tbody tr th:only-of-type {\n",
              "        vertical-align: middle;\n",
              "    }\n",
              "\n",
              "    .dataframe tbody tr th {\n",
              "        vertical-align: top;\n",
              "    }\n",
              "\n",
              "    .dataframe thead th {\n",
              "        text-align: right;\n",
              "    }\n",
              "</style>\n",
              "<table border=\"1\" class=\"dataframe\">\n",
              "  <thead>\n",
              "    <tr style=\"text-align: right;\">\n",
              "      <th></th>\n",
              "      <th>title</th>\n",
              "      <th>abstract</th>\n",
              "      <th>keywords</th>\n",
              "    </tr>\n",
              "  </thead>\n",
              "  <tbody>\n",
              "    <tr>\n",
              "      <th>0</th>\n",
              "      <td>Ensemble Statistical and Heuristic Models for ...</td>\n",
              "      <td>Statistical word alignment models need large a...</td>\n",
              "      <td>['ensemble learning', 'word alignment']</td>\n",
              "    </tr>\n",
              "    <tr>\n",
              "      <th>1</th>\n",
              "      <td>Improving Spectral Learning by Using Multiple ...</td>\n",
              "      <td>Spectral learning algorithms learn an unknown ...</td>\n",
              "      <td>['basis selection', 'discrete fourier', 'ensem...</td>\n",
              "    </tr>\n",
              "    <tr>\n",
              "      <th>2</th>\n",
              "      <td>Applying Swarm Ensemble Clustering Technique f...</td>\n",
              "      <td>Number of defects remaining in a system provid...</td>\n",
              "      <td>['clustering', 'ensembles', 'particle swarm op...</td>\n",
              "    </tr>\n",
              "    <tr>\n",
              "      <th>3</th>\n",
              "      <td>Reducing the Effects of Detrimental Instances</td>\n",
              "      <td>Not all instances in a data set are equally be...</td>\n",
              "      <td>['filtering', 'instance weighting', 'label noi...</td>\n",
              "    </tr>\n",
              "    <tr>\n",
              "      <th>4</th>\n",
              "      <td>Concept Drift Awareness in Twitter Streams</td>\n",
              "      <td>Learning in non-stationary environments is not...</td>\n",
              "      <td>['adaptive', 'context', 'detection', 'time-fre...</td>\n",
              "    </tr>\n",
              "  </tbody>\n",
              "</table>\n",
              "</div>"
            ],
            "text/plain": [
              "                                               title  \\\n",
              "0  Ensemble Statistical and Heuristic Models for ...   \n",
              "1  Improving Spectral Learning by Using Multiple ...   \n",
              "2  Applying Swarm Ensemble Clustering Technique f...   \n",
              "3      Reducing the Effects of Detrimental Instances   \n",
              "4         Concept Drift Awareness in Twitter Streams   \n",
              "\n",
              "                                            abstract  \\\n",
              "0  Statistical word alignment models need large a...   \n",
              "1  Spectral learning algorithms learn an unknown ...   \n",
              "2  Number of defects remaining in a system provid...   \n",
              "3  Not all instances in a data set are equally be...   \n",
              "4  Learning in non-stationary environments is not...   \n",
              "\n",
              "                                            keywords  \n",
              "0            ['ensemble learning', 'word alignment']  \n",
              "1  ['basis selection', 'discrete fourier', 'ensem...  \n",
              "2  ['clustering', 'ensembles', 'particle swarm op...  \n",
              "3  ['filtering', 'instance weighting', 'label noi...  \n",
              "4  ['adaptive', 'context', 'detection', 'time-fre...  "
            ]
          },
          "execution_count": 5,
          "metadata": {},
          "output_type": "execute_result"
        }
      ],
      "source": [
        "df = pd.read_csv(papers_path)\n",
        "print(df.shape)\n",
        "df.head()"
      ]
    },
    {
      "cell_type": "code",
      "execution_count": 6,
      "metadata": {
        "id": "ZZt_H9v7p-xx"
      },
      "outputs": [],
      "source": [
        "X = df[\"abstract\"]\n",
        "y = df[\"keywords\"]"
      ]
    },
    {
      "cell_type": "markdown",
      "metadata": {
        "id": "YJ0a69nNqAJJ"
      },
      "source": [
        "# Abstracts"
      ]
    },
    {
      "cell_type": "markdown",
      "metadata": {
        "id": "jOYc78paLtGD"
      },
      "source": [
        "## Data exploration && cleanning\n",
        "\n",
        "Data exploration and cleaning of all abstracts.\n",
        "\n",
        "1. Data exploration\n",
        "    1. Repetition of words\n",
        "    2. Frecuency of words\n",
        "    3. Length of words\n",
        "    4. Get hapaxes"
      ]
    },
    {
      "cell_type": "markdown",
      "metadata": {
        "id": "eykh-T7bNHXR"
      },
      "source": [
        "Collect all the abstracts into one. This way, we are going to have a top view of the dataset."
      ]
    },
    {
      "cell_type": "code",
      "execution_count": 7,
      "metadata": {
        "colab": {
          "base_uri": "https://localhost:8080/"
        },
        "id": "TIpiIixWNFed",
        "outputId": "b48159d3-19ae-4c4d-af08-0666f748990f"
      },
      "outputs": [
        {
          "data": {
            "text/plain": [
              "5105857"
            ]
          },
          "execution_count": 7,
          "metadata": {},
          "output_type": "execute_result"
        }
      ],
      "source": [
        "mono_abstract = ''\n",
        "\n",
        "for abstract in X.values:\n",
        "    mono_abstract += abstract\n",
        "\n",
        "mono_abstract = mono_abstract.lower()\n",
        "len(mono_abstract)"
      ]
    },
    {
      "cell_type": "markdown",
      "metadata": {
        "id": "WVbYWo40OFq2"
      },
      "source": [
        "First tokenize. This means separating into words the string."
      ]
    },
    {
      "cell_type": "code",
      "execution_count": 8,
      "metadata": {
        "colab": {
          "base_uri": "https://localhost:8080/"
        },
        "id": "evqv6a4DNr2F",
        "outputId": "e43d150f-7551-4421-cadc-e2cf1bc58b24"
      },
      "outputs": [
        {
          "data": {
            "text/plain": [
              "['statistical', 'word', 'alignment', 'models', 'need']"
            ]
          },
          "execution_count": 8,
          "metadata": {},
          "output_type": "execute_result"
        }
      ],
      "source": [
        "mono_token = nltk.word_tokenize(mono_abstract)\n",
        "mono_token[:5]"
      ]
    },
    {
      "cell_type": "markdown",
      "metadata": {
        "id": "LpxBafE0Qgiu"
      },
      "source": [
        "As we can appreciate, the collocations from using `collocations()` from Text are way better from `BigramCollocationFinder`."
      ]
    },
    {
      "cell_type": "code",
      "execution_count": 9,
      "metadata": {
        "id": "z9SRtL-2P5R9"
      },
      "outputs": [],
      "source": [
        "from nltk.collocations import BigramAssocMeasures, BigramCollocationFinder"
      ]
    },
    {
      "cell_type": "code",
      "execution_count": 10,
      "metadata": {
        "id": "VOAUP3NUP2ON"
      },
      "outputs": [],
      "source": [
        "finder = BigramCollocationFinder.from_words(nltk.bigrams(mono_token))\n",
        "\n",
        "# specify a measure for identifying collocations\n",
        "measures = BigramAssocMeasures()\n",
        "\n",
        "# get the 10 most frequent collocations using the specified measure\n",
        "collocations = finder.nbest(measures.raw_freq, 10)"
      ]
    },
    {
      "cell_type": "code",
      "execution_count": 11,
      "metadata": {
        "colab": {
          "base_uri": "https://localhost:8080/"
        },
        "id": "yQ0qQbFzOlVj",
        "outputId": "72e58651-945c-4f9c-810a-580b8ba78121"
      },
      "outputs": [
        {
          "data": {
            "text/plain": [
              "[(('.', 'in'), ('in', 'this')),\n",
              " (('in', 'this'), ('this', 'paper')),\n",
              " (('this', 'paper'), ('paper', ',')),\n",
              " (('paper', ','), (',', 'we')),\n",
              " (('.', 'however'), ('however', ',')),\n",
              " (('.', 'this'), ('this', 'paper')),\n",
              " ((',', 'we'), ('we', 'propose')),\n",
              " (('in', 'order'), ('order', 'to')),\n",
              " (('as', 'well'), ('well', 'as')),\n",
              " (('we', 'propose'), ('propose', 'a'))]"
            ]
          },
          "execution_count": 11,
          "metadata": {},
          "output_type": "execute_result"
        }
      ],
      "source": [
        "collocations"
      ]
    },
    {
      "cell_type": "markdown",
      "metadata": {
        "id": "np9c1xbxOav_"
      },
      "source": [
        "Convert those tokens into a Text object. The best way to get collocations out of it. These collocations are of 2 words or also called (Bigrams)"
      ]
    },
    {
      "cell_type": "code",
      "execution_count": 12,
      "metadata": {
        "id": "ZVtAa8nbQzXD"
      },
      "outputs": [],
      "source": [
        "import io\n",
        "import contextlib"
      ]
    },
    {
      "cell_type": "code",
      "execution_count": 13,
      "metadata": {
        "id": "R-BgULTwWX0l"
      },
      "outputs": [],
      "source": [
        "mono_abstract = nltk.Text(mono_token)"
      ]
    },
    {
      "cell_type": "code",
      "execution_count": 14,
      "metadata": {
        "colab": {
          "base_uri": "https://localhost:8080/"
        },
        "id": "1463L5L7Qwp_",
        "outputId": "204184f9-38a3-45ae-f5da-8bbdd519c0e8"
      },
      "outputs": [
        {
          "name": "stdout",
          "output_type": "stream",
          "text": [
            "machine learning; neural network; neural networks; experimental\n",
            "results; results show; deep learning; support vector; time series;\n",
            "convolutional neural; feature selection; future research; paper\n",
            "presents; reinforcement learning; comprehensive survey; recent years;\n",
            "proposed method; research directions; deep neural; anomaly detection;\n",
            "data sets\n",
            "\n"
          ]
        }
      ],
      "source": [
        "with contextlib.redirect_stdout(io.StringIO()) as f:\n",
        "    mono_abstract.collocations()\n",
        "\n",
        "collocations_output = f.getvalue()\n",
        "print(collocations_output) # top 10 collocations"
      ]
    },
    {
      "cell_type": "markdown",
      "metadata": {
        "id": "ZwjnR0OuQ74g"
      },
      "source": [
        "#### Repetitions"
      ]
    },
    {
      "cell_type": "code",
      "execution_count": 15,
      "metadata": {
        "colab": {
          "base_uri": "https://localhost:8080/"
        },
        "id": "zvq0SyUnRehr",
        "outputId": "2b10dbaa-3ff7-4ec0-f3d2-118df1e08a62"
      },
      "outputs": [
        {
          "data": {
            "text/plain": [
              "[('the', 42923),\n",
              " (',', 34425),\n",
              " ('.', 28657),\n",
              " ('of', 27638),\n",
              " ('and', 23294),\n",
              " ('to', 19254),\n",
              " ('a', 16768),\n",
              " ('in', 16275),\n",
              " ('is', 9338),\n",
              " ('for', 9212)]"
            ]
          },
          "execution_count": 15,
          "metadata": {},
          "output_type": "execute_result"
        }
      ],
      "source": [
        "fdist1 = nltk.punkt.FreqDist(mono_token)\n",
        "top_tokens = fdist1.most_common(10)\n",
        "token_counts = dict(top_tokens)\n",
        "top_tokens[:10]"
      ]
    },
    {
      "cell_type": "code",
      "execution_count": 16,
      "metadata": {
        "colab": {
          "base_uri": "https://localhost:8080/",
          "height": 89
        },
        "id": "kZebjXjoUp2S",
        "outputId": "d80625b5-eb16-4cd9-e826-6bfbfe2e4595"
      },
      "outputs": [
        {
          "data": {
            "text/plain": [
              "<AxesSubplot:>"
            ]
          },
          "execution_count": 16,
          "metadata": {},
          "output_type": "execute_result"
        },
        {
          "data": {
            "image/png": "[encoded data removed]",
            "text/plain": [
              "<Figure size 432x288 with 1 Axes>"
            ]
          },
          "metadata": {
            "needs_background": "light"
          },
          "output_type": "display_data"
        }
      ],
      "source": [
        "sns.histplot(x=list(token_counts.keys()), y=list(token_counts.values()))"
      ]
    },
    {
      "cell_type": "code",
      "execution_count": 17,
      "metadata": {
        "id": "NpLjCvP4WyO3"
      },
      "outputs": [],
      "source": [
        "hapaxes = fdist1.hapaxes()"
      ]
    },
    {
      "cell_type": "markdown",
      "metadata": {
        "id": "KFZsCG1-YL8_"
      },
      "source": [
        "#### Frequency\n",
        "\n",
        "Como podemos observar, mono_token está compuesto de casi un millon de palabras. De las cuales, aproximadamente el 27% no son totalmente útiles. Como se puede observar, las palabras como `the`, `,`, `.`, `a`, `in`. Are very common and for the purpose of this project, they are not necessary and thus generate noise on model that tries to extract characteristics."
      ]
    },
    {
      "cell_type": "code",
      "execution_count": 18,
      "metadata": {
        "colab": {
          "base_uri": "https://localhost:8080/"
        },
        "id": "ldsPY43cY3Un",
        "outputId": "ea00717e-4e01-417f-96ba-8f866cf245c8"
      },
      "outputs": [
        {
          "data": {
            "text/plain": [
              "826346"
            ]
          },
          "execution_count": 18,
          "metadata": {},
          "output_type": "execute_result"
        }
      ],
      "source": [
        "len(mono_token)"
      ]
    },
    {
      "cell_type": "code",
      "execution_count": 19,
      "metadata": {
        "colab": {
          "base_uri": "https://localhost:8080/"
        },
        "id": "KF7O6Y2SYKKg",
        "outputId": "5d7d8142-27db-4941-c3da-38d60fc1532b"
      },
      "outputs": [
        {
          "name": "stdout",
          "output_type": "stream",
          "text": [
            "- the : 0.05194313277973149\n",
            "- , : 0.041659304940061426\n",
            "- . : 0.034679177971455054\n",
            "- of : 0.033446038342292456\n",
            "- and : 0.02818916047273176\n",
            "- to : 0.02330016724229318\n",
            "- a : 0.020291742199998547\n",
            "- in : 0.019695139808264334\n",
            "- is : 0.01130035118461274\n",
            "- for : 0.011147872682871339\n",
            "Frequency of top 10 words repeated 0.2756520876243123.\n"
          ]
        }
      ],
      "source": [
        "freq = 0.0\n",
        "for word, _ in top_tokens:\n",
        "    freq += fdist1.freq(word)\n",
        "    print(f'- {word} : {fdist1.freq(word)}')\n",
        "\n",
        "print(f'Frequency of top 10 words repeated {freq}.')"
      ]
    },
    {
      "cell_type": "markdown",
      "metadata": {
        "id": "K81BhLqDaWiY"
      },
      "source": [
        "#### Length of words\n",
        "\n",
        "Al parecer las palabras más repetidas son las de tamaño 2. Suponiendo un 14% de todos los abstracts. Lo cual parece muy interesante ya que, si juntamos el apartado anterior con este, podremos observar que palabras de 2 solo se muestran 4.\n",
        "\n",
        "Esta parte del razonamiento se mirará más tarde cuando se clasifiquen las palabras"
      ]
    },
    {
      "cell_type": "code",
      "execution_count": 20,
      "metadata": {
        "id": "aQRy_Xdxap6n"
      },
      "outputs": [],
      "source": [
        "fdLen = nltk.punkt.FreqDist(len(w) for w in mono_token)"
      ]
    },
    {
      "cell_type": "code",
      "execution_count": 21,
      "metadata": {
        "colab": {
          "base_uri": "https://localhost:8080/"
        },
        "id": "qjR_VhupaYZI",
        "outputId": "1fbb0511-6a03-46cc-c73a-1e3fee24c072"
      },
      "outputs": [
        {
          "name": "stdout",
          "output_type": "stream",
          "text": [
            "El tamaño de las palabras más repetidas es 2:\n",
            "\t- Frecuencia : 115879\n",
            "\t- Frecuencia (%): 0.1402306055816813\n"
          ]
        }
      ],
      "source": [
        "max = fdLen.max()\n",
        "print(f'El tamaño de las palabras más repetidas es {max}:\\n\\t- Frecuencia : {fdLen[max]}\\n\\t- Frecuencia (%): {fdLen.freq(max)}')"
      ]
    },
    {
      "cell_type": "markdown",
      "metadata": {
        "id": "BTlY130iZ6Vw"
      },
      "source": [
        "#### Hapaxes\n",
        "\n",
        "There are 12893 hapaxes, that is around 1% (0.0156) of all the abstracts. So we are going to eliminate them."
      ]
    },
    {
      "cell_type": "code",
      "execution_count": 22,
      "metadata": {
        "colab": {
          "base_uri": "https://localhost:8080/"
        },
        "id": "Rso45k7sRqqK",
        "outputId": "1e9fb52f-c2b2-4be7-9fb2-d87b69ae8d6c"
      },
      "outputs": [
        {
          "name": "stdout",
          "output_type": "stream",
          "text": [
            "Nº de palabras únicas: 12893, ejemplos: ['models.spectral', 'practice.number', 'models.not', 'them.learning', 'timestamping']\n"
          ]
        }
      ],
      "source": [
        "print(f'Nº de palabras únicas: {len(fdist1.hapaxes())}, ejemplos: {fdist1.hapaxes()[:5]}')"
      ]
    },
    {
      "cell_type": "markdown",
      "metadata": {
        "id": "eHvlkUA0bm5F"
      },
      "source": [
        "#### (Exploration) Remove non-alphanumeric characters from the list of words\n",
        "\n",
        "Como se puede observar, esto es una gran hostia, porque podemos ver que son 109645 (13%) de las palabras. Esto es bueno porque para nuestro clasificador, no nos intersa que existan simbolos de puntuación. La diferencia entre `No, eso es bueno` y `No es bueno`. No está dentro de nuestro scope."
      ]
    },
    {
      "cell_type": "code",
      "execution_count": 23,
      "metadata": {
        "colab": {
          "base_uri": "https://localhost:8080/"
        },
        "id": "zY5F2oy7M7gQ",
        "outputId": "436c2c96-84ef-446f-eeee-a6fa12ff0a03"
      },
      "outputs": [
        {
          "data": {
            "text/plain": [
              "716701"
            ]
          },
          "execution_count": 23,
          "metadata": {},
          "output_type": "execute_result"
        }
      ],
      "source": [
        "only_alpha = len([word for word in mono_token if word.isalpha()])\n",
        "only_alpha"
      ]
    },
    {
      "cell_type": "code",
      "execution_count": 24,
      "metadata": {
        "colab": {
          "base_uri": "https://localhost:8080/"
        },
        "id": "uV98ESTvb4p8",
        "outputId": "d1b18943-5b9b-4675-809e-e9f1ac0ebccf"
      },
      "outputs": [
        {
          "data": {
            "text/plain": [
              "109645"
            ]
          },
          "execution_count": 24,
          "metadata": {},
          "output_type": "execute_result"
        }
      ],
      "source": [
        "len(mono_token) - only_alpha"
      ]
    },
    {
      "cell_type": "markdown",
      "metadata": {
        "id": "IMPgugbLc8oD"
      },
      "source": [
        "#### (Exploration) Remove articles\n",
        "\n",
        "To do this task, first we need to classify the tokenized words, and use a pretrained model from `nltk`. For this we have to download the package: `averaged_perceptron_tagger`.\n",
        "\n",
        "- `cc` coordinating conjunction\n",
        "- `rb` adverbs\n",
        "- `in` preposition\n",
        "- `nn` noun\n",
        "- `jj` adjective\n",
        "- `vbp` verb"
      ]
    },
    {
      "cell_type": "code",
      "execution_count": 25,
      "metadata": {
        "colab": {
          "base_uri": "https://localhost:8080/"
        },
        "id": "HwBOFmt7dLh1",
        "outputId": "cec5d020-baec-4672-e3ed-8989b3f1e781"
      },
      "outputs": [
        {
          "data": {
            "text/plain": [
              "[('statistical', 'JJ'),\n",
              " ('word', 'NN'),\n",
              " ('alignment', 'NN'),\n",
              " ('models', 'NNS'),\n",
              " ('need', 'VBP')]"
            ]
          },
          "execution_count": 25,
          "metadata": {},
          "output_type": "execute_result"
        }
      ],
      "source": [
        "tags = nltk.pos_tag(mono_token)\n",
        "tags[:5]"
      ]
    },
    {
      "cell_type": "code",
      "execution_count": 26,
      "metadata": {
        "colab": {
          "base_uri": "https://localhost:8080/"
        },
        "id": "nWaK24tBdwy1",
        "outputId": "061bd67b-2e55-464e-b265-2d6665290d4f"
      },
      "outputs": [
        {
          "data": {
            "text/plain": [
              "733956"
            ]
          },
          "execution_count": 26,
          "metadata": {},
          "output_type": "execute_result"
        }
      ],
      "source": [
        "# get rid of prepositions\n",
        "with_no_prepositions = len([word for word, tag in tags if tag != 'IN'])\n",
        "with_no_prepositions"
      ]
    },
    {
      "cell_type": "code",
      "execution_count": 27,
      "metadata": {
        "colab": {
          "base_uri": "https://localhost:8080/"
        },
        "id": "vrVFEJQKd2k8",
        "outputId": "998807b9-7223-4dad-ae9d-fb71148861cc"
      },
      "outputs": [
        {
          "data": {
            "text/plain": [
              "92390"
            ]
          },
          "execution_count": 27,
          "metadata": {},
          "output_type": "execute_result"
        }
      ],
      "source": [
        "len(mono_token) - with_no_prepositions"
      ]
    },
    {
      "cell_type": "markdown",
      "metadata": {
        "id": "KtO5GfMZ8ZBb"
      },
      "source": [
        "Como se ha podido observar, nos interesa quitar tanto las preopisiciones como los valores que no son alphanuméricos. A continuación, para terminar, se analizará de nuevo, las repeticiones de los top 10 y el tamaño de palabras más grande."
      ]
    },
    {
      "cell_type": "markdown",
      "metadata": {
        "id": "f4spkV8U9jBt"
      },
      "source": [
        "#### Conclusión\n",
        "\n",
        "Como se ha podido observar, nos interesa quitar tanto las preopisiciones como los valores que no son alphanuméricos. A continuación, para terminar, se analizará de nuevo, las repeticiones de los top 10 y el tamaño de palabras más grande."
      ]
    },
    {
      "cell_type": "code",
      "execution_count": 28,
      "metadata": {
        "id": "lIEJIaYIe5ZK"
      },
      "outputs": [],
      "source": [
        "# remove hapaxes from the frequency distribution\n",
        "fdist2 = nltk.punkt.FreqDist(mono_token)\n",
        "for hapax in fdist2.hapaxes():\n",
        "    del fdist2[hapax]"
      ]
    },
    {
      "cell_type": "code",
      "execution_count": 29,
      "metadata": {
        "colab": {
          "base_uri": "https://localhost:8080/"
        },
        "id": "s5FOBk-95Wl2",
        "outputId": "e8d298d5-4e16-4ca4-d8c4-004f3addbccd"
      },
      "outputs": [
        {
          "name": "stdout",
          "output_type": "stream",
          "text": [
            "fdist2 (get rid of hepaxes): 15667 - fdist1: 28560\n"
          ]
        }
      ],
      "source": [
        "print(f'fdist2 (get rid of hepaxes): {len(fdist2)} - fdist1: {len(fdist1)}')"
      ]
    },
    {
      "cell_type": "code",
      "execution_count": 30,
      "metadata": {
        "id": "OyCnbRAM5xvJ"
      },
      "outputs": [],
      "source": [
        "new_X = fdist2.keys()"
      ]
    },
    {
      "cell_type": "code",
      "execution_count": 31,
      "metadata": {
        "id": "hEpwPrLGeCXk"
      },
      "outputs": [],
      "source": [
        "only_alpha = [word for word in new_X if word.isalpha()]"
      ]
    },
    {
      "cell_type": "code",
      "execution_count": 32,
      "metadata": {
        "colab": {
          "base_uri": "https://localhost:8080/"
        },
        "id": "2UBmdMsN6E-9",
        "outputId": "2731297b-aa46-4055-e64f-0d86076c1db9"
      },
      "outputs": [
        {
          "data": {
            "text/plain": [
              "12415"
            ]
          },
          "execution_count": 32,
          "metadata": {},
          "output_type": "execute_result"
        }
      ],
      "source": [
        "len(only_alpha)"
      ]
    },
    {
      "cell_type": "code",
      "execution_count": 33,
      "metadata": {
        "id": "igoEv481fA8m"
      },
      "outputs": [],
      "source": [
        "new_X = only_alpha\n",
        "tags = nltk.pos_tag(new_X)"
      ]
    },
    {
      "cell_type": "code",
      "execution_count": 34,
      "metadata": {
        "id": "KlkpKKGvfAEy"
      },
      "outputs": [],
      "source": [
        "with_no_prepositions = [word for word, tag in tags if tag != 'IN']"
      ]
    },
    {
      "cell_type": "code",
      "execution_count": 35,
      "metadata": {
        "colab": {
          "base_uri": "https://localhost:8080/"
        },
        "id": "mA2_fENue-os",
        "outputId": "2064d2d4-9bc3-4138-a302-d47cbe6c4c5c"
      },
      "outputs": [
        {
          "name": "stdout",
          "output_type": "stream",
          "text": [
            "El tamaño de las palabras más repetidas es 8:\n",
            "\t- Frecuencia : 1505\n",
            "\t- Frecuencia (%): 0.12237762237762238\n"
          ]
        }
      ],
      "source": [
        "new_X = with_no_prepositions\n",
        "fdLen_2 = nltk.punkt.FreqDist(len(w) for w in with_no_prepositions)\n",
        "max = fdLen_2.max()\n",
        "print(f'El tamaño de las palabras más repetidas es {max}:\\n\\t- Frecuencia : {fdLen_2[max]}\\n\\t- Frecuencia (%): {fdLen_2.freq(max)}')"
      ]
    },
    {
      "cell_type": "code",
      "execution_count": 36,
      "metadata": {
        "colab": {
          "base_uri": "https://localhost:8080/"
        },
        "id": "TYcVVMed8itA",
        "outputId": "13024a5e-f0ec-40d9-b4c3-73a343f0f26d"
      },
      "outputs": [
        {
          "name": "stdout",
          "output_type": "stream",
          "text": [
            "Example of most repetitive len (8) : training\n"
          ]
        }
      ],
      "source": [
        "for w in new_X:\n",
        "    if len(w) == max:\n",
        "        print(f'Example of most repetitive len ({max}) : {w}')\n",
        "        break"
      ]
    },
    {
      "cell_type": "markdown",
      "metadata": {
        "id": "H8nIvUBs649n"
      },
      "source": [
        "Como se puede ver, la diferencia entre quitar o no las palabras con 2 caracteres. Al parecer y como intuímos anteriormente, la gran mayoría eran preposiciones y otros caracteres de la categoría `IN`"
      ]
    },
    {
      "cell_type": "code",
      "execution_count": 37,
      "metadata": {
        "colab": {
          "base_uri": "https://localhost:8080/"
        },
        "id": "CmeYfthk6Q2R",
        "outputId": "8e41571a-7f29-42e4-8cf7-8af578c6996e"
      },
      "outputs": [
        {
          "name": "stdout",
          "output_type": "stream",
          "text": [
            "Sizes of each step:\n",
            "\t- hapaxes removed : 15667\n",
            "\t- Only alpha numerics: 12415\n",
            "\t- Prepositions removed: 12298\n",
            "\n",
            "Size of new X is: 12298\n"
          ]
        }
      ],
      "source": [
        "print(f'Sizes of each step:\\n\\t- hapaxes removed : {len(fdist2)}\\n\\t- Only alpha numerics: {len(only_alpha)}\\n\\t- Prepositions removed: {len(with_no_prepositions)}\\n\\nSize of new X is: {len(new_X)}')"
      ]
    },
    {
      "cell_type": "markdown",
      "metadata": {
        "id": "miTrsYYB8EKq"
      },
      "source": [
        "Bueno, igual 12k no es lo mejor del mundo, pero como todo en esta vida, hay que probarlo. Eso es lo que vamos a hacer!!"
      ]
    },
    {
      "cell_type": "markdown",
      "metadata": {
        "id": "TuOg7zMc9rW7"
      },
      "source": [
        "## Cleanning\n",
        "\n",
        "1. Cleanning\n",
        "    1. Remove '.', ',', '?', etc.\n",
        "    2. Remove hepaxes if they are not specific (or niche).\n",
        "    3. Remove (if needed) words with low frequency\n",
        "\n",
        "\n",
        "This cleaning is for each of the abstracts and not as a molotic abstract thing, like earlier."
      ]
    },
    {
      "cell_type": "code",
      "execution_count": 38,
      "metadata": {
        "colab": {
          "base_uri": "https://localhost:8080/"
        },
        "id": "Bl78FJFx905d",
        "outputId": "d5082ca9-7866-4922-b8b4-b83f71d473a6"
      },
      "outputs": [
        {
          "name": "stdout",
          "output_type": "stream",
          "text": [
            "Size of token_list : 4555 (must be 4555 same size as X)\n",
            "Example of abstract 0 (len): 119. First 5 words: ['statistical', 'word', 'alignment', 'models', 'need']\n"
          ]
        }
      ],
      "source": [
        "token_list = []\n",
        "\n",
        "for abstract in X.values:\n",
        "    token_list.append(nltk.word_tokenize(abstract.lower()))\n",
        "\n",
        "print(f'Size of token_list : {len(token_list)} (must be 4555 same size as X)')\n",
        "print(f'Example of abstract 0 (len): {len(token_list[0])}. First 5 words: {token_list[0][:5]}')"
      ]
    },
    {
      "cell_type": "code",
      "execution_count": 39,
      "metadata": {
        "colab": {
          "base_uri": "https://localhost:8080/"
        },
        "id": "FlUk-tsBGgQ4",
        "outputId": "c64adbfa-b96f-49ed-898a-334f0f3f88aa"
      },
      "outputs": [
        {
          "data": {
            "text/plain": [
              "['models.spectral',\n",
              " 'practice.number',\n",
              " 'models.not',\n",
              " 'them.learning',\n",
              " 'timestamping']"
            ]
          },
          "execution_count": 39,
          "metadata": {},
          "output_type": "execute_result"
        }
      ],
      "source": [
        "# Get overall hapaxes\n",
        "fdist2 = nltk.punkt.FreqDist(mono_token)\n",
        "global_hapaxes = fdist2.hapaxes()\n",
        "global_hapaxes[:5]"
      ]
    },
    {
      "cell_type": "code",
      "execution_count": 40,
      "metadata": {
        "id": "XHLndvI1KRAg"
      },
      "outputs": [],
      "source": [
        "hapax_dict = {i: None for i in global_hapaxes}"
      ]
    },
    {
      "cell_type": "code",
      "execution_count": 41,
      "metadata": {
        "colab": {
          "base_uri": "https://localhost:8080/"
        },
        "id": "bl3tF5oRKnbi",
        "outputId": "4df7b651-cfaa-46f9-d5b1-b9d5cab4b8ac"
      },
      "outputs": [
        {
          "data": {
            "text/plain": [
              "['statistical',\n",
              " 'word',\n",
              " 'alignment',\n",
              " 'models',\n",
              " 'need',\n",
              " 'large',\n",
              " 'amount',\n",
              " 'of',\n",
              " 'training',\n",
              " 'data',\n",
              " 'while',\n",
              " 'they',\n",
              " 'are',\n",
              " 'weak',\n",
              " 'in',\n",
              " 'small-size',\n",
              " 'corpora',\n",
              " '.',\n",
              " 'this',\n",
              " 'paper',\n",
              " 'proposes',\n",
              " 'a',\n",
              " 'new',\n",
              " 'approach',\n",
              " 'of',\n",
              " 'unsupervised',\n",
              " 'hybrid',\n",
              " 'word',\n",
              " 'alignment',\n",
              " 'technique',\n",
              " 'using',\n",
              " 'ensemble',\n",
              " 'learning',\n",
              " 'method',\n",
              " '.',\n",
              " 'this',\n",
              " 'algorithm',\n",
              " 'uses',\n",
              " 'three',\n",
              " 'base',\n",
              " 'alignment',\n",
              " 'models',\n",
              " 'in',\n",
              " 'several',\n",
              " 'rounds',\n",
              " 'to',\n",
              " 'generate',\n",
              " 'alignments',\n",
              " '.',\n",
              " 'the',\n",
              " 'ensemble',\n",
              " 'algorithm',\n",
              " 'uses',\n",
              " 'a',\n",
              " 'weighed',\n",
              " 'scheme',\n",
              " 'for',\n",
              " 'resampling',\n",
              " 'training',\n",
              " 'data',\n",
              " 'and',\n",
              " 'a',\n",
              " 'voting',\n",
              " 'score',\n",
              " 'to',\n",
              " 'consider',\n",
              " 'aggregated',\n",
              " 'alignments',\n",
              " '.',\n",
              " 'the',\n",
              " 'underlying',\n",
              " 'alignment',\n",
              " 'algorithms',\n",
              " 'used',\n",
              " 'in',\n",
              " 'this',\n",
              " 'study',\n",
              " 'include',\n",
              " 'ibm',\n",
              " 'model',\n",
              " '1',\n",
              " ',',\n",
              " '2',\n",
              " 'and',\n",
              " 'a',\n",
              " 'heuristic',\n",
              " 'method',\n",
              " 'based',\n",
              " 'on',\n",
              " 'dice',\n",
              " 'measurement',\n",
              " '.',\n",
              " 'our',\n",
              " 'experimental',\n",
              " 'results',\n",
              " 'show',\n",
              " 'that',\n",
              " 'by',\n",
              " 'this',\n",
              " 'approach',\n",
              " ',',\n",
              " 'the',\n",
              " 'alignment',\n",
              " 'error',\n",
              " 'rate',\n",
              " 'could',\n",
              " 'be',\n",
              " 'improved',\n",
              " 'by',\n",
              " 'at',\n",
              " 'least',\n",
              " '%',\n",
              " '15',\n",
              " 'for',\n",
              " 'the',\n",
              " 'base',\n",
              " 'alignment',\n",
              " 'models',\n",
              " '.']"
            ]
          },
          "execution_count": 41,
          "metadata": {},
          "output_type": "execute_result"
        }
      ],
      "source": [
        "[word for word in token_list[0] if word not in hapax_dict]"
      ]
    },
    {
      "cell_type": "code",
      "execution_count": 42,
      "metadata": {
        "colab": {
          "base_uri": "https://localhost:8080/"
        },
        "id": "j5cp5T9f-oL1",
        "outputId": "9910cc33-2e0d-4d4a-eb41-227320f43d66"
      },
      "outputs": [
        {
          "name": "stdout",
          "output_type": "stream",
          "text": [
            "Size of clean_abstracts : 4555 (must be 4555 same size as X)\n",
            "Example length of new abstract: 642. First 5 words: stati\n"
          ]
        }
      ],
      "source": [
        "clean_abstracts = []\n",
        "for abs_tok in token_list:\n",
        "    # remove hapaxes from the frequency distribution\n",
        "    # Only hapaxes from the overall\n",
        "    abs_freq = [word for word in abs_tok if word not in hapax_dict]\n",
        "\n",
        "    # remove non-alphanumeric values\n",
        "    only_alpha = [word for word in abs_freq if word.isalpha()]\n",
        "\n",
        "    # remove `IN`\n",
        "    tags = nltk.pos_tag(only_alpha)\n",
        "    with_no_prepositions = [word for word, tag in tags if tag != 'IN']\n",
        "\n",
        "    clean_abstracts.append(' '.join(with_no_prepositions))\n",
        "\n",
        "del token_list\n",
        "\n",
        "print(f'Size of clean_abstracts : {len(clean_abstracts)} (must be 4555 same size as X)')\n",
        "print(f'Example length of new abstract: {len(clean_abstracts[0])}. First 5 words: {clean_abstracts[0][:5]}')"
      ]
    },
    {
      "cell_type": "code",
      "execution_count": 43,
      "metadata": {
        "colab": {
          "base_uri": "https://localhost:8080/",
          "height": 87
        },
        "id": "1cNX6iaXODVO",
        "outputId": "1ec1f8fc-c613-4dea-9c31-f235073e74f6"
      },
      "outputs": [
        {
          "data": {
            "text/plain": [
              "'statistical word alignment models need large amount training data they are weak corpora this paper proposes a new approach unsupervised hybrid word alignment technique using ensemble learning method this algorithm uses three base alignment models several rounds to generate alignments the ensemble algorithm uses a weighed scheme resampling training data and a voting score to consider aggregated alignments the underlying alignment algorithms used this study include ibm model and a heuristic method based dice measurement our experimental results show this approach the alignment error rate could be improved least the base alignment models'"
            ]
          },
          "execution_count": 43,
          "metadata": {},
          "output_type": "execute_result"
        }
      ],
      "source": [
        "clean_abstracts[0]"
      ]
    },
    {
      "cell_type": "code",
      "execution_count": 44,
      "metadata": {
        "id": "0kQqrFoDZCvw"
      },
      "outputs": [],
      "source": [
        "## TODO: CHECK THIS"
      ]
    },
    {
      "cell_type": "code",
      "execution_count": 45,
      "metadata": {
        "colab": {
          "base_uri": "https://localhost:8080/"
        },
        "id": "HcLxuo-FO_Wq",
        "outputId": "f0ad8c80-b2a2-49bc-f6af-44daef2d2605"
      },
      "outputs": [
        {
          "name": "stdout",
          "output_type": "stream",
          "text": [
            "The median is: 925\n"
          ]
        }
      ],
      "source": [
        "# create a list of string lengths\n",
        "lengths = [len(s) for s in clean_abstracts]\n",
        "\n",
        "# sort the list of lengths\n",
        "lengths_sorted = sorted(lengths)\n",
        "\n",
        "# find the middle index of the sorted list\n",
        "middle_index = len(lengths_sorted) // 2\n",
        "\n",
        "\n",
        "if len(lengths_sorted) % 2 == 1:\n",
        "    # if odd, the median is the value at the middle index\n",
        "    median = lengths_sorted[middle_index]\n",
        "else:\n",
        "    # if even, the median is the average of the values at the middle two indices\n",
        "    median = (lengths_sorted[middle_index - 1] + lengths_sorted[middle_index]) / 2\n",
        "\n",
        "print(f'The median is: {median}')"
      ]
    },
    {
      "cell_type": "markdown",
      "metadata": {
        "id": "9Q3flI3PMCtY"
      },
      "source": [
        "# Keywords"
      ]
    },
    {
      "cell_type": "markdown",
      "metadata": {
        "id": "breKWmezMjfh"
      },
      "source": [
        "## Data exploration\n",
        "\n",
        "Data exploration and cleaning of all abstracts.\n",
        "\n",
        "1. Data exploration\n",
        "    1. Repetitions of keywords\n",
        "    2. Evaluation of different percentiles\n",
        "    3. Frequency of keywords together in the same row"
      ]
    },
    {
      "cell_type": "markdown",
      "metadata": {
        "id": "fQl_reTHQz1p"
      },
      "source": [
        "### Repetition of keywords\n",
        "\n",
        "Before getting the bars. We need to parse the keywords from a string to a list of strings."
      ]
    },
    {
      "cell_type": "code",
      "execution_count": 46,
      "metadata": {
        "colab": {
          "base_uri": "https://localhost:8080/"
        },
        "id": "1UfM3iYFQwQC",
        "outputId": "4916d47f-5fb5-40a9-b365-17e1fcabdfaf"
      },
      "outputs": [
        {
          "name": "stdout",
          "output_type": "stream",
          "text": [
            "Terminado, hay 31607 palabras\n"
          ]
        }
      ],
      "source": [
        "words = []\n",
        "\n",
        "for i, abs in enumerate(y.values):\n",
        "    words.append([])\n",
        "    for w in abs.replace('[', '').replace(']', '').replace('\\'', '').split(','):\n",
        "        words[i].append(w.strip())\n",
        "\n",
        "flat_keys = [item for subkeys in words for item in subkeys]\n",
        "\n",
        "print(\"Terminado, hay\", len(flat_keys), \"palabras\")"
      ]
    },
    {
      "cell_type": "markdown",
      "metadata": {
        "id": "feGpdwEsUE11"
      },
      "source": [
        "As we can appreciate, the most common one is `machine learning` by far. From there, we can see that each key is followed closely."
      ]
    },
    {
      "cell_type": "code",
      "execution_count": 47,
      "metadata": {
        "colab": {
          "base_uri": "https://localhost:8080/",
          "height": 124
        },
        "id": "fq0BEW_4Q_DH",
        "outputId": "5e72bf49-c126-4e9f-f2d7-c583dcb8e6be"
      },
      "outputs": [
        {
          "name": "stdout",
          "output_type": "stream",
          "text": [
            "('interference constraints', 1)\n"
          ]
        },
        {
          "data": {
            "text/plain": [
              "Text(0, 0.5, 'Key')"
            ]
          },
          "execution_count": 47,
          "metadata": {},
          "output_type": "execute_result"
        },
        {
          "data": {
            "image/png": "[encoded data removed]",
            "text/plain": [
              "<Figure size 432x288 with 1 Axes>"
            ]
          },
          "metadata": {
            "needs_background": "light"
          },
          "output_type": "display_data"
        }
      ],
      "source": [
        "from collections import Counter\n",
        "\n",
        "string_counts = Counter(flat_keys)\n",
        "print(string_counts.most_common()[-1])\n",
        "top_strings = string_counts.most_common(60)\n",
        "\n",
        "df = pd.DataFrame(top_strings, columns=['Key', 'Count'])\n",
        "df = df.iloc[::-1]  # Reverse the order of rows\n",
        "labels, counts = zip(*top_strings)\n",
        "\n",
        "fig, ax = plt.subplots()\n",
        "sns.barplot(x='Count', y='Key', data=df, color='blue')\n",
        "\n",
        "# Add count label for each bar\n",
        "for i, v in enumerate(counts[::-1]):\n",
        "    ax.text(v + 0.5, i, str(v), color='black', fontweight='bold')\n",
        "\n",
        "ax.set_title(\"Top 60 Most Common Strings\")\n",
        "ax.set_xlabel(\"Count\")\n",
        "ax.set_ylabel(\"Key\")"
      ]
    },
    {
      "cell_type": "markdown",
      "metadata": {
        "id": "yZs9Vu3yUUfc"
      },
      "source": [
        "### Evaluation of different percentiles\n",
        "\n",
        "I don't know exactly the percentiles they are. But we can infere the definition of percentile for this use case.\n",
        "\n",
        "It can be very obvious that we should use under 50 as a minimum. Think about this, we cannot use as minimum under 3 repetitions since, 6% is repeated, compared to the 10% of the 50. As you can see, the probability of finding a keyword with repetition X is not accumulative (on this example). But it can be done."
      ]
    },
    {
      "cell_type": "code",
      "execution_count": 48,
      "metadata": {
        "colab": {
          "base_uri": "https://localhost:8080/"
        },
        "id": "YHKVrcfwT-3S",
        "outputId": "1779a3a6-db6b-4275-c4a4-f6eb7b59c764"
      },
      "outputs": [
        {
          "name": "stdout",
          "output_type": "stream",
          "text": [
            "De las 31607 palabras totales hay 2109 palabras que aparecen menos de 3 veces, de las cuales 1626 aparecen una sola vez.\n",
            "Es decir, un 5.144430031322175 % de las palabras aparecen una sola vez\n",
            "Es decir, un 6.672572531401272 % de las palabras aparecen tres veces\n",
            "Es decir, un 10.510329990192046 % de las palabras aparecen 50 veces\n",
            "Es decir, un 10.706489068877149 % de las palabras aparecen 90 veces\n",
            "Es decir, un 10.73812762995539 % de las palabras aparecen 100 veces\n"
          ]
        }
      ],
      "source": [
        "una_sola_vez = 0\n",
        "poco_frecuentes = 0\n",
        "poco_frecuentes_50 = 0\n",
        "poco_frecuentes_90 = 0\n",
        "poco_frecuentes_100 = 0\n",
        "\n",
        "# dejamos la elegancia de lado\n",
        "for i in string_counts:\n",
        "  if string_counts.get(i) < 3:\n",
        "    poco_frecuentes +=1\n",
        "\n",
        "for i in string_counts:\n",
        "  if string_counts.get(i) < 2:\n",
        "    una_sola_vez +=1\n",
        "\n",
        "for i in string_counts:\n",
        "  if string_counts.get(i) < 50:\n",
        "    poco_frecuentes_50 +=1\n",
        "\n",
        "for i in string_counts:\n",
        "  if string_counts.get(i) < 90:\n",
        "    poco_frecuentes_90 +=1\n",
        "\n",
        "for i in string_counts:\n",
        "  if string_counts.get(i) < 100:\n",
        "    poco_frecuentes_100 +=1\n",
        "\n",
        "print(\"De las\", len(flat_keys), \"palabras totales hay\", poco_frecuentes, \"palabras que aparecen menos de 3 veces, de las cuales\", una_sola_vez, \"aparecen una sola vez.\")\n",
        "print(\"Es decir, un\", (una_sola_vez/len(flat_keys))*100,\"% de las palabras aparecen una sola vez\")\n",
        "print(\"Es decir, un\", (poco_frecuentes/len(flat_keys))*100,\"% de las palabras aparecen tres veces\")\n",
        "print(\"Es decir, un\", (poco_frecuentes_50/len(flat_keys))*100,\"% de las palabras aparecen 50 veces\")\n",
        "print(\"Es decir, un\", (poco_frecuentes_90/len(flat_keys))*100,\"% de las palabras aparecen 90 veces\")\n",
        "print(\"Es decir, un\", (poco_frecuentes_100/len(flat_keys))*100,\"% de las palabras aparecen 100 veces\")"
      ]
    },
    {
      "cell_type": "markdown",
      "metadata": {
        "id": "UorBRppTVzdC"
      },
      "source": [
        "### Get new keys under X"
      ]
    },
    {
      "cell_type": "code",
      "execution_count": 49,
      "metadata": {
        "colab": {
          "base_uri": "https://localhost:8080/",
          "height": 385
        },
        "id": "GC8Zr3clWXqK",
        "outputId": "e5441fe3-8a95-45fb-8d7b-69239b38e73a"
      },
      "outputs": [
        {
          "data": {
            "text/plain": [
              "'ensemble learning'"
            ]
          },
          "execution_count": 49,
          "metadata": {},
          "output_type": "execute_result"
        }
      ],
      "source": [
        "flat_keys[0]"
      ]
    },
    {
      "cell_type": "code",
      "execution_count": 50,
      "metadata": {
        "colab": {
          "base_uri": "https://localhost:8080/"
        },
        "id": "vb67xPvSV5o8",
        "outputId": "aedb38d8-c5ae-472d-eb56-04c2b2c1005a"
      },
      "outputs": [
        {
          "name": "stdout",
          "output_type": "stream",
          "text": [
            "Tal y como vimos antes, 1626 palabras que aparecen una vez y 2592 palabras que aparecen dos veces o menos\n",
            "Lo cual nos deja con 29981 palabras si quitamos las que aparecen una vez y 29015 si quitamos las que aparecen dos veces o menos\n",
            "Quitar las repeticiones menores de 50, nos deja con 126 keywords unicas.\n",
            "Quitar las repeticiones menores de 90, nos deja con 64 keywords unicas.\n",
            "Quitar las repeticiones menores de 100, nos deja con 54 keywords unicas.\n"
          ]
        }
      ],
      "source": [
        "arr = np.array(flat_keys)\n",
        "\n",
        "# contar ocurrencias de todas las palabras\n",
        "unique_vals, val_counts = np.unique(arr, return_counts=True)\n",
        "\n",
        "# filtrar los valores con más de 2 o 3 repeticiones\n",
        "filtered_vals_under2 = unique_vals[val_counts >= 2]         # las leyes de DeMorgan lo convierten en < 2, eliminando los que aparecen una sola vez\n",
        "filtered_vals_under3 = unique_vals[val_counts >= 3]         # las leyes de DeMorgan lo convierten en < 3, eliminando los que aparecen dos veces o menos\n",
        "filtered_vals_under50 = unique_vals[val_counts >= 50]         # las leyes de DeMorgan lo convierten en < 50, eliminando los que aparecen dos veces o menos\n",
        "filtered_vals_under90 = unique_vals[val_counts >= 90]         # las leyes de DeMorgan lo convierten en < 90, eliminando los que aparecen dos veces o menos\n",
        "filtered_vals_under100 = unique_vals[val_counts >= 100]         # las leyes de DeMorgan lo convierten en < 100, eliminando los que aparecen dos veces o menos\n",
        "\n",
        "# obtenemos al quitar \n",
        "filtered_arr_under2 = arr[np.isin(arr, filtered_vals_under2)]       # quitamos los que aparecen una sola vez\n",
        "filtered_arr_under3 = arr[np.isin(arr, filtered_vals_under3)]       # quitamos los que aparecen dos veces o menos\n",
        "filtered_arr_under50 = arr[np.isin(arr, filtered_vals_under50)]       # quitamos los que aparecen 50 veces o menos\n",
        "filtered_arr_under90 = arr[np.isin(arr, filtered_vals_under90)]       # quitamos los que aparecen 50 veces o menos\n",
        "filtered_arr_under100 = arr[np.isin(arr, filtered_vals_under100)]       # quitamos los que aparecen 50 veces o menos\n",
        "\n",
        "print(\"Tal y como vimos antes,\", len(flat_keys)-len(filtered_arr_under2), \"palabras que aparecen una vez y\", len(flat_keys)-len(filtered_arr_under3), \"palabras que aparecen dos veces o menos\")\n",
        "print(\"Lo cual nos deja con\", len(filtered_arr_under2), \"palabras si quitamos las que aparecen una vez y\", len(filtered_arr_under3), \"si quitamos las que aparecen dos veces o menos\")\n",
        "\n",
        "print(f\"Quitar las repeticiones menores de 50, nos deja con {len(np.unique(filtered_arr_under50))} keywords unicas.\")\n",
        "print(f\"Quitar las repeticiones menores de 90, nos deja con {len(np.unique(filtered_arr_under90))} keywords unicas.\")\n",
        "print(f\"Quitar las repeticiones menores de 100, nos deja con {len(np.unique(filtered_arr_under100))} keywords unicas.\")"
      ]
    },
    {
      "cell_type": "markdown",
      "metadata": {
        "id": "RyKRVnakVOrF"
      },
      "source": [
        "### Frequency of keywords together in the same row\n",
        "\n",
        "Now we are going to obtain more information about the sesgation and unbalance of the keywords. It is of our interest to relationate each words. For this, we are going to use a correlation matrix.\n",
        "\n",
        "> `underX` is intended to have the `X` so that you don't have to change the code 100 times"
      ]
    },
    {
      "cell_type": "markdown",
      "metadata": {
        "id": "zLucJjxCaiY1"
      },
      "source": [
        "_**CHANGE THIS VALUE TO 2, 3, 50, 90 or 100**_"
      ]
    },
    {
      "cell_type": "code",
      "execution_count": 51,
      "metadata": {
        "id": "RMhpVuxXatK_"
      },
      "outputs": [],
      "source": [
        "underX = pd.DataFrame(filtered_arr_under100, columns=['Keywords'])"
      ]
    },
    {
      "cell_type": "markdown",
      "metadata": {
        "id": "8iGJnwrobTPJ"
      },
      "source": [
        "Las palabras más frecuentes, como podemos ver, aparecen juntas con una frecuencia muy baja, lo que da a entender que en los datos está presente una gran cantidad de ruido."
      ]
    },
    {
      "cell_type": "code",
      "execution_count": 52,
      "metadata": {
        "colab": {
          "base_uri": "https://localhost:8080/",
          "height": 89
        },
        "id": "YonqCcOhVmik",
        "outputId": "c6053b46-d64d-439c-e3e0-7c3a9f3ca6a6"
      },
      "outputs": [
        {
          "name": "stderr",
          "output_type": "stream",
          "text": [
            "/tmp/ipykernel_386/106516927.py:3: FutureWarning: Using the level keyword in DataFrame and Series aggregations is deprecated and will be removed in a future version. Use groupby instead. df.sum(level=1) should use df.groupby(level=1).sum().\n",
            "  keyw = pd.get_dummies(underX['Keywords'].apply(pd.Series).stack()).sum(level=0)\n"
          ]
        },
        {
          "data": {
            "image/png": "[encoded data removed]",
            "text/plain": [
              "<Figure size 864x864 with 2 Axes>"
            ]
          },
          "metadata": {
            "needs_background": "light"
          },
          "output_type": "display_data"
        }
      ],
      "source": [
        "# Convertimos las palabras en valores numéricos\n",
        "keyw = pd.DataFrame(words)\n",
        "keyw = pd.get_dummies(underX['Keywords'].apply(pd.Series).stack()).sum(level=0)\n",
        "\n",
        "# crea la matriz de correlación\n",
        "corr_matrix = np.corrcoef(keyw, rowvar=False)\n",
        "\n",
        "# crea el mapa de calor con matplotlib\n",
        "fig, ax = plt.subplots(figsize=(12, 12))\n",
        "im = ax.imshow(corr_matrix, cmap='coolwarm')\n",
        "\n",
        "# personaliza los ejes y el título del mapa de calor\n",
        "ax.set_xticks(np.arange(len(keyw.columns)))\n",
        "ax.set_yticks(np.arange(len(keyw.columns)))\n",
        "ax.set_xticklabels(keyw.columns)\n",
        "ax.set_yticklabels(keyw.columns)\n",
        "plt.setp(ax.get_xticklabels(), rotation=45, ha=\"right\", rotation_mode=\"anchor\")\n",
        "ax.set_title(\"Frecuencia de palabras clave juntas en una misma fila\")\n",
        "\n",
        "# añade una barra de color al mapa de calor\n",
        "cbar = ax.figure.colorbar(im, ax=ax)\n",
        "\n",
        "# muestra el mapa de calor\n",
        "plt.show()"
      ]
    },
    {
      "cell_type": "code",
      "execution_count": 53,
      "metadata": {
        "colab": {
          "base_uri": "https://localhost:8080/"
        },
        "id": "lMVOZcQma7y_",
        "outputId": "dcd9f7a3-2bb0-47f6-eac6-57f8ee1d247b"
      },
      "outputs": [
        {
          "data": {
            "text/plain": [
              "54"
            ]
          },
          "execution_count": 53,
          "metadata": {},
          "output_type": "execute_result"
        }
      ],
      "source": [
        "len(np.unique(underX))"
      ]
    },
    {
      "cell_type": "code",
      "execution_count": 54,
      "metadata": {
        "colab": {
          "base_uri": "https://localhost:8080/"
        },
        "id": "wBPqAtFpbhxT",
        "outputId": "41915c32-6526-49d8-cc35-d1952ff709de"
      },
      "outputs": [
        {
          "data": {
            "text/plain": [
              "array(['5g', 'adaptive', 'algorithm', 'algorithm design and analysis',\n",
              "       'application software', 'bayesian', 'classification', 'clustering',\n",
              "       'cnn', 'computational modeling', 'computer architecture',\n",
              "       'computer science', 'conferences', 'correlation', 'data mining',\n",
              "       'data models', 'databases', 'deep learning', 'detection',\n",
              "       'feature extraction', 'forecasting', 'hidden markov model',\n",
              "       'internet', 'kernel', 'learning', 'machine learning',\n",
              "       'machine learning algorithms', 'mathematical model', 'measurement',\n",
              "       'measuring and metrics', 'monitoring', 'neural networks',\n",
              "       'optimization', 'predictive model', 'protocols',\n",
              "       'quality of service', 'recognition', 'resource management',\n",
              "       'robustness', 'routing', 'security', 'sensors', 'software',\n",
              "       'standards', 'svr', 'task analysis', 'testing', 'time series',\n",
              "       'training', 'training data', 'tutorials', 'wireless communication',\n",
              "       'wireless networks', 'wireless sensor networks'], dtype=object)"
            ]
          },
          "execution_count": 54,
          "metadata": {},
          "output_type": "execute_result"
        }
      ],
      "source": [
        "np.unique(underX)"
      ]
    },
    {
      "cell_type": "markdown",
      "metadata": {
        "id": "9QOPrx07PWtn"
      },
      "source": [
        "## Cleanning\n",
        "\n",
        "1. Cleanning\n",
        "    1. Remove words which are similar. (Here for the future, we could use nltk `similarity()`)\n",
        "\n",
        "\n",
        "This cleaning is for each of the abstracts and not as a molotic abstract thing, like earlier."
      ]
    },
    {
      "cell_type": "markdown",
      "metadata": {
        "id": "7AnQ2wwibuER"
      },
      "source": [
        "Al tratarse de únicamente 54 valores, vamos a intentar agrupar a mano para reducir algo el ruido las palabras clave que estén relacionadas."
      ]
    },
    {
      "cell_type": "code",
      "execution_count": 55,
      "metadata": {
        "colab": {
          "base_uri": "https://localhost:8080/"
        },
        "id": "FB_uJt9ebvg0",
        "outputId": "7b3d4e94-06f6-474e-ebbf-ae56c1001ee4"
      },
      "outputs": [
        {
          "name": "stderr",
          "output_type": "stream",
          "text": [
            "/tmp/ipykernel_386/2748233728.py:1: FutureWarning: Using the level keyword in DataFrame and Series aggregations is deprecated and will be removed in a future version. Use groupby instead. df.sum(level=1) should use df.groupby(level=1).sum().\n",
            "  underX = pd.get_dummies(underX['Keywords'].apply(pd.Series).stack()).sum(level=0)\n"
          ]
        }
      ],
      "source": [
        "underX = pd.get_dummies(underX['Keywords'].apply(pd.Series).stack()).sum(level=0)"
      ]
    },
    {
      "cell_type": "markdown",
      "metadata": {
        "id": "CPavXZFbcO8N"
      },
      "source": [
        "Creamos un multi-hot, para agrupar a posteriori"
      ]
    },
    {
      "cell_type": "code",
      "execution_count": 56,
      "metadata": {
        "id": "cUQkv-nDcIu-"
      },
      "outputs": [],
      "source": [
        "# Agrupamiento de las keywords que tienen que ver con redes inalámbricas en una sola \"wireless\"\n",
        "underX[\"wireless\"] = underX[\"5g\"] + underX[\"wireless networks\"] + underX[\"wireless sensor networks\"] + underX[\"wireless communication\"]\n",
        "keywords_clean = underX.drop([\"5g\", \"wireless sensor networks\", \"wireless communication\"], axis=1)\n",
        "\n",
        "# Agrupamiento de palabras clave de algoritmos\n",
        "underX[\"algorithms\"] = underX[\"algorithm\"] + underX[\"algorithm design and analysis\"] + underX[\"wireless sensor networks\"] + underX[\"machine learning algorithms\"]\n",
        "keywords_clean = underX.drop([\"algorithm\", \"algorithm design and analysis\", \"machine learning algorithms\"], axis=1)\n",
        "\n",
        "# Agrupamiento de palabras clave de minería de datos\n",
        "underX[\"mining\"] = underX[\"classification\"] + underX[\"clustering\"] + underX[\"data mining\"] + underX[\"correlation\"]\n",
        "keywords_clean = underX.drop([\"classification\", \"clustering\", \"data mining\", \"correlation\"], axis=1)\n",
        "\n",
        "# Agrupamiento de palabras clave de computers\n",
        "underX[\"computers\"] = underX[\"computational modeling\"] + underX[\"computer architecture\"] + underX[\"computer science\"]\n",
        "keywords_clean = underX.drop([\"computational modeling\", \"computer architecture\", \"computer science\"], axis=1)"
      ]
    },
    {
      "cell_type": "code",
      "execution_count": 57,
      "metadata": {
        "colab": {
          "base_uri": "https://localhost:8080/",
          "height": 352
        },
        "id": "0yiuVVL1cLf0",
        "outputId": "98c92449-1c31-4499-d4a8-64bd28aebdcb"
      },
      "outputs": [
        {
          "data": {
            "text/html": [
              "<div>\n",
              "<style scoped>\n",
              "    .dataframe tbody tr th:only-of-type {\n",
              "        vertical-align: middle;\n",
              "    }\n",
              "\n",
              "    .dataframe tbody tr th {\n",
              "        vertical-align: top;\n",
              "    }\n",
              "\n",
              "    .dataframe thead th {\n",
              "        text-align: right;\n",
              "    }\n",
              "</style>\n",
              "<table border=\"1\" class=\"dataframe\">\n",
              "  <thead>\n",
              "    <tr style=\"text-align: right;\">\n",
              "      <th></th>\n",
              "      <th>5g</th>\n",
              "      <th>adaptive</th>\n",
              "      <th>algorithm</th>\n",
              "      <th>algorithm design and analysis</th>\n",
              "      <th>application software</th>\n",
              "      <th>bayesian</th>\n",
              "      <th>classification</th>\n",
              "      <th>clustering</th>\n",
              "      <th>cnn</th>\n",
              "      <th>computational modeling</th>\n",
              "      <th>...</th>\n",
              "      <th>training</th>\n",
              "      <th>training data</th>\n",
              "      <th>tutorials</th>\n",
              "      <th>wireless communication</th>\n",
              "      <th>wireless networks</th>\n",
              "      <th>wireless sensor networks</th>\n",
              "      <th>wireless</th>\n",
              "      <th>algorithms</th>\n",
              "      <th>mining</th>\n",
              "      <th>computers</th>\n",
              "    </tr>\n",
              "  </thead>\n",
              "  <tbody>\n",
              "    <tr>\n",
              "      <th>0</th>\n",
              "      <td>0</td>\n",
              "      <td>0</td>\n",
              "      <td>0</td>\n",
              "      <td>0</td>\n",
              "      <td>0</td>\n",
              "      <td>0</td>\n",
              "      <td>0</td>\n",
              "      <td>1</td>\n",
              "      <td>0</td>\n",
              "      <td>0</td>\n",
              "      <td>...</td>\n",
              "      <td>0</td>\n",
              "      <td>0</td>\n",
              "      <td>0</td>\n",
              "      <td>0</td>\n",
              "      <td>0</td>\n",
              "      <td>0</td>\n",
              "      <td>0</td>\n",
              "      <td>0</td>\n",
              "      <td>1</td>\n",
              "      <td>0</td>\n",
              "    </tr>\n",
              "    <tr>\n",
              "      <th>1</th>\n",
              "      <td>0</td>\n",
              "      <td>0</td>\n",
              "      <td>0</td>\n",
              "      <td>0</td>\n",
              "      <td>0</td>\n",
              "      <td>0</td>\n",
              "      <td>0</td>\n",
              "      <td>0</td>\n",
              "      <td>0</td>\n",
              "      <td>0</td>\n",
              "      <td>...</td>\n",
              "      <td>0</td>\n",
              "      <td>0</td>\n",
              "      <td>0</td>\n",
              "      <td>0</td>\n",
              "      <td>0</td>\n",
              "      <td>0</td>\n",
              "      <td>0</td>\n",
              "      <td>0</td>\n",
              "      <td>0</td>\n",
              "      <td>0</td>\n",
              "    </tr>\n",
              "    <tr>\n",
              "      <th>2</th>\n",
              "      <td>0</td>\n",
              "      <td>1</td>\n",
              "      <td>0</td>\n",
              "      <td>0</td>\n",
              "      <td>0</td>\n",
              "      <td>0</td>\n",
              "      <td>0</td>\n",
              "      <td>0</td>\n",
              "      <td>0</td>\n",
              "      <td>0</td>\n",
              "      <td>...</td>\n",
              "      <td>0</td>\n",
              "      <td>0</td>\n",
              "      <td>0</td>\n",
              "      <td>0</td>\n",
              "      <td>0</td>\n",
              "      <td>0</td>\n",
              "      <td>0</td>\n",
              "      <td>0</td>\n",
              "      <td>0</td>\n",
              "      <td>0</td>\n",
              "    </tr>\n",
              "    <tr>\n",
              "      <th>3</th>\n",
              "      <td>0</td>\n",
              "      <td>0</td>\n",
              "      <td>0</td>\n",
              "      <td>0</td>\n",
              "      <td>0</td>\n",
              "      <td>0</td>\n",
              "      <td>0</td>\n",
              "      <td>0</td>\n",
              "      <td>0</td>\n",
              "      <td>0</td>\n",
              "      <td>...</td>\n",
              "      <td>0</td>\n",
              "      <td>0</td>\n",
              "      <td>0</td>\n",
              "      <td>0</td>\n",
              "      <td>0</td>\n",
              "      <td>0</td>\n",
              "      <td>0</td>\n",
              "      <td>0</td>\n",
              "      <td>0</td>\n",
              "      <td>0</td>\n",
              "    </tr>\n",
              "    <tr>\n",
              "      <th>4</th>\n",
              "      <td>0</td>\n",
              "      <td>0</td>\n",
              "      <td>0</td>\n",
              "      <td>0</td>\n",
              "      <td>0</td>\n",
              "      <td>0</td>\n",
              "      <td>0</td>\n",
              "      <td>0</td>\n",
              "      <td>0</td>\n",
              "      <td>0</td>\n",
              "      <td>...</td>\n",
              "      <td>0</td>\n",
              "      <td>0</td>\n",
              "      <td>0</td>\n",
              "      <td>0</td>\n",
              "      <td>0</td>\n",
              "      <td>0</td>\n",
              "      <td>0</td>\n",
              "      <td>0</td>\n",
              "      <td>0</td>\n",
              "      <td>0</td>\n",
              "    </tr>\n",
              "  </tbody>\n",
              "</table>\n",
              "<p>5 rows × 58 columns</p>\n",
              "</div>"
            ],
            "text/plain": [
              "   5g  adaptive  algorithm  algorithm design and analysis  \\\n",
              "0   0         0          0                              0   \n",
              "1   0         0          0                              0   \n",
              "2   0         1          0                              0   \n",
              "3   0         0          0                              0   \n",
              "4   0         0          0                              0   \n",
              "\n",
              "   application software  bayesian  classification  clustering  cnn  \\\n",
              "0                     0         0               0           1    0   \n",
              "1                     0         0               0           0    0   \n",
              "2                     0         0               0           0    0   \n",
              "3                     0         0               0           0    0   \n",
              "4                     0         0               0           0    0   \n",
              "\n",
              "   computational modeling  ...  training  training data  tutorials  \\\n",
              "0                       0  ...         0              0          0   \n",
              "1                       0  ...         0              0          0   \n",
              "2                       0  ...         0              0          0   \n",
              "3                       0  ...         0              0          0   \n",
              "4                       0  ...         0              0          0   \n",
              "\n",
              "   wireless communication  wireless networks  wireless sensor networks  \\\n",
              "0                       0                  0                         0   \n",
              "1                       0                  0                         0   \n",
              "2                       0                  0                         0   \n",
              "3                       0                  0                         0   \n",
              "4                       0                  0                         0   \n",
              "\n",
              "   wireless  algorithms  mining  computers  \n",
              "0         0           0       1          0  \n",
              "1         0           0       0          0  \n",
              "2         0           0       0          0  \n",
              "3         0           0       0          0  \n",
              "4         0           0       0          0  \n",
              "\n",
              "[5 rows x 58 columns]"
            ]
          },
          "execution_count": 57,
          "metadata": {},
          "output_type": "execute_result"
        }
      ],
      "source": [
        "underX.head()"
      ]
    },
    {
      "cell_type": "code",
      "execution_count": 58,
      "metadata": {
        "id": "gEvvR7PtcZuu"
      },
      "outputs": [],
      "source": [
        "def join_keywords(row):\n",
        "    keywords_list = []\n",
        "    for column in row.index:\n",
        "        if row[column] == 1:\n",
        "            keywords_list.append(column)\n",
        "    return keywords_list"
      ]
    },
    {
      "cell_type": "code",
      "execution_count": 59,
      "metadata": {
        "id": "JquqGhdQcb9o"
      },
      "outputs": [],
      "source": [
        "data = []\n",
        "words_df_underX = pd.DataFrame(data, columns=['keywords'])"
      ]
    },
    {
      "cell_type": "code",
      "execution_count": 60,
      "metadata": {
        "colab": {
          "base_uri": "https://localhost:8080/",
          "height": 609
        },
        "id": "imeMa-5Pcf-0",
        "outputId": "07d4dfb9-84f9-40cc-ad03-ca8b69f51430"
      },
      "outputs": [
        {
          "data": {
            "text/html": [
              "<div>\n",
              "<style scoped>\n",
              "    .dataframe tbody tr th:only-of-type {\n",
              "        vertical-align: middle;\n",
              "    }\n",
              "\n",
              "    .dataframe tbody tr th {\n",
              "        vertical-align: top;\n",
              "    }\n",
              "\n",
              "    .dataframe thead th {\n",
              "        text-align: right;\n",
              "    }\n",
              "</style>\n",
              "<table border=\"1\" class=\"dataframe\">\n",
              "  <thead>\n",
              "    <tr style=\"text-align: right;\">\n",
              "      <th></th>\n",
              "      <th>keywords</th>\n",
              "    </tr>\n",
              "  </thead>\n",
              "  <tbody>\n",
              "    <tr>\n",
              "      <th>0</th>\n",
              "      <td>[clustering, mining]</td>\n",
              "    </tr>\n",
              "    <tr>\n",
              "      <th>1</th>\n",
              "      <td>[software]</td>\n",
              "    </tr>\n",
              "    <tr>\n",
              "      <th>2</th>\n",
              "      <td>[adaptive]</td>\n",
              "    </tr>\n",
              "    <tr>\n",
              "      <th>3</th>\n",
              "      <td>[detection]</td>\n",
              "    </tr>\n",
              "    <tr>\n",
              "      <th>4</th>\n",
              "      <td>[recognition]</td>\n",
              "    </tr>\n",
              "    <tr>\n",
              "      <th>...</th>\n",
              "      <td>...</td>\n",
              "    </tr>\n",
              "    <tr>\n",
              "      <th>11779</th>\n",
              "      <td>[application software]</td>\n",
              "    </tr>\n",
              "    <tr>\n",
              "      <th>11780</th>\n",
              "      <td>[computer science, computers]</td>\n",
              "    </tr>\n",
              "    <tr>\n",
              "      <th>11781</th>\n",
              "      <td>[machine learning]</td>\n",
              "    </tr>\n",
              "    <tr>\n",
              "      <th>11782</th>\n",
              "      <td>[neural networks]</td>\n",
              "    </tr>\n",
              "    <tr>\n",
              "      <th>11783</th>\n",
              "      <td>[recognition]</td>\n",
              "    </tr>\n",
              "  </tbody>\n",
              "</table>\n",
              "<p>11784 rows × 1 columns</p>\n",
              "</div>"
            ],
            "text/plain": [
              "                            keywords\n",
              "0               [clustering, mining]\n",
              "1                         [software]\n",
              "2                         [adaptive]\n",
              "3                        [detection]\n",
              "4                      [recognition]\n",
              "...                              ...\n",
              "11779         [application software]\n",
              "11780  [computer science, computers]\n",
              "11781             [machine learning]\n",
              "11782              [neural networks]\n",
              "11783                  [recognition]\n",
              "\n",
              "[11784 rows x 1 columns]"
            ]
          },
          "execution_count": 60,
          "metadata": {},
          "output_type": "execute_result"
        }
      ],
      "source": [
        "words_df_underX['keywords'] = underX.apply(join_keywords, axis=1)\n",
        "words_df_underX"
      ]
    },
    {
      "cell_type": "markdown",
      "metadata": {
        "id": "TEtYOKeAQATs"
      },
      "source": [
        "# Preprocessing\n",
        "\n",
        "1. Tokenize keywords\n",
        "2. Join keywords wih abstracts\n",
        "3. Get rid of rows with no keywords after purge\n",
        "4. Tokenize abstracts\n",
        "\n",
        "Ideas for future:\n",
        "- With `occurrences` we can do https://datascience.stackexchange.com/questions/13490/how-to-set-class-weights-for-imbalanced-classes-in-keras"
      ]
    },
    {
      "cell_type": "code",
      "execution_count": 61,
      "metadata": {
        "id": "PIgzSSwWjzG6"
      },
      "outputs": [],
      "source": [
        "# Constants\n",
        "EMBEDDING_DIM = 300\n",
        "\n",
        "MAX_VOCAB_SIZE = 40000\n",
        "\n",
        "# tamaño de la frase más larga con la que alimentar el modelo\n",
        "# se escoge la mediana para evitar anomalías\n",
        "MAX_SEQUENCE_LENGTH = median"
      ]
    },
    {
      "cell_type": "markdown",
      "metadata": {
        "id": "jor0KyGgcw-F"
      },
      "source": [
        "### Define tokenizer function && multihot\n",
        "\n",
        "This tokenizer function is for this special purpose.\n",
        "The multi-hot is used to generate the `y`"
      ]
    },
    {
      "cell_type": "code",
      "execution_count": 62,
      "metadata": {
        "id": "rftoTL1hdLhw"
      },
      "outputs": [],
      "source": [
        "def tokenize_and_add_padding(words, tokenizer, max_sequence_length=None):\n",
        "    tokenizer.fit_on_texts(words)\n",
        "    sequences = tokenizer.texts_to_sequences(words)\n",
        "    word_index = tokenizer.word_index\n",
        "    data = None\n",
        "    \n",
        "    if max_sequence_length is not None:\n",
        "        data = tf.keras.preprocessing.sequence.pad_sequences(\n",
        "            sequences,\n",
        "            maxlen=max_sequence_length\n",
        "        )\n",
        "        print('Shape of data tensor:', data.shape)\n",
        "\n",
        "    print('Found %s unique tokens.' % len(word_index))\n",
        "\n",
        "    return sequences, word_index, data"
      ]
    },
    {
      "cell_type": "code",
      "execution_count": 63,
      "metadata": {
        "id": "ytKXT5tzdJgU"
      },
      "outputs": [],
      "source": [
        "def multihot_tokenize(target, y_sequences, word_index):\n",
        "    output_size = len(word_index.keys())\n",
        "    multi_hot_tokenized = []\n",
        "\n",
        "    for i, keys in enumerate(target):\n",
        "        multi_hot_tokenized.append(np.zeros(output_size+1))\n",
        "        for key in keys:\n",
        "            if key in word_index:\n",
        "                multi_hot_tokenized[i][word_index[key]] = 1\n",
        "\n",
        "    multi_hot_tokenized = np.asarray(multi_hot_tokenized)\n",
        "    multi_hot_tokenized[0]\n",
        "\n",
        "    return multi_hot_tokenized"
      ]
    },
    {
      "cell_type": "markdown",
      "metadata": {
        "id": "SBowO-16eB-R"
      },
      "source": [
        "### Create tokenizer"
      ]
    },
    {
      "cell_type": "code",
      "execution_count": 64,
      "metadata": {
        "id": "zRIO1vhMeED_"
      },
      "outputs": [],
      "source": [
        "tokenizer = tf.keras.preprocessing.text.Tokenizer(num_words=MAX_VOCAB_SIZE)"
      ]
    },
    {
      "cell_type": "markdown",
      "metadata": {
        "id": "ifi6uOdedRIU"
      },
      "source": [
        "### Tokenize keywords\n",
        "\n",
        "Remember to choose the same frecuency or percentile done earlier.\n",
        "\n",
        "> Remember the `X`"
      ]
    },
    {
      "cell_type": "code",
      "execution_count": 65,
      "metadata": {
        "id": "oareKRJZdrPi"
      },
      "outputs": [],
      "source": [
        "targets_under_X = []\n",
        "filtered_arr_under100_dict = {i: None for i in filtered_arr_under100}\n",
        "\n",
        "for i, keys in enumerate(words):\n",
        "    targets_under_X.append([])\n",
        "    for key in keys:\n",
        "        if key in filtered_arr_under100_dict:\n",
        "            targets_under_X[i].append(key)"
      ]
    },
    {
      "cell_type": "code",
      "execution_count": 66,
      "metadata": {
        "colab": {
          "base_uri": "https://localhost:8080/"
        },
        "id": "6EnmwMcLdl7s",
        "outputId": "3ed8c1e3-2386-4f67-aca8-3bab070b8a11"
      },
      "outputs": [
        {
          "name": "stdout",
          "output_type": "stream",
          "text": [
            "Found 54 unique tokens.\n"
          ]
        },
        {
          "data": {
            "text/plain": [
              "54"
            ]
          },
          "execution_count": 66,
          "metadata": {},
          "output_type": "execute_result"
        }
      ],
      "source": [
        "y_sequencesX, y_word_indexX, _ = tokenize_and_add_padding(targets_under_X, tokenizer)\n",
        "OUTPUT_SIZE_UNDER_X = len(y_word_indexX.keys())\n",
        "OUTPUT_SIZE_UNDER_X"
      ]
    },
    {
      "cell_type": "code",
      "execution_count": 67,
      "metadata": {
        "colab": {
          "base_uri": "https://localhost:8080/"
        },
        "id": "myLUOEgEfldr",
        "outputId": "32ac65e4-4886-42e2-980d-c732a38ccf8a"
      },
      "outputs": [
        {
          "data": {
            "text/plain": [
              "4555"
            ]
          },
          "execution_count": 67,
          "metadata": {},
          "output_type": "execute_result"
        }
      ],
      "source": [
        "len(y_sequencesX)"
      ]
    },
    {
      "cell_type": "markdown",
      "metadata": {
        "id": "fAD2O2IvfvJh"
      },
      "source": [
        "### Get rid of rows with no keywords after purge\n"
      ]
    },
    {
      "cell_type": "code",
      "execution_count": 68,
      "metadata": {
        "colab": {
          "base_uri": "https://localhost:8080/"
        },
        "id": "-4vtWRiegcM3",
        "outputId": "41a0f010-661b-42aa-916f-a47c1d38fdbb"
      },
      "outputs": [
        {
          "data": {
            "text/plain": [
              "True"
            ]
          },
          "execution_count": 68,
          "metadata": {},
          "output_type": "execute_result"
        }
      ],
      "source": [
        "len(clean_abstracts) == len(y_sequencesX)"
      ]
    },
    {
      "cell_type": "code",
      "execution_count": 69,
      "metadata": {
        "colab": {
          "base_uri": "https://localhost:8080/",
          "height": 206
        },
        "id": "Iz_n7U8RgFfr",
        "outputId": "44558ed9-94c9-4b3d-affa-6fc9575a294b"
      },
      "outputs": [
        {
          "data": {
            "text/html": [
              "<div>\n",
              "<style scoped>\n",
              "    .dataframe tbody tr th:only-of-type {\n",
              "        vertical-align: middle;\n",
              "    }\n",
              "\n",
              "    .dataframe tbody tr th {\n",
              "        vertical-align: top;\n",
              "    }\n",
              "\n",
              "    .dataframe thead th {\n",
              "        text-align: right;\n",
              "    }\n",
              "</style>\n",
              "<table border=\"1\" class=\"dataframe\">\n",
              "  <thead>\n",
              "    <tr style=\"text-align: right;\">\n",
              "      <th></th>\n",
              "      <th>Abstracts</th>\n",
              "      <th>keywords</th>\n",
              "    </tr>\n",
              "  </thead>\n",
              "  <tbody>\n",
              "    <tr>\n",
              "      <th>0</th>\n",
              "      <td>statistical word alignment models need large a...</td>\n",
              "      <td>[]</td>\n",
              "    </tr>\n",
              "    <tr>\n",
              "      <th>1</th>\n",
              "      <td>spectral learning algorithms learn an unknown ...</td>\n",
              "      <td>[]</td>\n",
              "    </tr>\n",
              "    <tr>\n",
              "      <th>2</th>\n",
              "      <td>number defects remaining a system provides an ...</td>\n",
              "      <td>[19, 47]</td>\n",
              "    </tr>\n",
              "    <tr>\n",
              "      <th>3</th>\n",
              "      <td>not all instances a data set are equally benef...</td>\n",
              "      <td>[]</td>\n",
              "    </tr>\n",
              "    <tr>\n",
              "      <th>4</th>\n",
              "      <td>learning environments is not an easy task and ...</td>\n",
              "      <td>[48, 10]</td>\n",
              "    </tr>\n",
              "  </tbody>\n",
              "</table>\n",
              "</div>"
            ],
            "text/plain": [
              "                                           Abstracts  keywords\n",
              "0  statistical word alignment models need large a...        []\n",
              "1  spectral learning algorithms learn an unknown ...        []\n",
              "2  number defects remaining a system provides an ...  [19, 47]\n",
              "3  not all instances a data set are equally benef...        []\n",
              "4  learning environments is not an easy task and ...  [48, 10]"
            ]
          },
          "execution_count": 69,
          "metadata": {},
          "output_type": "execute_result"
        }
      ],
      "source": [
        "# Create new dataframe with newly abstracts\n",
        "prepro = pd.DataFrame(clean_abstracts, columns=['Abstracts'])\n",
        "prepro['keywords'] = y_sequencesX\n",
        "prepro.head()"
      ]
    },
    {
      "cell_type": "markdown",
      "metadata": {
        "id": "PoxexObOgq40"
      },
      "source": [
        "Now eliminate abstracts with empty list as keywords"
      ]
    },
    {
      "cell_type": "code",
      "execution_count": 70,
      "metadata": {
        "colab": {
          "base_uri": "https://localhost:8080/",
          "height": 206
        },
        "id": "qky1V5RJgvGF",
        "outputId": "713996d4-a67e-4ce2-b127-733d3b2cac8d"
      },
      "outputs": [
        {
          "data": {
            "text/html": [
              "<div>\n",
              "<style scoped>\n",
              "    .dataframe tbody tr th:only-of-type {\n",
              "        vertical-align: middle;\n",
              "    }\n",
              "\n",
              "    .dataframe tbody tr th {\n",
              "        vertical-align: top;\n",
              "    }\n",
              "\n",
              "    .dataframe thead th {\n",
              "        text-align: right;\n",
              "    }\n",
              "</style>\n",
              "<table border=\"1\" class=\"dataframe\">\n",
              "  <thead>\n",
              "    <tr style=\"text-align: right;\">\n",
              "      <th></th>\n",
              "      <th>Abstracts</th>\n",
              "      <th>keywords</th>\n",
              "    </tr>\n",
              "  </thead>\n",
              "  <tbody>\n",
              "    <tr>\n",
              "      <th>2</th>\n",
              "      <td>number defects remaining a system provides an ...</td>\n",
              "      <td>[19, 47]</td>\n",
              "    </tr>\n",
              "    <tr>\n",
              "      <th>4</th>\n",
              "      <td>learning environments is not an easy task and ...</td>\n",
              "      <td>[48, 10]</td>\n",
              "    </tr>\n",
              "    <tr>\n",
              "      <th>6</th>\n",
              "      <td>captchas are tests that are widely used the in...</td>\n",
              "      <td>[18]</td>\n",
              "    </tr>\n",
              "    <tr>\n",
              "      <th>7</th>\n",
              "      <td>reinforcement learning techniques become more ...</td>\n",
              "      <td>[1, 27]</td>\n",
              "    </tr>\n",
              "    <tr>\n",
              "      <th>8</th>\n",
              "      <td>signatures are the single most widely used met...</td>\n",
              "      <td>[20, 2]</td>\n",
              "    </tr>\n",
              "  </tbody>\n",
              "</table>\n",
              "</div>"
            ],
            "text/plain": [
              "                                           Abstracts  keywords\n",
              "2  number defects remaining a system provides an ...  [19, 47]\n",
              "4  learning environments is not an easy task and ...  [48, 10]\n",
              "6  captchas are tests that are widely used the in...      [18]\n",
              "7  reinforcement learning techniques become more ...   [1, 27]\n",
              "8  signatures are the single most widely used met...   [20, 2]"
            ]
          },
          "execution_count": 70,
          "metadata": {},
          "output_type": "execute_result"
        }
      ],
      "source": [
        "df_under_X = prepro[prepro['keywords'].apply(len) > 0]\n",
        "df_under_X.head()"
      ]
    },
    {
      "cell_type": "code",
      "execution_count": 71,
      "metadata": {
        "colab": {
          "base_uri": "https://localhost:8080/"
        },
        "id": "74UsgsBqjIbO",
        "outputId": "0e19e6e6-719b-4300-d5fb-8874f6b7a969"
      },
      "outputs": [
        {
          "data": {
            "text/plain": [
              "(4186,)"
            ]
          },
          "execution_count": 71,
          "metadata": {},
          "output_type": "execute_result"
        }
      ],
      "source": [
        "abstracts = df_under_X['Abstracts'].values[:]\n",
        "\n",
        "abstracts.shape"
      ]
    },
    {
      "cell_type": "markdown",
      "metadata": {
        "id": "IPXLOiCxjQGr"
      },
      "source": [
        "### Tokenize abstracts"
      ]
    },
    {
      "cell_type": "code",
      "execution_count": 72,
      "metadata": {
        "colab": {
          "base_uri": "https://localhost:8080/"
        },
        "id": "6JHLs6sOjSYT",
        "outputId": "08752a87-3567-435d-dea5-e207dbd208a5"
      },
      "outputs": [
        {
          "name": "stdout",
          "output_type": "stream",
          "text": [
            "Shape of data tensor: (4186, 925)\n",
            "Found 12352 unique tokens.\n"
          ]
        }
      ],
      "source": [
        "sequences, word_index, data = tokenize_and_add_padding(abstracts, tokenizer, MAX_SEQUENCE_LENGTH)"
      ]
    },
    {
      "cell_type": "markdown",
      "metadata": {
        "id": "Ax0mCF8nhDgL"
      },
      "source": [
        "### Create multihot"
      ]
    },
    {
      "cell_type": "code",
      "execution_count": 73,
      "metadata": {
        "colab": {
          "base_uri": "https://localhost:8080/"
        },
        "id": "xeHAi3nmhF-P",
        "outputId": "72fdec4c-8b45-42a2-af5b-8f6dc14a703c"
      },
      "outputs": [
        {
          "data": {
            "text/plain": [
              "(4186, 55)"
            ]
          },
          "execution_count": 73,
          "metadata": {},
          "output_type": "execute_result"
        }
      ],
      "source": [
        "targets_under_X_flatten = [lst for lst in targets_under_X if lst]\n",
        "multihot_X = multihot_tokenize(targets_under_X_flatten, y_sequencesX, y_word_indexX)\n",
        "multihot_X.shape"
      ]
    },
    {
      "cell_type": "markdown",
      "metadata": {
        "id": "QgLgh39BQX5d"
      },
      "source": [
        "## Train GLoVe\n",
        "\n",
        "Vamos a entrenar una capa de word embedding con el conjunto de datos de Stanford:"
      ]
    },
    {
      "cell_type": "code",
      "execution_count": 74,
      "metadata": {
        "id": "zhLfPwiekNO3"
      },
      "outputs": [],
      "source": [
        "import os\n",
        "import requests\n",
        "from shutil import unpack_archive"
      ]
    },
    {
      "cell_type": "code",
      "execution_count": 75,
      "metadata": {
        "id": "T6ujlPzrkG1t"
      },
      "outputs": [],
      "source": [
        "plt.style.use('ggplot')\n",
        "plt.rcParams.update({'figure.figsize': (16, 9),'figure.dpi': 100})\n",
        "\n",
        "tf.compat.v1.disable_eager_execution()  # Esto es por un problema (creo) con las RTX2070"
      ]
    },
    {
      "cell_type": "code",
      "execution_count": 76,
      "metadata": {
        "id": "fM6HLv7-kJ5-"
      },
      "outputs": [],
      "source": [
        "GLOVE_URL = 'http://nlp.stanford.edu/data/glove.6B.zip'\n",
        "GLOVE_FILE = 'glove.6B.zip'\n",
        "GLOVE_DIR = 'glove'\n",
        "\n",
        "if not os.path.isdir(GLOVE_DIR):\n",
        "    # Descargamos el dataset comprimido de GloVe (si no lo tenemos ya)\n",
        "    if not os.path.exists(GLOVE_FILE):\n",
        "        with open(GLOVE_FILE, 'wb') as f:\n",
        "            r = requests.get(GLOVE_URL, allow_redirects=True)\n",
        "            f.write(r.content)\n",
        "    # Lo descomprimimos en el directorio 'glove'\n",
        "    unpack_archive(GLOVE_FILE, 'glove/')"
      ]
    },
    {
      "cell_type": "markdown",
      "metadata": {
        "id": "gV562ji3kuVF"
      },
      "source": [
        "We load the Embedding of the dimension specified in the configuration"
      ]
    },
    {
      "cell_type": "code",
      "execution_count": 77,
      "metadata": {
        "colab": {
          "base_uri": "https://localhost:8080/"
        },
        "id": "QfGbARkxkuB_",
        "outputId": "9387035c-4973-494f-b181-1d4891ab7067"
      },
      "outputs": [
        {
          "name": "stdout",
          "output_type": "stream",
          "text": [
            "Loading GloVe 300-d embedding... done (400000 word vectors loaded)\n"
          ]
        }
      ],
      "source": [
        "print(f'Loading GloVe {EMBEDDING_DIM}-d embedding... ', end='')\n",
        "word2vec = {}\n",
        "with open(os.path.join(GLOVE_DIR, f'glove.6B.{EMBEDDING_DIM}d.txt')) as f:\n",
        "    for line in f:\n",
        "        values = line.split()\n",
        "        word2vec[values[0]] = np.asarray(values[1:], dtype='float32')\n",
        "print(f'done ({len(word2vec)} word vectors loaded)')"
      ]
    },
    {
      "cell_type": "markdown",
      "metadata": {
        "id": "xYqJHVIhQorJ"
      },
      "source": [
        "# Models"
      ]
    },
    {
      "cell_type": "markdown",
      "metadata": {
        "id": "HUe7UkP9Qd64"
      },
      "source": [
        "## f1 score && loss function"
      ]
    },
    {
      "cell_type": "code",
      "execution_count": 78,
      "metadata": {
        "id": "DeUXWc9jk3nc"
      },
      "outputs": [],
      "source": [
        "import keras.backend as K\n",
        "\n",
        "def f1(y_true, y_pred):\n",
        "    y_pred = K.round(y_pred)\n",
        "    tp = K.sum(K.cast(y_true*y_pred, 'float'), axis=0)\n",
        "    tn = K.sum(K.cast((1-y_true)*(1-y_pred), 'float'), axis=0)\n",
        "    fp = K.sum(K.cast((1-y_true)*y_pred, 'float'), axis=0)\n",
        "    fn = K.sum(K.cast(y_true*(1-y_pred), 'float'), axis=0)\n",
        "\n",
        "    p = tp / (tp + fp + K.epsilon())\n",
        "    r = tp / (tp + fn + K.epsilon())\n",
        "\n",
        "    f1 = 2*p*r / (p+r+K.epsilon())\n",
        "    f1 = tf.where(tf.math.is_nan(f1), tf.zeros_like(f1), f1)\n",
        "    return K.mean(f1)\n",
        "\n",
        "def f1_loss(y_true, y_pred):\n",
        "    \n",
        "    tp = K.sum(K.cast(y_true*y_pred, 'float'), axis=0)\n",
        "    tn = K.sum(K.cast((1-y_true)*(1-y_pred), 'float'), axis=0)\n",
        "    fp = K.sum(K.cast((1-y_true)*y_pred, 'float'), axis=0)\n",
        "    fn = K.sum(K.cast(y_true*(1-y_pred), 'float'), axis=0)\n",
        "\n",
        "    p = tp / (tp + fp + K.epsilon())\n",
        "    r = tp / (tp + fn + K.epsilon())\n",
        "\n",
        "    f1 = 2*p*r / (p+r+K.epsilon())\n",
        "    f1 = tf.where(tf.math.is_nan(f1), tf.zeros_like(f1), f1)\n",
        "    return 1 - K.mean(f1)"
      ]
    },
    {
      "cell_type": "markdown",
      "metadata": {
        "id": "Hf3k74ArQcRt"
      },
      "source": [
        "## Embedding Layer"
      ]
    },
    {
      "cell_type": "code",
      "execution_count": null,
      "metadata": {
        "id": "olylA2NsualY"
      },
      "outputs": [],
      "source": []
    },
    {
      "cell_type": "code",
      "execution_count": 79,
      "metadata": {
        "colab": {
          "base_uri": "https://localhost:8080/"
        },
        "id": "Tpt4pSmgk2Dg",
        "outputId": "c0f4d55f-bd6c-4dd4-db76-4fcddb53b08b"
      },
      "outputs": [
        {
          "name": "stdout",
          "output_type": "stream",
          "text": [
            "Loading embedding with GloVe vectors... done\n",
            "Converted 11280 words (1072 misses)\n"
          ]
        }
      ],
      "source": [
        "print('Loading embedding with GloVe vectors... ', end='')\n",
        "# Cargamos sólo las palabras elegidas de nuestro conjunto de datos\n",
        "num_words = MAX_VOCAB_SIZE\n",
        "embedding_matrix = np.zeros((num_words, EMBEDDING_DIM))\n",
        "\n",
        "hits = misses = 0\n",
        "for word, i in word_index.items():\n",
        "    embedding_vector = word2vec.get(word)\n",
        "    if embedding_vector is not None:\n",
        "        embedding_matrix[i] = embedding_vector\n",
        "        hits += 1\n",
        "    else:\n",
        "        misses += 1\n",
        "\n",
        "# Creamos la capa de embedding\n",
        "embedding_layer = tf.keras.layers.Embedding(\n",
        "  input_dim=num_words,\n",
        "  output_dim=EMBEDDING_DIM,\n",
        "  weights=[embedding_matrix],\n",
        "  input_length=MAX_SEQUENCE_LENGTH,\n",
        "  trainable=False,\n",
        ")\n",
        "\n",
        "print('done')\n",
        "\n",
        "print(\"Converted %d words (%d misses)\" % (hits, misses))"
      ]
    },
    {
      "cell_type": "markdown",
      "metadata": {
        "id": "vKt9_cfxQhzV"
      },
      "source": [
        "## CNN"
      ]
    },
    {
      "cell_type": "code",
      "execution_count": 110,
      "metadata": {},
      "outputs": [
        {
          "name": "stdout",
          "output_type": "stream",
          "text": [
            "Model: \"model_4\"\n",
            "_________________________________________________________________\n",
            " Layer (type)                Output Shape              Param #   \n",
            "=================================================================\n",
            " input_5 (InputLayer)        [(None, 925)]             0         \n",
            "                                                                 \n",
            " embedding (Embedding)       (None, 925, 300)          12000000  \n",
            "                                                                 \n",
            " dropout_4 (Dropout)         (None, 925, 300)          0         \n",
            "                                                                 \n",
            " conv1d_4 (Conv1D)           (None, 307, 128)          268928    \n",
            "                                                                 \n",
            " global_max_pooling1d_2 (Glo  (None, 128)              0         \n",
            " balMaxPooling1D)                                                \n",
            "                                                                 \n",
            " dense_8 (Dense)             (None, 64)                8256      \n",
            "                                                                 \n",
            " dropout_5 (Dropout)         (None, 64)                0         \n",
            "                                                                 \n",
            " dense_9 (Dense)             (None, 55)                3575      \n",
            "                                                                 \n",
            "=================================================================\n",
            "Total params: 12,280,759\n",
            "Trainable params: 280,759\n",
            "Non-trainable params: 12,000,000\n",
            "_________________________________________________________________\n"
          ]
        }
      ],
      "source": [
        "input_ = tf.keras.layers.Input(shape=(MAX_SEQUENCE_LENGTH,))\n",
        "x = embedding_layer(input_)\n",
        "x = tf.keras.layers.Dropout(0.5)(x)\n",
        "\n",
        "# Conv1D + global max pooling\n",
        "x = tf.keras.layers.Conv1D(128, 7, padding=\"valid\",\n",
        "                           activation=\"relu\", strides=3)(x)\n",
        "x = tf.keras.layers.GlobalMaxPooling1D()(x)\n",
        "\n",
        "# We add a vanilla hidden layer:\n",
        "x = tf.keras.layers.Dense(64, activation=\"relu\")(x)\n",
        "x = tf.keras.layers.Dropout(0.33)(x)\n",
        "\n",
        "predictions = tf.keras.layers.Dense(\n",
        "    OUTPUT_SIZE_UNDER_X+1, activation=\"sigmoid\")(x)\n",
        "\n",
        "model = tf.keras.Model(input_, predictions)\n",
        "# Compile the model with F1 score metric\n",
        "model.compile(\n",
        "    optimizer='adam',  # tf.keras.optimizers.RMSprop(learning_rate=0.01),\n",
        "    loss=f1_loss,\n",
        "    metrics=[f1]\n",
        ")\n",
        "model.summary()"
      ]
    },
    {
      "cell_type": "code",
      "execution_count": 101,
      "metadata": {},
      "outputs": [],
      "source": [
        "checkpoint_filepath = './checkpoints/'"
      ]
    },
    {
      "cell_type": "code",
      "execution_count": 107,
      "metadata": {},
      "outputs": [],
      "source": [
        "# create checkpoint\n",
        "model_checkpoint_callback = tf.keras.callbacks.ModelCheckpoint(\n",
        "    filepath=checkpoint_filepath,\n",
        "    save_weights_only=True,\n",
        "    monitor='val_loss',\n",
        "    mode='min',\n",
        "    save_best_only=True\n",
        ")\n"
      ]
    },
    {
      "cell_type": "code",
      "execution_count": 111,
      "metadata": {},
      "outputs": [
        {
          "name": "stdout",
          "output_type": "stream",
          "text": [
            "Train on 3348 samples, validate on 838 samples\n",
            "Epoch 1/10\n",
            "  32/3348 [..............................] - ETA: 10s - loss: 0.9255 - f1: 0.0696"
          ]
        },
        {
          "name": "stderr",
          "output_type": "stream",
          "text": [
            "2023-04-28 10:06:47.374326: W tensorflow/c/c_api.cc:300] Operation '{name:'training_6/Adam/dense_8/bias/v/Assign' id:3371 op device:{requested: '', assigned: ''} def:{{{node training_6/Adam/dense_8/bias/v/Assign}} = AssignVariableOp[_has_manual_control_dependencies=true, dtype=DT_FLOAT, validate_shape=false](training_6/Adam/dense_8/bias/v, training_6/Adam/dense_8/bias/v/Initializer/zeros)}}' was changed by setting attribute after it was run by a session. This mutation will have no effect, and will trigger an error in the future. Either don't modify nodes after running them or create a new session.\n"
          ]
        },
        {
          "name": "stdout",
          "output_type": "stream",
          "text": [
            "3328/3348 [============================>.] - ETA: 0s - loss: 0.9131 - f1: 0.0870"
          ]
        },
        {
          "name": "stderr",
          "output_type": "stream",
          "text": [
            "2023-04-28 10:06:50.036988: W tensorflow/c/c_api.cc:300] Operation '{name:'loss_4/mul' id:3056 op device:{requested: '', assigned: ''} def:{{{node loss_4/mul}} = Mul[T=DT_FLOAT, _has_manual_control_dependencies=true](loss_4/mul/x, loss_4/dense_9_loss/value)}}' was changed by setting attribute after it was run by a session. This mutation will have no effect, and will trigger an error in the future. Either don't modify nodes after running them or create a new session.\n"
          ]
        },
        {
          "name": "stdout",
          "output_type": "stream",
          "text": [
            "WARNING:tensorflow:Can save best model only with <function f1_loss at 0x7f7aa6ebd3f0> available, skipping.\n",
            "3348/3348 [==============================] - 3s 853us/sample - loss: 0.9129 - f1: 0.0872 - val_loss: 0.9033 - val_f1: 0.0860\n",
            "Epoch 2/10\n",
            "3296/3348 [============================>.] - ETA: 0s - loss: 0.8918 - f1: 0.1145WARNING:tensorflow:Can save best model only with <function f1_loss at 0x7f7aa6ebd3f0> available, skipping.\n",
            "3348/3348 [==============================] - 3s 811us/sample - loss: 0.8914 - f1: 0.1150 - val_loss: 0.8994 - val_f1: 0.0977\n",
            "Epoch 3/10\n",
            "3328/3348 [============================>.] - ETA: 0s - loss: 0.8652 - f1: 0.1386WARNING:tensorflow:Can save best model only with <function f1_loss at 0x7f7aa6ebd3f0> available, skipping.\n",
            "3348/3348 [==============================] - 3s 809us/sample - loss: 0.8653 - f1: 0.1384 - val_loss: 0.8936 - val_f1: 0.1102\n",
            "Epoch 4/10\n",
            "3348/3348 [==============================] - ETA: 0s - loss: 0.8520 - f1: 0.1518WARNING:tensorflow:Can save best model only with <function f1_loss at 0x7f7aa6ebd3f0> available, skipping.\n",
            "3348/3348 [==============================] - 3s 812us/sample - loss: 0.8520 - f1: 0.1518 - val_loss: 0.8844 - val_f1: 0.1134\n",
            "Epoch 5/10\n",
            "3296/3348 [============================>.] - ETA: 0s - loss: 0.8440 - f1: 0.1593WARNING:tensorflow:Can save best model only with <function f1_loss at 0x7f7aa6ebd3f0> available, skipping.\n",
            "3348/3348 [==============================] - 3s 802us/sample - loss: 0.8443 - f1: 0.1588 - val_loss: 0.8888 - val_f1: 0.1102\n",
            "Epoch 6/10\n",
            "3328/3348 [============================>.] - ETA: 0s - loss: 0.8380 - f1: 0.1649WARNING:tensorflow:Can save best model only with <function f1_loss at 0x7f7aa6ebd3f0> available, skipping.\n",
            "3348/3348 [==============================] - 3s 809us/sample - loss: 0.8380 - f1: 0.1649 - val_loss: 0.8832 - val_f1: 0.1193\n",
            "Epoch 7/10\n",
            "3296/3348 [============================>.] - ETA: 0s - loss: 0.8329 - f1: 0.1705WARNING:tensorflow:Can save best model only with <function f1_loss at 0x7f7aa6ebd3f0> available, skipping.\n",
            "3348/3348 [==============================] - 3s 811us/sample - loss: 0.8328 - f1: 0.1707 - val_loss: 0.8782 - val_f1: 0.1270\n",
            "Epoch 8/10\n",
            "3348/3348 [==============================] - ETA: 0s - loss: 0.8255 - f1: 0.1793WARNING:tensorflow:Can save best model only with <function f1_loss at 0x7f7aa6ebd3f0> available, skipping.\n",
            "3348/3348 [==============================] - 3s 805us/sample - loss: 0.8255 - f1: 0.1793 - val_loss: 0.8725 - val_f1: 0.1332\n",
            "Epoch 9/10\n",
            "3328/3348 [============================>.] - ETA: 0s - loss: 0.8208 - f1: 0.1833WARNING:tensorflow:Can save best model only with <function f1_loss at 0x7f7aa6ebd3f0> available, skipping.\n",
            "3348/3348 [==============================] - 3s 809us/sample - loss: 0.8210 - f1: 0.1831 - val_loss: 0.8725 - val_f1: 0.1304\n",
            "Epoch 10/10\n",
            "3348/3348 [==============================] - ETA: 0s - loss: 0.8121 - f1: 0.1928WARNING:tensorflow:Can save best model only with <function f1_loss at 0x7f7aa6ebd3f0> available, skipping.\n",
            "3348/3348 [==============================] - 3s 806us/sample - loss: 0.8121 - f1: 0.1928 - val_loss: 0.8703 - val_f1: 0.1328\n"
          ]
        }
      ],
      "source": [
        "# TODO : Model does not predict correctly. It only predicts 'machine learning' for every abstract with acc > 0.5 (see testing down)\n",
        "callbacks=[model_checkpoint_callback]\n",
        "history = model.fit(data, multihot_X, epochs=10, validation_split=0.2, callbacks=callbacks)\n"
      ]
    },
    {
      "cell_type": "code",
      "execution_count": 112,
      "metadata": {},
      "outputs": [
        {
          "data": {
            "image/png": "[encoded data removed]",
            "text/plain": [
              "<Figure size 1600x900 with 2 Axes>"
            ]
          },
          "metadata": {},
          "output_type": "display_data"
        }
      ],
      "source": [
        "plot_history(history, metric='f1')\n"
      ]
    },
    {
      "cell_type": "markdown",
      "metadata": {
        "id": "10mBgGZAQjps"
      },
      "source": [
        "## RNN"
      ]
    },
    {
      "cell_type": "code",
      "execution_count": 80,
      "metadata": {
        "colab": {
          "base_uri": "https://localhost:8080/"
        },
        "id": "5JLpk9g4TZ-W",
        "outputId": "dfc9b13a-d3d1-43ef-9270-e648be067348"
      },
      "outputs": [
        {
          "name": "stdout",
          "output_type": "stream",
          "text": [
            "Defaulting to user installation because normal site-packages is not writeable\n",
            "Requirement already satisfied: keras-tuner in /home/tena/.local/lib/python3.10/site-packages (1.3.5)\n",
            "Requirement already satisfied: kt-legacy in /home/tena/.local/lib/python3.10/site-packages (from keras-tuner) (1.0.5)\n",
            "Requirement already satisfied: requests in /home/tena/.local/lib/python3.10/site-packages (from keras-tuner) (2.28.2)\n",
            "Requirement already satisfied: packaging in /home/tena/.local/lib/python3.10/site-packages (from keras-tuner) (23.0)\n",
            "Requirement already satisfied: urllib3<1.27,>=1.21.1 in /home/tena/.local/lib/python3.10/site-packages (from requests->keras-tuner) (1.26.14)\n",
            "Requirement already satisfied: certifi>=2017.4.17 in /home/tena/.local/lib/python3.10/site-packages (from requests->keras-tuner) (2022.12.7)\n",
            "Requirement already satisfied: idna<4,>=2.5 in /home/tena/.local/lib/python3.10/site-packages (from requests->keras-tuner) (3.4)\n",
            "Requirement already satisfied: charset-normalizer<4,>=2 in /home/tena/.local/lib/python3.10/site-packages (from requests->keras-tuner) (3.0.1)\n"
          ]
        }
      ],
      "source": [
        "!pip install keras-tuner"
      ]
    },
    {
      "cell_type": "code",
      "execution_count": 81,
      "metadata": {
        "id": "ktD3itisTVuC"
      },
      "outputs": [],
      "source": [
        "import keras_tuner as kt"
      ]
    },
    {
      "cell_type": "markdown",
      "metadata": {
        "id": "Mae77vxUSoZb"
      },
      "source": [
        "### Keras tunner\n",
        "\n",
        "Using keras tunner, we are going to find the optimum or at least, the best combination of the model."
      ]
    },
    {
      "cell_type": "code",
      "execution_count": 82,
      "metadata": {
        "id": "1GOObpUIxy-1"
      },
      "outputs": [],
      "source": [
        "# !rm -rf fine_tuning"
      ]
    },
    {
      "cell_type": "code",
      "execution_count": 83,
      "metadata": {
        "id": "bdJBYxwwwb9k"
      },
      "outputs": [],
      "source": [
        "tf.compat.v1.disable_eager_execution()"
      ]
    },
    {
      "cell_type": "code",
      "execution_count": 84,
      "metadata": {
        "id": "l6mN1e-Gw8cO"
      },
      "outputs": [],
      "source": [
        "tf.keras.backend.clear_session()"
      ]
    },
    {
      "cell_type": "code",
      "execution_count": 114,
      "metadata": {
        "id": "zdTs8vRiS8-1"
      },
      "outputs": [],
      "source": [
        "class HyperRNN(kt.HyperModel):\n",
        "    def build(self, hp):\n",
        "        input_ = tf.keras.layers.Input(shape=(median,))\n",
        "\n",
        "        embedding_layer = tf.keras.layers.Embedding(\n",
        "            input_dim=num_words,\n",
        "            output_dim=EMBEDDING_DIM,\n",
        "            weights=[embedding_matrix],\n",
        "            input_length=MAX_SEQUENCE_LENGTH,\n",
        "            trainable=False,\n",
        "        )\n",
        "\n",
        "        emd_layer = embedding_layer(input_)\n",
        "\n",
        "        lstm_units = hp.Int('lstm_units', min_value=256, max_value=1024, step=256)\n",
        "        x = tf.keras.layers.LSTM(lstm_units)(emd_layer)\n",
        "        \n",
        "        choice = hp.Choice('add_dense_layers', range(0, 2))\n",
        "        for i in range(choice):\n",
        "            x = tf.keras.layers.Dense(\n",
        "                units=hp.Int(f'dense_layer_{i}_units', min_value=8, max_value=256, step=16),\n",
        "                activation='relu'\n",
        "            )(x)                \n",
        "    \n",
        "        if choice != 0:\n",
        "            dropout_rate = hp.Int(\n",
        "                'drop_out_val', min_value=0.2, max_value=0.8, step=0.1)\n",
        "            x = tf.keras.layers.Dropout(dropout_rate)(x)\n",
        "\n",
        "        outputs = tf.keras.layers.Dense(OUTPUT_SIZE_UNDER_X+1, activation='sigmoid')(x)\n",
        "        model = tf.keras.Model(inputs=input_, outputs=outputs)\n",
        "\n",
        "        hp_learning_rate = hp.Choice('learning_rate', values=[1e-2, 1e-3, 1e-4])\n",
        "        adam_optimizer = tf.keras.optimizers.legacy.Adam(learning_rate=hp_learning_rate)\n",
        "        model.compile(optimizer=adam_optimizer,\n",
        "                      loss=f1_loss,\n",
        "                      metrics=['accuracy', f1])\n",
        "\n",
        "        return model\n",
        "\n",
        "    def fit(self, hp, model, *args, **kwargs):\n",
        "        return model.fit(\n",
        "            *args,\n",
        "            batch_size=hp.Choice(\"batch_size\", [128, 256, 512]),\n",
        "            **kwargs,\n",
        "        )"
      ]
    },
    {
      "cell_type": "code",
      "execution_count": 115,
      "metadata": {
        "id": "uhcydVd1UqnQ"
      },
      "outputs": [
        {
          "name": "stderr",
          "output_type": "stream",
          "text": [
            "2023-04-28 10:12:39.731304: W tensorflow/c/c_api.cc:300] Operation '{name:'embedding_1/embeddings/Assign' id:531 op device:{requested: '', assigned: ''} def:{{{node embedding_1/embeddings/Assign}} = AssignVariableOp[_has_manual_control_dependencies=true, dtype=DT_FLOAT, validate_shape=false](embedding_1/embeddings, embedding_1/embeddings/Initializer/stateless_random_uniform)}}' was changed by setting attribute after it was run by a session. This mutation will have no effect, and will trigger an error in the future. Either don't modify nodes after running them or create a new session.\n"
          ]
        }
      ],
      "source": [
        "tuner = kt.Hyperband(HyperRNN(),\n",
        "                     objective=[\n",
        "                        kt.Objective('val_f1', 'max'),\n",
        "                        kt.Objective('loss', 'min')\n",
        "                    ],\n",
        "                     max_epochs=100,\n",
        "                     factor=5,\n",
        "                     directory='fine_tuning/',\n",
        "                     project_name='LSTM_with_dropout_v3')"
      ]
    },
    {
      "cell_type": "code",
      "execution_count": 116,
      "metadata": {
        "id": "8oqkIyZvYVxS"
      },
      "outputs": [],
      "source": [
        "stop_early = tf.keras.callbacks.EarlyStopping(monitor='val_loss', patience=5)"
      ]
    },
    {
      "cell_type": "code",
      "execution_count": 117,
      "metadata": {
        "colab": {
          "base_uri": "https://localhost:8080/"
        },
        "id": "PnsM1C6qYYF0",
        "outputId": "2c2da01c-5fbf-4d9d-d5f3-ecaef5d2fd04"
      },
      "outputs": [
        {
          "name": "stdout",
          "output_type": "stream",
          "text": [
            "Trial 1 Complete [00h 14m 11s]\n",
            "multi_objective: 0.8069020062685013\n",
            "\n",
            "Best multi_objective So Far: 0.8069020062685013\n",
            "Total elapsed time: 00h 14m 11s\n",
            "\n",
            "Search: Running Trial #2\n",
            "\n",
            "Value             |Best Value So Far |Hyperparameter\n",
            "768               |1024              |lstm_units\n",
            "0                 |0                 |add_dense_layers\n",
            "0.001             |0.01              |learning_rate\n",
            "128               |128               |batch_size\n",
            "4                 |4                 |tuner/epochs\n",
            "0                 |0                 |tuner/initial_epoch\n",
            "2                 |2                 |tuner/bracket\n",
            "0                 |0                 |tuner/round\n",
            "\n"
          ]
        },
        {
          "name": "stderr",
          "output_type": "stream",
          "text": [
            "2023-04-28 10:26:59.046538: W tensorflow/c/c_api.cc:300] Operation '{name:'embedding/embeddings/Assign' id:17 op device:{requested: '', assigned: ''} def:{{{node embedding/embeddings/Assign}} = AssignVariableOp[_has_manual_control_dependencies=true, dtype=DT_FLOAT, validate_shape=false](embedding/embeddings, embedding/embeddings/Initializer/stateless_random_uniform)}}' was changed by setting attribute after it was run by a session. This mutation will have no effect, and will trigger an error in the future. Either don't modify nodes after running them or create a new session.\n"
          ]
        },
        {
          "name": "stdout",
          "output_type": "stream",
          "text": [
            "Train on 3348 samples, validate on 838 samples\n"
          ]
        },
        {
          "name": "stderr",
          "output_type": "stream",
          "text": [
            "2023-04-28 10:26:59.383700: W tensorflow/c/c_api.cc:300] Operation '{name:'training/Adam/dense/kernel/v/Assign' id:823 op device:{requested: '', assigned: ''} def:{{{node training/Adam/dense/kernel/v/Assign}} = AssignVariableOp[_has_manual_control_dependencies=true, dtype=DT_FLOAT, validate_shape=false](training/Adam/dense/kernel/v, training/Adam/dense/kernel/v/Initializer/zeros)}}' was changed by setting attribute after it was run by a session. This mutation will have no effect, and will trigger an error in the future. Either don't modify nodes after running them or create a new session.\n"
          ]
        },
        {
          "name": "stdout",
          "output_type": "stream",
          "text": [
            "Epoch 1/4\n"
          ]
        },
        {
          "ename": "KeyboardInterrupt",
          "evalue": "",
          "output_type": "error",
          "traceback": [
            "\u001b[0;31m---------------------------------------------------------------------------\u001b[0m",
            "\u001b[0;31mKeyboardInterrupt\u001b[0m                         Traceback (most recent call last)",
            "\u001b[0;32m/tmp/ipykernel_386/1317376114.py\u001b[0m in \u001b[0;36m<module>\u001b[0;34m\u001b[0m\n\u001b[0;32m----> 1\u001b[0;31m \u001b[0mtuner\u001b[0m\u001b[0;34m.\u001b[0m\u001b[0msearch\u001b[0m\u001b[0;34m(\u001b[0m\u001b[0mdata\u001b[0m\u001b[0;34m,\u001b[0m \u001b[0mmultihot_X\u001b[0m\u001b[0;34m,\u001b[0m \u001b[0mepochs\u001b[0m\u001b[0;34m=\u001b[0m\u001b[0;36m50\u001b[0m\u001b[0;34m,\u001b[0m \u001b[0mvalidation_split\u001b[0m\u001b[0;34m=\u001b[0m\u001b[0;36m0.2\u001b[0m\u001b[0;34m,\u001b[0m \u001b[0mcallbacks\u001b[0m\u001b[0;34m=\u001b[0m\u001b[0;34m[\u001b[0m\u001b[0mstop_early\u001b[0m\u001b[0;34m]\u001b[0m\u001b[0;34m)\u001b[0m\u001b[0;34m\u001b[0m\u001b[0;34m\u001b[0m\u001b[0m\n\u001b[0m\u001b[1;32m      2\u001b[0m \u001b[0;34m\u001b[0m\u001b[0m\n\u001b[1;32m      3\u001b[0m \u001b[0;31m# Get the optimal hyperparameters\u001b[0m\u001b[0;34m\u001b[0m\u001b[0;34m\u001b[0m\u001b[0m\n\u001b[1;32m      4\u001b[0m \u001b[0mbest_hps\u001b[0m\u001b[0;34m=\u001b[0m\u001b[0mtuner\u001b[0m\u001b[0;34m.\u001b[0m\u001b[0mget_best_hyperparameters\u001b[0m\u001b[0;34m(\u001b[0m\u001b[0mnum_trials\u001b[0m\u001b[0;34m=\u001b[0m\u001b[0;36m1\u001b[0m\u001b[0;34m)\u001b[0m\u001b[0;34m[\u001b[0m\u001b[0;36m0\u001b[0m\u001b[0;34m]\u001b[0m\u001b[0;34m\u001b[0m\u001b[0;34m\u001b[0m\u001b[0m\n\u001b[1;32m      5\u001b[0m \u001b[0;34m\u001b[0m\u001b[0m\n",
            "\u001b[0;32m~/.local/lib/python3.10/site-packages/keras_tuner/engine/base_tuner.py\u001b[0m in \u001b[0;36msearch\u001b[0;34m(self, *fit_args, **fit_kwargs)\u001b[0m\n\u001b[1;32m    228\u001b[0m \u001b[0;34m\u001b[0m\u001b[0m\n\u001b[1;32m    229\u001b[0m             \u001b[0mself\u001b[0m\u001b[0;34m.\u001b[0m\u001b[0mon_trial_begin\u001b[0m\u001b[0;34m(\u001b[0m\u001b[0mtrial\u001b[0m\u001b[0;34m)\u001b[0m\u001b[0;34m\u001b[0m\u001b[0;34m\u001b[0m\u001b[0m\n\u001b[0;32m--> 230\u001b[0;31m             \u001b[0mself\u001b[0m\u001b[0;34m.\u001b[0m\u001b[0m_try_run_and_update_trial\u001b[0m\u001b[0;34m(\u001b[0m\u001b[0mtrial\u001b[0m\u001b[0;34m,\u001b[0m \u001b[0;34m*\u001b[0m\u001b[0mfit_args\u001b[0m\u001b[0;34m,\u001b[0m \u001b[0;34m**\u001b[0m\u001b[0mfit_kwargs\u001b[0m\u001b[0;34m)\u001b[0m\u001b[0;34m\u001b[0m\u001b[0;34m\u001b[0m\u001b[0m\n\u001b[0m\u001b[1;32m    231\u001b[0m             \u001b[0mself\u001b[0m\u001b[0;34m.\u001b[0m\u001b[0mon_trial_end\u001b[0m\u001b[0;34m(\u001b[0m\u001b[0mtrial\u001b[0m\u001b[0;34m)\u001b[0m\u001b[0;34m\u001b[0m\u001b[0;34m\u001b[0m\u001b[0m\n\u001b[1;32m    232\u001b[0m         \u001b[0mself\u001b[0m\u001b[0;34m.\u001b[0m\u001b[0mon_search_end\u001b[0m\u001b[0;34m(\u001b[0m\u001b[0;34m)\u001b[0m\u001b[0;34m\u001b[0m\u001b[0;34m\u001b[0m\u001b[0m\n",
            "\u001b[0;32m~/.local/lib/python3.10/site-packages/keras_tuner/engine/base_tuner.py\u001b[0m in \u001b[0;36m_try_run_and_update_trial\u001b[0;34m(self, trial, *fit_args, **fit_kwargs)\u001b[0m\n\u001b[1;32m    268\u001b[0m     \u001b[0;32mdef\u001b[0m \u001b[0m_try_run_and_update_trial\u001b[0m\u001b[0;34m(\u001b[0m\u001b[0mself\u001b[0m\u001b[0;34m,\u001b[0m \u001b[0mtrial\u001b[0m\u001b[0;34m,\u001b[0m \u001b[0;34m*\u001b[0m\u001b[0mfit_args\u001b[0m\u001b[0;34m,\u001b[0m \u001b[0;34m**\u001b[0m\u001b[0mfit_kwargs\u001b[0m\u001b[0;34m)\u001b[0m\u001b[0;34m:\u001b[0m\u001b[0;34m\u001b[0m\u001b[0;34m\u001b[0m\u001b[0m\n\u001b[1;32m    269\u001b[0m         \u001b[0;32mtry\u001b[0m\u001b[0;34m:\u001b[0m\u001b[0;34m\u001b[0m\u001b[0;34m\u001b[0m\u001b[0m\n\u001b[0;32m--> 270\u001b[0;31m             \u001b[0mself\u001b[0m\u001b[0;34m.\u001b[0m\u001b[0m_run_and_update_trial\u001b[0m\u001b[0;34m(\u001b[0m\u001b[0mtrial\u001b[0m\u001b[0;34m,\u001b[0m \u001b[0;34m*\u001b[0m\u001b[0mfit_args\u001b[0m\u001b[0;34m,\u001b[0m \u001b[0;34m**\u001b[0m\u001b[0mfit_kwargs\u001b[0m\u001b[0;34m)\u001b[0m\u001b[0;34m\u001b[0m\u001b[0;34m\u001b[0m\u001b[0m\n\u001b[0m\u001b[1;32m    271\u001b[0m             \u001b[0mtrial\u001b[0m\u001b[0;34m.\u001b[0m\u001b[0mstatus\u001b[0m \u001b[0;34m=\u001b[0m \u001b[0mtrial_module\u001b[0m\u001b[0;34m.\u001b[0m\u001b[0mTrialStatus\u001b[0m\u001b[0;34m.\u001b[0m\u001b[0mCOMPLETED\u001b[0m\u001b[0;34m\u001b[0m\u001b[0;34m\u001b[0m\u001b[0m\n\u001b[1;32m    272\u001b[0m             \u001b[0;32mreturn\u001b[0m\u001b[0;34m\u001b[0m\u001b[0;34m\u001b[0m\u001b[0m\n",
            "\u001b[0;32m~/.local/lib/python3.10/site-packages/keras_tuner/engine/base_tuner.py\u001b[0m in \u001b[0;36m_run_and_update_trial\u001b[0;34m(self, trial, *fit_args, **fit_kwargs)\u001b[0m\n\u001b[1;32m    233\u001b[0m \u001b[0;34m\u001b[0m\u001b[0m\n\u001b[1;32m    234\u001b[0m     \u001b[0;32mdef\u001b[0m \u001b[0m_run_and_update_trial\u001b[0m\u001b[0;34m(\u001b[0m\u001b[0mself\u001b[0m\u001b[0;34m,\u001b[0m \u001b[0mtrial\u001b[0m\u001b[0;34m,\u001b[0m \u001b[0;34m*\u001b[0m\u001b[0mfit_args\u001b[0m\u001b[0;34m,\u001b[0m \u001b[0;34m**\u001b[0m\u001b[0mfit_kwargs\u001b[0m\u001b[0;34m)\u001b[0m\u001b[0;34m:\u001b[0m\u001b[0;34m\u001b[0m\u001b[0;34m\u001b[0m\u001b[0m\n\u001b[0;32m--> 235\u001b[0;31m         \u001b[0mresults\u001b[0m \u001b[0;34m=\u001b[0m \u001b[0mself\u001b[0m\u001b[0;34m.\u001b[0m\u001b[0mrun_trial\u001b[0m\u001b[0;34m(\u001b[0m\u001b[0mtrial\u001b[0m\u001b[0;34m,\u001b[0m \u001b[0;34m*\u001b[0m\u001b[0mfit_args\u001b[0m\u001b[0;34m,\u001b[0m \u001b[0;34m**\u001b[0m\u001b[0mfit_kwargs\u001b[0m\u001b[0;34m)\u001b[0m\u001b[0;34m\u001b[0m\u001b[0;34m\u001b[0m\u001b[0m\n\u001b[0m\u001b[1;32m    236\u001b[0m         if self.oracle.get_trial(trial.trial_id).metrics.exists(\n\u001b[1;32m    237\u001b[0m             \u001b[0mself\u001b[0m\u001b[0;34m.\u001b[0m\u001b[0moracle\u001b[0m\u001b[0;34m.\u001b[0m\u001b[0mobjective\u001b[0m\u001b[0;34m.\u001b[0m\u001b[0mname\u001b[0m\u001b[0;34m\u001b[0m\u001b[0;34m\u001b[0m\u001b[0m\n",
            "\u001b[0;32m~/.local/lib/python3.10/site-packages/keras_tuner/tuners/hyperband.py\u001b[0m in \u001b[0;36mrun_trial\u001b[0;34m(self, trial, *fit_args, **fit_kwargs)\u001b[0m\n\u001b[1;32m    423\u001b[0m             \u001b[0mfit_kwargs\u001b[0m\u001b[0;34m[\u001b[0m\u001b[0;34m\"epochs\"\u001b[0m\u001b[0;34m]\u001b[0m \u001b[0;34m=\u001b[0m \u001b[0mhp\u001b[0m\u001b[0;34m.\u001b[0m\u001b[0mvalues\u001b[0m\u001b[0;34m[\u001b[0m\u001b[0;34m\"tuner/epochs\"\u001b[0m\u001b[0;34m]\u001b[0m\u001b[0;34m\u001b[0m\u001b[0;34m\u001b[0m\u001b[0m\n\u001b[1;32m    424\u001b[0m             \u001b[0mfit_kwargs\u001b[0m\u001b[0;34m[\u001b[0m\u001b[0;34m\"initial_epoch\"\u001b[0m\u001b[0;34m]\u001b[0m \u001b[0;34m=\u001b[0m \u001b[0mhp\u001b[0m\u001b[0;34m.\u001b[0m\u001b[0mvalues\u001b[0m\u001b[0;34m[\u001b[0m\u001b[0;34m\"tuner/initial_epoch\"\u001b[0m\u001b[0;34m]\u001b[0m\u001b[0;34m\u001b[0m\u001b[0;34m\u001b[0m\u001b[0m\n\u001b[0;32m--> 425\u001b[0;31m         \u001b[0;32mreturn\u001b[0m \u001b[0msuper\u001b[0m\u001b[0;34m(\u001b[0m\u001b[0;34m)\u001b[0m\u001b[0;34m.\u001b[0m\u001b[0mrun_trial\u001b[0m\u001b[0;34m(\u001b[0m\u001b[0mtrial\u001b[0m\u001b[0;34m,\u001b[0m \u001b[0;34m*\u001b[0m\u001b[0mfit_args\u001b[0m\u001b[0;34m,\u001b[0m \u001b[0;34m**\u001b[0m\u001b[0mfit_kwargs\u001b[0m\u001b[0;34m)\u001b[0m\u001b[0;34m\u001b[0m\u001b[0;34m\u001b[0m\u001b[0m\n\u001b[0m\u001b[1;32m    426\u001b[0m \u001b[0;34m\u001b[0m\u001b[0m\n\u001b[1;32m    427\u001b[0m     \u001b[0;32mdef\u001b[0m \u001b[0m_build_hypermodel\u001b[0m\u001b[0;34m(\u001b[0m\u001b[0mself\u001b[0m\u001b[0;34m,\u001b[0m \u001b[0mhp\u001b[0m\u001b[0;34m)\u001b[0m\u001b[0;34m:\u001b[0m\u001b[0;34m\u001b[0m\u001b[0;34m\u001b[0m\u001b[0m\n",
            "\u001b[0;32m~/.local/lib/python3.10/site-packages/keras_tuner/engine/tuner.py\u001b[0m in \u001b[0;36mrun_trial\u001b[0;34m(self, trial, *args, **kwargs)\u001b[0m\n\u001b[1;32m    285\u001b[0m             \u001b[0mcallbacks\u001b[0m\u001b[0;34m.\u001b[0m\u001b[0mappend\u001b[0m\u001b[0;34m(\u001b[0m\u001b[0mmodel_checkpoint\u001b[0m\u001b[0;34m)\u001b[0m\u001b[0;34m\u001b[0m\u001b[0;34m\u001b[0m\u001b[0m\n\u001b[1;32m    286\u001b[0m             \u001b[0mcopied_kwargs\u001b[0m\u001b[0;34m[\u001b[0m\u001b[0;34m\"callbacks\"\u001b[0m\u001b[0;34m]\u001b[0m \u001b[0;34m=\u001b[0m \u001b[0mcallbacks\u001b[0m\u001b[0;34m\u001b[0m\u001b[0;34m\u001b[0m\u001b[0m\n\u001b[0;32m--> 287\u001b[0;31m             \u001b[0mobj_value\u001b[0m \u001b[0;34m=\u001b[0m \u001b[0mself\u001b[0m\u001b[0;34m.\u001b[0m\u001b[0m_build_and_fit_model\u001b[0m\u001b[0;34m(\u001b[0m\u001b[0mtrial\u001b[0m\u001b[0;34m,\u001b[0m \u001b[0;34m*\u001b[0m\u001b[0margs\u001b[0m\u001b[0;34m,\u001b[0m \u001b[0;34m**\u001b[0m\u001b[0mcopied_kwargs\u001b[0m\u001b[0;34m)\u001b[0m\u001b[0;34m\u001b[0m\u001b[0;34m\u001b[0m\u001b[0m\n\u001b[0m\u001b[1;32m    288\u001b[0m \u001b[0;34m\u001b[0m\u001b[0m\n\u001b[1;32m    289\u001b[0m             \u001b[0mhistories\u001b[0m\u001b[0;34m.\u001b[0m\u001b[0mappend\u001b[0m\u001b[0;34m(\u001b[0m\u001b[0mobj_value\u001b[0m\u001b[0;34m)\u001b[0m\u001b[0;34m\u001b[0m\u001b[0;34m\u001b[0m\u001b[0m\n",
            "\u001b[0;32m~/.local/lib/python3.10/site-packages/keras_tuner/engine/tuner.py\u001b[0m in \u001b[0;36m_build_and_fit_model\u001b[0;34m(self, trial, *args, **kwargs)\u001b[0m\n\u001b[1;32m    212\u001b[0m         \u001b[0mhp\u001b[0m \u001b[0;34m=\u001b[0m \u001b[0mtrial\u001b[0m\u001b[0;34m.\u001b[0m\u001b[0mhyperparameters\u001b[0m\u001b[0;34m\u001b[0m\u001b[0;34m\u001b[0m\u001b[0m\n\u001b[1;32m    213\u001b[0m         \u001b[0mmodel\u001b[0m \u001b[0;34m=\u001b[0m \u001b[0mself\u001b[0m\u001b[0;34m.\u001b[0m\u001b[0m_try_build\u001b[0m\u001b[0;34m(\u001b[0m\u001b[0mhp\u001b[0m\u001b[0;34m)\u001b[0m\u001b[0;34m\u001b[0m\u001b[0;34m\u001b[0m\u001b[0m\n\u001b[0;32m--> 214\u001b[0;31m         \u001b[0mresults\u001b[0m \u001b[0;34m=\u001b[0m \u001b[0mself\u001b[0m\u001b[0;34m.\u001b[0m\u001b[0mhypermodel\u001b[0m\u001b[0;34m.\u001b[0m\u001b[0mfit\u001b[0m\u001b[0;34m(\u001b[0m\u001b[0mhp\u001b[0m\u001b[0;34m,\u001b[0m \u001b[0mmodel\u001b[0m\u001b[0;34m,\u001b[0m \u001b[0;34m*\u001b[0m\u001b[0margs\u001b[0m\u001b[0;34m,\u001b[0m \u001b[0;34m**\u001b[0m\u001b[0mkwargs\u001b[0m\u001b[0;34m)\u001b[0m\u001b[0;34m\u001b[0m\u001b[0;34m\u001b[0m\u001b[0m\n\u001b[0m\u001b[1;32m    215\u001b[0m         tuner_utils.validate_trial_results(\n\u001b[1;32m    216\u001b[0m             \u001b[0mresults\u001b[0m\u001b[0;34m,\u001b[0m \u001b[0mself\u001b[0m\u001b[0;34m.\u001b[0m\u001b[0moracle\u001b[0m\u001b[0;34m.\u001b[0m\u001b[0mobjective\u001b[0m\u001b[0;34m,\u001b[0m \u001b[0;34m\"HyperModel.fit()\"\u001b[0m\u001b[0;34m\u001b[0m\u001b[0;34m\u001b[0m\u001b[0m\n",
            "\u001b[0;32m/tmp/ipykernel_386/3991546539.py\u001b[0m in \u001b[0;36mfit\u001b[0;34m(self, hp, model, *args, **kwargs)\u001b[0m\n\u001b[1;32m     40\u001b[0m \u001b[0;34m\u001b[0m\u001b[0m\n\u001b[1;32m     41\u001b[0m     \u001b[0;32mdef\u001b[0m \u001b[0mfit\u001b[0m\u001b[0;34m(\u001b[0m\u001b[0mself\u001b[0m\u001b[0;34m,\u001b[0m \u001b[0mhp\u001b[0m\u001b[0;34m,\u001b[0m \u001b[0mmodel\u001b[0m\u001b[0;34m,\u001b[0m \u001b[0;34m*\u001b[0m\u001b[0margs\u001b[0m\u001b[0;34m,\u001b[0m \u001b[0;34m**\u001b[0m\u001b[0mkwargs\u001b[0m\u001b[0;34m)\u001b[0m\u001b[0;34m:\u001b[0m\u001b[0;34m\u001b[0m\u001b[0;34m\u001b[0m\u001b[0m\n\u001b[0;32m---> 42\u001b[0;31m         return model.fit(\n\u001b[0m\u001b[1;32m     43\u001b[0m             \u001b[0;34m*\u001b[0m\u001b[0margs\u001b[0m\u001b[0;34m,\u001b[0m\u001b[0;34m\u001b[0m\u001b[0;34m\u001b[0m\u001b[0m\n\u001b[1;32m     44\u001b[0m             \u001b[0mbatch_size\u001b[0m\u001b[0;34m=\u001b[0m\u001b[0mhp\u001b[0m\u001b[0;34m.\u001b[0m\u001b[0mChoice\u001b[0m\u001b[0;34m(\u001b[0m\u001b[0;34m\"batch_size\"\u001b[0m\u001b[0;34m,\u001b[0m \u001b[0;34m[\u001b[0m\u001b[0;36m128\u001b[0m\u001b[0;34m,\u001b[0m \u001b[0;36m256\u001b[0m\u001b[0;34m,\u001b[0m \u001b[0;36m512\u001b[0m\u001b[0;34m]\u001b[0m\u001b[0;34m)\u001b[0m\u001b[0;34m,\u001b[0m\u001b[0;34m\u001b[0m\u001b[0;34m\u001b[0m\u001b[0m\n",
            "\u001b[0;32m~/.local/lib/python3.10/site-packages/keras/engine/training_v1.py\u001b[0m in \u001b[0;36mfit\u001b[0;34m(self, x, y, batch_size, epochs, verbose, callbacks, validation_split, validation_data, shuffle, class_weight, sample_weight, initial_epoch, steps_per_epoch, validation_steps, validation_freq, max_queue_size, workers, use_multiprocessing, **kwargs)\u001b[0m\n\u001b[1;32m    854\u001b[0m \u001b[0;34m\u001b[0m\u001b[0m\n\u001b[1;32m    855\u001b[0m         \u001b[0mfunc\u001b[0m \u001b[0;34m=\u001b[0m \u001b[0mself\u001b[0m\u001b[0;34m.\u001b[0m\u001b[0m_select_training_loop\u001b[0m\u001b[0;34m(\u001b[0m\u001b[0mx\u001b[0m\u001b[0;34m)\u001b[0m\u001b[0;34m\u001b[0m\u001b[0;34m\u001b[0m\u001b[0m\n\u001b[0;32m--> 856\u001b[0;31m         return func.fit(\n\u001b[0m\u001b[1;32m    857\u001b[0m             \u001b[0mself\u001b[0m\u001b[0;34m,\u001b[0m\u001b[0;34m\u001b[0m\u001b[0;34m\u001b[0m\u001b[0m\n\u001b[1;32m    858\u001b[0m             \u001b[0mx\u001b[0m\u001b[0;34m=\u001b[0m\u001b[0mx\u001b[0m\u001b[0;34m,\u001b[0m\u001b[0;34m\u001b[0m\u001b[0;34m\u001b[0m\u001b[0m\n",
            "\u001b[0;32m~/.local/lib/python3.10/site-packages/keras/engine/training_arrays_v1.py\u001b[0m in \u001b[0;36mfit\u001b[0;34m(self, model, x, y, batch_size, epochs, verbose, callbacks, validation_split, validation_data, shuffle, class_weight, sample_weight, initial_epoch, steps_per_epoch, validation_steps, validation_freq, **kwargs)\u001b[0m\n\u001b[1;32m    732\u001b[0m             \u001b[0mval_x\u001b[0m\u001b[0;34m,\u001b[0m \u001b[0mval_y\u001b[0m\u001b[0;34m,\u001b[0m \u001b[0mval_sample_weights\u001b[0m \u001b[0;34m=\u001b[0m \u001b[0;32mNone\u001b[0m\u001b[0;34m,\u001b[0m \u001b[0;32mNone\u001b[0m\u001b[0;34m,\u001b[0m \u001b[0;32mNone\u001b[0m\u001b[0;34m\u001b[0m\u001b[0;34m\u001b[0m\u001b[0m\n\u001b[1;32m    733\u001b[0m \u001b[0;34m\u001b[0m\u001b[0m\n\u001b[0;32m--> 734\u001b[0;31m         return fit_loop(\n\u001b[0m\u001b[1;32m    735\u001b[0m             \u001b[0mmodel\u001b[0m\u001b[0;34m,\u001b[0m\u001b[0;34m\u001b[0m\u001b[0;34m\u001b[0m\u001b[0m\n\u001b[1;32m    736\u001b[0m             \u001b[0minputs\u001b[0m\u001b[0;34m=\u001b[0m\u001b[0mx\u001b[0m\u001b[0;34m,\u001b[0m\u001b[0;34m\u001b[0m\u001b[0;34m\u001b[0m\u001b[0m\n",
            "\u001b[0;32m~/.local/lib/python3.10/site-packages/keras/engine/training_arrays_v1.py\u001b[0m in \u001b[0;36mmodel_iteration\u001b[0;34m(model, inputs, targets, sample_weights, batch_size, epochs, verbose, callbacks, val_inputs, val_targets, val_sample_weights, shuffle, initial_epoch, steps_per_epoch, validation_steps, validation_freq, mode, validation_in_fit, prepared_feed_values_from_dataset, steps_name, **kwargs)\u001b[0m\n\u001b[1;32m    419\u001b[0m \u001b[0;34m\u001b[0m\u001b[0m\n\u001b[1;32m    420\u001b[0m                 \u001b[0;31m# Get outputs.\u001b[0m\u001b[0;34m\u001b[0m\u001b[0;34m\u001b[0m\u001b[0m\n\u001b[0;32m--> 421\u001b[0;31m                 \u001b[0mbatch_outs\u001b[0m \u001b[0;34m=\u001b[0m \u001b[0mf\u001b[0m\u001b[0;34m(\u001b[0m\u001b[0mins_batch\u001b[0m\u001b[0;34m)\u001b[0m\u001b[0;34m\u001b[0m\u001b[0;34m\u001b[0m\u001b[0m\n\u001b[0m\u001b[1;32m    422\u001b[0m                 \u001b[0;32mif\u001b[0m \u001b[0;32mnot\u001b[0m \u001b[0misinstance\u001b[0m\u001b[0;34m(\u001b[0m\u001b[0mbatch_outs\u001b[0m\u001b[0;34m,\u001b[0m \u001b[0mlist\u001b[0m\u001b[0;34m)\u001b[0m\u001b[0;34m:\u001b[0m\u001b[0;34m\u001b[0m\u001b[0;34m\u001b[0m\u001b[0m\n\u001b[1;32m    423\u001b[0m                     \u001b[0mbatch_outs\u001b[0m \u001b[0;34m=\u001b[0m \u001b[0;34m[\u001b[0m\u001b[0mbatch_outs\u001b[0m\u001b[0;34m]\u001b[0m\u001b[0;34m\u001b[0m\u001b[0;34m\u001b[0m\u001b[0m\n",
            "\u001b[0;32m~/.local/lib/python3.10/site-packages/keras/backend.py\u001b[0m in \u001b[0;36m__call__\u001b[0;34m(self, inputs)\u001b[0m\n\u001b[1;32m   4606\u001b[0m             \u001b[0mself\u001b[0m\u001b[0;34m.\u001b[0m\u001b[0m_make_callable\u001b[0m\u001b[0;34m(\u001b[0m\u001b[0mfeed_arrays\u001b[0m\u001b[0;34m,\u001b[0m \u001b[0mfeed_symbols\u001b[0m\u001b[0;34m,\u001b[0m \u001b[0msymbol_vals\u001b[0m\u001b[0;34m,\u001b[0m \u001b[0msession\u001b[0m\u001b[0;34m)\u001b[0m\u001b[0;34m\u001b[0m\u001b[0;34m\u001b[0m\u001b[0m\n\u001b[1;32m   4607\u001b[0m \u001b[0;34m\u001b[0m\u001b[0m\n\u001b[0;32m-> 4608\u001b[0;31m         \u001b[0mfetched\u001b[0m \u001b[0;34m=\u001b[0m \u001b[0mself\u001b[0m\u001b[0;34m.\u001b[0m\u001b[0m_callable_fn\u001b[0m\u001b[0;34m(\u001b[0m\u001b[0;34m*\u001b[0m\u001b[0marray_vals\u001b[0m\u001b[0;34m,\u001b[0m \u001b[0mrun_metadata\u001b[0m\u001b[0;34m=\u001b[0m\u001b[0mself\u001b[0m\u001b[0;34m.\u001b[0m\u001b[0mrun_metadata\u001b[0m\u001b[0;34m)\u001b[0m\u001b[0;34m\u001b[0m\u001b[0;34m\u001b[0m\u001b[0m\n\u001b[0m\u001b[1;32m   4609\u001b[0m         \u001b[0mself\u001b[0m\u001b[0;34m.\u001b[0m\u001b[0m_call_fetch_callbacks\u001b[0m\u001b[0;34m(\u001b[0m\u001b[0mfetched\u001b[0m\u001b[0;34m[\u001b[0m\u001b[0;34m-\u001b[0m\u001b[0mlen\u001b[0m\u001b[0;34m(\u001b[0m\u001b[0mself\u001b[0m\u001b[0;34m.\u001b[0m\u001b[0m_fetches\u001b[0m\u001b[0;34m)\u001b[0m \u001b[0;34m:\u001b[0m\u001b[0;34m]\u001b[0m\u001b[0;34m)\u001b[0m\u001b[0;34m\u001b[0m\u001b[0;34m\u001b[0m\u001b[0m\n\u001b[1;32m   4610\u001b[0m         output_structure = tf.nest.pack_sequence_as(\n",
            "\u001b[0;32m~/.local/lib/python3.10/site-packages/tensorflow/python/client/session.py\u001b[0m in \u001b[0;36m__call__\u001b[0;34m(self, *args, **kwargs)\u001b[0m\n\u001b[1;32m   1479\u001b[0m       \u001b[0;32mtry\u001b[0m\u001b[0;34m:\u001b[0m\u001b[0;34m\u001b[0m\u001b[0;34m\u001b[0m\u001b[0m\n\u001b[1;32m   1480\u001b[0m         \u001b[0mrun_metadata_ptr\u001b[0m \u001b[0;34m=\u001b[0m \u001b[0mtf_session\u001b[0m\u001b[0;34m.\u001b[0m\u001b[0mTF_NewBuffer\u001b[0m\u001b[0;34m(\u001b[0m\u001b[0;34m)\u001b[0m \u001b[0;32mif\u001b[0m \u001b[0mrun_metadata\u001b[0m \u001b[0;32melse\u001b[0m \u001b[0;32mNone\u001b[0m\u001b[0;34m\u001b[0m\u001b[0;34m\u001b[0m\u001b[0m\n\u001b[0;32m-> 1481\u001b[0;31m         ret = tf_session.TF_SessionRunCallable(self._session._session,\n\u001b[0m\u001b[1;32m   1482\u001b[0m                                                \u001b[0mself\u001b[0m\u001b[0;34m.\u001b[0m\u001b[0m_handle\u001b[0m\u001b[0;34m,\u001b[0m \u001b[0margs\u001b[0m\u001b[0;34m,\u001b[0m\u001b[0;34m\u001b[0m\u001b[0;34m\u001b[0m\u001b[0m\n\u001b[1;32m   1483\u001b[0m                                                run_metadata_ptr)\n",
            "\u001b[0;31mKeyboardInterrupt\u001b[0m: "
          ]
        }
      ],
      "source": [
        "tuner.search(data, multihot_X, epochs=50, validation_split=0.2, callbacks=[stop_early])\n",
        "\n",
        "# Get the optimal hyperparameters\n",
        "best_hps=tuner.get_best_hyperparameters(num_trials=1)[0]\n",
        "\n",
        "print(f\"\"\"\n",
        "The hyperparameter search is complete. The optimal learning rate for the optimizer\n",
        "is {best_hps.get('learning_rate')}.\n",
        "\"\"\")"
      ]
    },
    {
      "cell_type": "code",
      "execution_count": 118,
      "metadata": {},
      "outputs": [
        {
          "name": "stderr",
          "output_type": "stream",
          "text": [
            "2023-04-28 10:27:31.992196: W tensorflow/c/c_api.cc:300] Operation '{name:'embedding/embeddings/Assign' id:17 op device:{requested: '', assigned: ''} def:{{{node embedding/embeddings/Assign}} = AssignVariableOp[_has_manual_control_dependencies=true, dtype=DT_FLOAT, validate_shape=false](embedding/embeddings, embedding/embeddings/Initializer/stateless_random_uniform)}}' was changed by setting attribute after it was run by a session. This mutation will have no effect, and will trigger an error in the future. Either don't modify nodes after running them or create a new session.\n",
            "2023-04-28 10:27:32.194652: W tensorflow/c/c_api.cc:300] Operation '{name:'total_1/Assign' id:327 op device:{requested: '', assigned: ''} def:{{{node total_1/Assign}} = AssignVariableOp[_has_manual_control_dependencies=true, dtype=DT_FLOAT, validate_shape=false](total_1, total_1/Initializer/zeros)}}' was changed by setting attribute after it was run by a session. This mutation will have no effect, and will trigger an error in the future. Either don't modify nodes after running them or create a new session.\n"
          ]
        },
        {
          "name": "stdout",
          "output_type": "stream",
          "text": [
            "Model: \"model\"\n",
            "_________________________________________________________________\n",
            " Layer (type)                Output Shape              Param #   \n",
            "=================================================================\n",
            " input_1 (InputLayer)        [(None, 925)]             0         \n",
            "                                                                 \n",
            " embedding (Embedding)       (None, 925, 300)          12000000  \n",
            "                                                                 \n",
            " lstm (LSTM)                 (None, 1024)              5427200   \n",
            "                                                                 \n",
            " dense (Dense)               (None, 55)                56375     \n",
            "                                                                 \n",
            "=================================================================\n",
            "Total params: 17,483,575\n",
            "Trainable params: 5,483,575\n",
            "Non-trainable params: 12,000,000\n",
            "_________________________________________________________________\n"
          ]
        }
      ],
      "source": [
        "not_best_model = tuner.get_best_models()[0]\n",
        "not_best_model.summary()"
      ]
    },
    {
      "cell_type": "code",
      "execution_count": 119,
      "metadata": {},
      "outputs": [],
      "source": [
        "best_hps = tuner.get_best_hyperparameters()[0]"
      ]
    },
    {
      "cell_type": "code",
      "execution_count": 120,
      "metadata": {},
      "outputs": [
        {
          "data": {
            "text/plain": [
              "[Int(name: 'lstm_units', min_value: 256, max_value: 1024, step: 256, sampling: linear, default: 256),\n",
              " Choice(name: 'add_dense_layers', values: [0, 1], ordered: True, default: 0),\n",
              " Choice(name: 'learning_rate', values: [0.01, 0.001, 0.0001], ordered: True, default: 0.01),\n",
              " Choice(name: 'batch_size', values: [128, 256, 512], ordered: True, default: 128)]"
            ]
          },
          "execution_count": 120,
          "metadata": {},
          "output_type": "execute_result"
        }
      ],
      "source": [
        "best_hps.space\n"
      ]
    },
    {
      "cell_type": "code",
      "execution_count": 96,
      "metadata": {},
      "outputs": [
        {
          "name": "stderr",
          "output_type": "stream",
          "text": [
            "2023-04-28 09:47:31.400634: W tensorflow/c/c_api.cc:300] Operation '{name:'embedding_1/embeddings/Assign' id:531 op device:{requested: '', assigned: ''} def:{{{node embedding_1/embeddings/Assign}} = AssignVariableOp[_has_manual_control_dependencies=true, dtype=DT_FLOAT, validate_shape=false](embedding_1/embeddings, embedding_1/embeddings/Initializer/stateless_random_uniform)}}' was changed by setting attribute after it was run by a session. This mutation will have no effect, and will trigger an error in the future. Either don't modify nodes after running them or create a new session.\n"
          ]
        }
      ],
      "source": [
        "model = tuner.hypermodel.build(best_hps)\n"
      ]
    },
    {
      "cell_type": "code",
      "execution_count": 97,
      "metadata": {},
      "outputs": [
        {
          "name": "stdout",
          "output_type": "stream",
          "text": [
            "Train on 3348 samples, validate on 838 samples\n",
            "Epoch 1/10\n"
          ]
        },
        {
          "name": "stderr",
          "output_type": "stream",
          "text": [
            "2023-04-28 09:47:36.075947: W tensorflow/c/c_api.cc:300] Operation '{name:'training/Adam/dense_3/bias/v/Assign' id:1388 op device:{requested: '', assigned: ''} def:{{{node training/Adam/dense_3/bias/v/Assign}} = AssignVariableOp[_has_manual_control_dependencies=true, dtype=DT_FLOAT, validate_shape=false](training/Adam/dense_3/bias/v, training/Adam/dense_3/bias/v/Initializer/zeros)}}' was changed by setting attribute after it was run by a session. This mutation will have no effect, and will trigger an error in the future. Either don't modify nodes after running them or create a new session.\n"
          ]
        },
        {
          "name": "stdout",
          "output_type": "stream",
          "text": [
            "3348/3348 [==============================] - ETA: 0s - loss: 0.9104 - accuracy: 0.0863 - f1: 0.0880"
          ]
        },
        {
          "name": "stderr",
          "output_type": "stream",
          "text": [
            "/home/tena/.local/lib/python3.10/site-packages/keras/engine/training_v1.py:2335: UserWarning: `Model.state_updates` will be removed in a future version. This property should not be used in TensorFlow 2.0, as `updates` are applied automatically.\n",
            "  updates = self.state_updates\n",
            "2023-04-28 09:48:29.702813: W tensorflow/c/c_api.cc:300] Operation '{name:'loss_1/mul' id:999 op device:{requested: '', assigned: ''} def:{{{node loss_1/mul}} = Mul[T=DT_FLOAT, _has_manual_control_dependencies=true](loss_1/mul/x, loss_1/dense_3_loss/value)}}' was changed by setting attribute after it was run by a session. This mutation will have no effect, and will trigger an error in the future. Either don't modify nodes after running them or create a new session.\n"
          ]
        },
        {
          "name": "stdout",
          "output_type": "stream",
          "text": [
            "3348/3348 [==============================] - 59s 18ms/sample - loss: 0.9104 - accuracy: 0.0863 - f1: 0.0880 - val_loss: 0.8991 - val_accuracy: 0.4129 - val_f1: 0.1005\n",
            "Epoch 2/10\n",
            "3348/3348 [==============================] - 59s 18ms/sample - loss: 0.8909 - accuracy: 0.0263 - f1: 0.1095 - val_loss: 0.9008 - val_accuracy: 0.0024 - val_f1: 0.0993\n",
            "Epoch 3/10\n",
            "3348/3348 [==============================] - 59s 17ms/sample - loss: 0.8771 - accuracy: 0.0227 - f1: 0.1233 - val_loss: 0.8984 - val_accuracy: 0.0179 - val_f1: 0.1015\n",
            "Epoch 4/10\n",
            "3348/3348 [==============================] - 59s 18ms/sample - loss: 0.8744 - accuracy: 0.0122 - f1: 0.1257 - val_loss: 0.8982 - val_accuracy: 0.0048 - val_f1: 0.1010\n",
            "Epoch 5/10\n",
            "3348/3348 [==============================] - 57s 17ms/sample - loss: 0.8723 - accuracy: 0.0544 - f1: 0.1282 - val_loss: 0.8967 - val_accuracy: 0.1551 - val_f1: 0.1011\n",
            "Epoch 6/10\n",
            "3348/3348 [==============================] - 58s 17ms/sample - loss: 0.8707 - accuracy: 0.1314 - f1: 0.1296 - val_loss: 0.8972 - val_accuracy: 0.3616 - val_f1: 0.1033\n",
            "Epoch 7/10\n",
            "3348/3348 [==============================] - 58s 17ms/sample - loss: 0.8675 - accuracy: 0.1159 - f1: 0.1328 - val_loss: 0.8972 - val_accuracy: 0.2578 - val_f1: 0.1022\n",
            "Epoch 8/10\n",
            "3348/3348 [==============================] - 58s 17ms/sample - loss: 0.8653 - accuracy: 0.1129 - f1: 0.1348 - val_loss: 0.8969 - val_accuracy: 0.1599 - val_f1: 0.1024\n",
            "Epoch 9/10\n",
            "3348/3348 [==============================] - 58s 17ms/sample - loss: 0.8619 - accuracy: 0.1045 - f1: 0.1378 - val_loss: 0.9040 - val_accuracy: 0.2399 - val_f1: 0.0956\n",
            "Epoch 10/10\n",
            "3348/3348 [==============================] - 59s 18ms/sample - loss: 0.8607 - accuracy: 0.0681 - f1: 0.1397 - val_loss: 0.8989 - val_accuracy: 0.0263 - val_f1: 0.1006\n"
          ]
        }
      ],
      "source": [
        "history_best_model = model.fit(data, multihot_X, validation_split=0.2 ,epochs=10)"
      ]
    },
    {
      "cell_type": "code",
      "execution_count": 98,
      "metadata": {},
      "outputs": [
        {
          "data": {
            "image/png": "[encoded data removed]",
            "text/plain": [
              "<Figure size 1600x900 with 2 Axes>"
            ]
          },
          "metadata": {},
          "output_type": "display_data"
        }
      ],
      "source": [
        "plot_history(history_best_model, metric='f1')\n"
      ]
    },
    {
      "cell_type": "code",
      "execution_count": null,
      "metadata": {
        "colab": {
          "base_uri": "https://localhost:8080/"
        },
        "id": "Apzdj7ySqzWe",
        "outputId": "5aa8d624-168f-46e8-dcf6-628d35b1016e"
      },
      "outputs": [],
      "source": [
        "!zip -r fine_tuning.zip /content/fine_tuning"
      ]
    },
    {
      "cell_type": "code",
      "execution_count": null,
      "metadata": {
        "colab": {
          "base_uri": "https://localhost:8080/",
          "height": 34
        },
        "id": "KFkbIeP8rDr1",
        "outputId": "1a0f5e4c-d819-4cf6-adf9-7f6e84810705"
      },
      "outputs": [],
      "source": [
        "from google.colab import files\n",
        "files.download(\"fine_tuning.zip\")"
      ]
    },
    {
      "cell_type": "markdown",
      "metadata": {
        "id": "fbbYnVkcqROn"
      },
      "source": [
        "### With LSTM"
      ]
    },
    {
      "cell_type": "code",
      "execution_count": null,
      "metadata": {
        "colab": {
          "base_uri": "https://localhost:8080/"
        },
        "id": "tRFWz1HVqTiF",
        "outputId": "0f89ec20-f620-4741-fcf0-0bc1775e23ff"
      },
      "outputs": [],
      "source": [
        "from keras import layers\n",
        "\n",
        "rnn_lstm = tf.keras.Sequential()\n",
        "\n",
        "rnn_lstm.add(embedding_layer)\n",
        "\n",
        "rnn_lstm.add(layers.LSTM(150))\n",
        "rnn_lstm.add(layers.Dropout(0.5))\n",
        "rnn_lstm.add(layers.Dense(OUTPUT_SIZE_UNDER_X+1, activation='sigmoid'))\n",
        "\n",
        "rnn_lstm.summary()"
      ]
    },
    {
      "cell_type": "code",
      "execution_count": null,
      "metadata": {
        "id": "3K2Xnk13qhZB"
      },
      "outputs": [],
      "source": [
        "# Compile the model with F1 score metric\n",
        "rnn_lstm.compile(\n",
        "    optimizer='adam', #tf.keras.optimizers.RMSprop(learning_rate=0.01),\n",
        "    loss=f1_loss,\n",
        "    metrics=['accuracy', f1]\n",
        ")"
      ]
    },
    {
      "cell_type": "code",
      "execution_count": null,
      "metadata": {
        "colab": {
          "base_uri": "https://localhost:8080/"
        },
        "id": "wXUG1BISqisH",
        "outputId": "dda6b9a5-9142-47af-c957-b8a151cdd68c"
      },
      "outputs": [],
      "source": [
        "history_rnn_lstm = rnn_lstm.fit(data, multihot_X, validation_split=0.2 ,epochs=10)"
      ]
    },
    {
      "cell_type": "code",
      "execution_count": null,
      "metadata": {
        "colab": {
          "base_uri": "https://localhost:8080/",
          "height": 800
        },
        "id": "DlUJsAsorOH8",
        "outputId": "a7daab7d-11ec-4fd9-d8c2-26506d5b0c9c"
      },
      "outputs": [],
      "source": [
        "plot_history(history_rnn_lstm, metric='f1')"
      ]
    },
    {
      "cell_type": "markdown",
      "metadata": {
        "id": "yd86QXosqNdR"
      },
      "source": [
        "### With GRU"
      ]
    },
    {
      "cell_type": "code",
      "execution_count": null,
      "metadata": {
        "colab": {
          "base_uri": "https://localhost:8080/"
        },
        "id": "Ism4hnlek-If",
        "outputId": "9f3ad878-8ba4-4ac0-a67d-62a81cefac6f"
      },
      "outputs": [],
      "source": [
        "from keras import layers\n",
        "\n",
        "rnn = tf.keras.Sequential()\n",
        "\n",
        "rnn.add(embedding_layer)\n",
        "\n",
        "rnn.add(layers.GRU(128))\n",
        "rnn.add(layers.Dropout(0.5))\n",
        "rnn.add(layers.Dense(OUTPUT_SIZE_UNDER_X+1, activation='sigmoid'))\n",
        "\n",
        "rnn.summary()"
      ]
    },
    {
      "cell_type": "code",
      "execution_count": null,
      "metadata": {
        "id": "oa3-DH35lDHB"
      },
      "outputs": [],
      "source": [
        "# Compile the model with F1 score metric\n",
        "rnn.compile(\n",
        "    optimizer='adam', #tf.keras.optimizers.RMSprop(learning_rate=0.01),\n",
        "    loss=f1_loss,\n",
        "    metrics=['accuracy', f1]\n",
        ")"
      ]
    },
    {
      "cell_type": "code",
      "execution_count": null,
      "metadata": {
        "colab": {
          "base_uri": "https://localhost:8080/"
        },
        "id": "VTAhGEEMlEj9",
        "outputId": "57210831-fbea-4cf9-a8b5-264405fbcf48"
      },
      "outputs": [],
      "source": [
        "history_rnn = rnn.fit(data, multihot_X, validation_split=0.2 ,epochs=10)"
      ]
    },
    {
      "cell_type": "code",
      "execution_count": null,
      "metadata": {
        "colab": {
          "base_uri": "https://localhost:8080/",
          "height": 800
        },
        "id": "OF2Or3j-lGxq",
        "outputId": "4d07ee16-1ab3-4488-d694-7f3af4433595"
      },
      "outputs": [],
      "source": [
        "plot_history(history_rnn, metric='f1')"
      ]
    },
    {
      "cell_type": "markdown",
      "metadata": {
        "id": "VrtRLkN2zcvY"
      },
      "source": [
        "# Example (Some tests to dabstracts)\n",
        "\n",
        "Conocimiento cogido de https://www.nltk.org/book/"
      ]
    },
    {
      "cell_type": "code",
      "execution_count": null,
      "metadata": {
        "colab": {
          "base_uri": "https://localhost:8080/",
          "height": 105
        },
        "id": "apkQJyH1s9rq",
        "outputId": "6fc2bafc-f319-47b5-c5ce-ff027214b9dc"
      },
      "outputs": [],
      "source": [
        "example = X.values[0]\n",
        "example"
      ]
    },
    {
      "cell_type": "code",
      "execution_count": null,
      "metadata": {
        "colab": {
          "base_uri": "https://localhost:8080/"
        },
        "id": "bQgd4qZDtAjc",
        "outputId": "12259f66-0ada-48c1-bd1c-0a8f759169e4"
      },
      "outputs": [],
      "source": [
        "tokens = nltk.word_tokenize(example.lower())\n",
        "tokens[:5]  # Los puntos, comas y demás también se separan"
      ]
    },
    {
      "cell_type": "markdown",
      "metadata": {
        "id": "mbCCc5Jxuji-"
      },
      "source": [
        "### Frecuencia\n",
        "\n",
        "En las siguientes celdas se mostrará información sobre la frecuencia de las palabras. Es decir, el número de veces que se repite una palabra."
      ]
    },
    {
      "cell_type": "code",
      "execution_count": null,
      "metadata": {
        "id": "LsLzaWnhtmEc"
      },
      "outputs": [],
      "source": [
        "fdist1 = nltk.punkt.FreqDist(tokens)"
      ]
    },
    {
      "cell_type": "code",
      "execution_count": null,
      "metadata": {
        "colab": {
          "base_uri": "https://localhost:8080/"
        },
        "id": "uqdvfX0GvaZk",
        "outputId": "580757a1-85db-4297-d487-52b9de4a0a8f"
      },
      "outputs": [],
      "source": [
        "fdist1.most_common(10)"
      ]
    },
    {
      "cell_type": "code",
      "execution_count": null,
      "metadata": {
        "colab": {
          "base_uri": "https://localhost:8080/"
        },
        "id": "yqziQAgdx4RR",
        "outputId": "d1971d2a-73a4-45d3-8cbe-8bfd2dff5af2"
      },
      "outputs": [],
      "source": [
        "type(fdist1)"
      ]
    },
    {
      "cell_type": "code",
      "execution_count": null,
      "metadata": {
        "colab": {
          "base_uri": "https://localhost:8080/",
          "height": 589
        },
        "id": "mGcvVGqyxnXU",
        "outputId": "62ba47a7-7717-49c0-a6fd-2fda845e3537"
      },
      "outputs": [],
      "source": [
        "fdist1.plot(title=\"Frecuencia de example\")"
      ]
    },
    {
      "cell_type": "markdown",
      "metadata": {
        "id": "QOjnrDYpzFyT"
      },
      "source": [
        "Como se puede observar, en el abstract de example, se tienen muchos valores que solo aparecen una vez, también son llamados `hapaxes`. Esto no puede interesar, porque si existen palabras con pocas repeticiones en todos los abstracts, entonces las podemos eliminar."
      ]
    },
    {
      "cell_type": "code",
      "execution_count": null,
      "metadata": {
        "colab": {
          "base_uri": "https://localhost:8080/"
        },
        "id": "0s6xzXAwxanL",
        "outputId": "96c88487-e2b2-4e04-8e33-2aef5d71ef68"
      },
      "outputs": [],
      "source": [
        "print(f'Nº de palabras únicas: {len(fdist1.hapaxes())}, ejemplos: {fdist1.hapaxes()[:5]}')"
      ]
    },
    {
      "cell_type": "markdown",
      "metadata": {
        "id": "UdY0DEKV0aqy"
      },
      "source": [
        "Bigramas. Son secuencias de palabras. Por ejemplo, `vino rojo`. Esto es importante, ya que `vino marrón` suena muy mal. Por supuesto, al coger bigramas, estamos cogiendo conjuntos de dos datos. Lo que signigica que habrá muchos que no tengan sentido.\n",
        "\n",
        "Lo bueno, `nltk` tiene un modulo llamado `collocations` que genera **bigramas** más \"importantes\" o que, se pueden \"encontrar\" en la realidad. Estos valores se sacan con una tabla de **contingencia**.\n",
        "\n",
        "https://tedboy.github.io/nlps/generated/generated/nltk.BigramAssocMeasures.html"
      ]
    },
    {
      "cell_type": "code",
      "execution_count": null,
      "metadata": {
        "id": "4zCzPy9uyV1y"
      },
      "outputs": [],
      "source": [
        "list(nltk.bigrams(tokens))"
      ]
    },
    {
      "cell_type": "code",
      "execution_count": null,
      "metadata": {
        "id": "oF2LMWj71WPP"
      },
      "outputs": [],
      "source": [
        "b_finder = nltk.collocations.BigramCollocationFinder.from_words(tokens)"
      ]
    },
    {
      "cell_type": "code",
      "execution_count": null,
      "metadata": {
        "id": "-4vjyTVe2k92"
      },
      "outputs": [],
      "source": [
        "bigram_measures = nltk.collocations.BigramAssocMeasures()"
      ]
    },
    {
      "cell_type": "code",
      "execution_count": null,
      "metadata": {
        "colab": {
          "base_uri": "https://localhost:8080/"
        },
        "id": "aFD4nX5h14U_",
        "outputId": "1829c161-6c6e-43b7-d14c-7ce29d19f3db"
      },
      "outputs": [],
      "source": [
        "b_finder.nbest(bigram_measures.pmi, 10)"
      ]
    },
    {
      "cell_type": "markdown",
      "metadata": {
        "id": "lcYxNL3z4E7I"
      },
      "source": [
        "También se pueden contar el número de veces que aparece el tamaño de las palabras."
      ]
    },
    {
      "cell_type": "code",
      "execution_count": null,
      "metadata": {
        "id": "WeN-tpRR2h55"
      },
      "outputs": [],
      "source": [
        "fdLen = nltk.punkt.FreqDist(len(w) for w in tokens)"
      ]
    },
    {
      "cell_type": "code",
      "execution_count": null,
      "metadata": {
        "colab": {
          "base_uri": "https://localhost:8080/"
        },
        "id": "UrO0ZtZ24dZH",
        "outputId": "86e8e143-4c6b-451a-919f-b85cd93d44c3"
      },
      "outputs": [],
      "source": [
        "max = fdLen.max()\n",
        "print(f'El tamaño de las palabras más repetidas es {max}:\\n\\t- Frecuencia : {fdLen[max]}\\n\\t- Frecuencia (%): {fdLen.freq(max)}')"
      ]
    },
    {
      "cell_type": "code",
      "execution_count": null,
      "metadata": {
        "colab": {
          "base_uri": "https://localhost:8080/"
        },
        "id": "vC0IJsHF4f3b",
        "outputId": "77d15d90-a46e-4ec5-eb80-eebdc0b2bfcd"
      },
      "outputs": [],
      "source": [
        "print(f'Número total de samples: {fdLen.N()}')"
      ]
    },
    {
      "cell_type": "markdown",
      "metadata": {
        "id": "YJTyuiGc7kwX"
      },
      "source": [
        "### Best way to do everything earlier\n",
        "\n",
        "Converting the string into a nltk.Text(), using the `stopwords` dataset, we can see that the collocations are way better than earlier."
      ]
    },
    {
      "cell_type": "code",
      "execution_count": null,
      "metadata": {
        "colab": {
          "base_uri": "https://localhost:8080/"
        },
        "id": "W7LuW5mI7y1b",
        "outputId": "e88a10da-eb19-40df-9543-46f54f87b8c5"
      },
      "outputs": [],
      "source": [
        "text = nltk.Text(tokens)\n",
        "text[:5]"
      ]
    },
    {
      "cell_type": "code",
      "execution_count": null,
      "metadata": {
        "colab": {
          "base_uri": "https://localhost:8080/"
        },
        "id": "xdVIYR_R-byq",
        "outputId": "df023ada-fb91-41d2-8b61-daa2acae5a15"
      },
      "outputs": [],
      "source": [
        "text.collocations()"
      ]
    },
    {
      "cell_type": "markdown",
      "metadata": {
        "id": "NHRCRjaY_t4i"
      },
      "source": [
        "### Tagging\n",
        "\n",
        "Lo que mola de `nltk`, es que, una vez tienes las palabras, puedes clasificar las palabras. Usa el paquete: `averaged_perceptron_tagger`\n",
        "\n",
        "- `cc` coordinating conjunction\n",
        "- `rb` adverbs\n",
        "- `in` preposition\n",
        "- `nn` noun\n",
        "- `jj` adjective\n",
        "- `vbp` verb"
      ]
    },
    {
      "cell_type": "markdown",
      "metadata": {
        "id": "e3rWzbt0AiaB"
      },
      "source": [
        "#### Pos_tagger"
      ]
    },
    {
      "cell_type": "code",
      "execution_count": null,
      "metadata": {
        "colab": {
          "base_uri": "https://localhost:8080/"
        },
        "id": "jxrVQnZq-dZf",
        "outputId": "61aa71b3-9e04-4543-c1ec-d1a439bbf9e8"
      },
      "outputs": [],
      "source": [
        "tags = nltk.pos_tag(tokens)\n",
        "tags[:5]"
      ]
    },
    {
      "cell_type": "code",
      "execution_count": null,
      "metadata": {
        "colab": {
          "base_uri": "https://localhost:8080/"
        },
        "id": "3yj4J2yPEXR0",
        "outputId": "1b28ce39-b1e5-4d4c-b135-a31e867e1de7"
      },
      "outputs": [],
      "source": [
        "len(tags)"
      ]
    },
    {
      "cell_type": "code",
      "execution_count": null,
      "metadata": {
        "colab": {
          "base_uri": "https://localhost:8080/"
        },
        "id": "bfQ4l0weAHBI",
        "outputId": "db71de0b-c8f7-4ac8-d6d7-53e98d516345"
      },
      "outputs": [],
      "source": [
        "# get rid of prepositions\n",
        "len([word for word, tag in tags if tag != 'IN'])"
      ]
    },
    {
      "cell_type": "code",
      "execution_count": null,
      "metadata": {
        "id": "V2x9HSMkBaAx"
      },
      "outputs": [],
      "source": []
    }
  ],
  "metadata": {
    "accelerator": "GPU",
    "colab": {
      "collapsed_sections": [
        "KvXJ3l7QlOUV",
        "L3T2IgBQlSGG",
        "jOYc78paLtGD",
        "ZwjnR0OuQ74g",
        "KFZsCG1-YL8_",
        "K81BhLqDaWiY",
        "BTlY130iZ6Vw",
        "eHvlkUA0bm5F",
        "IMPgugbLc8oD",
        "f4spkV8U9jBt",
        "9Q3flI3PMCtY",
        "fQl_reTHQz1p",
        "yZs9Vu3yUUfc",
        "UorBRppTVzdC",
        "jor0KyGgcw-F",
        "SBowO-16eB-R",
        "ifi6uOdedRIU",
        "fAD2O2IvfvJh",
        "IPXLOiCxjQGr",
        "Ax0mCF8nhDgL",
        "HUe7UkP9Qd64",
        "yd86QXosqNdR",
        "VrtRLkN2zcvY",
        "mbCCc5Jxuji-",
        "YJTyuiGc7kwX"
      ],
      "provenance": []
    },
    "gpuClass": "standard",
    "kernelspec": {
      "display_name": "Python 3",
      "name": "python3"
    },
    "language_info": {
      "codemirror_mode": {
        "name": "ipython",
        "version": 3
      },
      "file_extension": ".py",
      "mimetype": "text/x-python",
      "name": "python",
      "nbconvert_exporter": "python",
      "pygments_lexer": "ipython3",
      "version": "3.10.6"
    }
  },
  "nbformat": 4,
  "nbformat_minor": 0
}
