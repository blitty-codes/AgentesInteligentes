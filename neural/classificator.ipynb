{
  "nbformat": 4,
  "nbformat_minor": 0,
  "metadata": {
    "colab": {
      "provenance": [],
      "collapsed_sections": [
        "KvXJ3l7QlOUV",
        "L3T2IgBQlSGG",
        "jOYc78paLtGD",
        "ZwjnR0OuQ74g",
        "KFZsCG1-YL8_",
        "K81BhLqDaWiY",
        "BTlY130iZ6Vw",
        "eHvlkUA0bm5F",
        "IMPgugbLc8oD",
        "f4spkV8U9jBt",
        "9Q3flI3PMCtY",
        "fQl_reTHQz1p",
        "yZs9Vu3yUUfc",
        "UorBRppTVzdC",
        "jor0KyGgcw-F",
        "SBowO-16eB-R",
        "ifi6uOdedRIU",
        "fAD2O2IvfvJh",
        "IPXLOiCxjQGr",
        "Ax0mCF8nhDgL",
        "HUe7UkP9Qd64",
        "yd86QXosqNdR",
        "VrtRLkN2zcvY",
        "mbCCc5Jxuji-",
        "YJTyuiGc7kwX"
      ]
    },
    "kernelspec": {
      "name": "python3",
      "display_name": "Python 3"
    },
    "language_info": {
      "name": "python"
    },
    "gpuClass": "standard",
    "accelerator": "GPU"
  },
  "cells": [
    {
      "cell_type": "code",
      "source": [
        "import nltk\n",
        "import numpy as np\n",
        "import pandas as pd\n",
        "import seaborn as sns\n",
        "import tensorflow as tf\n",
        "import matplotlib.pyplot as plt"
      ],
      "metadata": {
        "id": "edM_ZEc5qAkP"
      },
      "execution_count": 1,
      "outputs": []
    },
    {
      "cell_type": "markdown",
      "source": [
        "Download:\n",
        "\n",
        "- punkt\n",
        "- stopwords\n",
        "- averaged_perceptron_tagger"
      ],
      "metadata": {
        "id": "aAcVHXU4-j9O"
      }
    },
    {
      "cell_type": "code",
      "source": [
        "nltk.download()"
      ],
      "metadata": {
        "colab": {
          "base_uri": "https://localhost:8080/"
        },
        "id": "uSNknmNErYBD",
        "outputId": "7ace9eff-50b4-48ca-a792-0d99e2af784f"
      },
      "execution_count": 2,
      "outputs": [
        {
          "name": "stdout",
          "output_type": "stream",
          "text": [
            "NLTK Downloader\n",
            "---------------------------------------------------------------------------\n",
            "    d) Download   l) List    u) Update   c) Config   h) Help   q) Quit\n",
            "---------------------------------------------------------------------------\n",
            "Downloader> d\n",
            "\n",
            "Download which package (l=list; x=cancel)?\n",
            "  Identifier> punkt\n"
          ]
        },
        {
          "output_type": "stream",
          "name": "stderr",
          "text": [
            "    Downloading package punkt to /root/nltk_data...\n",
            "      Unzipping tokenizers/punkt.zip.\n"
          ]
        },
        {
          "name": "stdout",
          "output_type": "stream",
          "text": [
            "\n",
            "---------------------------------------------------------------------------\n",
            "    d) Download   l) List    u) Update   c) Config   h) Help   q) Quit\n",
            "---------------------------------------------------------------------------\n",
            "Downloader> d\n",
            "\n",
            "Download which package (l=list; x=cancel)?\n",
            "  Identifier> stopwords\n"
          ]
        },
        {
          "output_type": "stream",
          "name": "stderr",
          "text": [
            "    Downloading package stopwords to /root/nltk_data...\n",
            "      Unzipping corpora/stopwords.zip.\n"
          ]
        },
        {
          "name": "stdout",
          "output_type": "stream",
          "text": [
            "\n",
            "---------------------------------------------------------------------------\n",
            "    d) Download   l) List    u) Update   c) Config   h) Help   q) Quit\n",
            "---------------------------------------------------------------------------\n",
            "Downloader> d\n",
            "\n",
            "Download which package (l=list; x=cancel)?\n",
            "  Identifier> averaged_perceptron_tagger\n"
          ]
        },
        {
          "output_type": "stream",
          "name": "stderr",
          "text": [
            "    Downloading package averaged_perceptron_tagger to\n",
            "        /root/nltk_data...\n",
            "      Unzipping taggers/averaged_perceptron_tagger.zip.\n"
          ]
        },
        {
          "name": "stdout",
          "output_type": "stream",
          "text": [
            "\n",
            "---------------------------------------------------------------------------\n",
            "    d) Download   l) List    u) Update   c) Config   h) Help   q) Quit\n",
            "---------------------------------------------------------------------------\n",
            "Downloader> q\n"
          ]
        },
        {
          "output_type": "execute_result",
          "data": {
            "text/plain": [
              "True"
            ]
          },
          "metadata": {},
          "execution_count": 2
        }
      ]
    },
    {
      "cell_type": "markdown",
      "source": [
        "# Funcion general"
      ],
      "metadata": {
        "id": "KvXJ3l7QlOUV"
      }
    },
    {
      "cell_type": "code",
      "source": [
        "def plot_history(history, metric):\n",
        "    plt.subplot(1, 2, 1)\n",
        "    plt.plot(history.history['loss'], label='Training')\n",
        "    plt.plot(history.history['val_loss'], label='Validation')\n",
        "    plt.xlabel('Epoch')\n",
        "    plt.ylabel('Loss')\n",
        "    plt.title(f'Training: {history.history[\"loss\"][-1]:.2f}, validation: {history.history[\"val_loss\"][-1]:.2f}')\n",
        "    plt.legend()\n",
        "\n",
        "    plt.subplot(1, 2, 2)\n",
        "    #plt.plot(history.history['accuracy'], label='Training')\n",
        "    plt.plot(history.history[f'{metric}'], label='Training')\n",
        "    plt.plot(history.history[f'val_{metric}'], label='Validation')\n",
        "    plt.xlabel('Epoch')\n",
        "    plt.ylabel('Accuracy')\n",
        "    plt.title(f'Training: {history.history[f\"{metric}\"][-1]:.2f}, validation: {history.history[f\"val_{metric}\"][-1]:.2f}')\n",
        "    plt.legend()\n",
        "\n",
        "    plt.show()"
      ],
      "metadata": {
        "id": "6_GnFh3elQrA"
      },
      "execution_count": 3,
      "outputs": []
    },
    {
      "cell_type": "markdown",
      "source": [
        "# Apartir de aquí, la parte bonita del notebook. Diviertete!! ♥\n",
        "\n",
        "\n",
        "Hecho por NeuralHive 🐝"
      ],
      "metadata": {
        "id": "L3T2IgBQlSGG"
      }
    },
    {
      "cell_type": "code",
      "source": [
        "papers_path = 'papers.csv'"
      ],
      "metadata": {
        "id": "CpME5deSp9Tp"
      },
      "execution_count": 4,
      "outputs": []
    },
    {
      "cell_type": "code",
      "source": [
        "df = pd.read_csv(papers_path)\n",
        "print(df.shape)\n",
        "df.head()"
      ],
      "metadata": {
        "colab": {
          "base_uri": "https://localhost:8080/",
          "height": 354
        },
        "id": "zFGK44VRp9uJ",
        "outputId": "600fc911-cf6e-40a7-a1ff-0eb7f1c9918b"
      },
      "execution_count": 5,
      "outputs": [
        {
          "output_type": "stream",
          "name": "stdout",
          "text": [
            "(4555, 3)\n"
          ]
        },
        {
          "output_type": "execute_result",
          "data": {
            "text/plain": [
              "                                               title  \\\n",
              "0  Ensemble Statistical and Heuristic Models for ...   \n",
              "1  Improving Spectral Learning by Using Multiple ...   \n",
              "2  Applying Swarm Ensemble Clustering Technique f...   \n",
              "3      Reducing the Effects of Detrimental Instances   \n",
              "4         Concept Drift Awareness in Twitter Streams   \n",
              "\n",
              "                                            abstract  \\\n",
              "0  Statistical word alignment models need large a...   \n",
              "1  Spectral learning algorithms learn an unknown ...   \n",
              "2  Number of defects remaining in a system provid...   \n",
              "3  Not all instances in a data set are equally be...   \n",
              "4  Learning in non-stationary environments is not...   \n",
              "\n",
              "                                            keywords  \n",
              "0            ['ensemble learning', 'word alignment']  \n",
              "1  ['basis selection', 'discrete fourier', 'ensem...  \n",
              "2  ['clustering', 'ensembles', 'particle swarm op...  \n",
              "3  ['filtering', 'instance weighting', 'label noi...  \n",
              "4  ['adaptive', 'context', 'detection', 'time-fre...  "
            ],
            "text/html": [
              "\n",
              "  <div id=\"df-a8f4cfb7-5c67-4354-b8df-ead173a9f123\">\n",
              "    <div class=\"colab-df-container\">\n",
              "      <div>\n",
              "<style scoped>\n",
              "    .dataframe tbody tr th:only-of-type {\n",
              "        vertical-align: middle;\n",
              "    }\n",
              "\n",
              "    .dataframe tbody tr th {\n",
              "        vertical-align: top;\n",
              "    }\n",
              "\n",
              "    .dataframe thead th {\n",
              "        text-align: right;\n",
              "    }\n",
              "</style>\n",
              "<table border=\"1\" class=\"dataframe\">\n",
              "  <thead>\n",
              "    <tr style=\"text-align: right;\">\n",
              "      <th></th>\n",
              "      <th>title</th>\n",
              "      <th>abstract</th>\n",
              "      <th>keywords</th>\n",
              "    </tr>\n",
              "  </thead>\n",
              "  <tbody>\n",
              "    <tr>\n",
              "      <th>0</th>\n",
              "      <td>Ensemble Statistical and Heuristic Models for ...</td>\n",
              "      <td>Statistical word alignment models need large a...</td>\n",
              "      <td>['ensemble learning', 'word alignment']</td>\n",
              "    </tr>\n",
              "    <tr>\n",
              "      <th>1</th>\n",
              "      <td>Improving Spectral Learning by Using Multiple ...</td>\n",
              "      <td>Spectral learning algorithms learn an unknown ...</td>\n",
              "      <td>['basis selection', 'discrete fourier', 'ensem...</td>\n",
              "    </tr>\n",
              "    <tr>\n",
              "      <th>2</th>\n",
              "      <td>Applying Swarm Ensemble Clustering Technique f...</td>\n",
              "      <td>Number of defects remaining in a system provid...</td>\n",
              "      <td>['clustering', 'ensembles', 'particle swarm op...</td>\n",
              "    </tr>\n",
              "    <tr>\n",
              "      <th>3</th>\n",
              "      <td>Reducing the Effects of Detrimental Instances</td>\n",
              "      <td>Not all instances in a data set are equally be...</td>\n",
              "      <td>['filtering', 'instance weighting', 'label noi...</td>\n",
              "    </tr>\n",
              "    <tr>\n",
              "      <th>4</th>\n",
              "      <td>Concept Drift Awareness in Twitter Streams</td>\n",
              "      <td>Learning in non-stationary environments is not...</td>\n",
              "      <td>['adaptive', 'context', 'detection', 'time-fre...</td>\n",
              "    </tr>\n",
              "  </tbody>\n",
              "</table>\n",
              "</div>\n",
              "      <button class=\"colab-df-convert\" onclick=\"convertToInteractive('df-a8f4cfb7-5c67-4354-b8df-ead173a9f123')\"\n",
              "              title=\"Convert this dataframe to an interactive table.\"\n",
              "              style=\"display:none;\">\n",
              "        \n",
              "  <svg xmlns=\"http://www.w3.org/2000/svg\" height=\"24px\"viewBox=\"0 0 24 24\"\n",
              "       width=\"24px\">\n",
              "    <path d=\"M0 0h24v24H0V0z\" fill=\"none\"/>\n",
              "    <path d=\"M18.56 5.44l.94 2.06.94-2.06 2.06-.94-2.06-.94-.94-2.06-.94 2.06-2.06.94zm-11 1L8.5 8.5l.94-2.06 2.06-.94-2.06-.94L8.5 2.5l-.94 2.06-2.06.94zm10 10l.94 2.06.94-2.06 2.06-.94-2.06-.94-.94-2.06-.94 2.06-2.06.94z\"/><path d=\"M17.41 7.96l-1.37-1.37c-.4-.4-.92-.59-1.43-.59-.52 0-1.04.2-1.43.59L10.3 9.45l-7.72 7.72c-.78.78-.78 2.05 0 2.83L4 21.41c.39.39.9.59 1.41.59.51 0 1.02-.2 1.41-.59l7.78-7.78 2.81-2.81c.8-.78.8-2.07 0-2.86zM5.41 20L4 18.59l7.72-7.72 1.47 1.35L5.41 20z\"/>\n",
              "  </svg>\n",
              "      </button>\n",
              "      \n",
              "  <style>\n",
              "    .colab-df-container {\n",
              "      display:flex;\n",
              "      flex-wrap:wrap;\n",
              "      gap: 12px;\n",
              "    }\n",
              "\n",
              "    .colab-df-convert {\n",
              "      background-color: #E8F0FE;\n",
              "      border: none;\n",
              "      border-radius: 50%;\n",
              "      cursor: pointer;\n",
              "      display: none;\n",
              "      fill: #1967D2;\n",
              "      height: 32px;\n",
              "      padding: 0 0 0 0;\n",
              "      width: 32px;\n",
              "    }\n",
              "\n",
              "    .colab-df-convert:hover {\n",
              "      background-color: #E2EBFA;\n",
              "      box-shadow: 0px 1px 2px rgba(60, 64, 67, 0.3), 0px 1px 3px 1px rgba(60, 64, 67, 0.15);\n",
              "      fill: #174EA6;\n",
              "    }\n",
              "\n",
              "    [theme=dark] .colab-df-convert {\n",
              "      background-color: #3B4455;\n",
              "      fill: #D2E3FC;\n",
              "    }\n",
              "\n",
              "    [theme=dark] .colab-df-convert:hover {\n",
              "      background-color: #434B5C;\n",
              "      box-shadow: 0px 1px 3px 1px rgba(0, 0, 0, 0.15);\n",
              "      filter: drop-shadow(0px 1px 2px rgba(0, 0, 0, 0.3));\n",
              "      fill: #FFFFFF;\n",
              "    }\n",
              "  </style>\n",
              "\n",
              "      <script>\n",
              "        const buttonEl =\n",
              "          document.querySelector('#df-a8f4cfb7-5c67-4354-b8df-ead173a9f123 button.colab-df-convert');\n",
              "        buttonEl.style.display =\n",
              "          google.colab.kernel.accessAllowed ? 'block' : 'none';\n",
              "\n",
              "        async function convertToInteractive(key) {\n",
              "          const element = document.querySelector('#df-a8f4cfb7-5c67-4354-b8df-ead173a9f123');\n",
              "          const dataTable =\n",
              "            await google.colab.kernel.invokeFunction('convertToInteractive',\n",
              "                                                     [key], {});\n",
              "          if (!dataTable) return;\n",
              "\n",
              "          const docLinkHtml = 'Like what you see? Visit the ' +\n",
              "            '<a target=\"_blank\" href=https://colab.research.google.com/notebooks/data_table.ipynb>data table notebook</a>'\n",
              "            + ' to learn more about interactive tables.';\n",
              "          element.innerHTML = '';\n",
              "          dataTable['output_type'] = 'display_data';\n",
              "          await google.colab.output.renderOutput(dataTable, element);\n",
              "          const docLink = document.createElement('div');\n",
              "          docLink.innerHTML = docLinkHtml;\n",
              "          element.appendChild(docLink);\n",
              "        }\n",
              "      </script>\n",
              "    </div>\n",
              "  </div>\n",
              "  "
            ]
          },
          "metadata": {},
          "execution_count": 5
        }
      ]
    },
    {
      "cell_type": "code",
      "source": [
        "X = df[\"abstract\"]\n",
        "y = df[\"keywords\"]"
      ],
      "metadata": {
        "id": "ZZt_H9v7p-xx"
      },
      "execution_count": 6,
      "outputs": []
    },
    {
      "cell_type": "markdown",
      "source": [
        "# Abstracts"
      ],
      "metadata": {
        "id": "YJ0a69nNqAJJ"
      }
    },
    {
      "cell_type": "markdown",
      "source": [
        "## Data exploration && cleanning\n",
        "\n",
        "Data exploration and cleaning of all abstracts.\n",
        "\n",
        "1. Data exploration\n",
        "    1. Repetition of words\n",
        "    2. Frecuency of words\n",
        "    3. Length of words\n",
        "    4. Get hapaxes"
      ],
      "metadata": {
        "id": "jOYc78paLtGD"
      }
    },
    {
      "cell_type": "markdown",
      "source": [
        "Collect all the abstracts into one. This way, we are going to have a top view of the dataset."
      ],
      "metadata": {
        "id": "eykh-T7bNHXR"
      }
    },
    {
      "cell_type": "code",
      "source": [
        "mono_abstract = ''\n",
        "\n",
        "for abstract in X.values:\n",
        "    mono_abstract += abstract\n",
        "\n",
        "mono_abstract = mono_abstract.lower()\n",
        "len(mono_abstract)"
      ],
      "metadata": {
        "colab": {
          "base_uri": "https://localhost:8080/"
        },
        "id": "TIpiIixWNFed",
        "outputId": "b48159d3-19ae-4c4d-af08-0666f748990f"
      },
      "execution_count": 7,
      "outputs": [
        {
          "output_type": "execute_result",
          "data": {
            "text/plain": [
              "5105857"
            ]
          },
          "metadata": {},
          "execution_count": 7
        }
      ]
    },
    {
      "cell_type": "markdown",
      "source": [
        "First tokenize. This means separating into words the string."
      ],
      "metadata": {
        "id": "WVbYWo40OFq2"
      }
    },
    {
      "cell_type": "code",
      "source": [
        "mono_token = nltk.word_tokenize(mono_abstract)\n",
        "mono_token[:5]"
      ],
      "metadata": {
        "colab": {
          "base_uri": "https://localhost:8080/"
        },
        "id": "evqv6a4DNr2F",
        "outputId": "e43d150f-7551-4421-cadc-e2cf1bc58b24"
      },
      "execution_count": 8,
      "outputs": [
        {
          "output_type": "execute_result",
          "data": {
            "text/plain": [
              "['statistical', 'word', 'alignment', 'models', 'need']"
            ]
          },
          "metadata": {},
          "execution_count": 8
        }
      ]
    },
    {
      "cell_type": "markdown",
      "source": [
        "As we can appreciate, the collocations from using `collocations()` from Text are way better from `BigramCollocationFinder`."
      ],
      "metadata": {
        "id": "LpxBafE0Qgiu"
      }
    },
    {
      "cell_type": "code",
      "source": [
        "from nltk.collocations import BigramAssocMeasures, BigramCollocationFinder"
      ],
      "metadata": {
        "id": "z9SRtL-2P5R9"
      },
      "execution_count": 9,
      "outputs": []
    },
    {
      "cell_type": "code",
      "source": [
        "finder = BigramCollocationFinder.from_words(nltk.bigrams(mono_token))\n",
        "\n",
        "# specify a measure for identifying collocations\n",
        "measures = BigramAssocMeasures()\n",
        "\n",
        "# get the 10 most frequent collocations using the specified measure\n",
        "collocations = finder.nbest(measures.raw_freq, 10)"
      ],
      "metadata": {
        "id": "VOAUP3NUP2ON"
      },
      "execution_count": 10,
      "outputs": []
    },
    {
      "cell_type": "code",
      "source": [
        "collocations"
      ],
      "metadata": {
        "colab": {
          "base_uri": "https://localhost:8080/"
        },
        "id": "yQ0qQbFzOlVj",
        "outputId": "72e58651-945c-4f9c-810a-580b8ba78121"
      },
      "execution_count": 11,
      "outputs": [
        {
          "output_type": "execute_result",
          "data": {
            "text/plain": [
              "[(('.', 'in'), ('in', 'this')),\n",
              " (('in', 'this'), ('this', 'paper')),\n",
              " (('this', 'paper'), ('paper', ',')),\n",
              " (('paper', ','), (',', 'we')),\n",
              " (('.', 'however'), ('however', ',')),\n",
              " (('.', 'this'), ('this', 'paper')),\n",
              " ((',', 'we'), ('we', 'propose')),\n",
              " (('in', 'order'), ('order', 'to')),\n",
              " (('as', 'well'), ('well', 'as')),\n",
              " (('we', 'propose'), ('propose', 'a'))]"
            ]
          },
          "metadata": {},
          "execution_count": 11
        }
      ]
    },
    {
      "cell_type": "markdown",
      "source": [
        "Convert those tokens into a Text object. The best way to get collocations out of it. These collocations are of 2 words or also called (Bigrams)"
      ],
      "metadata": {
        "id": "np9c1xbxOav_"
      }
    },
    {
      "cell_type": "code",
      "source": [
        "import io\n",
        "import contextlib"
      ],
      "metadata": {
        "id": "ZVtAa8nbQzXD"
      },
      "execution_count": 12,
      "outputs": []
    },
    {
      "cell_type": "code",
      "source": [
        "mono_abstract = nltk.Text(mono_token)"
      ],
      "metadata": {
        "id": "R-BgULTwWX0l"
      },
      "execution_count": 13,
      "outputs": []
    },
    {
      "cell_type": "code",
      "source": [
        "with contextlib.redirect_stdout(io.StringIO()) as f:\n",
        "    mono_abstract.collocations()\n",
        "\n",
        "collocations_output = f.getvalue()\n",
        "print(collocations_output) # top 10 collocations"
      ],
      "metadata": {
        "colab": {
          "base_uri": "https://localhost:8080/"
        },
        "id": "1463L5L7Qwp_",
        "outputId": "204184f9-38a3-45ae-f5da-8bbdd519c0e8"
      },
      "execution_count": 14,
      "outputs": [
        {
          "output_type": "stream",
          "name": "stdout",
          "text": [
            "machine learning; neural network; neural networks; experimental\n",
            "results; results show; deep learning; support vector; time series;\n",
            "convolutional neural; feature selection; future research; paper\n",
            "presents; reinforcement learning; comprehensive survey; recent years;\n",
            "proposed method; research directions; deep neural; anomaly detection;\n",
            "data sets\n",
            "\n"
          ]
        }
      ]
    },
    {
      "cell_type": "markdown",
      "source": [
        "#### Repetitions"
      ],
      "metadata": {
        "id": "ZwjnR0OuQ74g"
      }
    },
    {
      "cell_type": "code",
      "source": [
        "fdist1 = nltk.punkt.FreqDist(mono_token)\n",
        "top_tokens = fdist1.most_common(10)\n",
        "token_counts = dict(top_tokens)\n",
        "top_tokens[:10]"
      ],
      "metadata": {
        "colab": {
          "base_uri": "https://localhost:8080/"
        },
        "id": "zvq0SyUnRehr",
        "outputId": "2b10dbaa-3ff7-4ec0-f3d2-118df1e08a62"
      },
      "execution_count": 15,
      "outputs": [
        {
          "output_type": "execute_result",
          "data": {
            "text/plain": [
              "[('the', 42923),\n",
              " (',', 34425),\n",
              " ('.', 28657),\n",
              " ('of', 27638),\n",
              " ('and', 23294),\n",
              " ('to', 19254),\n",
              " ('a', 16768),\n",
              " ('in', 16275),\n",
              " ('is', 9338),\n",
              " ('for', 9212)]"
            ]
          },
          "metadata": {},
          "execution_count": 15
        }
      ]
    },
    {
      "cell_type": "code",
      "source": [
        "sns.histplot(x=list(token_counts.keys()), y=list(token_counts.values()))"
      ],
      "metadata": {
        "colab": {
          "base_uri": "https://localhost:8080/",
          "height": 89
        },
        "id": "kZebjXjoUp2S",
        "outputId": "d80625b5-eb16-4cd9-e826-6bfbfe2e4595"
      },
      "execution_count": 16,
      "outputs": [
        {
          "output_type": "execute_result",
          "data": {
            "text/plain": [
              "<Axes: >"
            ]
          },
          "metadata": {},
          "execution_count": 16
        },
        {
          "output_type": "display_data",
          "data": {
            "text/plain": [
              "<Figure size 640x480 with 1 Axes>"
            ],
            "image/png": "[encoded data removed]"
          },
          "metadata": {}
        }
      ]
    },
    {
      "cell_type": "code",
      "source": [
        "hapaxes = fdist1.hapaxes()"
      ],
      "metadata": {
        "id": "NpLjCvP4WyO3"
      },
      "execution_count": 17,
      "outputs": []
    },
    {
      "cell_type": "markdown",
      "source": [
        "#### Frequency\n",
        "\n",
        "Como podemos observar, mono_token está compuesto de casi un millon de palabras. De las cuales, aproximadamente el 27% no son totalmente útiles. Como se puede observar, las palabras como `the`, `,`, `.`, `a`, `in`. Are very common and for the purpose of this project, they are not necessary and thus generate noise on model that tries to extract characteristics."
      ],
      "metadata": {
        "id": "KFZsCG1-YL8_"
      }
    },
    {
      "cell_type": "code",
      "source": [
        "len(mono_token)"
      ],
      "metadata": {
        "colab": {
          "base_uri": "https://localhost:8080/"
        },
        "id": "ldsPY43cY3Un",
        "outputId": "ea00717e-4e01-417f-96ba-8f866cf245c8"
      },
      "execution_count": 18,
      "outputs": [
        {
          "output_type": "execute_result",
          "data": {
            "text/plain": [
              "826346"
            ]
          },
          "metadata": {},
          "execution_count": 18
        }
      ]
    },
    {
      "cell_type": "code",
      "source": [
        "freq = 0.0\n",
        "for word, _ in top_tokens:\n",
        "    freq += fdist1.freq(word)\n",
        "    print(f'- {word} : {fdist1.freq(word)}')\n",
        "\n",
        "print(f'Frequency of top 10 words repeated {freq}.')"
      ],
      "metadata": {
        "colab": {
          "base_uri": "https://localhost:8080/"
        },
        "id": "KF7O6Y2SYKKg",
        "outputId": "5d7d8142-27db-4941-c3da-38d60fc1532b"
      },
      "execution_count": 19,
      "outputs": [
        {
          "output_type": "stream",
          "name": "stdout",
          "text": [
            "- the : 0.05194313277973149\n",
            "- , : 0.041659304940061426\n",
            "- . : 0.034679177971455054\n",
            "- of : 0.033446038342292456\n",
            "- and : 0.02818916047273176\n",
            "- to : 0.02330016724229318\n",
            "- a : 0.020291742199998547\n",
            "- in : 0.019695139808264334\n",
            "- is : 0.01130035118461274\n",
            "- for : 0.011147872682871339\n",
            "Frequency of top 10 words repeated 0.2756520876243123.\n"
          ]
        }
      ]
    },
    {
      "cell_type": "markdown",
      "source": [
        "#### Length of words\n",
        "\n",
        "Al parecer las palabras más repetidas son las de tamaño 2. Suponiendo un 14% de todos los abstracts. Lo cual parece muy interesante ya que, si juntamos el apartado anterior con este, podremos observar que palabras de 2 solo se muestran 4.\n",
        "\n",
        "Esta parte del razonamiento se mirará más tarde cuando se clasifiquen las palabras"
      ],
      "metadata": {
        "id": "K81BhLqDaWiY"
      }
    },
    {
      "cell_type": "code",
      "source": [
        "fdLen = nltk.punkt.FreqDist(len(w) for w in mono_token)"
      ],
      "metadata": {
        "id": "aQRy_Xdxap6n"
      },
      "execution_count": 20,
      "outputs": []
    },
    {
      "cell_type": "code",
      "source": [
        "max = fdLen.max()\n",
        "print(f'El tamaño de las palabras más repetidas es {max}:\\n\\t- Frecuencia : {fdLen[max]}\\n\\t- Frecuencia (%): {fdLen.freq(max)}')"
      ],
      "metadata": {
        "colab": {
          "base_uri": "https://localhost:8080/"
        },
        "id": "qjR_VhupaYZI",
        "outputId": "1fbb0511-6a03-46cc-c73a-1e3fee24c072"
      },
      "execution_count": 21,
      "outputs": [
        {
          "output_type": "stream",
          "name": "stdout",
          "text": [
            "El tamaño de las palabras más repetidas es 2:\n",
            "\t- Frecuencia : 115879\n",
            "\t- Frecuencia (%): 0.1402306055816813\n"
          ]
        }
      ]
    },
    {
      "cell_type": "markdown",
      "source": [
        "#### Hapaxes\n",
        "\n",
        "There are 12893 hapaxes, that is around 1% (0.0156) of all the abstracts. So we are going to eliminate them."
      ],
      "metadata": {
        "id": "BTlY130iZ6Vw"
      }
    },
    {
      "cell_type": "code",
      "source": [
        "print(f'Nº de palabras únicas: {len(fdist1.hapaxes())}, ejemplos: {fdist1.hapaxes()[:5]}')"
      ],
      "metadata": {
        "colab": {
          "base_uri": "https://localhost:8080/"
        },
        "id": "Rso45k7sRqqK",
        "outputId": "1e9fb52f-c2b2-4be7-9fb2-d87b69ae8d6c"
      },
      "execution_count": 22,
      "outputs": [
        {
          "output_type": "stream",
          "name": "stdout",
          "text": [
            "Nº de palabras únicas: 12893, ejemplos: ['models.spectral', 'practice.number', 'models.not', 'them.learning', 'timestamping']\n"
          ]
        }
      ]
    },
    {
      "cell_type": "markdown",
      "source": [
        "#### (Exploration) Remove non-alphanumeric characters from the list of words\n",
        "\n",
        "Como se puede observar, esto es una gran hostia, porque podemos ver que son 109645 (13%) de las palabras. Esto es bueno porque para nuestro clasificador, no nos intersa que existan simbolos de puntuación. La diferencia entre `No, eso es bueno` y `No es bueno`. No está dentro de nuestro scope."
      ],
      "metadata": {
        "id": "eHvlkUA0bm5F"
      }
    },
    {
      "cell_type": "code",
      "source": [
        "only_alpha = len([word for word in mono_token if word.isalpha()])\n",
        "only_alpha"
      ],
      "metadata": {
        "colab": {
          "base_uri": "https://localhost:8080/"
        },
        "id": "zY5F2oy7M7gQ",
        "outputId": "436c2c96-84ef-446f-eeee-a6fa12ff0a03"
      },
      "execution_count": 23,
      "outputs": [
        {
          "output_type": "execute_result",
          "data": {
            "text/plain": [
              "716701"
            ]
          },
          "metadata": {},
          "execution_count": 23
        }
      ]
    },
    {
      "cell_type": "code",
      "source": [
        "len(mono_token) - only_alpha"
      ],
      "metadata": {
        "colab": {
          "base_uri": "https://localhost:8080/"
        },
        "id": "uV98ESTvb4p8",
        "outputId": "d1b18943-5b9b-4675-809e-e9f1ac0ebccf"
      },
      "execution_count": 24,
      "outputs": [
        {
          "output_type": "execute_result",
          "data": {
            "text/plain": [
              "109645"
            ]
          },
          "metadata": {},
          "execution_count": 24
        }
      ]
    },
    {
      "cell_type": "markdown",
      "source": [
        "#### (Exploration) Remove articles\n",
        "\n",
        "To do this task, first we need to classify the tokenized words, and use a pretrained model from `nltk`. For this we have to download the package: `averaged_perceptron_tagger`.\n",
        "\n",
        "- `cc` coordinating conjunction\n",
        "- `rb` adverbs\n",
        "- `in` preposition\n",
        "- `nn` noun\n",
        "- `jj` adjective\n",
        "- `vbp` verb"
      ],
      "metadata": {
        "id": "IMPgugbLc8oD"
      }
    },
    {
      "cell_type": "code",
      "source": [
        "tags = nltk.pos_tag(mono_token)\n",
        "tags[:5]"
      ],
      "metadata": {
        "colab": {
          "base_uri": "https://localhost:8080/"
        },
        "id": "HwBOFmt7dLh1",
        "outputId": "cec5d020-baec-4672-e3ed-8989b3f1e781"
      },
      "execution_count": 25,
      "outputs": [
        {
          "output_type": "execute_result",
          "data": {
            "text/plain": [
              "[('statistical', 'JJ'),\n",
              " ('word', 'NN'),\n",
              " ('alignment', 'NN'),\n",
              " ('models', 'NNS'),\n",
              " ('need', 'VBP')]"
            ]
          },
          "metadata": {},
          "execution_count": 25
        }
      ]
    },
    {
      "cell_type": "code",
      "source": [
        "# get rid of prepositions\n",
        "with_no_prepositions = len([word for word, tag in tags if tag != 'IN'])\n",
        "with_no_prepositions"
      ],
      "metadata": {
        "colab": {
          "base_uri": "https://localhost:8080/"
        },
        "id": "nWaK24tBdwy1",
        "outputId": "061bd67b-2e55-464e-b265-2d6665290d4f"
      },
      "execution_count": 26,
      "outputs": [
        {
          "output_type": "execute_result",
          "data": {
            "text/plain": [
              "733956"
            ]
          },
          "metadata": {},
          "execution_count": 26
        }
      ]
    },
    {
      "cell_type": "code",
      "source": [
        "len(mono_token) - with_no_prepositions"
      ],
      "metadata": {
        "colab": {
          "base_uri": "https://localhost:8080/"
        },
        "id": "vrVFEJQKd2k8",
        "outputId": "998807b9-7223-4dad-ae9d-fb71148861cc"
      },
      "execution_count": 27,
      "outputs": [
        {
          "output_type": "execute_result",
          "data": {
            "text/plain": [
              "92390"
            ]
          },
          "metadata": {},
          "execution_count": 27
        }
      ]
    },
    {
      "cell_type": "markdown",
      "source": [
        "Como se ha podido observar, nos interesa quitar tanto las preopisiciones como los valores que no son alphanuméricos. A continuación, para terminar, se analizará de nuevo, las repeticiones de los top 10 y el tamaño de palabras más grande."
      ],
      "metadata": {
        "id": "KtO5GfMZ8ZBb"
      }
    },
    {
      "cell_type": "markdown",
      "source": [
        "#### Conclusión\n",
        "\n",
        "Como se ha podido observar, nos interesa quitar tanto las preopisiciones como los valores que no son alphanuméricos. A continuación, para terminar, se analizará de nuevo, las repeticiones de los top 10 y el tamaño de palabras más grande."
      ],
      "metadata": {
        "id": "f4spkV8U9jBt"
      }
    },
    {
      "cell_type": "code",
      "source": [
        "# remove hapaxes from the frequency distribution\n",
        "fdist2 = nltk.punkt.FreqDist(mono_token)\n",
        "for hapax in fdist2.hapaxes():\n",
        "    del fdist2[hapax]"
      ],
      "metadata": {
        "id": "lIEJIaYIe5ZK"
      },
      "execution_count": 28,
      "outputs": []
    },
    {
      "cell_type": "code",
      "source": [
        "print(f'fdist2 (get rid of hepaxes): {len(fdist2)} - fdist1: {len(fdist1)}')"
      ],
      "metadata": {
        "colab": {
          "base_uri": "https://localhost:8080/"
        },
        "id": "s5FOBk-95Wl2",
        "outputId": "e8d298d5-4e16-4ca4-d8c4-004f3addbccd"
      },
      "execution_count": 29,
      "outputs": [
        {
          "output_type": "stream",
          "name": "stdout",
          "text": [
            "fdist2 (get rid of hepaxes): 15667 - fdist1: 28560\n"
          ]
        }
      ]
    },
    {
      "cell_type": "code",
      "source": [
        "new_X = fdist2.keys()"
      ],
      "metadata": {
        "id": "OyCnbRAM5xvJ"
      },
      "execution_count": 30,
      "outputs": []
    },
    {
      "cell_type": "code",
      "source": [
        "only_alpha = [word for word in new_X if word.isalpha()]"
      ],
      "metadata": {
        "id": "hEpwPrLGeCXk"
      },
      "execution_count": 31,
      "outputs": []
    },
    {
      "cell_type": "code",
      "source": [
        "len(only_alpha)"
      ],
      "metadata": {
        "colab": {
          "base_uri": "https://localhost:8080/"
        },
        "id": "2UBmdMsN6E-9",
        "outputId": "2731297b-aa46-4055-e64f-0d86076c1db9"
      },
      "execution_count": 32,
      "outputs": [
        {
          "output_type": "execute_result",
          "data": {
            "text/plain": [
              "12415"
            ]
          },
          "metadata": {},
          "execution_count": 32
        }
      ]
    },
    {
      "cell_type": "code",
      "source": [
        "new_X = only_alpha\n",
        "tags = nltk.pos_tag(new_X)"
      ],
      "metadata": {
        "id": "igoEv481fA8m"
      },
      "execution_count": 33,
      "outputs": []
    },
    {
      "cell_type": "code",
      "source": [
        "with_no_prepositions = [word for word, tag in tags if tag != 'IN']"
      ],
      "metadata": {
        "id": "KlkpKKGvfAEy"
      },
      "execution_count": 34,
      "outputs": []
    },
    {
      "cell_type": "code",
      "source": [
        "new_X = with_no_prepositions\n",
        "fdLen_2 = nltk.punkt.FreqDist(len(w) for w in with_no_prepositions)\n",
        "max = fdLen_2.max()\n",
        "print(f'El tamaño de las palabras más repetidas es {max}:\\n\\t- Frecuencia : {fdLen_2[max]}\\n\\t- Frecuencia (%): {fdLen_2.freq(max)}')"
      ],
      "metadata": {
        "colab": {
          "base_uri": "https://localhost:8080/"
        },
        "id": "mA2_fENue-os",
        "outputId": "2064d2d4-9bc3-4138-a302-d47cbe6c4c5c"
      },
      "execution_count": 35,
      "outputs": [
        {
          "output_type": "stream",
          "name": "stdout",
          "text": [
            "El tamaño de las palabras más repetidas es 8:\n",
            "\t- Frecuencia : 1505\n",
            "\t- Frecuencia (%): 0.12237762237762238\n"
          ]
        }
      ]
    },
    {
      "cell_type": "code",
      "source": [
        "for w in new_X:\n",
        "    if len(w) == max:\n",
        "        print(f'Example of most repetitive len ({max}) : {w}')\n",
        "        break"
      ],
      "metadata": {
        "colab": {
          "base_uri": "https://localhost:8080/"
        },
        "id": "TYcVVMed8itA",
        "outputId": "13024a5e-f0ec-40d9-b4c3-73a343f0f26d"
      },
      "execution_count": 36,
      "outputs": [
        {
          "output_type": "stream",
          "name": "stdout",
          "text": [
            "Example of most repetitive len (8) : training\n"
          ]
        }
      ]
    },
    {
      "cell_type": "markdown",
      "source": [
        "Como se puede ver, la diferencia entre quitar o no las palabras con 2 caracteres. Al parecer y como intuímos anteriormente, la gran mayoría eran preposiciones y otros caracteres de la categoría `IN`"
      ],
      "metadata": {
        "id": "H8nIvUBs649n"
      }
    },
    {
      "cell_type": "code",
      "source": [
        "print(f'Sizes of each step:\\n\\t- hapaxes removed : {len(fdist2)}\\n\\t- Only alpha numerics: {len(only_alpha)}\\n\\t- Prepositions removed: {len(with_no_prepositions)}\\n\\nSize of new X is: {len(new_X)}')"
      ],
      "metadata": {
        "colab": {
          "base_uri": "https://localhost:8080/"
        },
        "id": "CmeYfthk6Q2R",
        "outputId": "8e41571a-7f29-42e4-8cf7-8af578c6996e"
      },
      "execution_count": 37,
      "outputs": [
        {
          "output_type": "stream",
          "name": "stdout",
          "text": [
            "Sizes of each step:\n",
            "\t- hapaxes removed : 15667\n",
            "\t- Only alpha numerics: 12415\n",
            "\t- Prepositions removed: 12298\n",
            "\n",
            "Size of new X is: 12298\n"
          ]
        }
      ]
    },
    {
      "cell_type": "markdown",
      "source": [
        "Bueno, igual 12k no es lo mejor del mundo, pero como todo en esta vida, hay que probarlo. Eso es lo que vamos a hacer!!"
      ],
      "metadata": {
        "id": "miTrsYYB8EKq"
      }
    },
    {
      "cell_type": "markdown",
      "source": [
        "## Cleanning\n",
        "\n",
        "1. Cleanning\n",
        "    1. Remove '.', ',', '?', etc.\n",
        "    2. Remove hepaxes if they are not specific (or niche).\n",
        "    3. Remove (if needed) words with low frequency\n",
        "\n",
        "\n",
        "This cleaning is for each of the abstracts and not as a molotic abstract thing, like earlier."
      ],
      "metadata": {
        "id": "TuOg7zMc9rW7"
      }
    },
    {
      "cell_type": "code",
      "source": [
        "token_list = []\n",
        "\n",
        "for abstract in X.values:\n",
        "    token_list.append(nltk.word_tokenize(abstract.lower()))\n",
        "\n",
        "print(f'Size of token_list : {len(token_list)} (must be 4555 same size as X)')\n",
        "print(f'Example of abstract 0 (len): {len(token_list[0])}. First 5 words: {token_list[0][:5]}')"
      ],
      "metadata": {
        "colab": {
          "base_uri": "https://localhost:8080/"
        },
        "id": "Bl78FJFx905d",
        "outputId": "d5082ca9-7866-4922-b8b4-b83f71d473a6"
      },
      "execution_count": 38,
      "outputs": [
        {
          "output_type": "stream",
          "name": "stdout",
          "text": [
            "Size of token_list : 4555 (must be 4555 same size as X)\n",
            "Example of abstract 0 (len): 119. First 5 words: ['statistical', 'word', 'alignment', 'models', 'need']\n"
          ]
        }
      ]
    },
    {
      "cell_type": "code",
      "source": [
        "# Get overall hapaxes\n",
        "fdist2 = nltk.punkt.FreqDist(mono_token)\n",
        "global_hapaxes = fdist2.hapaxes()\n",
        "global_hapaxes[:5]"
      ],
      "metadata": {
        "colab": {
          "base_uri": "https://localhost:8080/"
        },
        "id": "FlUk-tsBGgQ4",
        "outputId": "c64adbfa-b96f-49ed-898a-334f0f3f88aa"
      },
      "execution_count": 39,
      "outputs": [
        {
          "output_type": "execute_result",
          "data": {
            "text/plain": [
              "['models.spectral',\n",
              " 'practice.number',\n",
              " 'models.not',\n",
              " 'them.learning',\n",
              " 'timestamping']"
            ]
          },
          "metadata": {},
          "execution_count": 39
        }
      ]
    },
    {
      "cell_type": "code",
      "source": [
        "hapax_dict = {i: None for i in global_hapaxes}"
      ],
      "metadata": {
        "id": "XHLndvI1KRAg"
      },
      "execution_count": 40,
      "outputs": []
    },
    {
      "cell_type": "code",
      "source": [
        "[word for word in token_list[0] if word not in hapax_dict]"
      ],
      "metadata": {
        "colab": {
          "base_uri": "https://localhost:8080/"
        },
        "id": "bl3tF5oRKnbi",
        "outputId": "4df7b651-cfaa-46f9-d5b1-b9d5cab4b8ac"
      },
      "execution_count": 41,
      "outputs": [
        {
          "output_type": "execute_result",
          "data": {
            "text/plain": [
              "['statistical',\n",
              " 'word',\n",
              " 'alignment',\n",
              " 'models',\n",
              " 'need',\n",
              " 'large',\n",
              " 'amount',\n",
              " 'of',\n",
              " 'training',\n",
              " 'data',\n",
              " 'while',\n",
              " 'they',\n",
              " 'are',\n",
              " 'weak',\n",
              " 'in',\n",
              " 'small-size',\n",
              " 'corpora',\n",
              " '.',\n",
              " 'this',\n",
              " 'paper',\n",
              " 'proposes',\n",
              " 'a',\n",
              " 'new',\n",
              " 'approach',\n",
              " 'of',\n",
              " 'unsupervised',\n",
              " 'hybrid',\n",
              " 'word',\n",
              " 'alignment',\n",
              " 'technique',\n",
              " 'using',\n",
              " 'ensemble',\n",
              " 'learning',\n",
              " 'method',\n",
              " '.',\n",
              " 'this',\n",
              " 'algorithm',\n",
              " 'uses',\n",
              " 'three',\n",
              " 'base',\n",
              " 'alignment',\n",
              " 'models',\n",
              " 'in',\n",
              " 'several',\n",
              " 'rounds',\n",
              " 'to',\n",
              " 'generate',\n",
              " 'alignments',\n",
              " '.',\n",
              " 'the',\n",
              " 'ensemble',\n",
              " 'algorithm',\n",
              " 'uses',\n",
              " 'a',\n",
              " 'weighed',\n",
              " 'scheme',\n",
              " 'for',\n",
              " 'resampling',\n",
              " 'training',\n",
              " 'data',\n",
              " 'and',\n",
              " 'a',\n",
              " 'voting',\n",
              " 'score',\n",
              " 'to',\n",
              " 'consider',\n",
              " 'aggregated',\n",
              " 'alignments',\n",
              " '.',\n",
              " 'the',\n",
              " 'underlying',\n",
              " 'alignment',\n",
              " 'algorithms',\n",
              " 'used',\n",
              " 'in',\n",
              " 'this',\n",
              " 'study',\n",
              " 'include',\n",
              " 'ibm',\n",
              " 'model',\n",
              " '1',\n",
              " ',',\n",
              " '2',\n",
              " 'and',\n",
              " 'a',\n",
              " 'heuristic',\n",
              " 'method',\n",
              " 'based',\n",
              " 'on',\n",
              " 'dice',\n",
              " 'measurement',\n",
              " '.',\n",
              " 'our',\n",
              " 'experimental',\n",
              " 'results',\n",
              " 'show',\n",
              " 'that',\n",
              " 'by',\n",
              " 'this',\n",
              " 'approach',\n",
              " ',',\n",
              " 'the',\n",
              " 'alignment',\n",
              " 'error',\n",
              " 'rate',\n",
              " 'could',\n",
              " 'be',\n",
              " 'improved',\n",
              " 'by',\n",
              " 'at',\n",
              " 'least',\n",
              " '%',\n",
              " '15',\n",
              " 'for',\n",
              " 'the',\n",
              " 'base',\n",
              " 'alignment',\n",
              " 'models',\n",
              " '.']"
            ]
          },
          "metadata": {},
          "execution_count": 41
        }
      ]
    },
    {
      "cell_type": "code",
      "source": [
        "clean_abstracts = []\n",
        "for abs_tok in token_list:\n",
        "    # remove hapaxes from the frequency distribution\n",
        "    # Only hapaxes from the overall\n",
        "    abs_freq = [word for word in abs_tok if word not in hapax_dict]\n",
        "\n",
        "    # remove non-alphanumeric values\n",
        "    only_alpha = [word for word in abs_freq if word.isalpha()]\n",
        "\n",
        "    # remove `IN`\n",
        "    tags = nltk.pos_tag(only_alpha)\n",
        "    with_no_prepositions = [word for word, tag in tags if tag != 'IN']\n",
        "\n",
        "    clean_abstracts.append(' '.join(with_no_prepositions))\n",
        "\n",
        "del token_list\n",
        "\n",
        "print(f'Size of clean_abstracts : {len(clean_abstracts)} (must be 4555 same size as X)')\n",
        "print(f'Example length of new abstract: {len(clean_abstracts[0])}. First 5 words: {clean_abstracts[0][:5]}')"
      ],
      "metadata": {
        "colab": {
          "base_uri": "https://localhost:8080/"
        },
        "id": "j5cp5T9f-oL1",
        "outputId": "9910cc33-2e0d-4d4a-eb41-227320f43d66"
      },
      "execution_count": 42,
      "outputs": [
        {
          "output_type": "stream",
          "name": "stdout",
          "text": [
            "Size of clean_abstracts : 4555 (must be 4555 same size as X)\n",
            "Example length of new abstract: 642. First 5 words: stati\n"
          ]
        }
      ]
    },
    {
      "cell_type": "code",
      "source": [
        "clean_abstracts[0]"
      ],
      "metadata": {
        "colab": {
          "base_uri": "https://localhost:8080/",
          "height": 87
        },
        "id": "1cNX6iaXODVO",
        "outputId": "1ec1f8fc-c613-4dea-9c31-f235073e74f6"
      },
      "execution_count": 43,
      "outputs": [
        {
          "output_type": "execute_result",
          "data": {
            "text/plain": [
              "'statistical word alignment models need large amount training data they are weak corpora this paper proposes a new approach unsupervised hybrid word alignment technique using ensemble learning method this algorithm uses three base alignment models several rounds to generate alignments the ensemble algorithm uses a weighed scheme resampling training data and a voting score to consider aggregated alignments the underlying alignment algorithms used this study include ibm model and a heuristic method based dice measurement our experimental results show this approach the alignment error rate could be improved least the base alignment models'"
            ],
            "application/vnd.google.colaboratory.intrinsic+json": {
              "type": "string"
            }
          },
          "metadata": {},
          "execution_count": 43
        }
      ]
    },
    {
      "cell_type": "code",
      "source": [
        "## TODO: CHECK THIS"
      ],
      "metadata": {
        "id": "0kQqrFoDZCvw"
      },
      "execution_count": 44,
      "outputs": []
    },
    {
      "cell_type": "code",
      "source": [
        "# create a list of string lengths\n",
        "lengths = [len(s) for s in clean_abstracts]\n",
        "\n",
        "# sort the list of lengths\n",
        "lengths_sorted = sorted(lengths)\n",
        "\n",
        "# find the middle index of the sorted list\n",
        "middle_index = len(lengths_sorted) // 2\n",
        "\n",
        "\n",
        "if len(lengths_sorted) % 2 == 1:\n",
        "    # if odd, the median is the value at the middle index\n",
        "    median = lengths_sorted[middle_index]\n",
        "else:\n",
        "    # if even, the median is the average of the values at the middle two indices\n",
        "    median = (lengths_sorted[middle_index - 1] + lengths_sorted[middle_index]) / 2\n",
        "\n",
        "print(f'The median is: {median}')"
      ],
      "metadata": {
        "colab": {
          "base_uri": "https://localhost:8080/"
        },
        "id": "HcLxuo-FO_Wq",
        "outputId": "f0ad8c80-b2a2-49bc-f6af-44daef2d2605"
      },
      "execution_count": 48,
      "outputs": [
        {
          "output_type": "stream",
          "name": "stdout",
          "text": [
            "The median is: 925\n"
          ]
        }
      ]
    },
    {
      "cell_type": "markdown",
      "source": [
        "# Keywords"
      ],
      "metadata": {
        "id": "9Q3flI3PMCtY"
      }
    },
    {
      "cell_type": "markdown",
      "source": [
        "## Data exploration\n",
        "\n",
        "Data exploration and cleaning of all abstracts.\n",
        "\n",
        "1. Data exploration\n",
        "    1. Repetitions of keywords\n",
        "    2. Evaluation of different percentiles\n",
        "    3. Frequency of keywords together in the same row"
      ],
      "metadata": {
        "id": "breKWmezMjfh"
      }
    },
    {
      "cell_type": "markdown",
      "source": [
        "### Repetition of keywords\n",
        "\n",
        "Before getting the bars. We need to parse the keywords from a string to a list of strings."
      ],
      "metadata": {
        "id": "fQl_reTHQz1p"
      }
    },
    {
      "cell_type": "code",
      "source": [
        "words = []\n",
        "\n",
        "for i, abs in enumerate(y.values):\n",
        "    words.append([])\n",
        "    for w in abs.replace('[', '').replace(']', '').replace('\\'', '').split(','):\n",
        "        words[i].append(w.strip())\n",
        "\n",
        "flat_keys = [item for subkeys in words for item in subkeys]\n",
        "\n",
        "print(\"Terminado, hay\", len(flat_keys), \"palabras\")"
      ],
      "metadata": {
        "colab": {
          "base_uri": "https://localhost:8080/"
        },
        "id": "1UfM3iYFQwQC",
        "outputId": "4916d47f-5fb5-40a9-b365-17e1fcabdfaf"
      },
      "execution_count": 49,
      "outputs": [
        {
          "output_type": "stream",
          "name": "stdout",
          "text": [
            "Terminado, hay 31607 palabras\n"
          ]
        }
      ]
    },
    {
      "cell_type": "markdown",
      "source": [
        "As we can appreciate, the most common one is `machine learning` by far. From there, we can see that each key is followed closely."
      ],
      "metadata": {
        "id": "feGpdwEsUE11"
      }
    },
    {
      "cell_type": "code",
      "source": [
        "from collections import Counter\n",
        "\n",
        "string_counts = Counter(flat_keys)\n",
        "print(string_counts.most_common()[-1])\n",
        "top_strings = string_counts.most_common(60)\n",
        "\n",
        "df = pd.DataFrame(top_strings, columns=['Key', 'Count'])\n",
        "df = df.iloc[::-1]  # Reverse the order of rows\n",
        "labels, counts = zip(*top_strings)\n",
        "\n",
        "fig, ax = plt.subplots()\n",
        "sns.barplot(x='Count', y='Key', data=df, color='blue')\n",
        "\n",
        "# Add count label for each bar\n",
        "for i, v in enumerate(counts[::-1]):\n",
        "    ax.text(v + 0.5, i, str(v), color='black', fontweight='bold')\n",
        "\n",
        "ax.set_title(\"Top 60 Most Common Strings\")\n",
        "ax.set_xlabel(\"Count\")\n",
        "ax.set_ylabel(\"Key\")"
      ],
      "metadata": {
        "colab": {
          "base_uri": "https://localhost:8080/",
          "height": 124
        },
        "id": "fq0BEW_4Q_DH",
        "outputId": "5e72bf49-c126-4e9f-f2d7-c583dcb8e6be"
      },
      "execution_count": 50,
      "outputs": [
        {
          "output_type": "stream",
          "name": "stdout",
          "text": [
            "('interference constraints', 1)\n"
          ]
        },
        {
          "output_type": "execute_result",
          "data": {
            "text/plain": [
              "Text(0, 0.5, 'Key')"
            ]
          },
          "metadata": {},
          "execution_count": 50
        },
        {
          "output_type": "display_data",
          "data": {
            "text/plain": [
              "<Figure size 640x480 with 1 Axes>"
            ],
            "image/png": "[encoded data removed]"
          },
          "metadata": {}
        }
      ]
    },
    {
      "cell_type": "markdown",
      "source": [
        "### Evaluation of different percentiles\n",
        "\n",
        "I don't know exactly the percentiles they are. But we can infere the definition of percentile for this use case.\n",
        "\n",
        "It can be very obvious that we should use under 50 as a minimum. Think about this, we cannot use as minimum under 3 repetitions since, 6% is repeated, compared to the 10% of the 50. As you can see, the probability of finding a keyword with repetition X is not accumulative (on this example). But it can be done."
      ],
      "metadata": {
        "id": "yZs9Vu3yUUfc"
      }
    },
    {
      "cell_type": "code",
      "source": [
        "una_sola_vez = 0\n",
        "poco_frecuentes = 0\n",
        "poco_frecuentes_50 = 0\n",
        "poco_frecuentes_90 = 0\n",
        "poco_frecuentes_100 = 0\n",
        "\n",
        "# dejamos la elegancia de lado\n",
        "for i in string_counts:\n",
        "  if string_counts.get(i) < 3:\n",
        "    poco_frecuentes +=1\n",
        "\n",
        "for i in string_counts:\n",
        "  if string_counts.get(i) < 2:\n",
        "    una_sola_vez +=1\n",
        "\n",
        "for i in string_counts:\n",
        "  if string_counts.get(i) < 50:\n",
        "    poco_frecuentes_50 +=1\n",
        "\n",
        "for i in string_counts:\n",
        "  if string_counts.get(i) < 90:\n",
        "    poco_frecuentes_90 +=1\n",
        "\n",
        "for i in string_counts:\n",
        "  if string_counts.get(i) < 100:\n",
        "    poco_frecuentes_100 +=1\n",
        "\n",
        "print(\"De las\", len(flat_keys), \"palabras totales hay\", poco_frecuentes, \"palabras que aparecen menos de 3 veces, de las cuales\", una_sola_vez, \"aparecen una sola vez.\")\n",
        "print(\"Es decir, un\", (una_sola_vez/len(flat_keys))*100,\"% de las palabras aparecen una sola vez\")\n",
        "print(\"Es decir, un\", (poco_frecuentes/len(flat_keys))*100,\"% de las palabras aparecen tres veces\")\n",
        "print(\"Es decir, un\", (poco_frecuentes_50/len(flat_keys))*100,\"% de las palabras aparecen 50 veces\")\n",
        "print(\"Es decir, un\", (poco_frecuentes_90/len(flat_keys))*100,\"% de las palabras aparecen 90 veces\")\n",
        "print(\"Es decir, un\", (poco_frecuentes_100/len(flat_keys))*100,\"% de las palabras aparecen 100 veces\")"
      ],
      "metadata": {
        "colab": {
          "base_uri": "https://localhost:8080/"
        },
        "id": "YHKVrcfwT-3S",
        "outputId": "1779a3a6-db6b-4275-c4a4-f6eb7b59c764"
      },
      "execution_count": 51,
      "outputs": [
        {
          "output_type": "stream",
          "name": "stdout",
          "text": [
            "De las 31607 palabras totales hay 2109 palabras que aparecen menos de 3 veces, de las cuales 1626 aparecen una sola vez.\n",
            "Es decir, un 5.144430031322175 % de las palabras aparecen una sola vez\n",
            "Es decir, un 6.672572531401272 % de las palabras aparecen tres veces\n",
            "Es decir, un 10.510329990192046 % de las palabras aparecen 50 veces\n",
            "Es decir, un 10.706489068877149 % de las palabras aparecen 90 veces\n",
            "Es decir, un 10.73812762995539 % de las palabras aparecen 100 veces\n"
          ]
        }
      ]
    },
    {
      "cell_type": "markdown",
      "source": [
        "### Get new keys under X"
      ],
      "metadata": {
        "id": "UorBRppTVzdC"
      }
    },
    {
      "cell_type": "code",
      "source": [
        "flat_keys[0]"
      ],
      "metadata": {
        "colab": {
          "base_uri": "https://localhost:8080/",
          "height": 385
        },
        "id": "GC8Zr3clWXqK",
        "outputId": "e5441fe3-8a95-45fb-8d7b-69239b38e73a"
      },
      "execution_count": 52,
      "outputs": [
        {
          "output_type": "execute_result",
          "data": {
            "text/plain": [
              "'ensemble learning'"
            ],
            "application/vnd.google.colaboratory.intrinsic+json": {
              "type": "string"
            }
          },
          "metadata": {},
          "execution_count": 52
        }
      ]
    },
    {
      "cell_type": "code",
      "source": [
        "arr = np.array(flat_keys)\n",
        "\n",
        "# contar ocurrencias de todas las palabras\n",
        "unique_vals, val_counts = np.unique(arr, return_counts=True)\n",
        "\n",
        "# filtrar los valores con más de 2 o 3 repeticiones\n",
        "filtered_vals_under2 = unique_vals[val_counts >= 2]         # las leyes de DeMorgan lo convierten en < 2, eliminando los que aparecen una sola vez\n",
        "filtered_vals_under3 = unique_vals[val_counts >= 3]         # las leyes de DeMorgan lo convierten en < 3, eliminando los que aparecen dos veces o menos\n",
        "filtered_vals_under50 = unique_vals[val_counts >= 50]         # las leyes de DeMorgan lo convierten en < 50, eliminando los que aparecen dos veces o menos\n",
        "filtered_vals_under90 = unique_vals[val_counts >= 90]         # las leyes de DeMorgan lo convierten en < 90, eliminando los que aparecen dos veces o menos\n",
        "filtered_vals_under100 = unique_vals[val_counts >= 100]         # las leyes de DeMorgan lo convierten en < 100, eliminando los que aparecen dos veces o menos\n",
        "\n",
        "# obtenemos al quitar \n",
        "filtered_arr_under2 = arr[np.isin(arr, filtered_vals_under2)]       # quitamos los que aparecen una sola vez\n",
        "filtered_arr_under3 = arr[np.isin(arr, filtered_vals_under3)]       # quitamos los que aparecen dos veces o menos\n",
        "filtered_arr_under50 = arr[np.isin(arr, filtered_vals_under50)]       # quitamos los que aparecen 50 veces o menos\n",
        "filtered_arr_under90 = arr[np.isin(arr, filtered_vals_under90)]       # quitamos los que aparecen 50 veces o menos\n",
        "filtered_arr_under100 = arr[np.isin(arr, filtered_vals_under100)]       # quitamos los que aparecen 50 veces o menos\n",
        "\n",
        "print(\"Tal y como vimos antes,\", len(flat_keys)-len(filtered_arr_under2), \"palabras que aparecen una vez y\", len(flat_keys)-len(filtered_arr_under3), \"palabras que aparecen dos veces o menos\")\n",
        "print(\"Lo cual nos deja con\", len(filtered_arr_under2), \"palabras si quitamos las que aparecen una vez y\", len(filtered_arr_under3), \"si quitamos las que aparecen dos veces o menos\")\n",
        "\n",
        "print(f\"Quitar las repeticiones menores de 50, nos deja con {len(np.unique(filtered_arr_under50))} keywords unicas.\")\n",
        "print(f\"Quitar las repeticiones menores de 90, nos deja con {len(np.unique(filtered_arr_under90))} keywords unicas.\")\n",
        "print(f\"Quitar las repeticiones menores de 100, nos deja con {len(np.unique(filtered_arr_under100))} keywords unicas.\")"
      ],
      "metadata": {
        "colab": {
          "base_uri": "https://localhost:8080/"
        },
        "id": "vb67xPvSV5o8",
        "outputId": "aedb38d8-c5ae-472d-eb56-04c2b2c1005a"
      },
      "execution_count": 53,
      "outputs": [
        {
          "output_type": "stream",
          "name": "stdout",
          "text": [
            "Tal y como vimos antes, 1626 palabras que aparecen una vez y 2592 palabras que aparecen dos veces o menos\n",
            "Lo cual nos deja con 29981 palabras si quitamos las que aparecen una vez y 29015 si quitamos las que aparecen dos veces o menos\n",
            "Quitar las repeticiones menores de 50, nos deja con 126 keywords unicas.\n",
            "Quitar las repeticiones menores de 90, nos deja con 64 keywords unicas.\n",
            "Quitar las repeticiones menores de 100, nos deja con 54 keywords unicas.\n"
          ]
        }
      ]
    },
    {
      "cell_type": "markdown",
      "source": [
        "### Frequency of keywords together in the same row\n",
        "\n",
        "Now we are going to obtain more information about the sesgation and unbalance of the keywords. It is of our interest to relationate each words. For this, we are going to use a correlation matrix.\n",
        "\n",
        "> `underX` is intended to have the `X` so that you don't have to change the code 100 times"
      ],
      "metadata": {
        "id": "RyKRVnakVOrF"
      }
    },
    {
      "cell_type": "markdown",
      "source": [
        "_**CHANGE THIS VALUE TO 2, 3, 50, 90 or 100**_"
      ],
      "metadata": {
        "id": "zLucJjxCaiY1"
      }
    },
    {
      "cell_type": "code",
      "source": [
        "underX = pd.DataFrame(filtered_arr_under100, columns=['Keywords'])"
      ],
      "metadata": {
        "id": "RMhpVuxXatK_"
      },
      "execution_count": 54,
      "outputs": []
    },
    {
      "cell_type": "markdown",
      "source": [
        "Las palabras más frecuentes, como podemos ver, aparecen juntas con una frecuencia muy baja, lo que da a entender que en los datos está presente una gran cantidad de ruido."
      ],
      "metadata": {
        "id": "8iGJnwrobTPJ"
      }
    },
    {
      "cell_type": "code",
      "source": [
        "# Convertimos las palabras en valores numéricos\n",
        "keyw = pd.DataFrame(words)\n",
        "keyw = pd.get_dummies(underX['Keywords'].apply(pd.Series).stack()).sum(level=0)\n",
        "\n",
        "# crea la matriz de correlación\n",
        "corr_matrix = np.corrcoef(keyw, rowvar=False)\n",
        "\n",
        "# crea el mapa de calor con matplotlib\n",
        "fig, ax = plt.subplots(figsize=(12, 12))\n",
        "im = ax.imshow(corr_matrix, cmap='coolwarm')\n",
        "\n",
        "# personaliza los ejes y el título del mapa de calor\n",
        "ax.set_xticks(np.arange(len(keyw.columns)))\n",
        "ax.set_yticks(np.arange(len(keyw.columns)))\n",
        "ax.set_xticklabels(keyw.columns)\n",
        "ax.set_yticklabels(keyw.columns)\n",
        "plt.setp(ax.get_xticklabels(), rotation=45, ha=\"right\", rotation_mode=\"anchor\")\n",
        "ax.set_title(\"Frecuencia de palabras clave juntas en una misma fila\")\n",
        "\n",
        "# añade una barra de color al mapa de calor\n",
        "cbar = ax.figure.colorbar(im, ax=ax)\n",
        "\n",
        "# muestra el mapa de calor\n",
        "plt.show()"
      ],
      "metadata": {
        "colab": {
          "base_uri": "https://localhost:8080/",
          "height": 89
        },
        "id": "YonqCcOhVmik",
        "outputId": "c6053b46-d64d-439c-e3e0-7c3a9f3ca6a6"
      },
      "execution_count": 55,
      "outputs": [
        {
          "output_type": "stream",
          "name": "stderr",
          "text": [
            "<ipython-input-55-98e88d7e65f8>:3: FutureWarning: Using the level keyword in DataFrame and Series aggregations is deprecated and will be removed in a future version. Use groupby instead. df.sum(level=1) should use df.groupby(level=1).sum().\n",
            "  keyw = pd.get_dummies(underX['Keywords'].apply(pd.Series).stack()).sum(level=0)\n"
          ]
        },
        {
          "output_type": "display_data",
          "data": {
            "text/plain": [
              "<Figure size 1200x1200 with 2 Axes>"
            ],
            "image/png": "[encoded data removed]"
          },
          "metadata": {}
        }
      ]
    },
    {
      "cell_type": "code",
      "source": [
        "len(np.unique(underX))"
      ],
      "metadata": {
        "colab": {
          "base_uri": "https://localhost:8080/"
        },
        "id": "lMVOZcQma7y_",
        "outputId": "dcd9f7a3-2bb0-47f6-eac6-57f8ee1d247b"
      },
      "execution_count": 56,
      "outputs": [
        {
          "output_type": "execute_result",
          "data": {
            "text/plain": [
              "54"
            ]
          },
          "metadata": {},
          "execution_count": 56
        }
      ]
    },
    {
      "cell_type": "code",
      "source": [
        "np.unique(underX)"
      ],
      "metadata": {
        "colab": {
          "base_uri": "https://localhost:8080/"
        },
        "id": "wBPqAtFpbhxT",
        "outputId": "41915c32-6526-49d8-cc35-d1952ff709de"
      },
      "execution_count": 57,
      "outputs": [
        {
          "output_type": "execute_result",
          "data": {
            "text/plain": [
              "array(['5g', 'adaptive', 'algorithm', 'algorithm design and analysis',\n",
              "       'application software', 'bayesian', 'classification', 'clustering',\n",
              "       'cnn', 'computational modeling', 'computer architecture',\n",
              "       'computer science', 'conferences', 'correlation', 'data mining',\n",
              "       'data models', 'databases', 'deep learning', 'detection',\n",
              "       'feature extraction', 'forecasting', 'hidden markov model',\n",
              "       'internet', 'kernel', 'learning', 'machine learning',\n",
              "       'machine learning algorithms', 'mathematical model', 'measurement',\n",
              "       'measuring and metrics', 'monitoring', 'neural networks',\n",
              "       'optimization', 'predictive model', 'protocols',\n",
              "       'quality of service', 'recognition', 'resource management',\n",
              "       'robustness', 'routing', 'security', 'sensors', 'software',\n",
              "       'standards', 'svr', 'task analysis', 'testing', 'time series',\n",
              "       'training', 'training data', 'tutorials', 'wireless communication',\n",
              "       'wireless networks', 'wireless sensor networks'], dtype=object)"
            ]
          },
          "metadata": {},
          "execution_count": 57
        }
      ]
    },
    {
      "cell_type": "markdown",
      "source": [
        "## Cleanning\n",
        "\n",
        "1. Cleanning\n",
        "    1. Remove words which are similar. (Here for the future, we could use nltk `similarity()`)\n",
        "\n",
        "\n",
        "This cleaning is for each of the abstracts and not as a molotic abstract thing, like earlier."
      ],
      "metadata": {
        "id": "9QOPrx07PWtn"
      }
    },
    {
      "cell_type": "markdown",
      "source": [
        "Al tratarse de únicamente 54 valores, vamos a intentar agrupar a mano para reducir algo el ruido las palabras clave que estén relacionadas."
      ],
      "metadata": {
        "id": "7AnQ2wwibuER"
      }
    },
    {
      "cell_type": "code",
      "source": [
        "underX = pd.get_dummies(underX['Keywords'].apply(pd.Series).stack()).sum(level=0)"
      ],
      "metadata": {
        "colab": {
          "base_uri": "https://localhost:8080/"
        },
        "id": "FB_uJt9ebvg0",
        "outputId": "7b3d4e94-06f6-474e-ebbf-ae56c1001ee4"
      },
      "execution_count": 58,
      "outputs": [
        {
          "output_type": "stream",
          "name": "stderr",
          "text": [
            "<ipython-input-58-407d12932dee>:1: FutureWarning: Using the level keyword in DataFrame and Series aggregations is deprecated and will be removed in a future version. Use groupby instead. df.sum(level=1) should use df.groupby(level=1).sum().\n",
            "  underX = pd.get_dummies(underX['Keywords'].apply(pd.Series).stack()).sum(level=0)\n"
          ]
        }
      ]
    },
    {
      "cell_type": "markdown",
      "source": [
        "Creamos un multi-hot, para agrupar a posteriori"
      ],
      "metadata": {
        "id": "CPavXZFbcO8N"
      }
    },
    {
      "cell_type": "code",
      "source": [
        "# Agrupamiento de las keywords que tienen que ver con redes inalámbricas en una sola \"wireless\"\n",
        "underX[\"wireless\"] = underX[\"5g\"] + underX[\"wireless networks\"] + underX[\"wireless sensor networks\"] + underX[\"wireless communication\"]\n",
        "keywords_clean = underX.drop([\"5g\", \"wireless sensor networks\", \"wireless communication\"], axis=1)\n",
        "\n",
        "# Agrupamiento de palabras clave de algoritmos\n",
        "underX[\"algorithms\"] = underX[\"algorithm\"] + underX[\"algorithm design and analysis\"] + underX[\"wireless sensor networks\"] + underX[\"machine learning algorithms\"]\n",
        "keywords_clean = underX.drop([\"algorithm\", \"algorithm design and analysis\", \"machine learning algorithms\"], axis=1)\n",
        "\n",
        "# Agrupamiento de palabras clave de minería de datos\n",
        "underX[\"mining\"] = underX[\"classification\"] + underX[\"clustering\"] + underX[\"data mining\"] + underX[\"correlation\"]\n",
        "keywords_clean = underX.drop([\"classification\", \"clustering\", \"data mining\", \"correlation\"], axis=1)\n",
        "\n",
        "# Agrupamiento de palabras clave de computers\n",
        "underX[\"computers\"] = underX[\"computational modeling\"] + underX[\"computer architecture\"] + underX[\"computer science\"]\n",
        "keywords_clean = underX.drop([\"computational modeling\", \"computer architecture\", \"computer science\"], axis=1)"
      ],
      "metadata": {
        "id": "cUQkv-nDcIu-"
      },
      "execution_count": 59,
      "outputs": []
    },
    {
      "cell_type": "code",
      "source": [
        "underX.head()"
      ],
      "metadata": {
        "colab": {
          "base_uri": "https://localhost:8080/",
          "height": 352
        },
        "id": "0yiuVVL1cLf0",
        "outputId": "98c92449-1c31-4499-d4a8-64bd28aebdcb"
      },
      "execution_count": 60,
      "outputs": [
        {
          "output_type": "execute_result",
          "data": {
            "text/plain": [
              "   5g  adaptive  algorithm  algorithm design and analysis  \\\n",
              "0   0         0          0                              0   \n",
              "1   0         0          0                              0   \n",
              "2   0         1          0                              0   \n",
              "3   0         0          0                              0   \n",
              "4   0         0          0                              0   \n",
              "\n",
              "   application software  bayesian  classification  clustering  cnn  \\\n",
              "0                     0         0               0           1    0   \n",
              "1                     0         0               0           0    0   \n",
              "2                     0         0               0           0    0   \n",
              "3                     0         0               0           0    0   \n",
              "4                     0         0               0           0    0   \n",
              "\n",
              "   computational modeling  ...  training  training data  tutorials  \\\n",
              "0                       0  ...         0              0          0   \n",
              "1                       0  ...         0              0          0   \n",
              "2                       0  ...         0              0          0   \n",
              "3                       0  ...         0              0          0   \n",
              "4                       0  ...         0              0          0   \n",
              "\n",
              "   wireless communication  wireless networks  wireless sensor networks  \\\n",
              "0                       0                  0                         0   \n",
              "1                       0                  0                         0   \n",
              "2                       0                  0                         0   \n",
              "3                       0                  0                         0   \n",
              "4                       0                  0                         0   \n",
              "\n",
              "   wireless  algorithms  mining  computers  \n",
              "0         0           0       1          0  \n",
              "1         0           0       0          0  \n",
              "2         0           0       0          0  \n",
              "3         0           0       0          0  \n",
              "4         0           0       0          0  \n",
              "\n",
              "[5 rows x 58 columns]"
            ],
            "text/html": [
              "\n",
              "  <div id=\"df-6ee038ce-0c5b-4e2d-be0d-906fb386488b\">\n",
              "    <div class=\"colab-df-container\">\n",
              "      <div>\n",
              "<style scoped>\n",
              "    .dataframe tbody tr th:only-of-type {\n",
              "        vertical-align: middle;\n",
              "    }\n",
              "\n",
              "    .dataframe tbody tr th {\n",
              "        vertical-align: top;\n",
              "    }\n",
              "\n",
              "    .dataframe thead th {\n",
              "        text-align: right;\n",
              "    }\n",
              "</style>\n",
              "<table border=\"1\" class=\"dataframe\">\n",
              "  <thead>\n",
              "    <tr style=\"text-align: right;\">\n",
              "      <th></th>\n",
              "      <th>5g</th>\n",
              "      <th>adaptive</th>\n",
              "      <th>algorithm</th>\n",
              "      <th>algorithm design and analysis</th>\n",
              "      <th>application software</th>\n",
              "      <th>bayesian</th>\n",
              "      <th>classification</th>\n",
              "      <th>clustering</th>\n",
              "      <th>cnn</th>\n",
              "      <th>computational modeling</th>\n",
              "      <th>...</th>\n",
              "      <th>training</th>\n",
              "      <th>training data</th>\n",
              "      <th>tutorials</th>\n",
              "      <th>wireless communication</th>\n",
              "      <th>wireless networks</th>\n",
              "      <th>wireless sensor networks</th>\n",
              "      <th>wireless</th>\n",
              "      <th>algorithms</th>\n",
              "      <th>mining</th>\n",
              "      <th>computers</th>\n",
              "    </tr>\n",
              "  </thead>\n",
              "  <tbody>\n",
              "    <tr>\n",
              "      <th>0</th>\n",
              "      <td>0</td>\n",
              "      <td>0</td>\n",
              "      <td>0</td>\n",
              "      <td>0</td>\n",
              "      <td>0</td>\n",
              "      <td>0</td>\n",
              "      <td>0</td>\n",
              "      <td>1</td>\n",
              "      <td>0</td>\n",
              "      <td>0</td>\n",
              "      <td>...</td>\n",
              "      <td>0</td>\n",
              "      <td>0</td>\n",
              "      <td>0</td>\n",
              "      <td>0</td>\n",
              "      <td>0</td>\n",
              "      <td>0</td>\n",
              "      <td>0</td>\n",
              "      <td>0</td>\n",
              "      <td>1</td>\n",
              "      <td>0</td>\n",
              "    </tr>\n",
              "    <tr>\n",
              "      <th>1</th>\n",
              "      <td>0</td>\n",
              "      <td>0</td>\n",
              "      <td>0</td>\n",
              "      <td>0</td>\n",
              "      <td>0</td>\n",
              "      <td>0</td>\n",
              "      <td>0</td>\n",
              "      <td>0</td>\n",
              "      <td>0</td>\n",
              "      <td>0</td>\n",
              "      <td>...</td>\n",
              "      <td>0</td>\n",
              "      <td>0</td>\n",
              "      <td>0</td>\n",
              "      <td>0</td>\n",
              "      <td>0</td>\n",
              "      <td>0</td>\n",
              "      <td>0</td>\n",
              "      <td>0</td>\n",
              "      <td>0</td>\n",
              "      <td>0</td>\n",
              "    </tr>\n",
              "    <tr>\n",
              "      <th>2</th>\n",
              "      <td>0</td>\n",
              "      <td>1</td>\n",
              "      <td>0</td>\n",
              "      <td>0</td>\n",
              "      <td>0</td>\n",
              "      <td>0</td>\n",
              "      <td>0</td>\n",
              "      <td>0</td>\n",
              "      <td>0</td>\n",
              "      <td>0</td>\n",
              "      <td>...</td>\n",
              "      <td>0</td>\n",
              "      <td>0</td>\n",
              "      <td>0</td>\n",
              "      <td>0</td>\n",
              "      <td>0</td>\n",
              "      <td>0</td>\n",
              "      <td>0</td>\n",
              "      <td>0</td>\n",
              "      <td>0</td>\n",
              "      <td>0</td>\n",
              "    </tr>\n",
              "    <tr>\n",
              "      <th>3</th>\n",
              "      <td>0</td>\n",
              "      <td>0</td>\n",
              "      <td>0</td>\n",
              "      <td>0</td>\n",
              "      <td>0</td>\n",
              "      <td>0</td>\n",
              "      <td>0</td>\n",
              "      <td>0</td>\n",
              "      <td>0</td>\n",
              "      <td>0</td>\n",
              "      <td>...</td>\n",
              "      <td>0</td>\n",
              "      <td>0</td>\n",
              "      <td>0</td>\n",
              "      <td>0</td>\n",
              "      <td>0</td>\n",
              "      <td>0</td>\n",
              "      <td>0</td>\n",
              "      <td>0</td>\n",
              "      <td>0</td>\n",
              "      <td>0</td>\n",
              "    </tr>\n",
              "    <tr>\n",
              "      <th>4</th>\n",
              "      <td>0</td>\n",
              "      <td>0</td>\n",
              "      <td>0</td>\n",
              "      <td>0</td>\n",
              "      <td>0</td>\n",
              "      <td>0</td>\n",
              "      <td>0</td>\n",
              "      <td>0</td>\n",
              "      <td>0</td>\n",
              "      <td>0</td>\n",
              "      <td>...</td>\n",
              "      <td>0</td>\n",
              "      <td>0</td>\n",
              "      <td>0</td>\n",
              "      <td>0</td>\n",
              "      <td>0</td>\n",
              "      <td>0</td>\n",
              "      <td>0</td>\n",
              "      <td>0</td>\n",
              "      <td>0</td>\n",
              "      <td>0</td>\n",
              "    </tr>\n",
              "  </tbody>\n",
              "</table>\n",
              "<p>5 rows × 58 columns</p>\n",
              "</div>\n",
              "      <button class=\"colab-df-convert\" onclick=\"convertToInteractive('df-6ee038ce-0c5b-4e2d-be0d-906fb386488b')\"\n",
              "              title=\"Convert this dataframe to an interactive table.\"\n",
              "              style=\"display:none;\">\n",
              "        \n",
              "  <svg xmlns=\"http://www.w3.org/2000/svg\" height=\"24px\"viewBox=\"0 0 24 24\"\n",
              "       width=\"24px\">\n",
              "    <path d=\"M0 0h24v24H0V0z\" fill=\"none\"/>\n",
              "    <path d=\"M18.56 5.44l.94 2.06.94-2.06 2.06-.94-2.06-.94-.94-2.06-.94 2.06-2.06.94zm-11 1L8.5 8.5l.94-2.06 2.06-.94-2.06-.94L8.5 2.5l-.94 2.06-2.06.94zm10 10l.94 2.06.94-2.06 2.06-.94-2.06-.94-.94-2.06-.94 2.06-2.06.94z\"/><path d=\"M17.41 7.96l-1.37-1.37c-.4-.4-.92-.59-1.43-.59-.52 0-1.04.2-1.43.59L10.3 9.45l-7.72 7.72c-.78.78-.78 2.05 0 2.83L4 21.41c.39.39.9.59 1.41.59.51 0 1.02-.2 1.41-.59l7.78-7.78 2.81-2.81c.8-.78.8-2.07 0-2.86zM5.41 20L4 18.59l7.72-7.72 1.47 1.35L5.41 20z\"/>\n",
              "  </svg>\n",
              "      </button>\n",
              "      \n",
              "  <style>\n",
              "    .colab-df-container {\n",
              "      display:flex;\n",
              "      flex-wrap:wrap;\n",
              "      gap: 12px;\n",
              "    }\n",
              "\n",
              "    .colab-df-convert {\n",
              "      background-color: #E8F0FE;\n",
              "      border: none;\n",
              "      border-radius: 50%;\n",
              "      cursor: pointer;\n",
              "      display: none;\n",
              "      fill: #1967D2;\n",
              "      height: 32px;\n",
              "      padding: 0 0 0 0;\n",
              "      width: 32px;\n",
              "    }\n",
              "\n",
              "    .colab-df-convert:hover {\n",
              "      background-color: #E2EBFA;\n",
              "      box-shadow: 0px 1px 2px rgba(60, 64, 67, 0.3), 0px 1px 3px 1px rgba(60, 64, 67, 0.15);\n",
              "      fill: #174EA6;\n",
              "    }\n",
              "\n",
              "    [theme=dark] .colab-df-convert {\n",
              "      background-color: #3B4455;\n",
              "      fill: #D2E3FC;\n",
              "    }\n",
              "\n",
              "    [theme=dark] .colab-df-convert:hover {\n",
              "      background-color: #434B5C;\n",
              "      box-shadow: 0px 1px 3px 1px rgba(0, 0, 0, 0.15);\n",
              "      filter: drop-shadow(0px 1px 2px rgba(0, 0, 0, 0.3));\n",
              "      fill: #FFFFFF;\n",
              "    }\n",
              "  </style>\n",
              "\n",
              "      <script>\n",
              "        const buttonEl =\n",
              "          document.querySelector('#df-6ee038ce-0c5b-4e2d-be0d-906fb386488b button.colab-df-convert');\n",
              "        buttonEl.style.display =\n",
              "          google.colab.kernel.accessAllowed ? 'block' : 'none';\n",
              "\n",
              "        async function convertToInteractive(key) {\n",
              "          const element = document.querySelector('#df-6ee038ce-0c5b-4e2d-be0d-906fb386488b');\n",
              "          const dataTable =\n",
              "            await google.colab.kernel.invokeFunction('convertToInteractive',\n",
              "                                                     [key], {});\n",
              "          if (!dataTable) return;\n",
              "\n",
              "          const docLinkHtml = 'Like what you see? Visit the ' +\n",
              "            '<a target=\"_blank\" href=https://colab.research.google.com/notebooks/data_table.ipynb>data table notebook</a>'\n",
              "            + ' to learn more about interactive tables.';\n",
              "          element.innerHTML = '';\n",
              "          dataTable['output_type'] = 'display_data';\n",
              "          await google.colab.output.renderOutput(dataTable, element);\n",
              "          const docLink = document.createElement('div');\n",
              "          docLink.innerHTML = docLinkHtml;\n",
              "          element.appendChild(docLink);\n",
              "        }\n",
              "      </script>\n",
              "    </div>\n",
              "  </div>\n",
              "  "
            ]
          },
          "metadata": {},
          "execution_count": 60
        }
      ]
    },
    {
      "cell_type": "code",
      "source": [
        "def join_keywords(row):\n",
        "    keywords_list = []\n",
        "    for column in row.index:\n",
        "        if row[column] == 1:\n",
        "            keywords_list.append(column)\n",
        "    return keywords_list"
      ],
      "metadata": {
        "id": "gEvvR7PtcZuu"
      },
      "execution_count": 61,
      "outputs": []
    },
    {
      "cell_type": "code",
      "source": [
        "data = []\n",
        "words_df_underX = pd.DataFrame(data, columns=['keywords'])"
      ],
      "metadata": {
        "id": "JquqGhdQcb9o"
      },
      "execution_count": 62,
      "outputs": []
    },
    {
      "cell_type": "code",
      "source": [
        "words_df_underX['keywords'] = underX.apply(join_keywords, axis=1)\n",
        "words_df_underX"
      ],
      "metadata": {
        "colab": {
          "base_uri": "https://localhost:8080/",
          "height": 609
        },
        "id": "imeMa-5Pcf-0",
        "outputId": "07d4dfb9-84f9-40cc-ad03-ca8b69f51430"
      },
      "execution_count": 63,
      "outputs": [
        {
          "output_type": "execute_result",
          "data": {
            "text/plain": [
              "                            keywords\n",
              "0               [clustering, mining]\n",
              "1                         [software]\n",
              "2                         [adaptive]\n",
              "3                        [detection]\n",
              "4                      [recognition]\n",
              "...                              ...\n",
              "11779         [application software]\n",
              "11780  [computer science, computers]\n",
              "11781             [machine learning]\n",
              "11782              [neural networks]\n",
              "11783                  [recognition]\n",
              "\n",
              "[11784 rows x 1 columns]"
            ],
            "text/html": [
              "\n",
              "  <div id=\"df-287d8434-0331-4645-a196-40d9753f98b6\">\n",
              "    <div class=\"colab-df-container\">\n",
              "      <div>\n",
              "<style scoped>\n",
              "    .dataframe tbody tr th:only-of-type {\n",
              "        vertical-align: middle;\n",
              "    }\n",
              "\n",
              "    .dataframe tbody tr th {\n",
              "        vertical-align: top;\n",
              "    }\n",
              "\n",
              "    .dataframe thead th {\n",
              "        text-align: right;\n",
              "    }\n",
              "</style>\n",
              "<table border=\"1\" class=\"dataframe\">\n",
              "  <thead>\n",
              "    <tr style=\"text-align: right;\">\n",
              "      <th></th>\n",
              "      <th>keywords</th>\n",
              "    </tr>\n",
              "  </thead>\n",
              "  <tbody>\n",
              "    <tr>\n",
              "      <th>0</th>\n",
              "      <td>[clustering, mining]</td>\n",
              "    </tr>\n",
              "    <tr>\n",
              "      <th>1</th>\n",
              "      <td>[software]</td>\n",
              "    </tr>\n",
              "    <tr>\n",
              "      <th>2</th>\n",
              "      <td>[adaptive]</td>\n",
              "    </tr>\n",
              "    <tr>\n",
              "      <th>3</th>\n",
              "      <td>[detection]</td>\n",
              "    </tr>\n",
              "    <tr>\n",
              "      <th>4</th>\n",
              "      <td>[recognition]</td>\n",
              "    </tr>\n",
              "    <tr>\n",
              "      <th>...</th>\n",
              "      <td>...</td>\n",
              "    </tr>\n",
              "    <tr>\n",
              "      <th>11779</th>\n",
              "      <td>[application software]</td>\n",
              "    </tr>\n",
              "    <tr>\n",
              "      <th>11780</th>\n",
              "      <td>[computer science, computers]</td>\n",
              "    </tr>\n",
              "    <tr>\n",
              "      <th>11781</th>\n",
              "      <td>[machine learning]</td>\n",
              "    </tr>\n",
              "    <tr>\n",
              "      <th>11782</th>\n",
              "      <td>[neural networks]</td>\n",
              "    </tr>\n",
              "    <tr>\n",
              "      <th>11783</th>\n",
              "      <td>[recognition]</td>\n",
              "    </tr>\n",
              "  </tbody>\n",
              "</table>\n",
              "<p>11784 rows × 1 columns</p>\n",
              "</div>\n",
              "      <button class=\"colab-df-convert\" onclick=\"convertToInteractive('df-287d8434-0331-4645-a196-40d9753f98b6')\"\n",
              "              title=\"Convert this dataframe to an interactive table.\"\n",
              "              style=\"display:none;\">\n",
              "        \n",
              "  <svg xmlns=\"http://www.w3.org/2000/svg\" height=\"24px\"viewBox=\"0 0 24 24\"\n",
              "       width=\"24px\">\n",
              "    <path d=\"M0 0h24v24H0V0z\" fill=\"none\"/>\n",
              "    <path d=\"M18.56 5.44l.94 2.06.94-2.06 2.06-.94-2.06-.94-.94-2.06-.94 2.06-2.06.94zm-11 1L8.5 8.5l.94-2.06 2.06-.94-2.06-.94L8.5 2.5l-.94 2.06-2.06.94zm10 10l.94 2.06.94-2.06 2.06-.94-2.06-.94-.94-2.06-.94 2.06-2.06.94z\"/><path d=\"M17.41 7.96l-1.37-1.37c-.4-.4-.92-.59-1.43-.59-.52 0-1.04.2-1.43.59L10.3 9.45l-7.72 7.72c-.78.78-.78 2.05 0 2.83L4 21.41c.39.39.9.59 1.41.59.51 0 1.02-.2 1.41-.59l7.78-7.78 2.81-2.81c.8-.78.8-2.07 0-2.86zM5.41 20L4 18.59l7.72-7.72 1.47 1.35L5.41 20z\"/>\n",
              "  </svg>\n",
              "      </button>\n",
              "      \n",
              "  <style>\n",
              "    .colab-df-container {\n",
              "      display:flex;\n",
              "      flex-wrap:wrap;\n",
              "      gap: 12px;\n",
              "    }\n",
              "\n",
              "    .colab-df-convert {\n",
              "      background-color: #E8F0FE;\n",
              "      border: none;\n",
              "      border-radius: 50%;\n",
              "      cursor: pointer;\n",
              "      display: none;\n",
              "      fill: #1967D2;\n",
              "      height: 32px;\n",
              "      padding: 0 0 0 0;\n",
              "      width: 32px;\n",
              "    }\n",
              "\n",
              "    .colab-df-convert:hover {\n",
              "      background-color: #E2EBFA;\n",
              "      box-shadow: 0px 1px 2px rgba(60, 64, 67, 0.3), 0px 1px 3px 1px rgba(60, 64, 67, 0.15);\n",
              "      fill: #174EA6;\n",
              "    }\n",
              "\n",
              "    [theme=dark] .colab-df-convert {\n",
              "      background-color: #3B4455;\n",
              "      fill: #D2E3FC;\n",
              "    }\n",
              "\n",
              "    [theme=dark] .colab-df-convert:hover {\n",
              "      background-color: #434B5C;\n",
              "      box-shadow: 0px 1px 3px 1px rgba(0, 0, 0, 0.15);\n",
              "      filter: drop-shadow(0px 1px 2px rgba(0, 0, 0, 0.3));\n",
              "      fill: #FFFFFF;\n",
              "    }\n",
              "  </style>\n",
              "\n",
              "      <script>\n",
              "        const buttonEl =\n",
              "          document.querySelector('#df-287d8434-0331-4645-a196-40d9753f98b6 button.colab-df-convert');\n",
              "        buttonEl.style.display =\n",
              "          google.colab.kernel.accessAllowed ? 'block' : 'none';\n",
              "\n",
              "        async function convertToInteractive(key) {\n",
              "          const element = document.querySelector('#df-287d8434-0331-4645-a196-40d9753f98b6');\n",
              "          const dataTable =\n",
              "            await google.colab.kernel.invokeFunction('convertToInteractive',\n",
              "                                                     [key], {});\n",
              "          if (!dataTable) return;\n",
              "\n",
              "          const docLinkHtml = 'Like what you see? Visit the ' +\n",
              "            '<a target=\"_blank\" href=https://colab.research.google.com/notebooks/data_table.ipynb>data table notebook</a>'\n",
              "            + ' to learn more about interactive tables.';\n",
              "          element.innerHTML = '';\n",
              "          dataTable['output_type'] = 'display_data';\n",
              "          await google.colab.output.renderOutput(dataTable, element);\n",
              "          const docLink = document.createElement('div');\n",
              "          docLink.innerHTML = docLinkHtml;\n",
              "          element.appendChild(docLink);\n",
              "        }\n",
              "      </script>\n",
              "    </div>\n",
              "  </div>\n",
              "  "
            ]
          },
          "metadata": {},
          "execution_count": 63
        }
      ]
    },
    {
      "cell_type": "markdown",
      "source": [
        "# Preprocessing\n",
        "\n",
        "1. Tokenize keywords\n",
        "2. Join keywords wih abstracts\n",
        "3. Get rid of rows with no keywords after purge\n",
        "4. Tokenize abstracts\n",
        "\n",
        "Ideas for future:\n",
        "- With `occurrences` we can do https://datascience.stackexchange.com/questions/13490/how-to-set-class-weights-for-imbalanced-classes-in-keras"
      ],
      "metadata": {
        "id": "TEtYOKeAQATs"
      }
    },
    {
      "cell_type": "code",
      "source": [
        "# Constants\n",
        "EMBEDDING_DIM = 300\n",
        "\n",
        "MAX_VOCAB_SIZE = 40000\n",
        "\n",
        "# tamaño de la frase más larga con la que alimentar el modelo\n",
        "# se escoge la mediana para evitar anomalías\n",
        "MAX_SEQUENCE_LENGTH = median"
      ],
      "metadata": {
        "id": "PIgzSSwWjzG6"
      },
      "execution_count": 64,
      "outputs": []
    },
    {
      "cell_type": "markdown",
      "source": [
        "### Define tokenizer function && multihot\n",
        "\n",
        "This tokenizer function is for this special purpose.\n",
        "The multi-hot is used to generate the `y`"
      ],
      "metadata": {
        "id": "jor0KyGgcw-F"
      }
    },
    {
      "cell_type": "code",
      "source": [
        "def tokenize_and_add_padding(words, tokenizer, max_sequence_length=None):\n",
        "    tokenizer.fit_on_texts(words)\n",
        "    sequences = tokenizer.texts_to_sequences(words)\n",
        "    word_index = tokenizer.word_index\n",
        "    data = None\n",
        "    \n",
        "    if max_sequence_length is not None:\n",
        "        data = tf.keras.preprocessing.sequence.pad_sequences(\n",
        "            sequences,\n",
        "            maxlen=max_sequence_length\n",
        "        )\n",
        "        print('Shape of data tensor:', data.shape)\n",
        "\n",
        "    print('Found %s unique tokens.' % len(word_index))\n",
        "\n",
        "    return sequences, word_index, data"
      ],
      "metadata": {
        "id": "rftoTL1hdLhw"
      },
      "execution_count": 65,
      "outputs": []
    },
    {
      "cell_type": "code",
      "source": [
        "def multihot_tokenize(target, y_sequences, word_index):\n",
        "    output_size = len(word_index.keys())\n",
        "    multi_hot_tokenized = []\n",
        "\n",
        "    for i, keys in enumerate(target):\n",
        "        multi_hot_tokenized.append(np.zeros(output_size+1))\n",
        "        for key in keys:\n",
        "            if key in word_index:\n",
        "                multi_hot_tokenized[i][word_index[key]] = 1\n",
        "\n",
        "    multi_hot_tokenized = np.asarray(multi_hot_tokenized)\n",
        "    multi_hot_tokenized[0]\n",
        "\n",
        "    return multi_hot_tokenized"
      ],
      "metadata": {
        "id": "ytKXT5tzdJgU"
      },
      "execution_count": 66,
      "outputs": []
    },
    {
      "cell_type": "markdown",
      "source": [
        "### Create tokenizer"
      ],
      "metadata": {
        "id": "SBowO-16eB-R"
      }
    },
    {
      "cell_type": "code",
      "source": [
        "tokenizer = tf.keras.preprocessing.text.Tokenizer(num_words=MAX_VOCAB_SIZE)"
      ],
      "metadata": {
        "id": "zRIO1vhMeED_"
      },
      "execution_count": 67,
      "outputs": []
    },
    {
      "cell_type": "markdown",
      "source": [
        "### Tokenize keywords\n",
        "\n",
        "Remember to choose the same frecuency or percentile done earlier.\n",
        "\n",
        "> Remember the `X`"
      ],
      "metadata": {
        "id": "ifi6uOdedRIU"
      }
    },
    {
      "cell_type": "code",
      "source": [
        "targets_under_X = []\n",
        "filtered_arr_under100_dict = {i: None for i in filtered_arr_under100}\n",
        "\n",
        "for i, keys in enumerate(words):\n",
        "    targets_under_X.append([])\n",
        "    for key in keys:\n",
        "        if key in filtered_arr_under100_dict:\n",
        "            targets_under_X[i].append(key)"
      ],
      "metadata": {
        "id": "oareKRJZdrPi"
      },
      "execution_count": 68,
      "outputs": []
    },
    {
      "cell_type": "code",
      "source": [
        "y_sequencesX, y_word_indexX, _ = tokenize_and_add_padding(targets_under_X, tokenizer)\n",
        "OUTPUT_SIZE_UNDER_X = len(y_word_indexX.keys())\n",
        "OUTPUT_SIZE_UNDER_X"
      ],
      "metadata": {
        "colab": {
          "base_uri": "https://localhost:8080/"
        },
        "id": "6EnmwMcLdl7s",
        "outputId": "3ed8c1e3-2386-4f67-aca8-3bab070b8a11"
      },
      "execution_count": 69,
      "outputs": [
        {
          "output_type": "stream",
          "name": "stdout",
          "text": [
            "Found 54 unique tokens.\n"
          ]
        },
        {
          "output_type": "execute_result",
          "data": {
            "text/plain": [
              "54"
            ]
          },
          "metadata": {},
          "execution_count": 69
        }
      ]
    },
    {
      "cell_type": "code",
      "source": [
        "len(y_sequencesX)"
      ],
      "metadata": {
        "colab": {
          "base_uri": "https://localhost:8080/"
        },
        "id": "myLUOEgEfldr",
        "outputId": "32ac65e4-4886-42e2-980d-c732a38ccf8a"
      },
      "execution_count": 70,
      "outputs": [
        {
          "output_type": "execute_result",
          "data": {
            "text/plain": [
              "4555"
            ]
          },
          "metadata": {},
          "execution_count": 70
        }
      ]
    },
    {
      "cell_type": "markdown",
      "source": [
        "### Get rid of rows with no keywords after purge\n"
      ],
      "metadata": {
        "id": "fAD2O2IvfvJh"
      }
    },
    {
      "cell_type": "code",
      "source": [
        "len(clean_abstracts) == len(y_sequencesX)"
      ],
      "metadata": {
        "colab": {
          "base_uri": "https://localhost:8080/"
        },
        "id": "-4vtWRiegcM3",
        "outputId": "41a0f010-661b-42aa-916f-a47c1d38fdbb"
      },
      "execution_count": 71,
      "outputs": [
        {
          "output_type": "execute_result",
          "data": {
            "text/plain": [
              "True"
            ]
          },
          "metadata": {},
          "execution_count": 71
        }
      ]
    },
    {
      "cell_type": "code",
      "source": [
        "# Create new dataframe with newly abstracts\n",
        "prepro = pd.DataFrame(clean_abstracts, columns=['Abstracts'])\n",
        "prepro['keywords'] = y_sequencesX\n",
        "prepro.head()"
      ],
      "metadata": {
        "colab": {
          "base_uri": "https://localhost:8080/",
          "height": 206
        },
        "id": "Iz_n7U8RgFfr",
        "outputId": "44558ed9-94c9-4b3d-affa-6fc9575a294b"
      },
      "execution_count": 72,
      "outputs": [
        {
          "output_type": "execute_result",
          "data": {
            "text/plain": [
              "                                           Abstracts  keywords\n",
              "0  statistical word alignment models need large a...        []\n",
              "1  spectral learning algorithms learn an unknown ...        []\n",
              "2  number defects remaining a system provides an ...  [19, 47]\n",
              "3  not all instances a data set are equally benef...        []\n",
              "4  learning environments is not an easy task and ...  [48, 10]"
            ],
            "text/html": [
              "\n",
              "  <div id=\"df-7bf85c0f-9849-490b-92e5-268491ebd593\">\n",
              "    <div class=\"colab-df-container\">\n",
              "      <div>\n",
              "<style scoped>\n",
              "    .dataframe tbody tr th:only-of-type {\n",
              "        vertical-align: middle;\n",
              "    }\n",
              "\n",
              "    .dataframe tbody tr th {\n",
              "        vertical-align: top;\n",
              "    }\n",
              "\n",
              "    .dataframe thead th {\n",
              "        text-align: right;\n",
              "    }\n",
              "</style>\n",
              "<table border=\"1\" class=\"dataframe\">\n",
              "  <thead>\n",
              "    <tr style=\"text-align: right;\">\n",
              "      <th></th>\n",
              "      <th>Abstracts</th>\n",
              "      <th>keywords</th>\n",
              "    </tr>\n",
              "  </thead>\n",
              "  <tbody>\n",
              "    <tr>\n",
              "      <th>0</th>\n",
              "      <td>statistical word alignment models need large a...</td>\n",
              "      <td>[]</td>\n",
              "    </tr>\n",
              "    <tr>\n",
              "      <th>1</th>\n",
              "      <td>spectral learning algorithms learn an unknown ...</td>\n",
              "      <td>[]</td>\n",
              "    </tr>\n",
              "    <tr>\n",
              "      <th>2</th>\n",
              "      <td>number defects remaining a system provides an ...</td>\n",
              "      <td>[19, 47]</td>\n",
              "    </tr>\n",
              "    <tr>\n",
              "      <th>3</th>\n",
              "      <td>not all instances a data set are equally benef...</td>\n",
              "      <td>[]</td>\n",
              "    </tr>\n",
              "    <tr>\n",
              "      <th>4</th>\n",
              "      <td>learning environments is not an easy task and ...</td>\n",
              "      <td>[48, 10]</td>\n",
              "    </tr>\n",
              "  </tbody>\n",
              "</table>\n",
              "</div>\n",
              "      <button class=\"colab-df-convert\" onclick=\"convertToInteractive('df-7bf85c0f-9849-490b-92e5-268491ebd593')\"\n",
              "              title=\"Convert this dataframe to an interactive table.\"\n",
              "              style=\"display:none;\">\n",
              "        \n",
              "  <svg xmlns=\"http://www.w3.org/2000/svg\" height=\"24px\"viewBox=\"0 0 24 24\"\n",
              "       width=\"24px\">\n",
              "    <path d=\"M0 0h24v24H0V0z\" fill=\"none\"/>\n",
              "    <path d=\"M18.56 5.44l.94 2.06.94-2.06 2.06-.94-2.06-.94-.94-2.06-.94 2.06-2.06.94zm-11 1L8.5 8.5l.94-2.06 2.06-.94-2.06-.94L8.5 2.5l-.94 2.06-2.06.94zm10 10l.94 2.06.94-2.06 2.06-.94-2.06-.94-.94-2.06-.94 2.06-2.06.94z\"/><path d=\"M17.41 7.96l-1.37-1.37c-.4-.4-.92-.59-1.43-.59-.52 0-1.04.2-1.43.59L10.3 9.45l-7.72 7.72c-.78.78-.78 2.05 0 2.83L4 21.41c.39.39.9.59 1.41.59.51 0 1.02-.2 1.41-.59l7.78-7.78 2.81-2.81c.8-.78.8-2.07 0-2.86zM5.41 20L4 18.59l7.72-7.72 1.47 1.35L5.41 20z\"/>\n",
              "  </svg>\n",
              "      </button>\n",
              "      \n",
              "  <style>\n",
              "    .colab-df-container {\n",
              "      display:flex;\n",
              "      flex-wrap:wrap;\n",
              "      gap: 12px;\n",
              "    }\n",
              "\n",
              "    .colab-df-convert {\n",
              "      background-color: #E8F0FE;\n",
              "      border: none;\n",
              "      border-radius: 50%;\n",
              "      cursor: pointer;\n",
              "      display: none;\n",
              "      fill: #1967D2;\n",
              "      height: 32px;\n",
              "      padding: 0 0 0 0;\n",
              "      width: 32px;\n",
              "    }\n",
              "\n",
              "    .colab-df-convert:hover {\n",
              "      background-color: #E2EBFA;\n",
              "      box-shadow: 0px 1px 2px rgba(60, 64, 67, 0.3), 0px 1px 3px 1px rgba(60, 64, 67, 0.15);\n",
              "      fill: #174EA6;\n",
              "    }\n",
              "\n",
              "    [theme=dark] .colab-df-convert {\n",
              "      background-color: #3B4455;\n",
              "      fill: #D2E3FC;\n",
              "    }\n",
              "\n",
              "    [theme=dark] .colab-df-convert:hover {\n",
              "      background-color: #434B5C;\n",
              "      box-shadow: 0px 1px 3px 1px rgba(0, 0, 0, 0.15);\n",
              "      filter: drop-shadow(0px 1px 2px rgba(0, 0, 0, 0.3));\n",
              "      fill: #FFFFFF;\n",
              "    }\n",
              "  </style>\n",
              "\n",
              "      <script>\n",
              "        const buttonEl =\n",
              "          document.querySelector('#df-7bf85c0f-9849-490b-92e5-268491ebd593 button.colab-df-convert');\n",
              "        buttonEl.style.display =\n",
              "          google.colab.kernel.accessAllowed ? 'block' : 'none';\n",
              "\n",
              "        async function convertToInteractive(key) {\n",
              "          const element = document.querySelector('#df-7bf85c0f-9849-490b-92e5-268491ebd593');\n",
              "          const dataTable =\n",
              "            await google.colab.kernel.invokeFunction('convertToInteractive',\n",
              "                                                     [key], {});\n",
              "          if (!dataTable) return;\n",
              "\n",
              "          const docLinkHtml = 'Like what you see? Visit the ' +\n",
              "            '<a target=\"_blank\" href=https://colab.research.google.com/notebooks/data_table.ipynb>data table notebook</a>'\n",
              "            + ' to learn more about interactive tables.';\n",
              "          element.innerHTML = '';\n",
              "          dataTable['output_type'] = 'display_data';\n",
              "          await google.colab.output.renderOutput(dataTable, element);\n",
              "          const docLink = document.createElement('div');\n",
              "          docLink.innerHTML = docLinkHtml;\n",
              "          element.appendChild(docLink);\n",
              "        }\n",
              "      </script>\n",
              "    </div>\n",
              "  </div>\n",
              "  "
            ]
          },
          "metadata": {},
          "execution_count": 72
        }
      ]
    },
    {
      "cell_type": "markdown",
      "source": [
        "Now eliminate abstracts with empty list as keywords"
      ],
      "metadata": {
        "id": "PoxexObOgq40"
      }
    },
    {
      "cell_type": "code",
      "source": [
        "df_under_X = prepro[prepro['keywords'].apply(len) > 0]\n",
        "df_under_X.head()"
      ],
      "metadata": {
        "colab": {
          "base_uri": "https://localhost:8080/",
          "height": 206
        },
        "id": "qky1V5RJgvGF",
        "outputId": "713996d4-a67e-4ce2-b127-733d3b2cac8d"
      },
      "execution_count": 73,
      "outputs": [
        {
          "output_type": "execute_result",
          "data": {
            "text/plain": [
              "                                           Abstracts  keywords\n",
              "2  number defects remaining a system provides an ...  [19, 47]\n",
              "4  learning environments is not an easy task and ...  [48, 10]\n",
              "6  captchas are tests that are widely used the in...      [18]\n",
              "7  reinforcement learning techniques become more ...   [1, 27]\n",
              "8  signatures are the single most widely used met...   [20, 2]"
            ],
            "text/html": [
              "\n",
              "  <div id=\"df-60120c67-5381-4355-a44d-f180a71b75f4\">\n",
              "    <div class=\"colab-df-container\">\n",
              "      <div>\n",
              "<style scoped>\n",
              "    .dataframe tbody tr th:only-of-type {\n",
              "        vertical-align: middle;\n",
              "    }\n",
              "\n",
              "    .dataframe tbody tr th {\n",
              "        vertical-align: top;\n",
              "    }\n",
              "\n",
              "    .dataframe thead th {\n",
              "        text-align: right;\n",
              "    }\n",
              "</style>\n",
              "<table border=\"1\" class=\"dataframe\">\n",
              "  <thead>\n",
              "    <tr style=\"text-align: right;\">\n",
              "      <th></th>\n",
              "      <th>Abstracts</th>\n",
              "      <th>keywords</th>\n",
              "    </tr>\n",
              "  </thead>\n",
              "  <tbody>\n",
              "    <tr>\n",
              "      <th>2</th>\n",
              "      <td>number defects remaining a system provides an ...</td>\n",
              "      <td>[19, 47]</td>\n",
              "    </tr>\n",
              "    <tr>\n",
              "      <th>4</th>\n",
              "      <td>learning environments is not an easy task and ...</td>\n",
              "      <td>[48, 10]</td>\n",
              "    </tr>\n",
              "    <tr>\n",
              "      <th>6</th>\n",
              "      <td>captchas are tests that are widely used the in...</td>\n",
              "      <td>[18]</td>\n",
              "    </tr>\n",
              "    <tr>\n",
              "      <th>7</th>\n",
              "      <td>reinforcement learning techniques become more ...</td>\n",
              "      <td>[1, 27]</td>\n",
              "    </tr>\n",
              "    <tr>\n",
              "      <th>8</th>\n",
              "      <td>signatures are the single most widely used met...</td>\n",
              "      <td>[20, 2]</td>\n",
              "    </tr>\n",
              "  </tbody>\n",
              "</table>\n",
              "</div>\n",
              "      <button class=\"colab-df-convert\" onclick=\"convertToInteractive('df-60120c67-5381-4355-a44d-f180a71b75f4')\"\n",
              "              title=\"Convert this dataframe to an interactive table.\"\n",
              "              style=\"display:none;\">\n",
              "        \n",
              "  <svg xmlns=\"http://www.w3.org/2000/svg\" height=\"24px\"viewBox=\"0 0 24 24\"\n",
              "       width=\"24px\">\n",
              "    <path d=\"M0 0h24v24H0V0z\" fill=\"none\"/>\n",
              "    <path d=\"M18.56 5.44l.94 2.06.94-2.06 2.06-.94-2.06-.94-.94-2.06-.94 2.06-2.06.94zm-11 1L8.5 8.5l.94-2.06 2.06-.94-2.06-.94L8.5 2.5l-.94 2.06-2.06.94zm10 10l.94 2.06.94-2.06 2.06-.94-2.06-.94-.94-2.06-.94 2.06-2.06.94z\"/><path d=\"M17.41 7.96l-1.37-1.37c-.4-.4-.92-.59-1.43-.59-.52 0-1.04.2-1.43.59L10.3 9.45l-7.72 7.72c-.78.78-.78 2.05 0 2.83L4 21.41c.39.39.9.59 1.41.59.51 0 1.02-.2 1.41-.59l7.78-7.78 2.81-2.81c.8-.78.8-2.07 0-2.86zM5.41 20L4 18.59l7.72-7.72 1.47 1.35L5.41 20z\"/>\n",
              "  </svg>\n",
              "      </button>\n",
              "      \n",
              "  <style>\n",
              "    .colab-df-container {\n",
              "      display:flex;\n",
              "      flex-wrap:wrap;\n",
              "      gap: 12px;\n",
              "    }\n",
              "\n",
              "    .colab-df-convert {\n",
              "      background-color: #E8F0FE;\n",
              "      border: none;\n",
              "      border-radius: 50%;\n",
              "      cursor: pointer;\n",
              "      display: none;\n",
              "      fill: #1967D2;\n",
              "      height: 32px;\n",
              "      padding: 0 0 0 0;\n",
              "      width: 32px;\n",
              "    }\n",
              "\n",
              "    .colab-df-convert:hover {\n",
              "      background-color: #E2EBFA;\n",
              "      box-shadow: 0px 1px 2px rgba(60, 64, 67, 0.3), 0px 1px 3px 1px rgba(60, 64, 67, 0.15);\n",
              "      fill: #174EA6;\n",
              "    }\n",
              "\n",
              "    [theme=dark] .colab-df-convert {\n",
              "      background-color: #3B4455;\n",
              "      fill: #D2E3FC;\n",
              "    }\n",
              "\n",
              "    [theme=dark] .colab-df-convert:hover {\n",
              "      background-color: #434B5C;\n",
              "      box-shadow: 0px 1px 3px 1px rgba(0, 0, 0, 0.15);\n",
              "      filter: drop-shadow(0px 1px 2px rgba(0, 0, 0, 0.3));\n",
              "      fill: #FFFFFF;\n",
              "    }\n",
              "  </style>\n",
              "\n",
              "      <script>\n",
              "        const buttonEl =\n",
              "          document.querySelector('#df-60120c67-5381-4355-a44d-f180a71b75f4 button.colab-df-convert');\n",
              "        buttonEl.style.display =\n",
              "          google.colab.kernel.accessAllowed ? 'block' : 'none';\n",
              "\n",
              "        async function convertToInteractive(key) {\n",
              "          const element = document.querySelector('#df-60120c67-5381-4355-a44d-f180a71b75f4');\n",
              "          const dataTable =\n",
              "            await google.colab.kernel.invokeFunction('convertToInteractive',\n",
              "                                                     [key], {});\n",
              "          if (!dataTable) return;\n",
              "\n",
              "          const docLinkHtml = 'Like what you see? Visit the ' +\n",
              "            '<a target=\"_blank\" href=https://colab.research.google.com/notebooks/data_table.ipynb>data table notebook</a>'\n",
              "            + ' to learn more about interactive tables.';\n",
              "          element.innerHTML = '';\n",
              "          dataTable['output_type'] = 'display_data';\n",
              "          await google.colab.output.renderOutput(dataTable, element);\n",
              "          const docLink = document.createElement('div');\n",
              "          docLink.innerHTML = docLinkHtml;\n",
              "          element.appendChild(docLink);\n",
              "        }\n",
              "      </script>\n",
              "    </div>\n",
              "  </div>\n",
              "  "
            ]
          },
          "metadata": {},
          "execution_count": 73
        }
      ]
    },
    {
      "cell_type": "code",
      "source": [
        "abstracts = df_under_X['Abstracts'].values[:]\n",
        "\n",
        "abstracts.shape"
      ],
      "metadata": {
        "colab": {
          "base_uri": "https://localhost:8080/"
        },
        "id": "74UsgsBqjIbO",
        "outputId": "0e19e6e6-719b-4300-d5fb-8874f6b7a969"
      },
      "execution_count": 74,
      "outputs": [
        {
          "output_type": "execute_result",
          "data": {
            "text/plain": [
              "(4186,)"
            ]
          },
          "metadata": {},
          "execution_count": 74
        }
      ]
    },
    {
      "cell_type": "markdown",
      "source": [
        "### Tokenize abstracts"
      ],
      "metadata": {
        "id": "IPXLOiCxjQGr"
      }
    },
    {
      "cell_type": "code",
      "source": [
        "sequences, word_index, data = tokenize_and_add_padding(abstracts, tokenizer, MAX_SEQUENCE_LENGTH)"
      ],
      "metadata": {
        "colab": {
          "base_uri": "https://localhost:8080/"
        },
        "id": "6JHLs6sOjSYT",
        "outputId": "08752a87-3567-435d-dea5-e207dbd208a5"
      },
      "execution_count": 75,
      "outputs": [
        {
          "output_type": "stream",
          "name": "stdout",
          "text": [
            "Shape of data tensor: (4186, 925)\n",
            "Found 12352 unique tokens.\n"
          ]
        }
      ]
    },
    {
      "cell_type": "markdown",
      "source": [
        "### Create multihot"
      ],
      "metadata": {
        "id": "Ax0mCF8nhDgL"
      }
    },
    {
      "cell_type": "code",
      "source": [
        "targets_under_X_flatten = [lst for lst in targets_under_X if lst]\n",
        "multihot_X = multihot_tokenize(targets_under_X_flatten, y_sequencesX, y_word_indexX)\n",
        "multihot_X.shape"
      ],
      "metadata": {
        "colab": {
          "base_uri": "https://localhost:8080/"
        },
        "id": "xeHAi3nmhF-P",
        "outputId": "72fdec4c-8b45-42a2-af5b-8f6dc14a703c"
      },
      "execution_count": 76,
      "outputs": [
        {
          "output_type": "execute_result",
          "data": {
            "text/plain": [
              "(4186, 55)"
            ]
          },
          "metadata": {},
          "execution_count": 76
        }
      ]
    },
    {
      "cell_type": "markdown",
      "source": [
        "## Train GLoVe\n",
        "\n",
        "Vamos a entrenar una capa de word embedding con el conjunto de datos de Stanford:"
      ],
      "metadata": {
        "id": "QgLgh39BQX5d"
      }
    },
    {
      "cell_type": "code",
      "source": [
        "import os\n",
        "import requests\n",
        "from shutil import unpack_archive"
      ],
      "metadata": {
        "id": "zhLfPwiekNO3"
      },
      "execution_count": 77,
      "outputs": []
    },
    {
      "cell_type": "code",
      "source": [
        "plt.style.use('ggplot')\n",
        "plt.rcParams.update({'figure.figsize': (16, 9),'figure.dpi': 100})\n",
        "\n",
        "tf.compat.v1.disable_eager_execution()  # Esto es por un problema (creo) con las RTX2070"
      ],
      "metadata": {
        "id": "T6ujlPzrkG1t"
      },
      "execution_count": 78,
      "outputs": []
    },
    {
      "cell_type": "code",
      "source": [
        "GLOVE_URL = 'http://nlp.stanford.edu/data/glove.6B.zip'\n",
        "GLOVE_FILE = 'glove.6B.zip'\n",
        "GLOVE_DIR = 'glove'\n",
        "\n",
        "if not os.path.isdir(GLOVE_DIR):\n",
        "    # Descargamos el dataset comprimido de GloVe (si no lo tenemos ya)\n",
        "    if not os.path.exists(GLOVE_FILE):\n",
        "        with open(GLOVE_FILE, 'wb') as f:\n",
        "            r = requests.get(GLOVE_URL, allow_redirects=True)\n",
        "            f.write(r.content)\n",
        "    # Lo descomprimimos en el directorio 'glove'\n",
        "    unpack_archive(GLOVE_FILE, 'glove/')"
      ],
      "metadata": {
        "id": "fM6HLv7-kJ5-"
      },
      "execution_count": 79,
      "outputs": []
    },
    {
      "cell_type": "markdown",
      "source": [
        "We load the Embedding of the dimension specified in the configuration"
      ],
      "metadata": {
        "id": "gV562ji3kuVF"
      }
    },
    {
      "cell_type": "code",
      "source": [
        "print(f'Loading GloVe {EMBEDDING_DIM}-d embedding... ', end='')\n",
        "word2vec = {}\n",
        "with open(os.path.join(GLOVE_DIR, f'glove.6B.{EMBEDDING_DIM}d.txt')) as f:\n",
        "    for line in f:\n",
        "        values = line.split()\n",
        "        word2vec[values[0]] = np.asarray(values[1:], dtype='float32')\n",
        "print(f'done ({len(word2vec)} word vectors loaded)')"
      ],
      "metadata": {
        "colab": {
          "base_uri": "https://localhost:8080/"
        },
        "id": "QfGbARkxkuB_",
        "outputId": "9387035c-4973-494f-b181-1d4891ab7067"
      },
      "execution_count": 80,
      "outputs": [
        {
          "output_type": "stream",
          "name": "stdout",
          "text": [
            "Loading GloVe 300-d embedding... done (400000 word vectors loaded)\n"
          ]
        }
      ]
    },
    {
      "cell_type": "markdown",
      "source": [
        "# Models"
      ],
      "metadata": {
        "id": "xYqJHVIhQorJ"
      }
    },
    {
      "cell_type": "markdown",
      "source": [
        "## f1 score && loss function"
      ],
      "metadata": {
        "id": "HUe7UkP9Qd64"
      }
    },
    {
      "cell_type": "code",
      "source": [
        "import keras.backend as K\n",
        "\n",
        "def f1(y_true, y_pred):\n",
        "    y_pred = K.round(y_pred)\n",
        "    tp = K.sum(K.cast(y_true*y_pred, 'float'), axis=0)\n",
        "    tn = K.sum(K.cast((1-y_true)*(1-y_pred), 'float'), axis=0)\n",
        "    fp = K.sum(K.cast((1-y_true)*y_pred, 'float'), axis=0)\n",
        "    fn = K.sum(K.cast(y_true*(1-y_pred), 'float'), axis=0)\n",
        "\n",
        "    p = tp / (tp + fp + K.epsilon())\n",
        "    r = tp / (tp + fn + K.epsilon())\n",
        "\n",
        "    f1 = 2*p*r / (p+r+K.epsilon())\n",
        "    f1 = tf.where(tf.math.is_nan(f1), tf.zeros_like(f1), f1)\n",
        "    return K.mean(f1)\n",
        "\n",
        "def f1_loss(y_true, y_pred):\n",
        "    \n",
        "    tp = K.sum(K.cast(y_true*y_pred, 'float'), axis=0)\n",
        "    tn = K.sum(K.cast((1-y_true)*(1-y_pred), 'float'), axis=0)\n",
        "    fp = K.sum(K.cast((1-y_true)*y_pred, 'float'), axis=0)\n",
        "    fn = K.sum(K.cast(y_true*(1-y_pred), 'float'), axis=0)\n",
        "\n",
        "    p = tp / (tp + fp + K.epsilon())\n",
        "    r = tp / (tp + fn + K.epsilon())\n",
        "\n",
        "    f1 = 2*p*r / (p+r+K.epsilon())\n",
        "    f1 = tf.where(tf.math.is_nan(f1), tf.zeros_like(f1), f1)\n",
        "    return 1 - K.mean(f1)"
      ],
      "metadata": {
        "id": "DeUXWc9jk3nc"
      },
      "execution_count": 81,
      "outputs": []
    },
    {
      "cell_type": "markdown",
      "source": [
        "## Embedding Layer"
      ],
      "metadata": {
        "id": "Hf3k74ArQcRt"
      }
    },
    {
      "cell_type": "code",
      "source": [],
      "metadata": {
        "id": "olylA2NsualY"
      },
      "execution_count": null,
      "outputs": []
    },
    {
      "cell_type": "code",
      "source": [
        "print('Loading embedding with GloVe vectors... ', end='')\n",
        "# Cargamos sólo las palabras elegidas de nuestro conjunto de datos\n",
        "num_words = MAX_VOCAB_SIZE\n",
        "embedding_matrix = np.zeros((num_words, EMBEDDING_DIM))\n",
        "\n",
        "hits = misses = 0\n",
        "for word, i in word_index.items():\n",
        "    embedding_vector = word2vec.get(word)\n",
        "    if embedding_vector is not None:\n",
        "        embedding_matrix[i] = embedding_vector\n",
        "        hits += 1\n",
        "    else:\n",
        "        misses += 1\n",
        "\n",
        "# Creamos la capa de embedding\n",
        "embedding_layer = tf.keras.layers.Embedding(\n",
        "  input_dim=num_words,\n",
        "  output_dim=EMBEDDING_DIM,\n",
        "  weights=[embedding_matrix],\n",
        "  input_length=MAX_SEQUENCE_LENGTH,\n",
        "  trainable=False,\n",
        ")\n",
        "\n",
        "print('done')\n",
        "\n",
        "print(\"Converted %d words (%d misses)\" % (hits, misses))"
      ],
      "metadata": {
        "colab": {
          "base_uri": "https://localhost:8080/"
        },
        "id": "Tpt4pSmgk2Dg",
        "outputId": "c0f4d55f-bd6c-4dd4-db76-4fcddb53b08b"
      },
      "execution_count": 82,
      "outputs": [
        {
          "output_type": "stream",
          "name": "stdout",
          "text": [
            "Loading embedding with GloVe vectors... done\n",
            "Converted 11280 words (1072 misses)\n"
          ]
        }
      ]
    },
    {
      "cell_type": "markdown",
      "source": [
        "## CNN"
      ],
      "metadata": {
        "id": "vKt9_cfxQhzV"
      }
    },
    {
      "cell_type": "markdown",
      "source": [
        "## RNN"
      ],
      "metadata": {
        "id": "10mBgGZAQjps"
      }
    },
    {
      "cell_type": "code",
      "source": [
        "!pip install keras-tuner"
      ],
      "metadata": {
        "colab": {
          "base_uri": "https://localhost:8080/"
        },
        "id": "5JLpk9g4TZ-W",
        "outputId": "dfc9b13a-d3d1-43ef-9270-e648be067348"
      },
      "execution_count": 85,
      "outputs": [
        {
          "output_type": "stream",
          "name": "stdout",
          "text": [
            "Looking in indexes: https://pypi.org/simple, https://us-python.pkg.dev/colab-wheels/public/simple/\n",
            "Collecting keras-tuner\n",
            "  Downloading keras_tuner-1.3.5-py3-none-any.whl (176 kB)\n",
            "\u001b[2K     \u001b[90m━━━━━━━━━━━━━━━━━━━━━━━━━━━━━━━━━━━━━━━\u001b[0m \u001b[32m176.1/176.1 kB\u001b[0m \u001b[31m4.2 MB/s\u001b[0m eta \u001b[36m0:00:00\u001b[0m\n",
            "\u001b[?25hRequirement already satisfied: requests in /usr/local/lib/python3.9/dist-packages (from keras-tuner) (2.27.1)\n",
            "Collecting kt-legacy\n",
            "  Downloading kt_legacy-1.0.5-py3-none-any.whl (9.6 kB)\n",
            "Requirement already satisfied: packaging in /usr/local/lib/python3.9/dist-packages (from keras-tuner) (23.1)\n",
            "Requirement already satisfied: certifi>=2017.4.17 in /usr/local/lib/python3.9/dist-packages (from requests->keras-tuner) (2022.12.7)\n",
            "Requirement already satisfied: urllib3<1.27,>=1.21.1 in /usr/local/lib/python3.9/dist-packages (from requests->keras-tuner) (1.26.15)\n",
            "Requirement already satisfied: idna<4,>=2.5 in /usr/local/lib/python3.9/dist-packages (from requests->keras-tuner) (3.4)\n",
            "Requirement already satisfied: charset-normalizer~=2.0.0 in /usr/local/lib/python3.9/dist-packages (from requests->keras-tuner) (2.0.12)\n",
            "Installing collected packages: kt-legacy, keras-tuner\n",
            "Successfully installed keras-tuner-1.3.5 kt-legacy-1.0.5\n"
          ]
        }
      ]
    },
    {
      "cell_type": "code",
      "source": [
        "import keras_tuner as kt"
      ],
      "metadata": {
        "id": "ktD3itisTVuC"
      },
      "execution_count": 86,
      "outputs": []
    },
    {
      "cell_type": "markdown",
      "source": [
        "### Keras tunner\n",
        "\n",
        "Using keras tunner, we are going to find the optimum or at least, the best combination of the model."
      ],
      "metadata": {
        "id": "Mae77vxUSoZb"
      }
    },
    {
      "cell_type": "code",
      "source": [
        "!rm -rf fine_tuning"
      ],
      "metadata": {
        "id": "1GOObpUIxy-1"
      },
      "execution_count": 145,
      "outputs": []
    },
    {
      "cell_type": "code",
      "source": [
        "tf.compat.v1.disable_eager_execution()"
      ],
      "metadata": {
        "id": "bdJBYxwwwb9k"
      },
      "execution_count": 146,
      "outputs": []
    },
    {
      "cell_type": "code",
      "source": [
        "tf.keras.backend.clear_session()"
      ],
      "metadata": {
        "id": "l6mN1e-Gw8cO"
      },
      "execution_count": 147,
      "outputs": []
    },
    {
      "cell_type": "code",
      "source": [
        "class HyperRNN(kt.HyperModel):\n",
        "    def build(self, hp):\n",
        "        input_ = tf.keras.layers.Input(shape=(median,))\n",
        "\n",
        "        embedding_layer = tf.keras.layers.Embedding(\n",
        "            input_dim=num_words,\n",
        "            output_dim=EMBEDDING_DIM,\n",
        "            weights=[embedding_matrix],\n",
        "            input_length=MAX_SEQUENCE_LENGTH,\n",
        "            trainable=False,\n",
        "        )\n",
        "\n",
        "        emd_layer = embedding_layer(input_)\n",
        "\n",
        "        lstm_units = hp.Int('lstm_units', min_value=256, max_value=1024, step=256)\n",
        "        x = tf.keras.layers.LSTM(lstm_units)(emd_layer)\n",
        "        \n",
        "        choice = hp.Choice('add_dense_layers', range(0, 2))\n",
        "        for i in range(choice):\n",
        "            x = tf.keras.layers.Dense(\n",
        "                units=hp.Int(f'dense_layer_{i}_units', min_value=8, max_value=256, step=16),\n",
        "                activation='relu'\n",
        "            )(x)\n",
        "\n",
        "            choice_dropuout = hp.Choice('add_dropout', [True, False])\n",
        "            if choice_dropuout:\n",
        "                dropout_rate = hp.Int('drop_out_val', min_value=0.3, max_value=0.8, step=0.1)\n",
        "                x = tf.keras.layers.Dropout(dropout_rate)(x)\n",
        "    \n",
        "        outputs = tf.keras.layers.Dense(OUTPUT_SIZE_UNDER_X+1, activation='sigmoid')(x)\n",
        "        model = tf.keras.Model(inputs=input_, outputs=outputs)\n",
        "\n",
        "        hp_learning_rate = hp.Choice('learning_rate', values=[1e-2, 1e-3, 1e-4])\n",
        "        adam_optimizer = tf.keras.optimizers.legacy.Adam(learning_rate=hp_learning_rate)\n",
        "        model.compile(optimizer=adam_optimizer,\n",
        "                      loss=f1_loss,\n",
        "                      metrics=['accuracy', f1])\n",
        "\n",
        "        return model\n",
        "\n",
        "    def fit(self, hp, model, *args, **kwargs):\n",
        "        return model.fit(\n",
        "            *args,\n",
        "            batch_size=hp.Choice(\"batch_size\", [128, 256, 512]),\n",
        "            **kwargs,\n",
        "        )"
      ],
      "metadata": {
        "id": "zdTs8vRiS8-1"
      },
      "execution_count": 159,
      "outputs": []
    },
    {
      "cell_type": "code",
      "source": [
        "tuner = kt.Hyperband(HyperRNN(),\n",
        "                     objective=[\n",
        "                        kt.Objective('val_f1', 'max'),\n",
        "                        kt.Objective('loss', 'min')\n",
        "                    ],\n",
        "                     max_epochs=10,\n",
        "                     factor=5,\n",
        "                     directory='fine_tuning/',\n",
        "                     project_name='LSTM_with_dropout')"
      ],
      "metadata": {
        "id": "uhcydVd1UqnQ"
      },
      "execution_count": 163,
      "outputs": []
    },
    {
      "cell_type": "code",
      "source": [
        "stop_early = tf.keras.callbacks.EarlyStopping(monitor='val_loss', patience=5)"
      ],
      "metadata": {
        "id": "8oqkIyZvYVxS"
      },
      "execution_count": 164,
      "outputs": []
    },
    {
      "cell_type": "code",
      "source": [
        "tuner.search(data, multihot_X, epochs=50, validation_split=0.2, callbacks=[stop_early])\n",
        "\n",
        "# Get the optimal hyperparameters\n",
        "best_hps=tuner.get_best_hyperparameters(num_trials=1)[0]\n",
        "\n",
        "print(f\"\"\"\n",
        "The hyperparameter search is complete. The optimal learning rate for the optimizer\n",
        "is {best_hps.get('learning_rate')}.\n",
        "\"\"\")"
      ],
      "metadata": {
        "id": "PnsM1C6qYYF0",
        "colab": {
          "base_uri": "https://localhost:8080/"
        },
        "outputId": "2c2da01c-5fbf-4d9d-d5f3-ecaef5d2fd04"
      },
      "execution_count": null,
      "outputs": [
        {
          "output_type": "stream",
          "name": "stdout",
          "text": [
            "Trial 4 Complete [00h 09m 47s]\n",
            "multi_objective: 0.8237813066606595\n",
            "\n",
            "Best multi_objective So Far: 0.7684106124184464\n",
            "Total elapsed time: 00h 51m 57s\n",
            "\n",
            "Search: Running Trial #5\n",
            "\n",
            "Value             |Best Value So Far |Hyperparameter\n",
            "1024              |256               |lstm_units\n",
            "1                 |0                 |add_dense_layers\n",
            "0.01              |0.001             |learning_rate\n",
            "216               |152               |dense_layer_0_units\n",
            "0                 |0                 |add_dropout\n",
            "512               |128               |batch_size\n",
            "2                 |2                 |tuner/epochs\n",
            "0                 |0                 |tuner/initial_epoch\n",
            "1                 |1                 |tuner/bracket\n",
            "0                 |0                 |tuner/round\n",
            "\n",
            "Train on 3348 samples, validate on 838 samples\n",
            "Epoch 1/2\n"
          ]
        }
      ]
    },
    {
      "cell_type": "code",
      "source": [
        "!zip -r fine_tuning.zip /content/fine_tuning"
      ],
      "metadata": {
        "colab": {
          "base_uri": "https://localhost:8080/"
        },
        "id": "Apzdj7ySqzWe",
        "outputId": "5aa8d624-168f-46e8-dcf6-628d35b1016e"
      },
      "execution_count": 2,
      "outputs": [
        {
          "output_type": "stream",
          "name": "stdout",
          "text": [
            "  adding: content/fine_tuning/ (stored 0%)\n",
            "  adding: content/fine_tuning/LSTM_with_dropout/ (stored 0%)\n",
            "  adding: content/fine_tuning/LSTM_with_dropout/trial_0001/ (stored 0%)\n",
            "  adding: content/fine_tuning/LSTM_with_dropout/trial_0001/checkpoint.index (deflated 59%)\n",
            "  adding: content/fine_tuning/LSTM_with_dropout/trial_0001/trial.json (deflated 71%)\n",
            "  adding: content/fine_tuning/LSTM_with_dropout/trial_0001/checkpoint.data-00000-of-00001 (deflated 13%)\n",
            "  adding: content/fine_tuning/LSTM_with_dropout/trial_0001/checkpoint (deflated 48%)\n",
            "  adding: content/fine_tuning/LSTM_with_dropout/oracle.json (deflated 68%)\n",
            "  adding: content/fine_tuning/LSTM_with_dropout/trial_0004/ (stored 0%)\n",
            "  adding: content/fine_tuning/LSTM_with_dropout/trial_0004/trial.json (deflated 68%)\n",
            "  adding: content/fine_tuning/LSTM_with_dropout/trial_0002/ (stored 0%)\n",
            "  adding: content/fine_tuning/LSTM_with_dropout/trial_0002/checkpoint.index (deflated 61%)\n",
            "  adding: content/fine_tuning/LSTM_with_dropout/trial_0002/trial.json (deflated 71%)\n",
            "  adding: content/fine_tuning/LSTM_with_dropout/trial_0002/checkpoint.data-00000-of-00001 (deflated 11%)\n",
            "  adding: content/fine_tuning/LSTM_with_dropout/trial_0002/checkpoint (deflated 48%)\n",
            "  adding: content/fine_tuning/LSTM_with_dropout/tuner0.json (stored 0%)\n",
            "  adding: content/fine_tuning/LSTM_with_dropout/trial_0000/ (stored 0%)\n",
            "  adding: content/fine_tuning/LSTM_with_dropout/trial_0000/trial.json (deflated 73%)\n",
            "  adding: content/fine_tuning/LSTM_with_dropout/trial_0003/ (stored 0%)\n",
            "  adding: content/fine_tuning/LSTM_with_dropout/trial_0003/checkpoint.index (deflated 58%)\n",
            "  adding: content/fine_tuning/LSTM_with_dropout/trial_0003/trial.json (deflated 71%)\n",
            "  adding: content/fine_tuning/LSTM_with_dropout/trial_0003/checkpoint.data-00000-of-00001 (deflated 13%)\n",
            "  adding: content/fine_tuning/LSTM_with_dropout/trial_0003/checkpoint (deflated 48%)\n",
            "  adding: content/fine_tuning/LSTM/ (stored 0%)\n",
            "  adding: content/fine_tuning/LSTM/oracle.json (deflated 57%)\n",
            "  adding: content/fine_tuning/LSTM/trial_0000/ (stored 0%)\n",
            "  adding: content/fine_tuning/LSTM/trial_0000/checkpoint.index (deflated 63%)\n",
            "  adding: content/fine_tuning/LSTM/trial_0000/trial.json (deflated 56%)\n",
            "  adding: content/fine_tuning/LSTM/trial_0000/checkpoint.data-00000-of-00001 (deflated 9%)\n",
            "  adding: content/fine_tuning/LSTM/trial_0000/checkpoint (deflated 48%)\n"
          ]
        }
      ]
    },
    {
      "cell_type": "code",
      "source": [
        "from google.colab import files\n",
        "files.download(\"fine_tuning.zip\")"
      ],
      "metadata": {
        "colab": {
          "base_uri": "https://localhost:8080/",
          "height": 34
        },
        "id": "KFkbIeP8rDr1",
        "outputId": "1a0f5e4c-d819-4cf6-adf9-7f6e84810705"
      },
      "execution_count": 3,
      "outputs": [
        {
          "output_type": "display_data",
          "data": {
            "text/plain": [
              "<IPython.core.display.Javascript object>"
            ],
            "application/javascript": [
              "\n",
              "    async function download(id, filename, size) {\n",
              "      if (!google.colab.kernel.accessAllowed) {\n",
              "        return;\n",
              "      }\n",
              "      const div = document.createElement('div');\n",
              "      const label = document.createElement('label');\n",
              "      label.textContent = `Downloading \"${filename}\": `;\n",
              "      div.appendChild(label);\n",
              "      const progress = document.createElement('progress');\n",
              "      progress.max = size;\n",
              "      div.appendChild(progress);\n",
              "      document.body.appendChild(div);\n",
              "\n",
              "      const buffers = [];\n",
              "      let downloaded = 0;\n",
              "\n",
              "      const channel = await google.colab.kernel.comms.open(id);\n",
              "      // Send a message to notify the kernel that we're ready.\n",
              "      channel.send({})\n",
              "\n",
              "      for await (const message of channel.messages) {\n",
              "        // Send a message to notify the kernel that we're ready.\n",
              "        channel.send({})\n",
              "        if (message.buffers) {\n",
              "          for (const buffer of message.buffers) {\n",
              "            buffers.push(buffer);\n",
              "            downloaded += buffer.byteLength;\n",
              "            progress.value = downloaded;\n",
              "          }\n",
              "        }\n",
              "      }\n",
              "      const blob = new Blob(buffers, {type: 'application/binary'});\n",
              "      const a = document.createElement('a');\n",
              "      a.href = window.URL.createObjectURL(blob);\n",
              "      a.download = filename;\n",
              "      div.appendChild(a);\n",
              "      a.click();\n",
              "      div.remove();\n",
              "    }\n",
              "  "
            ]
          },
          "metadata": {}
        },
        {
          "output_type": "display_data",
          "data": {
            "text/plain": [
              "<IPython.core.display.Javascript object>"
            ],
            "application/javascript": [
              "download(\"download_34991a22-4d82-4ef2-ab62-39cabb8fbfca\", \"fine_tuning.zip\", 123146579)"
            ]
          },
          "metadata": {}
        }
      ]
    },
    {
      "cell_type": "markdown",
      "source": [
        "### With LSTM"
      ],
      "metadata": {
        "id": "fbbYnVkcqROn"
      }
    },
    {
      "cell_type": "code",
      "source": [
        "from keras import layers\n",
        "\n",
        "rnn_lstm = tf.keras.Sequential()\n",
        "\n",
        "rnn_lstm.add(embedding_layer)\n",
        "\n",
        "rnn_lstm.add(layers.LSTM(150))\n",
        "rnn_lstm.add(layers.Dropout(0.5))\n",
        "rnn_lstm.add(layers.Dense(OUTPUT_SIZE_UNDER_X+1, activation='sigmoid'))\n",
        "\n",
        "rnn_lstm.summary()"
      ],
      "metadata": {
        "colab": {
          "base_uri": "https://localhost:8080/"
        },
        "id": "tRFWz1HVqTiF",
        "outputId": "0f89ec20-f620-4741-fcf0-0bc1775e23ff"
      },
      "execution_count": null,
      "outputs": [
        {
          "output_type": "stream",
          "name": "stderr",
          "text": [
            "WARNING:tensorflow:Layer lstm_1 will not use cuDNN kernels since it doesn't meet the criteria. It will use a generic GPU kernel as fallback when running on GPU.\n"
          ]
        },
        {
          "output_type": "stream",
          "name": "stdout",
          "text": [
            "Model: \"sequential_2\"\n",
            "_________________________________________________________________\n",
            " Layer (type)                Output Shape              Param #   \n",
            "=================================================================\n",
            " embedding (Embedding)       (None, 925, 300)          3705900   \n",
            "                                                                 \n",
            " lstm_1 (LSTM)               (None, 150)               270600    \n",
            "                                                                 \n",
            " dropout_2 (Dropout)         (None, 150)               0         \n",
            "                                                                 \n",
            " dense_2 (Dense)             (None, 55)                8305      \n",
            "                                                                 \n",
            "=================================================================\n",
            "Total params: 3,984,805\n",
            "Trainable params: 278,905\n",
            "Non-trainable params: 3,705,900\n",
            "_________________________________________________________________\n"
          ]
        }
      ]
    },
    {
      "cell_type": "code",
      "source": [
        "# Compile the model with F1 score metric\n",
        "rnn_lstm.compile(\n",
        "    optimizer='adam', #tf.keras.optimizers.RMSprop(learning_rate=0.01),\n",
        "    loss=f1_loss,\n",
        "    metrics=['accuracy', f1]\n",
        ")"
      ],
      "metadata": {
        "id": "3K2Xnk13qhZB"
      },
      "execution_count": null,
      "outputs": []
    },
    {
      "cell_type": "code",
      "source": [
        "history_rnn_lstm = rnn_lstm.fit(data, multihot_X, validation_split=0.2 ,epochs=10)"
      ],
      "metadata": {
        "colab": {
          "base_uri": "https://localhost:8080/"
        },
        "id": "wXUG1BISqisH",
        "outputId": "dda6b9a5-9142-47af-c957-b8a151cdd68c"
      },
      "execution_count": null,
      "outputs": [
        {
          "output_type": "stream",
          "name": "stdout",
          "text": [
            "Train on 3348 samples, validate on 838 samples\n",
            "Epoch 1/10\n",
            "3348/3348 [==============================] - ETA: 0s - loss: 0.9133 - accuracy: 0.0944 - f1: 0.0847"
          ]
        },
        {
          "output_type": "stream",
          "name": "stderr",
          "text": [
            "/usr/local/lib/python3.9/dist-packages/keras/engine/training_v1.py:2335: UserWarning: `Model.state_updates` will be removed in a future version. This property should not be used in TensorFlow 2.0, as `updates` are applied automatically.\n",
            "  updates = self.state_updates\n"
          ]
        },
        {
          "output_type": "stream",
          "name": "stdout",
          "text": [
            "\b\b\b\b\b\b\b\b\b\b\b\b\b\b\b\b\b\b\b\b\b\b\b\b\b\b\b\b\b\b\b\b\b\b\b\b\b\b\b\b\b\b\b\b\b\b\b\b\b\b\b\b\b\b\b\b\b\b\b\b\b\b\b\b\b\b\b\b\b\b\b\b\b\b\b\b\b\b\b\b\b\b\b\b\b\b\b\b\b\b\b\b\b\b\b\b\b\b\b\r3348/3348 [==============================] - 51s 15ms/sample - loss: 0.9133 - accuracy: 0.0944 - f1: 0.0847 - val_loss: 0.9065 - val_accuracy: 0.0024 - val_f1: 0.0880\n",
            "Epoch 2/10\n",
            "3348/3348 [==============================] - 51s 15ms/sample - loss: 0.9024 - accuracy: 0.1213 - f1: 0.1034 - val_loss: 0.8998 - val_accuracy: 0.3150 - val_f1: 0.0961\n",
            "Epoch 3/10\n",
            "3348/3348 [==============================] - 54s 16ms/sample - loss: 0.8803 - accuracy: 0.1332 - f1: 0.1268 - val_loss: 0.9011 - val_accuracy: 0.4093 - val_f1: 0.0973\n",
            "Epoch 4/10\n",
            "3348/3348 [==============================] - 52s 16ms/sample - loss: 0.8665 - accuracy: 0.1855 - f1: 0.1360 - val_loss: 0.9018 - val_accuracy: 0.4033 - val_f1: 0.0976\n",
            "Epoch 5/10\n",
            "3348/3348 [==============================] - 51s 15ms/sample - loss: 0.8662 - accuracy: 0.1882 - f1: 0.1350 - val_loss: 0.9064 - val_accuracy: 0.4212 - val_f1: 0.0914\n",
            "Epoch 6/10\n",
            "3348/3348 [==============================] - 51s 15ms/sample - loss: 0.8698 - accuracy: 0.1959 - f1: 0.1316 - val_loss: 0.9009 - val_accuracy: 0.4117 - val_f1: 0.0988\n",
            "Epoch 7/10\n",
            "3348/3348 [==============================] - 52s 16ms/sample - loss: 0.8673 - accuracy: 0.1959 - f1: 0.1345 - val_loss: 0.8984 - val_accuracy: 0.4057 - val_f1: 0.1018\n",
            "Epoch 8/10\n",
            "3348/3348 [==============================] - 51s 15ms/sample - loss: 0.8646 - accuracy: 0.2157 - f1: 0.1362 - val_loss: 0.8990 - val_accuracy: 0.4105 - val_f1: 0.0996\n",
            "Epoch 9/10\n",
            "3348/3348 [==============================] - 51s 15ms/sample - loss: 0.8617 - accuracy: 0.2270 - f1: 0.1390 - val_loss: 0.9017 - val_accuracy: 0.4117 - val_f1: 0.0984\n",
            "Epoch 10/10\n",
            "3348/3348 [==============================] - 52s 16ms/sample - loss: 0.8606 - accuracy: 0.2142 - f1: 0.1407 - val_loss: 0.9013 - val_accuracy: 0.3854 - val_f1: 0.0996\n"
          ]
        }
      ]
    },
    {
      "cell_type": "code",
      "source": [
        "plot_history(history_rnn_lstm, metric='f1')"
      ],
      "metadata": {
        "colab": {
          "base_uri": "https://localhost:8080/",
          "height": 800
        },
        "id": "DlUJsAsorOH8",
        "outputId": "a7daab7d-11ec-4fd9-d8c2-26506d5b0c9c"
      },
      "execution_count": null,
      "outputs": [
        {
          "output_type": "display_data",
          "data": {
            "text/plain": [
              "<Figure size 1600x900 with 2 Axes>"
            ],
            "image/png": "[encoded data removed]"
          },
          "metadata": {}
        }
      ]
    },
    {
      "cell_type": "markdown",
      "source": [
        "### With GRU"
      ],
      "metadata": {
        "id": "yd86QXosqNdR"
      }
    },
    {
      "cell_type": "code",
      "source": [
        "from keras import layers\n",
        "\n",
        "rnn = tf.keras.Sequential()\n",
        "\n",
        "rnn.add(embedding_layer)\n",
        "\n",
        "rnn.add(layers.GRU(128))\n",
        "rnn.add(layers.Dropout(0.5))\n",
        "rnn.add(layers.Dense(OUTPUT_SIZE_UNDER_X+1, activation='sigmoid'))\n",
        "\n",
        "rnn.summary()"
      ],
      "metadata": {
        "colab": {
          "base_uri": "https://localhost:8080/"
        },
        "id": "Ism4hnlek-If",
        "outputId": "9f3ad878-8ba4-4ac0-a67d-62a81cefac6f"
      },
      "execution_count": null,
      "outputs": [
        {
          "output_type": "stream",
          "name": "stderr",
          "text": [
            "WARNING:tensorflow:Layer gru_1 will not use cuDNN kernels since it doesn't meet the criteria. It will use a generic GPU kernel as fallback when running on GPU.\n"
          ]
        },
        {
          "output_type": "stream",
          "name": "stdout",
          "text": [
            "Model: \"sequential_3\"\n",
            "_________________________________________________________________\n",
            " Layer (type)                Output Shape              Param #   \n",
            "=================================================================\n",
            " embedding (Embedding)       (None, 925, 300)          3705900   \n",
            "                                                                 \n",
            " gru_1 (GRU)                 (None, 128)               165120    \n",
            "                                                                 \n",
            " dropout_3 (Dropout)         (None, 128)               0         \n",
            "                                                                 \n",
            " dense_3 (Dense)             (None, 55)                7095      \n",
            "                                                                 \n",
            "=================================================================\n",
            "Total params: 3,878,115\n",
            "Trainable params: 172,215\n",
            "Non-trainable params: 3,705,900\n",
            "_________________________________________________________________\n"
          ]
        }
      ]
    },
    {
      "cell_type": "code",
      "source": [
        "# Compile the model with F1 score metric\n",
        "rnn.compile(\n",
        "    optimizer='adam', #tf.keras.optimizers.RMSprop(learning_rate=0.01),\n",
        "    loss=f1_loss,\n",
        "    metrics=['accuracy', f1]\n",
        ")"
      ],
      "metadata": {
        "id": "oa3-DH35lDHB"
      },
      "execution_count": null,
      "outputs": []
    },
    {
      "cell_type": "code",
      "source": [
        "history_rnn = rnn.fit(data, multihot_X, validation_split=0.2 ,epochs=10)"
      ],
      "metadata": {
        "colab": {
          "base_uri": "https://localhost:8080/"
        },
        "id": "VTAhGEEMlEj9",
        "outputId": "57210831-fbea-4cf9-a8b5-264405fbcf48"
      },
      "execution_count": null,
      "outputs": [
        {
          "output_type": "stream",
          "name": "stdout",
          "text": [
            "Train on 3348 samples, validate on 838 samples\n",
            "Epoch 1/10\n",
            "3348/3348 [==============================] - 66s 20ms/sample - loss: 0.9043 - accuracy: 0.1335 - f1: 0.1036 - val_loss: 0.9000 - val_accuracy: 0.3640 - val_f1: 0.1028\n",
            "Epoch 2/10\n",
            "3348/3348 [==============================] - 64s 19ms/sample - loss: 0.8867 - accuracy: 0.1320 - f1: 0.1180 - val_loss: 0.9006 - val_accuracy: 0.3878 - val_f1: 0.0974\n",
            "Epoch 3/10\n",
            "3348/3348 [==============================] - 65s 19ms/sample - loss: 0.8711 - accuracy: 0.1568 - f1: 0.1307 - val_loss: 0.8983 - val_accuracy: 0.2375 - val_f1: 0.1023\n",
            "Epoch 4/10\n",
            "3348/3348 [==============================] - 65s 19ms/sample - loss: 0.8677 - accuracy: 0.1562 - f1: 0.1337 - val_loss: 0.9013 - val_accuracy: 0.3473 - val_f1: 0.0969\n",
            "Epoch 5/10\n",
            "3348/3348 [==============================] - 65s 19ms/sample - loss: 0.8700 - accuracy: 0.1484 - f1: 0.1315 - val_loss: 0.9001 - val_accuracy: 0.3198 - val_f1: 0.0993\n",
            "Epoch 6/10\n",
            "3348/3348 [==============================] - 65s 19ms/sample - loss: 0.8635 - accuracy: 0.1885 - f1: 0.1370 - val_loss: 0.9019 - val_accuracy: 0.4057 - val_f1: 0.0968\n",
            "Epoch 7/10\n",
            "3348/3348 [==============================] - 65s 19ms/sample - loss: 0.8624 - accuracy: 0.1915 - f1: 0.1386 - val_loss: 0.9009 - val_accuracy: 0.4010 - val_f1: 0.0993\n",
            "Epoch 8/10\n",
            "3348/3348 [==============================] - 64s 19ms/sample - loss: 0.8615 - accuracy: 0.1986 - f1: 0.1397 - val_loss: 0.9016 - val_accuracy: 0.4200 - val_f1: 0.0979\n",
            "Epoch 9/10\n",
            "3348/3348 [==============================] - 65s 19ms/sample - loss: 0.8599 - accuracy: 0.1998 - f1: 0.1421 - val_loss: 0.9014 - val_accuracy: 0.4117 - val_f1: 0.0996\n",
            "Epoch 10/10\n",
            "3348/3348 [==============================] - 68s 20ms/sample - loss: 0.8573 - accuracy: 0.2130 - f1: 0.1455 - val_loss: 0.9012 - val_accuracy: 0.4093 - val_f1: 0.0995\n"
          ]
        }
      ]
    },
    {
      "cell_type": "code",
      "source": [
        "plot_history(history_rnn, metric='f1')"
      ],
      "metadata": {
        "colab": {
          "base_uri": "https://localhost:8080/",
          "height": 800
        },
        "id": "OF2Or3j-lGxq",
        "outputId": "4d07ee16-1ab3-4488-d694-7f3af4433595"
      },
      "execution_count": null,
      "outputs": [
        {
          "output_type": "display_data",
          "data": {
            "text/plain": [
              "<Figure size 1600x900 with 2 Axes>"
            ],
            "image/png": "[encoded data removed]"
          },
          "metadata": {}
        }
      ]
    },
    {
      "cell_type": "markdown",
      "source": [
        "# Example (Some tests to dabstracts)\n",
        "\n",
        "Conocimiento cogido de https://www.nltk.org/book/"
      ],
      "metadata": {
        "id": "VrtRLkN2zcvY"
      }
    },
    {
      "cell_type": "code",
      "source": [
        "example = X.values[0]\n",
        "example"
      ],
      "metadata": {
        "colab": {
          "base_uri": "https://localhost:8080/",
          "height": 105
        },
        "id": "apkQJyH1s9rq",
        "outputId": "6fc2bafc-f319-47b5-c5ce-ff027214b9dc"
      },
      "execution_count": null,
      "outputs": [
        {
          "output_type": "execute_result",
          "data": {
            "text/plain": [
              "'statistical word alignment models need large amount of training data while they are weak in small-size corpora. this paper proposes a new approach of unsupervised hybrid word alignment technique using ensemble learning method. this algorithm uses three base alignment models in several rounds to generate alignments. the ensemble algorithm uses a weighed scheme for resampling training data and a voting score to consider aggregated alignments. the underlying alignment algorithms used in this study include ibm model 1, 2 and a heuristic method based on dice measurement. our experimental results show that by this approach, the alignment error rate could be improved by at least %15 for the base alignment models.'"
            ],
            "application/vnd.google.colaboratory.intrinsic+json": {
              "type": "string"
            }
          },
          "metadata": {},
          "execution_count": 31
        }
      ]
    },
    {
      "cell_type": "code",
      "source": [
        "tokens = nltk.word_tokenize(example.lower())\n",
        "tokens[:5]  # Los puntos, comas y demás también se separan"
      ],
      "metadata": {
        "colab": {
          "base_uri": "https://localhost:8080/"
        },
        "id": "bQgd4qZDtAjc",
        "outputId": "12259f66-0ada-48c1-bd1c-0a8f759169e4"
      },
      "execution_count": null,
      "outputs": [
        {
          "output_type": "execute_result",
          "data": {
            "text/plain": [
              "['statistical', 'word', 'alignment', 'models', 'need']"
            ]
          },
          "metadata": {},
          "execution_count": 32
        }
      ]
    },
    {
      "cell_type": "markdown",
      "source": [
        "### Frecuencia\n",
        "\n",
        "En las siguientes celdas se mostrará información sobre la frecuencia de las palabras. Es decir, el número de veces que se repite una palabra."
      ],
      "metadata": {
        "id": "mbCCc5Jxuji-"
      }
    },
    {
      "cell_type": "code",
      "source": [
        "fdist1 = nltk.punkt.FreqDist(tokens)"
      ],
      "metadata": {
        "id": "LsLzaWnhtmEc"
      },
      "execution_count": null,
      "outputs": []
    },
    {
      "cell_type": "code",
      "source": [
        "fdist1.most_common(10)"
      ],
      "metadata": {
        "colab": {
          "base_uri": "https://localhost:8080/"
        },
        "id": "uqdvfX0GvaZk",
        "outputId": "580757a1-85db-4297-d487-52b9de4a0a8f"
      },
      "execution_count": null,
      "outputs": [
        {
          "output_type": "execute_result",
          "data": {
            "text/plain": [
              "[('alignment', 6),\n",
              " ('.', 6),\n",
              " ('this', 4),\n",
              " ('a', 4),\n",
              " ('the', 4),\n",
              " ('models', 3),\n",
              " ('in', 3),\n",
              " ('word', 2),\n",
              " ('of', 2),\n",
              " ('training', 2)]"
            ]
          },
          "metadata": {},
          "execution_count": 34
        }
      ]
    },
    {
      "cell_type": "code",
      "source": [
        "type(fdist1)"
      ],
      "metadata": {
        "colab": {
          "base_uri": "https://localhost:8080/"
        },
        "id": "yqziQAgdx4RR",
        "outputId": "d1971d2a-73a4-45d3-8cbe-8bfd2dff5af2"
      },
      "execution_count": null,
      "outputs": [
        {
          "output_type": "execute_result",
          "data": {
            "text/plain": [
              "nltk.probability.FreqDist"
            ]
          },
          "metadata": {},
          "execution_count": 45
        }
      ]
    },
    {
      "cell_type": "code",
      "source": [
        "fdist1.plot(title=\"Frecuencia de example\")"
      ],
      "metadata": {
        "colab": {
          "base_uri": "https://localhost:8080/",
          "height": 589
        },
        "id": "mGcvVGqyxnXU",
        "outputId": "62ba47a7-7717-49c0-a6fd-2fda845e3537"
      },
      "execution_count": null,
      "outputs": [
        {
          "output_type": "display_data",
          "data": {
            "text/plain": [
              "<Figure size 640x480 with 1 Axes>"
            ],
            "image/png": "[encoded data removed]"
          },
          "metadata": {}
        },
        {
          "output_type": "execute_result",
          "data": {
            "text/plain": [
              "<Axes: title={'center': 'Frecuencia de example'}, xlabel='Samples', ylabel='Counts'>"
            ]
          },
          "metadata": {},
          "execution_count": 47
        }
      ]
    },
    {
      "cell_type": "markdown",
      "source": [
        "Como se puede observar, en el abstract de example, se tienen muchos valores que solo aparecen una vez, también son llamados `hapaxes`. Esto no puede interesar, porque si existen palabras con pocas repeticiones en todos los abstracts, entonces las podemos eliminar."
      ],
      "metadata": {
        "id": "QOjnrDYpzFyT"
      }
    },
    {
      "cell_type": "code",
      "source": [
        "print(f'Nº de palabras únicas: {len(fdist1.hapaxes())}, ejemplos: {fdist1.hapaxes()[:5]}')"
      ],
      "metadata": {
        "colab": {
          "base_uri": "https://localhost:8080/"
        },
        "id": "0s6xzXAwxanL",
        "outputId": "96c88487-e2b2-4e04-8e33-2aef5d71ef68"
      },
      "execution_count": null,
      "outputs": [
        {
          "output_type": "stream",
          "name": "stdout",
          "text": [
            "Nº de palabras únicas: 57, ejemplos: ['statistical', 'need', 'large', 'amount', 'while']\n"
          ]
        }
      ]
    },
    {
      "cell_type": "markdown",
      "source": [
        "Bigramas. Son secuencias de palabras. Por ejemplo, `vino rojo`. Esto es importante, ya que `vino marrón` suena muy mal. Por supuesto, al coger bigramas, estamos cogiendo conjuntos de dos datos. Lo que signigica que habrá muchos que no tengan sentido.\n",
        "\n",
        "Lo bueno, `nltk` tiene un modulo llamado `collocations` que genera **bigramas** más \"importantes\" o que, se pueden \"encontrar\" en la realidad. Estos valores se sacan con una tabla de **contingencia**.\n",
        "\n",
        "https://tedboy.github.io/nlps/generated/generated/nltk.BigramAssocMeasures.html"
      ],
      "metadata": {
        "id": "UdY0DEKV0aqy"
      }
    },
    {
      "cell_type": "code",
      "source": [
        "list(nltk.bigrams(tokens))"
      ],
      "metadata": {
        "id": "4zCzPy9uyV1y"
      },
      "execution_count": null,
      "outputs": []
    },
    {
      "cell_type": "code",
      "source": [
        "b_finder = nltk.collocations.BigramCollocationFinder.from_words(tokens)"
      ],
      "metadata": {
        "id": "oF2LMWj71WPP"
      },
      "execution_count": null,
      "outputs": []
    },
    {
      "cell_type": "code",
      "source": [
        "bigram_measures = nltk.collocations.BigramAssocMeasures()"
      ],
      "metadata": {
        "id": "-4vjyTVe2k92"
      },
      "execution_count": null,
      "outputs": []
    },
    {
      "cell_type": "code",
      "source": [
        "b_finder.nbest(bigram_measures.pmi, 10)"
      ],
      "metadata": {
        "colab": {
          "base_uri": "https://localhost:8080/"
        },
        "id": "aFD4nX5h14U_",
        "outputId": "1829c161-6c6e-43b7-d14c-7ce29d19f3db"
      },
      "execution_count": null,
      "outputs": [
        {
          "output_type": "execute_result",
          "data": {
            "text/plain": [
              "[('%', '15'),\n",
              " ('algorithms', 'used'),\n",
              " ('are', 'weak'),\n",
              " ('at', 'least'),\n",
              " ('based', 'on'),\n",
              " ('be', 'improved'),\n",
              " ('consider', 'aggregated'),\n",
              " ('could', 'be'),\n",
              " ('dice', 'measurement'),\n",
              " ('error', 'rate')]"
            ]
          },
          "metadata": {},
          "execution_count": 65
        }
      ]
    },
    {
      "cell_type": "markdown",
      "source": [
        "También se pueden contar el número de veces que aparece el tamaño de las palabras."
      ],
      "metadata": {
        "id": "lcYxNL3z4E7I"
      }
    },
    {
      "cell_type": "code",
      "source": [
        "fdLen = nltk.punkt.FreqDist(len(w) for w in tokens)"
      ],
      "metadata": {
        "id": "WeN-tpRR2h55"
      },
      "execution_count": null,
      "outputs": []
    },
    {
      "cell_type": "code",
      "source": [
        "max = fdLen.max()\n",
        "print(f'El tamaño de las palabras más repetidas es {max}:\\n\\t- Frecuencia : {fdLen[max]}\\n\\t- Frecuencia (%): {fdLen.freq(max)}')"
      ],
      "metadata": {
        "colab": {
          "base_uri": "https://localhost:8080/"
        },
        "id": "UrO0ZtZ24dZH",
        "outputId": "86e8e143-4c6b-451a-919f-b85cd93d44c3"
      },
      "execution_count": null,
      "outputs": [
        {
          "output_type": "stream",
          "name": "stdout",
          "text": [
            "El tamaño de las palabras más repetidas es 4:\n",
            "\t- Frecuencia : 20\n",
            "\t- Frecuencia (%): 0.16806722689075632\n"
          ]
        }
      ]
    },
    {
      "cell_type": "code",
      "source": [
        "print(f'Número total de samples: {fdLen.N()}')"
      ],
      "metadata": {
        "colab": {
          "base_uri": "https://localhost:8080/"
        },
        "id": "vC0IJsHF4f3b",
        "outputId": "77d15d90-a46e-4ec5-eb80-eebdc0b2bfcd"
      },
      "execution_count": null,
      "outputs": [
        {
          "output_type": "stream",
          "name": "stdout",
          "text": [
            "Número total de samples: 119\n"
          ]
        }
      ]
    },
    {
      "cell_type": "markdown",
      "source": [
        "### Best way to do everything earlier\n",
        "\n",
        "Converting the string into a nltk.Text(), using the `stopwords` dataset, we can see that the collocations are way better than earlier."
      ],
      "metadata": {
        "id": "YJTyuiGc7kwX"
      }
    },
    {
      "cell_type": "code",
      "source": [
        "text = nltk.Text(tokens)\n",
        "text[:5]"
      ],
      "metadata": {
        "colab": {
          "base_uri": "https://localhost:8080/"
        },
        "id": "W7LuW5mI7y1b",
        "outputId": "e88a10da-eb19-40df-9543-46f54f87b8c5"
      },
      "execution_count": null,
      "outputs": [
        {
          "output_type": "execute_result",
          "data": {
            "text/plain": [
              "['statistical', 'word', 'alignment', 'models', 'need']"
            ]
          },
          "metadata": {},
          "execution_count": 76
        }
      ]
    },
    {
      "cell_type": "code",
      "source": [
        "text.collocations()"
      ],
      "metadata": {
        "colab": {
          "base_uri": "https://localhost:8080/"
        },
        "id": "xdVIYR_R-byq",
        "outputId": "df023ada-fb91-41d2-8b61-daa2acae5a15"
      },
      "execution_count": null,
      "outputs": [
        {
          "output_type": "stream",
          "name": "stdout",
          "text": [
            "algorithm uses; training data; alignment models; base alignment; word\n",
            "alignment\n"
          ]
        }
      ]
    },
    {
      "cell_type": "markdown",
      "source": [
        "### Tagging\n",
        "\n",
        "Lo que mola de `nltk`, es que, una vez tienes las palabras, puedes clasificar las palabras. Usa el paquete: `averaged_perceptron_tagger`\n",
        "\n",
        "- `cc` coordinating conjunction\n",
        "- `rb` adverbs\n",
        "- `in` preposition\n",
        "- `nn` noun\n",
        "- `jj` adjective\n",
        "- `vbp` verb"
      ],
      "metadata": {
        "id": "NHRCRjaY_t4i"
      }
    },
    {
      "cell_type": "markdown",
      "source": [
        "#### Pos_tagger"
      ],
      "metadata": {
        "id": "e3rWzbt0AiaB"
      }
    },
    {
      "cell_type": "code",
      "source": [
        "tags = nltk.pos_tag(tokens)\n",
        "tags[:5]"
      ],
      "metadata": {
        "colab": {
          "base_uri": "https://localhost:8080/"
        },
        "id": "jxrVQnZq-dZf",
        "outputId": "61aa71b3-9e04-4543-c1ec-d1a439bbf9e8"
      },
      "execution_count": null,
      "outputs": [
        {
          "output_type": "execute_result",
          "data": {
            "text/plain": [
              "[('statistical', 'JJ'),\n",
              " ('word', 'NN'),\n",
              " ('alignment', 'NN'),\n",
              " ('models', 'NNS'),\n",
              " ('need', 'VBP')]"
            ]
          },
          "metadata": {},
          "execution_count": 91
        }
      ]
    },
    {
      "cell_type": "code",
      "source": [
        "len(tags)"
      ],
      "metadata": {
        "colab": {
          "base_uri": "https://localhost:8080/"
        },
        "id": "3yj4J2yPEXR0",
        "outputId": "1b28ce39-b1e5-4d4c-b135-a31e867e1de7"
      },
      "execution_count": null,
      "outputs": [
        {
          "output_type": "execute_result",
          "data": {
            "text/plain": [
              "119"
            ]
          },
          "metadata": {},
          "execution_count": 97
        }
      ]
    },
    {
      "cell_type": "code",
      "source": [
        "# get rid of prepositions\n",
        "len([word for word, tag in tags if tag != 'IN'])"
      ],
      "metadata": {
        "colab": {
          "base_uri": "https://localhost:8080/"
        },
        "id": "bfQ4l0weAHBI",
        "outputId": "db71de0b-c8f7-4ac8-d6d7-53e98d516345"
      },
      "execution_count": null,
      "outputs": [
        {
          "output_type": "execute_result",
          "data": {
            "text/plain": [
              "106"
            ]
          },
          "metadata": {},
          "execution_count": 96
        }
      ]
    },
    {
      "cell_type": "code",
      "source": [],
      "metadata": {
        "id": "V2x9HSMkBaAx"
      },
      "execution_count": null,
      "outputs": []
    }
  ]
}