{
 "cells": [
  {
   "cell_type": "markdown",
   "id": "cvhgYqW3h9ZE",
   "metadata": {
    "id": "cvhgYqW3h9ZE"
   },
   "source": [
    "# Notas\n",
    "\n"
   ]
  },
  {
   "cell_type": "markdown",
   "id": "UbNyr9hwOg4E",
   "metadata": {
    "id": "UbNyr9hwOg4E"
   },
   "source": [
    "Pipeline sugerido: <br>\n",
    "![1-s2.0-S092523121931687X-gr1.jpg](data:image/jpeg;base64,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)"
   ]
  },
  {
   "cell_type": "markdown",
   "id": "WNTBsnGjiDgx",
   "metadata": {
    "id": "WNTBsnGjiDgx"
   },
   "source": [
    "Fuente: https://reader.elsevier.com/reader/sd/pii/S092523121931687X?token=FC73D0A2D97F651107829FA32607FEB1805FAEC2511A5EE011CEBD5C1E56D90AD074665F19F578230F696CD46DB25CA2&originRegion=eu-west-1&originCreation=20230307084138"
   ]
  },
  {
   "cell_type": "code",
   "execution_count": 1,
   "id": "UsGhVXHVkQoZ",
   "metadata": {
    "id": "UsGhVXHVkQoZ"
   },
   "outputs": [
    {
     "name": "stderr",
     "output_type": "stream",
     "text": [
      "2023-03-31 11:23:12.534673: I tensorflow/core/platform/cpu_feature_guard.cc:193] This TensorFlow binary is optimized with oneAPI Deep Neural Network Library (oneDNN) to use the following CPU instructions in performance-critical operations:  AVX2 AVX512F AVX512_VNNI FMA\n",
      "To enable them in other operations, rebuild TensorFlow with the appropriate compiler flags.\n",
      "2023-03-31 11:23:12.667513: I tensorflow/core/util/port.cc:104] oneDNN custom operations are on. You may see slightly different numerical results due to floating-point round-off errors from different computation orders. To turn them off, set the environment variable `TF_ENABLE_ONEDNN_OPTS=0`.\n",
      "2023-03-31 11:23:12.671421: W tensorflow/compiler/xla/stream_executor/platform/default/dso_loader.cc:64] Could not load dynamic library 'libcudart.so.11.0'; dlerror: libcudart.so.11.0: cannot open shared object file: No such file or directory\n",
      "2023-03-31 11:23:12.671441: I tensorflow/compiler/xla/stream_executor/cuda/cudart_stub.cc:29] Ignore above cudart dlerror if you do not have a GPU set up on your machine.\n",
      "2023-03-31 11:23:13.255468: W tensorflow/compiler/xla/stream_executor/platform/default/dso_loader.cc:64] Could not load dynamic library 'libnvinfer.so.7'; dlerror: libnvinfer.so.7: cannot open shared object file: No such file or directory\n",
      "2023-03-31 11:23:13.255543: W tensorflow/compiler/xla/stream_executor/platform/default/dso_loader.cc:64] Could not load dynamic library 'libnvinfer_plugin.so.7'; dlerror: libnvinfer_plugin.so.7: cannot open shared object file: No such file or directory\n",
      "2023-03-31 11:23:13.255548: W tensorflow/compiler/tf2tensorrt/utils/py_utils.cc:38] TF-TRT Warning: Cannot dlopen some TensorRT libraries. If you would like to use Nvidia GPU with TensorRT, please make sure the missing libraries mentioned above are installed properly.\n"
     ]
    }
   ],
   "source": [
    "import os.path\n",
    "import requests\n",
    "from shutil import unpack_archive\n",
    "\n",
    "import numpy as np\n",
    "import pandas as pd\n",
    "import tensorflow as tf\n",
    "\n",
    "import matplotlib.pyplot as plt"
   ]
  },
  {
   "cell_type": "markdown",
   "id": "Ly4ypP8kiHmU",
   "metadata": {
    "id": "Ly4ypP8kiHmU"
   },
   "source": [
    "# Preprocesamiento muy inicial de los datos"
   ]
  },
  {
   "cell_type": "code",
   "execution_count": 2,
   "id": "muRdKxy4iJvz",
   "metadata": {
    "id": "muRdKxy4iJvz"
   },
   "outputs": [],
   "source": [
    "# datos preparados\n",
    "url_datos_moodle = \"https://gist.githubusercontent.com/w-dan/b84bdbfbd86b610a89aa0aa57e6efb5e/raw/aeaffaa9d26c66678b697ecb9fd99fd0c8eaca52/papers.csv\""
   ]
  },
  {
   "cell_type": "code",
   "execution_count": 3,
   "id": "20SJGrJBiLsX",
   "metadata": {
    "colab": {
     "base_uri": "https://localhost:8080/",
     "height": 424
    },
    "id": "20SJGrJBiLsX",
    "outputId": "25970f49-c9de-4b81-9f75-2ada1ee910d0"
   },
   "outputs": [
    {
     "data": {
      "text/html": [
       "<div>\n",
       "<style scoped>\n",
       "    .dataframe tbody tr th:only-of-type {\n",
       "        vertical-align: middle;\n",
       "    }\n",
       "\n",
       "    .dataframe tbody tr th {\n",
       "        vertical-align: top;\n",
       "    }\n",
       "\n",
       "    .dataframe thead th {\n",
       "        text-align: right;\n",
       "    }\n",
       "</style>\n",
       "<table border=\"1\" class=\"dataframe\">\n",
       "  <thead>\n",
       "    <tr style=\"text-align: right;\">\n",
       "      <th></th>\n",
       "      <th>id</th>\n",
       "      <th>title</th>\n",
       "      <th>abstract</th>\n",
       "      <th>Unnamed: 3</th>\n",
       "      <th>keywords</th>\n",
       "      <th>Unnamed: 5</th>\n",
       "      <th>Unnamed: 6</th>\n",
       "      <th>Unnamed: 7</th>\n",
       "    </tr>\n",
       "  </thead>\n",
       "  <tbody>\n",
       "    <tr>\n",
       "      <th>0</th>\n",
       "      <td>1</td>\n",
       "      <td>Ensemble Statistical and Heuristic Models for ...</td>\n",
       "      <td>Statistical word alignment models need large a...</td>\n",
       "      <td>NaN</td>\n",
       "      <td>statistical word alignment, ensemble learning,...</td>\n",
       "      <td>NaN</td>\n",
       "      <td>NaN</td>\n",
       "      <td>NaN</td>\n",
       "    </tr>\n",
       "    <tr>\n",
       "      <th>1</th>\n",
       "      <td>2</td>\n",
       "      <td>Improving Spectral Learning by Using Multiple ...</td>\n",
       "      <td>Spectral learning algorithms learn an unknown ...</td>\n",
       "      <td>NaN</td>\n",
       "      <td>representation, spectral learning, discrete fo...</td>\n",
       "      <td>NaN</td>\n",
       "      <td>NaN</td>\n",
       "      <td>NaN</td>\n",
       "    </tr>\n",
       "    <tr>\n",
       "      <th>2</th>\n",
       "      <td>3</td>\n",
       "      <td>Applying Swarm Ensemble Clustering Technique f...</td>\n",
       "      <td>Number of defects remaining in a system provid...</td>\n",
       "      <td>NaN</td>\n",
       "      <td>software defect prediction, particle swarm opt...</td>\n",
       "      <td>NaN</td>\n",
       "      <td>NaN</td>\n",
       "      <td>NaN</td>\n",
       "    </tr>\n",
       "    <tr>\n",
       "      <th>3</th>\n",
       "      <td>4</td>\n",
       "      <td>Reducing the Effects of Detrimental Instances</td>\n",
       "      <td>Not all instances in a data set are equally be...</td>\n",
       "      <td>NaN</td>\n",
       "      <td>filtering, label noise, instance weighting</td>\n",
       "      <td>NaN</td>\n",
       "      <td>NaN</td>\n",
       "      <td>NaN</td>\n",
       "    </tr>\n",
       "    <tr>\n",
       "      <th>4</th>\n",
       "      <td>5</td>\n",
       "      <td>Concept Drift Awareness in Twitter Streams</td>\n",
       "      <td>Learning in non-stationary environments is not...</td>\n",
       "      <td>NaN</td>\n",
       "      <td>twitter, adaptation models, time-frequency ana...</td>\n",
       "      <td>NaN</td>\n",
       "      <td>NaN</td>\n",
       "      <td>NaN</td>\n",
       "    </tr>\n",
       "    <tr>\n",
       "      <th>...</th>\n",
       "      <td>...</td>\n",
       "      <td>...</td>\n",
       "      <td>...</td>\n",
       "      <td>...</td>\n",
       "      <td>...</td>\n",
       "      <td>...</td>\n",
       "      <td>...</td>\n",
       "      <td>...</td>\n",
       "    </tr>\n",
       "    <tr>\n",
       "      <th>443</th>\n",
       "      <td>444</td>\n",
       "      <td>A Machine Learning Tool for Supporting Advance...</td>\n",
       "      <td>In the current era of big data, high volumes o...</td>\n",
       "      <td>NaN</td>\n",
       "      <td>machine-learning,unsupervised-learning,knowled...</td>\n",
       "      <td>NaN</td>\n",
       "      <td>NaN</td>\n",
       "      <td>NaN</td>\n",
       "    </tr>\n",
       "    <tr>\n",
       "      <th>444</th>\n",
       "      <td>445</td>\n",
       "      <td>Advanced ECHMM-Based Machine Learning Tools fo...</td>\n",
       "      <td>We present a novel approach for accurate chara...</td>\n",
       "      <td>NaN</td>\n",
       "      <td>workload characterization,hmm,cepstral coeffic...</td>\n",
       "      <td>NaN</td>\n",
       "      <td>NaN</td>\n",
       "      <td>NaN</td>\n",
       "    </tr>\n",
       "    <tr>\n",
       "      <th>445</th>\n",
       "      <td>446</td>\n",
       "      <td>A Cluster Analysis of Challenging Behaviors in...</td>\n",
       "      <td>We apply cluster analysis to a sample of 2,116...</td>\n",
       "      <td>NaN</td>\n",
       "      <td>cluster analysis,autism spectrum disorder,chal...</td>\n",
       "      <td>NaN</td>\n",
       "      <td>NaN</td>\n",
       "      <td>NaN</td>\n",
       "    </tr>\n",
       "    <tr>\n",
       "      <th>446</th>\n",
       "      <td>447</td>\n",
       "      <td>Predicting Psychosis Using the Experience Samp...</td>\n",
       "      <td>Smart phones have become ubiquitous in the rec...</td>\n",
       "      <td>NaN</td>\n",
       "      <td>predicting psychosis,esm,mhealth,svm,gaussian ...</td>\n",
       "      <td>NaN</td>\n",
       "      <td>NaN</td>\n",
       "      <td>NaN</td>\n",
       "    </tr>\n",
       "    <tr>\n",
       "      <th>447</th>\n",
       "      <td>448</td>\n",
       "      <td>Bayesian Nonparametric Clustering of Patients ...</td>\n",
       "      <td>Bayesian nonparametric (BNP) statistical techn...</td>\n",
       "      <td>NaN</td>\n",
       "      <td>bayes methods,monte carlo methods,numerical si...</td>\n",
       "      <td>NaN</td>\n",
       "      <td>NaN</td>\n",
       "      <td>NaN</td>\n",
       "    </tr>\n",
       "  </tbody>\n",
       "</table>\n",
       "<p>448 rows × 8 columns</p>\n",
       "</div>"
      ],
      "text/plain": [
       "      id                                              title  \\\n",
       "0      1  Ensemble Statistical and Heuristic Models for ...   \n",
       "1      2  Improving Spectral Learning by Using Multiple ...   \n",
       "2      3  Applying Swarm Ensemble Clustering Technique f...   \n",
       "3      4      Reducing the Effects of Detrimental Instances   \n",
       "4      5         Concept Drift Awareness in Twitter Streams   \n",
       "..   ...                                                ...   \n",
       "443  444  A Machine Learning Tool for Supporting Advance...   \n",
       "444  445  Advanced ECHMM-Based Machine Learning Tools fo...   \n",
       "445  446  A Cluster Analysis of Challenging Behaviors in...   \n",
       "446  447  Predicting Psychosis Using the Experience Samp...   \n",
       "447  448  Bayesian Nonparametric Clustering of Patients ...   \n",
       "\n",
       "                                              abstract  Unnamed: 3  \\\n",
       "0    Statistical word alignment models need large a...         NaN   \n",
       "1    Spectral learning algorithms learn an unknown ...         NaN   \n",
       "2    Number of defects remaining in a system provid...         NaN   \n",
       "3    Not all instances in a data set are equally be...         NaN   \n",
       "4    Learning in non-stationary environments is not...         NaN   \n",
       "..                                                 ...         ...   \n",
       "443  In the current era of big data, high volumes o...         NaN   \n",
       "444  We present a novel approach for accurate chara...         NaN   \n",
       "445  We apply cluster analysis to a sample of 2,116...         NaN   \n",
       "446  Smart phones have become ubiquitous in the rec...         NaN   \n",
       "447  Bayesian nonparametric (BNP) statistical techn...         NaN   \n",
       "\n",
       "                                              keywords Unnamed: 5 Unnamed: 6  \\\n",
       "0    statistical word alignment, ensemble learning,...        NaN        NaN   \n",
       "1    representation, spectral learning, discrete fo...        NaN        NaN   \n",
       "2    software defect prediction, particle swarm opt...        NaN        NaN   \n",
       "3           filtering, label noise, instance weighting        NaN        NaN   \n",
       "4    twitter, adaptation models, time-frequency ana...        NaN        NaN   \n",
       "..                                                 ...        ...        ...   \n",
       "443  machine-learning,unsupervised-learning,knowled...        NaN        NaN   \n",
       "444  workload characterization,hmm,cepstral coeffic...        NaN        NaN   \n",
       "445  cluster analysis,autism spectrum disorder,chal...        NaN        NaN   \n",
       "446  predicting psychosis,esm,mhealth,svm,gaussian ...        NaN        NaN   \n",
       "447  bayes methods,monte carlo methods,numerical si...        NaN        NaN   \n",
       "\n",
       "     Unnamed: 7  \n",
       "0           NaN  \n",
       "1           NaN  \n",
       "2           NaN  \n",
       "3           NaN  \n",
       "4           NaN  \n",
       "..          ...  \n",
       "443         NaN  \n",
       "444         NaN  \n",
       "445         NaN  \n",
       "446         NaN  \n",
       "447         NaN  \n",
       "\n",
       "[448 rows x 8 columns]"
      ]
     },
     "execution_count": 3,
     "metadata": {},
     "output_type": "execute_result"
    }
   ],
   "source": [
    "df = pd.read_csv(url_datos_moodle)\n",
    "df"
   ]
  },
  {
   "cell_type": "markdown",
   "id": "uOalJuzTiQIu",
   "metadata": {
    "id": "uOalJuzTiQIu"
   },
   "source": [
    "Separación de variable objetivo y demás atributos"
   ]
  },
  {
   "cell_type": "code",
   "execution_count": 4,
   "id": "5WmVE1_siSDB",
   "metadata": {
    "id": "5WmVE1_siSDB"
   },
   "outputs": [],
   "source": [
    "y = df['keywords']\n",
    "X = df.drop(['keywords'], axis=1)"
   ]
  },
  {
   "cell_type": "markdown",
   "id": "mBEuV2x_iVLe",
   "metadata": {
    "id": "mBEuV2x_iVLe"
   },
   "source": [
    "Comprobamos las columnas Unnamed, tienen muchos valores NaN y parecen raras"
   ]
  },
  {
   "cell_type": "code",
   "execution_count": 5,
   "id": "LVI3IkNpiZHO",
   "metadata": {
    "colab": {
     "base_uri": "https://localhost:8080/"
    },
    "id": "LVI3IkNpiZHO",
    "outputId": "48f29184-cd8a-4450-ce30-7f3de54322aa"
   },
   "outputs": [
    {
     "name": "stdout",
     "output_type": "stream",
     "text": [
      "El dataset tiene  448  filas\n",
      "===== NULOS =====\n"
     ]
    },
    {
     "data": {
      "text/plain": [
       "id              0\n",
       "title           0\n",
       "abstract        0\n",
       "Unnamed: 3    448\n",
       "keywords        0\n",
       "Unnamed: 5    443\n",
       "Unnamed: 6    444\n",
       "Unnamed: 7    447\n",
       "dtype: int64"
      ]
     },
     "execution_count": 5,
     "metadata": {},
     "output_type": "execute_result"
    }
   ],
   "source": [
    "print(\"El dataset tiene \", len(df), \" filas\")\n",
    "\n",
    "print(\"===== NULOS =====\")\n",
    "df.isnull().sum()"
   ]
  },
  {
   "cell_type": "code",
   "execution_count": 6,
   "id": "Dt4-1uA0icsB",
   "metadata": {
    "colab": {
     "base_uri": "https://localhost:8080/",
     "height": 424
    },
    "id": "Dt4-1uA0icsB",
    "outputId": "c6056794-461d-4487-a3e8-c54cee58fdd5"
   },
   "outputs": [
    {
     "data": {
      "text/html": [
       "<div>\n",
       "<style scoped>\n",
       "    .dataframe tbody tr th:only-of-type {\n",
       "        vertical-align: middle;\n",
       "    }\n",
       "\n",
       "    .dataframe tbody tr th {\n",
       "        vertical-align: top;\n",
       "    }\n",
       "\n",
       "    .dataframe thead th {\n",
       "        text-align: right;\n",
       "    }\n",
       "</style>\n",
       "<table border=\"1\" class=\"dataframe\">\n",
       "  <thead>\n",
       "    <tr style=\"text-align: right;\">\n",
       "      <th></th>\n",
       "      <th>title</th>\n",
       "      <th>abstract</th>\n",
       "    </tr>\n",
       "  </thead>\n",
       "  <tbody>\n",
       "    <tr>\n",
       "      <th>0</th>\n",
       "      <td>Ensemble Statistical and Heuristic Models for ...</td>\n",
       "      <td>Statistical word alignment models need large a...</td>\n",
       "    </tr>\n",
       "    <tr>\n",
       "      <th>1</th>\n",
       "      <td>Improving Spectral Learning by Using Multiple ...</td>\n",
       "      <td>Spectral learning algorithms learn an unknown ...</td>\n",
       "    </tr>\n",
       "    <tr>\n",
       "      <th>2</th>\n",
       "      <td>Applying Swarm Ensemble Clustering Technique f...</td>\n",
       "      <td>Number of defects remaining in a system provid...</td>\n",
       "    </tr>\n",
       "    <tr>\n",
       "      <th>3</th>\n",
       "      <td>Reducing the Effects of Detrimental Instances</td>\n",
       "      <td>Not all instances in a data set are equally be...</td>\n",
       "    </tr>\n",
       "    <tr>\n",
       "      <th>4</th>\n",
       "      <td>Concept Drift Awareness in Twitter Streams</td>\n",
       "      <td>Learning in non-stationary environments is not...</td>\n",
       "    </tr>\n",
       "    <tr>\n",
       "      <th>...</th>\n",
       "      <td>...</td>\n",
       "      <td>...</td>\n",
       "    </tr>\n",
       "    <tr>\n",
       "      <th>443</th>\n",
       "      <td>A Machine Learning Tool for Supporting Advance...</td>\n",
       "      <td>In the current era of big data, high volumes o...</td>\n",
       "    </tr>\n",
       "    <tr>\n",
       "      <th>444</th>\n",
       "      <td>Advanced ECHMM-Based Machine Learning Tools fo...</td>\n",
       "      <td>We present a novel approach for accurate chara...</td>\n",
       "    </tr>\n",
       "    <tr>\n",
       "      <th>445</th>\n",
       "      <td>A Cluster Analysis of Challenging Behaviors in...</td>\n",
       "      <td>We apply cluster analysis to a sample of 2,116...</td>\n",
       "    </tr>\n",
       "    <tr>\n",
       "      <th>446</th>\n",
       "      <td>Predicting Psychosis Using the Experience Samp...</td>\n",
       "      <td>Smart phones have become ubiquitous in the rec...</td>\n",
       "    </tr>\n",
       "    <tr>\n",
       "      <th>447</th>\n",
       "      <td>Bayesian Nonparametric Clustering of Patients ...</td>\n",
       "      <td>Bayesian nonparametric (BNP) statistical techn...</td>\n",
       "    </tr>\n",
       "  </tbody>\n",
       "</table>\n",
       "<p>448 rows × 2 columns</p>\n",
       "</div>"
      ],
      "text/plain": [
       "                                                 title  \\\n",
       "0    Ensemble Statistical and Heuristic Models for ...   \n",
       "1    Improving Spectral Learning by Using Multiple ...   \n",
       "2    Applying Swarm Ensemble Clustering Technique f...   \n",
       "3        Reducing the Effects of Detrimental Instances   \n",
       "4           Concept Drift Awareness in Twitter Streams   \n",
       "..                                                 ...   \n",
       "443  A Machine Learning Tool for Supporting Advance...   \n",
       "444  Advanced ECHMM-Based Machine Learning Tools fo...   \n",
       "445  A Cluster Analysis of Challenging Behaviors in...   \n",
       "446  Predicting Psychosis Using the Experience Samp...   \n",
       "447  Bayesian Nonparametric Clustering of Patients ...   \n",
       "\n",
       "                                              abstract  \n",
       "0    Statistical word alignment models need large a...  \n",
       "1    Spectral learning algorithms learn an unknown ...  \n",
       "2    Number of defects remaining in a system provid...  \n",
       "3    Not all instances in a data set are equally be...  \n",
       "4    Learning in non-stationary environments is not...  \n",
       "..                                                 ...  \n",
       "443  In the current era of big data, high volumes o...  \n",
       "444  We present a novel approach for accurate chara...  \n",
       "445  We apply cluster analysis to a sample of 2,116...  \n",
       "446  Smart phones have become ubiquitous in the rec...  \n",
       "447  Bayesian nonparametric (BNP) statistical techn...  \n",
       "\n",
       "[448 rows x 2 columns]"
      ]
     },
     "execution_count": 6,
     "metadata": {},
     "output_type": "execute_result"
    }
   ],
   "source": [
    "X = X.drop(['id', 'Unnamed: 3', 'Unnamed: 5', 'Unnamed: 6', 'Unnamed: 7'], axis=1)\n",
    "X"
   ]
  },
  {
   "cell_type": "code",
   "execution_count": 7,
   "id": "tkROj3BVisry",
   "metadata": {
    "colab": {
     "base_uri": "https://localhost:8080/",
     "height": 424
    },
    "id": "tkROj3BVisry",
    "outputId": "988b5433-2fba-4ccd-8488-dbc61c2d0dd5"
   },
   "outputs": [
    {
     "data": {
      "text/html": [
       "<div>\n",
       "<style scoped>\n",
       "    .dataframe tbody tr th:only-of-type {\n",
       "        vertical-align: middle;\n",
       "    }\n",
       "\n",
       "    .dataframe tbody tr th {\n",
       "        vertical-align: top;\n",
       "    }\n",
       "\n",
       "    .dataframe thead th {\n",
       "        text-align: right;\n",
       "    }\n",
       "</style>\n",
       "<table border=\"1\" class=\"dataframe\">\n",
       "  <thead>\n",
       "    <tr style=\"text-align: right;\">\n",
       "      <th></th>\n",
       "      <th>keywords</th>\n",
       "    </tr>\n",
       "  </thead>\n",
       "  <tbody>\n",
       "    <tr>\n",
       "      <th>0</th>\n",
       "      <td>statistical word alignment, ensemble learning,...</td>\n",
       "    </tr>\n",
       "    <tr>\n",
       "      <th>1</th>\n",
       "      <td>representation, spectral learning, discrete fo...</td>\n",
       "    </tr>\n",
       "    <tr>\n",
       "      <th>2</th>\n",
       "      <td>software defect prediction, particle swarm opt...</td>\n",
       "    </tr>\n",
       "    <tr>\n",
       "      <th>3</th>\n",
       "      <td>filtering, label noise, instance weighting</td>\n",
       "    </tr>\n",
       "    <tr>\n",
       "      <th>4</th>\n",
       "      <td>twitter, adaptation models, time-frequency ana...</td>\n",
       "    </tr>\n",
       "    <tr>\n",
       "      <th>...</th>\n",
       "      <td>...</td>\n",
       "    </tr>\n",
       "    <tr>\n",
       "      <th>443</th>\n",
       "      <td>machine-learning,unsupervised-learning,knowled...</td>\n",
       "    </tr>\n",
       "    <tr>\n",
       "      <th>444</th>\n",
       "      <td>workload characterization,hmm,cepstral coeffic...</td>\n",
       "    </tr>\n",
       "    <tr>\n",
       "      <th>445</th>\n",
       "      <td>cluster analysis,autism spectrum disorder,chal...</td>\n",
       "    </tr>\n",
       "    <tr>\n",
       "      <th>446</th>\n",
       "      <td>predicting psychosis,esm,mhealth,svm,gaussian ...</td>\n",
       "    </tr>\n",
       "    <tr>\n",
       "      <th>447</th>\n",
       "      <td>bayes methods,monte carlo methods,numerical si...</td>\n",
       "    </tr>\n",
       "  </tbody>\n",
       "</table>\n",
       "<p>448 rows × 1 columns</p>\n",
       "</div>"
      ],
      "text/plain": [
       "                                              keywords\n",
       "0    statistical word alignment, ensemble learning,...\n",
       "1    representation, spectral learning, discrete fo...\n",
       "2    software defect prediction, particle swarm opt...\n",
       "3           filtering, label noise, instance weighting\n",
       "4    twitter, adaptation models, time-frequency ana...\n",
       "..                                                 ...\n",
       "443  machine-learning,unsupervised-learning,knowled...\n",
       "444  workload characterization,hmm,cepstral coeffic...\n",
       "445  cluster analysis,autism spectrum disorder,chal...\n",
       "446  predicting psychosis,esm,mhealth,svm,gaussian ...\n",
       "447  bayes methods,monte carlo methods,numerical si...\n",
       "\n",
       "[448 rows x 1 columns]"
      ]
     },
     "execution_count": 7,
     "metadata": {},
     "output_type": "execute_result"
    }
   ],
   "source": [
    "y = pd.DataFrame(y, columns=['keywords'])\n",
    "y"
   ]
  },
  {
   "cell_type": "markdown",
   "id": "-NfR3rJNkCYk",
   "metadata": {
    "id": "-NfR3rJNkCYk"
   },
   "source": [
    "Hacer un bag of words con estos abstracts produciría una segmentación demencial que nos haría perder el hilo, aunque aún es pronto para descartarlo. Podemos emplear alguna técnica de [word embedding](https://es.wikipedia.org/wiki/Word_embedding):"
   ]
  },
  {
   "cell_type": "markdown",
   "id": "d2489222",
   "metadata": {
    "id": "d2489222"
   },
   "source": [
    "# Entrenamiento de word embedding con GLoVe\n",
    "\n",
    "Vamos a entrenar una capa de word embedding con el conjunto de datos de Stanford:"
   ]
  },
  {
   "cell_type": "code",
   "execution_count": 8,
   "id": "1140df89",
   "metadata": {
    "id": "1140df89"
   },
   "outputs": [],
   "source": [
    "plt.style.use('ggplot')\n",
    "plt.rcParams.update({'figure.figsize': (16, 9),'figure.dpi': 100})\n",
    "\n",
    "tf.compat.v1.disable_eager_execution()  # Esto es por un problema (creo) con las RTX2070"
   ]
  },
  {
   "cell_type": "code",
   "execution_count": 9,
   "id": "67b5594b",
   "metadata": {
    "id": "67b5594b"
   },
   "outputs": [],
   "source": [
    "GLOVE_URL = 'http://nlp.stanford.edu/data/glove.6B.zip'\n",
    "GLOVE_FILE = 'glove.6B.zip'\n",
    "GLOVE_DIR = 'glove'\n",
    "\n",
    "if not os.path.isdir(GLOVE_DIR):\n",
    "    # Descargamos el dataset comprimido de GloVe (si no lo tenemos ya)\n",
    "    if not os.path.exists(GLOVE_FILE):\n",
    "        with open(GLOVE_FILE, 'wb') as f:\n",
    "            r = requests.get(GLOVE_URL, allow_redirects=True)\n",
    "            f.write(r.content)\n",
    "    # Lo descomprimimos en el directorio 'glove'\n",
    "    unpack_archive(GLOVE_FILE, 'glove/')"
   ]
  },
  {
   "cell_type": "markdown",
   "id": "c9fd945b",
   "metadata": {
    "id": "c9fd945b"
   },
   "source": [
    "Establecemos parámetros"
   ]
  },
  {
   "cell_type": "code",
   "execution_count": 10,
   "id": "8b5f9390",
   "metadata": {},
   "outputs": [],
   "source": [
    "lens = [len(s) for s in X['abstract']]\n",
    "\n",
    "lens = pd.DataFrame(lens)\n"
   ]
  },
  {
   "attachments": {},
   "cell_type": "markdown",
   "id": "ddf3eaa5",
   "metadata": {},
   "source": [
    "Establecemos MAX_SEQUENCE_LENGTH a la mediana de las longitudes de los abstracts, de aproximadamente 986 palabras."
   ]
  },
  {
   "cell_type": "code",
   "execution_count": 11,
   "id": "51a1ad15",
   "metadata": {
    "id": "51a1ad15"
   },
   "outputs": [],
   "source": [
    "# Dimensiones de los word vectors (50, 100, 200 o 300)\n",
    "EMBEDDING_DIM = 50\n",
    "# Tamaño máximo de nuestro vocabulario (se escogerán las más frecuentes)\n",
    "MAX_VOCAB_SIZE = 10000\n",
    "# El tamaño de la frase más larga con la que alimentar el modelo\n",
    "MAX_SEQUENCE_LENGTH = int(lens.median())"
   ]
  },
  {
   "cell_type": "code",
   "execution_count": 12,
   "id": "af4180eb",
   "metadata": {},
   "outputs": [],
   "source": [
    "del lens"
   ]
  },
  {
   "cell_type": "markdown",
   "id": "9bdcdc82",
   "metadata": {
    "id": "9bdcdc82"
   },
   "source": [
    "We load the Embedding of the dimension specified in the configuration"
   ]
  },
  {
   "cell_type": "code",
   "execution_count": 13,
   "id": "98b853ed",
   "metadata": {
    "id": "98b853ed"
   },
   "outputs": [
    {
     "name": "stdout",
     "output_type": "stream",
     "text": [
      "Loading GloVe 50-d embedding... done (400000 word vectors loaded)\n"
     ]
    }
   ],
   "source": [
    "print(f'Loading GloVe {EMBEDDING_DIM}-d embedding... ', end='')\n",
    "word2vec = {}\n",
    "with open(os.path.join(GLOVE_DIR, f'glove.6B.{EMBEDDING_DIM}d.txt')) as f:\n",
    "    for line in f:\n",
    "        values = line.split()\n",
    "        word2vec[values[0]] = np.asarray(values[1:], dtype='float32')\n",
    "print(f'done ({len(word2vec)} word vectors loaded)')"
   ]
  },
  {
   "cell_type": "code",
   "execution_count": 14,
   "id": "WgvFofzRkka_",
   "metadata": {
    "id": "WgvFofzRkka_"
   },
   "outputs": [
    {
     "name": "stdout",
     "output_type": "stream",
     "text": [
      "Loading training articles dataset... done (448 abstracts loaded)\n",
      "Biggest abstract length:  2008\n",
      "Smallest abstract length: 10\n",
      "Avg. abstract length:     1038.9441964285713\n",
      "--------------------\n",
      "Example abstract: title       Detection of abnormal human behavior using a m...\n",
      "abstract    Automatic detection of abnormal events is one ...\n",
      "Name: 9, dtype: object\n",
      "Example keywords: abnormal event detection, low-rank approximation, adaptive learning\n"
     ]
    }
   ],
   "source": [
    "print('Loading training articles dataset... ', end='')\n",
    "\n",
    "targets = y.values[:,0]\n",
    "abstracts = X.values[:,1]\n",
    "titles = X.values[:,0]\n",
    "\n",
    "print(f'done ({len(y)} abstracts loaded)')\n",
    "print(f'Biggest abstract length:  {max(len(s) for s in abstracts)}')\n",
    "print(f'Smallest abstract length: {min(len(s) for s in abstracts)}')\n",
    "print(f'Avg. abstract length:     {np.mean([len(s) for s in abstracts])}')\n",
    "# print(f'Median abstract length:   {sorted(len(s) for s in X)[len(X) // 2]}')\n",
    "print('-' * 20)\n",
    "print(f'Example abstract: {X.iloc[9]}')\n",
    "print(f'Example keywords: {targets[9]}')"
   ]
  },
  {
   "cell_type": "markdown",
   "id": "d8d55a2b",
   "metadata": {
    "collapsed": false
   },
   "source": [
    "## Tokenize and add Padding\n",
    "\n",
    "1. Abstracts\n",
    "2. Keywords"
   ]
  },
  {
   "cell_type": "code",
   "execution_count": 15,
   "id": "c9849a08",
   "metadata": {
    "collapsed": false
   },
   "outputs": [],
   "source": [
    "from utils import tokenize_and_add_padding"
   ]
  },
  {
   "cell_type": "code",
   "execution_count": 16,
   "id": "8d274e25",
   "metadata": {
    "collapsed": false
   },
   "outputs": [],
   "source": [
    "tokenizer = tf.keras.preprocessing.text.Tokenizer(num_words=MAX_VOCAB_SIZE)"
   ]
  },
  {
   "cell_type": "code",
   "execution_count": 17,
   "id": "2a1e8690",
   "metadata": {
    "collapsed": false
   },
   "outputs": [],
   "source": [
    "y_tokenizer = tf.keras.preprocessing.text.Tokenizer(num_words=MAX_VOCAB_SIZE)"
   ]
  },
  {
   "cell_type": "code",
   "execution_count": 18,
   "id": "b4432f67",
   "metadata": {
    "collapsed": false
   },
   "outputs": [],
   "source": [
    "sequences, word_index, data = tokenize_and_add_padding(abstracts, tokenizer, MAX_SEQUENCE_LENGTH)"
   ]
  },
  {
   "cell_type": "code",
   "execution_count": 19,
   "id": "34248add",
   "metadata": {
    "collapsed": false
   },
   "outputs": [
    {
     "data": {
      "text/plain": [
       "985"
      ]
     },
     "execution_count": 19,
     "metadata": {},
     "output_type": "execute_result"
    }
   ],
   "source": [
    "len(data[400])"
   ]
  },
  {
   "cell_type": "code",
   "execution_count": 20,
   "id": "815d53fe",
   "metadata": {
    "collapsed": false
   },
   "outputs": [
    {
     "data": {
      "text/plain": [
       "'representation, spectral learning, discrete fourier, basis selection, ensemble'"
      ]
     },
     "execution_count": 20,
     "metadata": {},
     "output_type": "execute_result"
    }
   ],
   "source": [
    "targets[1]"
   ]
  },
  {
   "cell_type": "code",
   "execution_count": 21,
   "id": "5edda46a",
   "metadata": {
    "collapsed": false
   },
   "outputs": [],
   "source": [
    "targets = [k.split(',') for k in targets]"
   ]
  },
  {
   "cell_type": "code",
   "execution_count": 22,
   "id": "20078ee8",
   "metadata": {
    "collapsed": false
   },
   "outputs": [],
   "source": [
    "max_len = sorted(len(target) for target in targets)[-1]"
   ]
  },
  {
   "cell_type": "code",
   "execution_count": 23,
   "id": "2d2680dd",
   "metadata": {
    "collapsed": false
   },
   "outputs": [],
   "source": [
    "y_sequences, y_word_index, y_data = tokenize_and_add_padding(targets, y_tokenizer, max_len)"
   ]
  },
  {
   "cell_type": "code",
   "execution_count": 24,
   "id": "be44c4e4",
   "metadata": {
    "collapsed": false
   },
   "outputs": [
    {
     "data": {
      "text/plain": [
       "1616"
      ]
     },
     "execution_count": 24,
     "metadata": {},
     "output_type": "execute_result"
    }
   ],
   "source": [
    "OUTPUT_SIZE = len(y_word_index.keys())\n",
    "OUTPUT_SIZE"
   ]
  },
  {
   "cell_type": "code",
   "execution_count": 25,
   "id": "70fe1eac",
   "metadata": {},
   "outputs": [
    {
     "data": {
      "text/plain": [
       "{'machine learning': 1,\n",
       " 'deep learning': 2,\n",
       " 'classification': 3,\n",
       " 'data mining': 4,\n",
       " 'neural networks': 5,\n",
       " 'clustering': 6,\n",
       " 'feature extraction': 7,\n",
       " 'training': 8,\n",
       " 'support vector machines': 9,\n",
       " 'transfer learning': 10,\n",
       " 'forecasting': 11,\n",
       " 'feature selection': 12,\n",
       " 'svm': 13,\n",
       " 'anomaly detection': 14,\n",
       " ' classification': 15,\n",
       " 'recommender systems': 16,\n",
       " 'neural network': 17,\n",
       " 'time series': 18,\n",
       " 'deep neural networks': 19,\n",
       " 'random forest': 20,\n",
       " 'computational modeling': 21,\n",
       " 'big data': 22,\n",
       " 'unsupervised learning': 23,\n",
       " 'security': 24,\n",
       " 'boosting': 25,\n",
       " ' vectors': 26,\n",
       " 'dimensionality reduction': 27,\n",
       " 'active learning': 28,\n",
       " ' machine learning': 29,\n",
       " ' feature selection': 30,\n",
       " 'reinforcement learning': 31,\n",
       " 'time series analysis': 32,\n",
       " 'machine learning algorithms': 33,\n",
       " 'image segmentation': 34,\n",
       " 'visualization': 35,\n",
       " 'genetic algorithm': 36,\n",
       " 'predictive models': 37,\n",
       " 'optimization': 38,\n",
       " 'learning (artificial intelligence)': 39,\n",
       " 'class imbalance': 40,\n",
       " 'fault diagnosis': 41,\n",
       " 'bagging': 42,\n",
       " 'convolutional neural networks': 43,\n",
       " 'robustness': 44,\n",
       " 'hidden markov models': 45,\n",
       " ' support vector machines': 46,\n",
       " 'statistical learning': 47,\n",
       " ' neural networks': 48,\n",
       " 'logistic regression': 49,\n",
       " ' logistic regression': 50,\n",
       " 'linear regression': 51,\n",
       " 'data models': 52,\n",
       " 'educational data mining': 53,\n",
       " 'bayes methods': 54,\n",
       " 'probabilistic logic': 55,\n",
       " 'natural language processing': 56,\n",
       " 'context': 57,\n",
       " 'artificial neural network': 58,\n",
       " 'databases': 59,\n",
       " 'kernel': 60,\n",
       " 'standards': 61,\n",
       " 'semantics': 62,\n",
       " 'decision trees': 63,\n",
       " 'cybersecurity': 64,\n",
       " 'monitoring': 65,\n",
       " 'approximation algorithms': 66,\n",
       " 'online learning': 67,\n",
       " 'text mining': 68,\n",
       " 'multi-label classification': 69,\n",
       " 'supervised learning': 70,\n",
       " 'activity recognition': 71,\n",
       " 'prediction': 72,\n",
       " 'software engineering': 73,\n",
       " 'algorithm design and analysis': 74,\n",
       " 'mathematical model': 75,\n",
       " 'convolutional neural network': 76,\n",
       " 'k-means': 77,\n",
       " 'k-means clustering': 78,\n",
       " 'housing prices prediction': 79,\n",
       " 'information extraction': 80,\n",
       " 'privacy': 81,\n",
       " ' ensemble learning': 82,\n",
       " ' spectral learning': 83,\n",
       " ' discrete fourier': 84,\n",
       " 'twitter': 85,\n",
       " ' semi-supervised learning': 86,\n",
       " 'convolutional neural networks (cnn)': 87,\n",
       " 'human activity recognition': 88,\n",
       " 'equations': 89,\n",
       " ' standards': 90,\n",
       " ' association rules': 91,\n",
       " 'variational inference': 92,\n",
       " ' structure learning': 93,\n",
       " ' training': 94,\n",
       " ' prediction algorithms': 95,\n",
       " 'history': 96,\n",
       " ' educational institutions': 97,\n",
       " ' sentiment analysis': 98,\n",
       " ' objective selection': 99,\n",
       " ' ea+rl': 100,\n",
       " 'error analysis': 101,\n",
       " 'music': 102,\n",
       " 'indexes': 103,\n",
       " 'tuning': 104,\n",
       " ' multimodal': 105,\n",
       " ' online learning': 106,\n",
       " 'weka': 107,\n",
       " ' social networks': 108,\n",
       " ' twitter': 109,\n",
       " 'knn': 110,\n",
       " 'gaussian process': 111,\n",
       " ' reinforcement learning': 112,\n",
       " 'information retrieval': 113,\n",
       " 'meteorology': 114,\n",
       " 'stochastic processes': 115,\n",
       " 'convergence': 116,\n",
       " 'classification algorithms': 117,\n",
       " 'medical image analysis': 118,\n",
       " 'vehicles': 119,\n",
       " 'fuzzy logic': 120,\n",
       " 'artificial intelligence': 121,\n",
       " 'manifold learning': 122,\n",
       " 'histograms': 123,\n",
       " 'image classification': 124,\n",
       " 'radio frequency': 125,\n",
       " 'intrusion detection': 126,\n",
       " 'k-nearest neighbor': 127,\n",
       " 'representation learning': 128,\n",
       " 'link prediction': 129,\n",
       " 'mimics': 130,\n",
       " 'fraud detection': 131,\n",
       " 'distributed computing': 132,\n",
       " 'cloud computing': 133,\n",
       " 'topic model': 134,\n",
       " 'spam': 135,\n",
       " 'cyber security': 136,\n",
       " 'kernel methods': 137,\n",
       " 'object recognition': 138,\n",
       " 'efficiency': 139,\n",
       " 'feature learning': 140,\n",
       " 'regression': 141,\n",
       " 'pattern recognition': 142,\n",
       " 'signal processing': 143,\n",
       " 'bearing defects': 144,\n",
       " 'induction motors': 145,\n",
       " 'game theory': 146,\n",
       " 'artificial neural networks': 147,\n",
       " 'sensors': 148,\n",
       " 'association rules': 149,\n",
       " 'bioinformatics': 150,\n",
       " 'data analytics': 151,\n",
       " 'metric learning': 152,\n",
       " 'expectation maximization': 153,\n",
       " 'e-commerce': 154,\n",
       " 'collaborative filtering': 155,\n",
       " 'hyperparameter optimization': 156,\n",
       " 'computer science': 157,\n",
       " 'solar radiation': 158,\n",
       " 'silicon': 159,\n",
       " 'reliability': 160,\n",
       " 'constraint programming': 161,\n",
       " 'fingerprint': 162,\n",
       " 'smart cities': 163,\n",
       " 'random forests': 164,\n",
       " 'web application': 165,\n",
       " 'mr images': 166,\n",
       " 'summarization': 167,\n",
       " 'correlation': 168,\n",
       " 'random projection': 169,\n",
       " 'bayesian inference': 170,\n",
       " 'conformal prediction': 171,\n",
       " 'cnn': 172,\n",
       " 'agriculture': 173,\n",
       " 'regularization': 174,\n",
       " 'pca': 175,\n",
       " 'epilepsy': 176,\n",
       " 'hidden markov model': 177,\n",
       " 'support vector machine': 178,\n",
       " 'ecg': 179,\n",
       " 'rbm': 180,\n",
       " 'domain class imbalance': 181,\n",
       " 'traditional machine learning': 182,\n",
       " 'on-line learning': 183,\n",
       " 'measurement': 184,\n",
       " 'wavelet': 185,\n",
       " 'indoor localization': 186,\n",
       " 'fault detection': 187,\n",
       " 'semi-supervised learning': 188,\n",
       " 'hmm': 189,\n",
       " 'algorithm': 190,\n",
       " 'supervised machine learning': 191,\n",
       " 'ensemble learning': 192,\n",
       " 'biometric': 193,\n",
       " 'mapreduce': 194,\n",
       " 'hedonic pricing model': 195,\n",
       " 'statistical regression': 196,\n",
       " 'isbsg': 197,\n",
       " 'feature fusion': 198,\n",
       " 'roc analysis': 199,\n",
       " 'monte carlo': 200,\n",
       " 'deep neural network': 201,\n",
       " 'nonnegative matrix factorization': 202,\n",
       " 'hierarchical classification': 203,\n",
       " 'autism spectrum disorder': 204,\n",
       " 'computer crime': 205,\n",
       " 'attack': 206,\n",
       " 'machine-learning': 207,\n",
       " 'smart grids': 208,\n",
       " 'statistical word alignment': 209,\n",
       " ' heuristic word alignment': 210,\n",
       " 'representation': 211,\n",
       " ' basis selection': 212,\n",
       " ' ensemble': 213,\n",
       " 'software defect prediction': 214,\n",
       " ' particle swarm optimization': 215,\n",
       " ' cluster data': 216,\n",
       " ' ensemble clustering': 217,\n",
       " 'filtering': 218,\n",
       " ' label noise': 219,\n",
       " ' instance weighting': 220,\n",
       " ' adaptation models': 221,\n",
       " ' time-frequency analysis': 222,\n",
       " ' event detection': 223,\n",
       " ' context': 224,\n",
       " ' mobile security': 225,\n",
       " ' android': 226,\n",
       " ' principal components analysis': 227,\n",
       " ' audio captcha': 228,\n",
       " ' automatic speech recognition': 229,\n",
       " 'software architecture': 230,\n",
       " ' q-learning': 231,\n",
       " ' security': 232,\n",
       " ' repair': 233,\n",
       " 'signature': 234,\n",
       " 'discretize': 235,\n",
       " 'unordered': 236,\n",
       " 'bag-of-pattern': 237,\n",
       " 'abnormal event detection': 238,\n",
       " ' low-rank approximation': 239,\n",
       " ' adaptive learning': 240,\n",
       " 'smart environment': 241,\n",
       " ' activity recognition': 242,\n",
       " ' graph representation': 243,\n",
       " 'rfe': 244,\n",
       " ' embedded methods': 245,\n",
       " ' recursive feature addition': 246,\n",
       " 'object tracking': 247,\n",
       " ' convolutional neural network': 248,\n",
       " ' feature learning': 249,\n",
       " 'gui': 250,\n",
       " ' faults localization': 251,\n",
       " ' dimensionality reduction': 252,\n",
       " ' manifold learning': 253,\n",
       " ' tangent bundle manifold learning': 254,\n",
       " ' unsupervised learning': 255,\n",
       " 'markov decision processes': 256,\n",
       " ' bayesian nonparametrics': 257,\n",
       " ' inverse reinforcement learning': 258,\n",
       " ' state abstraction': 259,\n",
       " ' intelligent agent': 260,\n",
       " ' complexity reduction': 261,\n",
       " 'lifelong machine learning': 262,\n",
       " ' oblivion criterion': 263,\n",
       " ' knowledge topology and acquisition': 264,\n",
       " ' declarative learning': 265,\n",
       " 'multi-label learning': 266,\n",
       " ' decision trees': 267,\n",
       " ' covariance matrix': 268,\n",
       " ' splitting criteria': 269,\n",
       " 'finite-state machines': 270,\n",
       " ' constraint satisfaction problem': 271,\n",
       " ' ant colony optimization': 272,\n",
       " ' model checking': 273,\n",
       " ' control': 274,\n",
       " ' hybrid algorithms': 275,\n",
       " 'human action recognition': 276,\n",
       " ' action bank features': 277,\n",
       " ' deep convolutional network': 278,\n",
       " 'high-order rbms': 279,\n",
       " ' cyclic contrastive divergence learning': 280,\n",
       " ' gradient approximation': 281,\n",
       " ' convergence': 282,\n",
       " ' upper bound': 283,\n",
       " ' facial expression recognition': 284,\n",
       " ' deep learning': 285,\n",
       " ' artificial neural networks': 286,\n",
       " 'instance selection': 287,\n",
       " ' training speed': 288,\n",
       " ' motion capture (mocap)': 289,\n",
       " 'czech ner': 290,\n",
       " ' named entity recognition': 291,\n",
       " ' word embeddings': 292,\n",
       " ' skip-gram': 293,\n",
       " ' turkish ner': 294,\n",
       " ' radial basis functions': 295,\n",
       " ' feed-forward networks': 296,\n",
       " ' convolutional neural networks (cnn)': 297,\n",
       " 'kernel k-means': 298,\n",
       " ' semi-supervised clustering': 299,\n",
       " ' temporal segmentation': 300,\n",
       " 'information need modeling': 301,\n",
       " ' positive unlabeled learning': 302,\n",
       " ' transductive learning': 303,\n",
       " ' search by multiple examples': 304,\n",
       " ' databases': 305,\n",
       " ' labeling': 306,\n",
       " ' image processing': 307,\n",
       " ' classification algorithms': 308,\n",
       " 'networks': 309,\n",
       " ' pruning': 310,\n",
       " ' post-processing': 311,\n",
       " ' label propagation': 312,\n",
       " ' probit regression': 313,\n",
       " ' exponential regression': 314,\n",
       " ' inverse gaussian regression': 315,\n",
       " ' dirichlet process': 316,\n",
       " 'varying coefficient model': 317,\n",
       " ' longitudinal data': 318,\n",
       " ' gestational hypertension': 319,\n",
       " ' intensive care units': 320,\n",
       " ' mortality rate prediction': 321,\n",
       " ' score systems': 322,\n",
       " ' orthogonal matching pursuit': 323,\n",
       " 'force plate': 324,\n",
       " ' hemiplegic gait': 325,\n",
       " ' gait analysis': 326,\n",
       " 'medical informatics': 327,\n",
       " ' bayesian networks': 328,\n",
       " ' correlation': 329,\n",
       " ' error analysis': 330,\n",
       " ' electrocardiography': 331,\n",
       " 'sociology': 332,\n",
       " ' statistics': 333,\n",
       " ' noise': 334,\n",
       " ' testing': 335,\n",
       " ' algorithm design and analysis': 336,\n",
       " ' genetics': 337,\n",
       " 'energy end-use model': 338,\n",
       " ' dimensional reduction': 339,\n",
       " ' sequential optimization': 340,\n",
       " 'speech recognition': 341,\n",
       " ' phoneme': 342,\n",
       " ' k-nearest neighbor': 343,\n",
       " ' phoneme prediction': 344,\n",
       " ' template matching': 345,\n",
       " ' feature extraction': 346,\n",
       " ' outsourcing': 347,\n",
       " ' companies': 348,\n",
       " ' collaboration': 349,\n",
       " ' approximation algorithms': 350,\n",
       " ' self-organizing map': 351,\n",
       " ' genetic optimization and supervision': 352,\n",
       " 'features selection': 353,\n",
       " ' voiceprint': 354,\n",
       " ' mfccs': 355,\n",
       " ' information theory': 356,\n",
       " 'nearest neighbor search': 357,\n",
       " ' rp trees': 358,\n",
       " 'topic detection': 359,\n",
       " ' instant message': 360,\n",
       " ' plsa': 361,\n",
       " ' multilingual': 362,\n",
       " ' useless words': 363,\n",
       " 'integrative complexity': 364,\n",
       " ' aggression': 365,\n",
       " ' intervention systems': 366,\n",
       " ' games': 367,\n",
       " ' fans': 368,\n",
       " ' pattern matching': 369,\n",
       " 'feature discovery': 370,\n",
       " ' two-sided markets': 371,\n",
       " 'control systems': 372,\n",
       " ' process control': 373,\n",
       " ' kernel': 374,\n",
       " ' gaussian processes': 375,\n",
       " ' principal component analysis': 376,\n",
       " ' robustness': 377,\n",
       " 'arctic sea ice': 378,\n",
       " ' svr': 379,\n",
       " ' time series forecasting': 380,\n",
       " 'wifi slam': 381,\n",
       " ' mobile robots': 382,\n",
       " ' random forests ': 383,\n",
       " 'gplvm': 384,\n",
       " ' khepera': 385,\n",
       " 'cost sensitive classification': 386,\n",
       " ' credit scoring': 387,\n",
       " 'runtime analysis': 388,\n",
       " ' algorithm selection': 389,\n",
       " ' online selection': 390,\n",
       " 'anytime algorithm': 391,\n",
       " ' nearest neighbor': 392,\n",
       " ' data stream': 393,\n",
       " ' data models': 394,\n",
       " ' computer science': 395,\n",
       " ' electronic mail': 396,\n",
       " 'rejection': 397,\n",
       " ' statistical learning': 398,\n",
       " ' bayes classifier': 399,\n",
       " 'mass transfer': 400,\n",
       " ' cma-es': 401,\n",
       " ' protein conformation': 402,\n",
       " ' conformation motion': 403,\n",
       " ' budgeted learning': 404,\n",
       " ' bayesian': 405,\n",
       " ' active learning': 406,\n",
       " ' personalized treatment': 407,\n",
       " 'traclus clustering': 408,\n",
       " ' visualising': 409,\n",
       " ' singing style': 410,\n",
       " ' music event': 411,\n",
       " ' chord': 412,\n",
       " ' feature': 413,\n",
       " 'bayesian analysis': 414,\n",
       " ' probabilistic matrix factorization': 415,\n",
       " ' uncertainty quantification': 416,\n",
       " 'vegetation': 417,\n",
       " 'batteries': 418,\n",
       " 'hybrid electric vehicles': 419,\n",
       " 'temperature measurement': 420,\n",
       " 'audio': 421,\n",
       " 'multi-objective particle swarm optimization': 422,\n",
       " ' case-based reasoning': 423,\n",
       " ' adaptation method': 424,\n",
       " ' software effort estimation': 425,\n",
       " ' student success': 426,\n",
       " ' educational analytics': 427,\n",
       " ' markov network': 428,\n",
       " 'traffic prediction': 429,\n",
       " ' flow forecast': 430,\n",
       " ' stochastic gradient descent': 431,\n",
       " 'accuracy': 432,\n",
       " 'sensitivity': 433,\n",
       " 'in-hospital length of stay prediction': 434,\n",
       " ' supervised machine learning': 435,\n",
       " ' support vector machines plus': 436,\n",
       " ' random forests': 437,\n",
       " ' multi-task learning': 438,\n",
       " ' diabetes': 439,\n",
       " ' dynamic system': 440,\n",
       " ' machine learning techniques': 441,\n",
       " ' heart disease': 442,\n",
       " 'partitioning clustering': 443,\n",
       " ' clustering': 444,\n",
       " ' divisive analysis': 445,\n",
       " ' genetic algorithms': 446,\n",
       " \" gower's measure of similarity\": 447,\n",
       " ' master degree in information technology': 448,\n",
       " 'american sign language': 449,\n",
       " 'engagement detection': 450,\n",
       " 'intelligent tutoring systems': 451,\n",
       " 'collaborative learning': 452,\n",
       " ' balanced k-means': 453,\n",
       " ' group diversity': 454,\n",
       " 'educational data mining (edm)': 455,\n",
       " ' data mining': 456,\n",
       " ' data warehouse': 457,\n",
       " ' naive bayes': 458,\n",
       " ' estimation of students successes': 459,\n",
       " 'urap rankings': 460,\n",
       " ' academic success': 461,\n",
       " ' turkish universities': 462,\n",
       " 'simulation': 463,\n",
       " ' application layer ddos': 464,\n",
       " ' dynamic web domain': 465,\n",
       " ' intrusion detection &amp; defence': 466,\n",
       " ' data stream with concept drift': 467,\n",
       " ' outlier detection': 468,\n",
       " 'spamdexing': 469,\n",
       " ' sybil account': 470,\n",
       " ' fake user accounts': 471,\n",
       " ' web spam': 472,\n",
       " ' content spam': 473,\n",
       " 'mobile store security': 474,\n",
       " ' resource exhausting': 475,\n",
       " ' artificial neural network (ann)': 476,\n",
       " ' dos attack': 477,\n",
       " ' fingerprint': 478,\n",
       " ' age': 479,\n",
       " 'fuzzy discrete event system': 480,\n",
       " 'vectors': 481,\n",
       " 'matrix decomposition': 482,\n",
       " 'approximation methods': 483,\n",
       " 'singular value decomposition': 484,\n",
       " 'wind speed': 485,\n",
       " ' dc-dc converter': 486,\n",
       " ' pid control': 487,\n",
       " ' crude oil price forecasting': 488,\n",
       " ' linear regression': 489,\n",
       " ' support vector machine': 490,\n",
       " ' decision tree': 491,\n",
       " 'non-stationary': 492,\n",
       " ' multiobjectivization': 493,\n",
       " ' auxiliary objectives': 494,\n",
       " 'parameter control': 495,\n",
       " ' multi-objectivization': 496,\n",
       " ' evolutionary algorithms': 497,\n",
       " 'text analysis': 498,\n",
       " 'iterative methods': 499,\n",
       " 'statistical analysis': 500,\n",
       " 'partitioning algorithms': 501,\n",
       " 'noise': 502,\n",
       " ' 2d:4d': 503,\n",
       " ' mass deaths': 504,\n",
       " ' automatic gender estimation': 505,\n",
       " ' index and ring finger ratio': 506,\n",
       " \"expected change in classifier's accuracy\": 507,\n",
       " ' visual inspection': 508,\n",
       " ' new event types': 509,\n",
       " ' integration of new classes on-the-fly': 510,\n",
       " ' evolving (fuzzy) classifiers': 511,\n",
       " 'personalized item': 512,\n",
       " ' audio equalizer': 513,\n",
       " ' transfer learning': 514,\n",
       " ' collaborative filtering': 515,\n",
       " ' semantic slot labelling': 516,\n",
       " ' interactive systems': 517,\n",
       " ' sparse methods': 518,\n",
       " ' audio': 519,\n",
       " 'machine-sourced': 520,\n",
       " ' computer-aided diagnosis': 521,\n",
       " ' crowd-sourcing': 522,\n",
       " ' lung cancer': 523,\n",
       " ' segmentation': 524,\n",
       " 'training with noisy data': 525,\n",
       " ' wheel alignment': 526,\n",
       " ' 2-dim distance measure': 527,\n",
       " ' neural network': 528,\n",
       " ' kohonen self organizing network': 529,\n",
       " ' association map': 530,\n",
       " 'blind source seperation': 531,\n",
       " ' face recognition': 532,\n",
       " ' feature vector': 533,\n",
       " ' eigenfaces': 534,\n",
       " ' eigenvalues': 535,\n",
       " ' eigenvector': 536,\n",
       " ' small sample size problem': 537,\n",
       " 'target detection': 538,\n",
       " ' computer vision': 539,\n",
       " ' statistical image clutter metrics': 540,\n",
       " ' multivariate analyses': 541,\n",
       " ' neurofuzzy system': 542,\n",
       " 'spatio-temporal data': 543,\n",
       " ' causal discovery': 544,\n",
       " ' graphical model': 545,\n",
       " ' climate science': 546,\n",
       " ' climate': 547,\n",
       " 'the lasso estimate': 548,\n",
       " ' wind turbine': 549,\n",
       " ' pitch system': 550,\n",
       " 'drug-design': 551,\n",
       " ' kegg signalling pathways': 552,\n",
       " 'informative weight': 553,\n",
       " 'fuzzy clustering': 554,\n",
       " 'cluster validation': 555,\n",
       " 'coordinate descent': 556,\n",
       " 'fuzzy': 557,\n",
       " 'active set shrinking': 558,\n",
       " 'high-dimensional input': 559,\n",
       " 'tsvm': 560,\n",
       " 'evolving fuzzy systems': 561,\n",
       " 'thresholding': 562,\n",
       " 'cruise control': 563,\n",
       " 'fuzzy systems': 564,\n",
       " 'road transportation': 565,\n",
       " 'dynamical systems': 566,\n",
       " 'multi-valued models': 567,\n",
       " 'boolean networks': 568,\n",
       " 'delay': 569,\n",
       " 'markov(k)': 570,\n",
       " 'learning from interpretation transition': 571,\n",
       " 'inductive logic programming': 572,\n",
       " 'stability': 573,\n",
       " 'credit default swap': 574,\n",
       " 'financial markets': 575,\n",
       " 'time-series data': 576,\n",
       " 'benchmarks': 577,\n",
       " 'streaming data': 578,\n",
       " 'time series prediction': 579,\n",
       " 'similarity-based methods': 580,\n",
       " 'trend prediction': 581,\n",
       " 'stock trading points': 582,\n",
       " 'narx': 583,\n",
       " 'sample reconstruction': 584,\n",
       " 'fault localization': 585,\n",
       " 'importance sampling': 586,\n",
       " 'tangent bundle manifold learning': 587,\n",
       " 'manifold learning regression': 588,\n",
       " 'inverted dirichlet': 589,\n",
       " 'dirichlet process': 590,\n",
       " 'nonparametric bayesian': 591,\n",
       " 'variational bayes': 592,\n",
       " 'mixture model': 593,\n",
       " 'topic novelty detection': 594,\n",
       " 'bayesian network': 595,\n",
       " 'effective sample size': 596,\n",
       " 'variance of query response': 597,\n",
       " 'approximate inference': 598,\n",
       " 'government': 599,\n",
       " 'data integration': 600,\n",
       " 'metadata': 601,\n",
       " 'multiple classifier systems': 602,\n",
       " 'majority vote rule': 603,\n",
       " 'probability of classification error': 604,\n",
       " 'sentiment analysis': 605,\n",
       " 'tweet mining': 606,\n",
       " 'kernel functions': 607,\n",
       " 'text categorization': 608,\n",
       " 'jensen-shannon divergence': 609,\n",
       " 'libs': 610,\n",
       " 'quadratic programming': 611,\n",
       " 'real-time systems': 612,\n",
       " 'maximum likelihood estimation': 613,\n",
       " 'saliency': 614,\n",
       " 'folding': 615,\n",
       " 'local binary patterns': 616,\n",
       " 'optimum-path forest': 617,\n",
       " 'sms spam': 618,\n",
       " 'youtube': 619,\n",
       " 'unsolicited electronic mail': 620,\n",
       " 'blogs': 621,\n",
       " 'google': 622,\n",
       " 'multi-objective reinforcement learning': 623,\n",
       " 'moving target defense': 624,\n",
       " 'wireless sensor networks (wsns)': 625,\n",
       " 'denial-of-service (dos)': 626,\n",
       " 'network layer': 627,\n",
       " 'tcp/ip model': 628,\n",
       " 'network attacks': 629,\n",
       " 'semantic web': 630,\n",
       " 'knowledge graphs': 631,\n",
       " 'robot control': 632,\n",
       " 'automation': 633,\n",
       " 'nuclear magnetic resonance': 634,\n",
       " 'metabolomics': 635,\n",
       " 'biological system modeling': 636,\n",
       " 'space exploration': 637,\n",
       " 'diseases': 638,\n",
       " 'churn prediction': 639,\n",
       " 'social networks': 640,\n",
       " 'data analysis': 641,\n",
       " 'model building': 642,\n",
       " 'predictability': 643,\n",
       " 'self organization': 644,\n",
       " 'signal analysis': 645,\n",
       " 'speaker identification': 646,\n",
       " 'gaussian mixture model (gmm)': 647,\n",
       " 'fisher vector (fv) feature representation': 648,\n",
       " 'k-nearest neighbor classifier (knn)': 649,\n",
       " 'support vector machines (svm)': 650,\n",
       " 'electrocardiography': 651,\n",
       " 'heart rate': 652,\n",
       " 'von mises distribution': 653,\n",
       " 'cost-sensitive learning': 654,\n",
       " 'data stream': 655,\n",
       " 'delayed labels': 656,\n",
       " 'extreme verification latency': 657,\n",
       " 'online clustering': 658,\n",
       " 'function approximation': 659,\n",
       " 'prediction algorithms': 660,\n",
       " 'linear programming': 661,\n",
       " 'air combat': 662,\n",
       " 'training simulations': 663,\n",
       " 'computer generated forces': 664,\n",
       " 'crowdsourcing': 665,\n",
       " 'supervised classification': 666,\n",
       " 'text similarity': 667,\n",
       " 'parallel processing': 668,\n",
       " 'associative memory': 669,\n",
       " 'hierachical graph neuron': 670,\n",
       " 'multi-corpora': 671,\n",
       " 'topic modeling': 672,\n",
       " 'topic model labeling': 673,\n",
       " 'dbpedia ontology': 674,\n",
       " 'topic models': 675,\n",
       " 'nutrition': 676,\n",
       " 'routine behaviours': 677,\n",
       " 'snacks': 678,\n",
       " 'opinion extraction': 679,\n",
       " 'markov logic networks': 680,\n",
       " 'joint inference': 681,\n",
       " 'data privacy': 682,\n",
       " 'privacy preserving': 683,\n",
       " 'anonymization': 684,\n",
       " 'data diversity': 685,\n",
       " 'brute force': 686,\n",
       " 'aggregated netflows': 687,\n",
       " 'privacy policy': 688,\n",
       " 'transparency': 689,\n",
       " 'completeness': 690,\n",
       " 'comment spam detection': 691,\n",
       " 'blog spam': 692,\n",
       " 'comment features': 693,\n",
       " 'authentication graphs': 694,\n",
       " 'lateral movement': 695,\n",
       " 'bipartite graphs': 696,\n",
       " 'keystroke dynamics': 697,\n",
       " 'keystroke feature': 698,\n",
       " 'authentication': 699,\n",
       " 'biometrics': 700,\n",
       " 'statistical downscaling': 701,\n",
       " 'gcm data': 702,\n",
       " 'scenario generation': 703,\n",
       " 'canal command': 704,\n",
       " 'sdsm': 705,\n",
       " 'multi-linear regression model': 706,\n",
       " 'artifial neural network model': 707,\n",
       " 'standardized precipitation index': 708,\n",
       " 'drought modelling': 709,\n",
       " 'error entropy': 710,\n",
       " 'information theoretic learning': 711,\n",
       " 'availability': 712,\n",
       " 'base station (bs)': 713,\n",
       " 'cluster head (ch)': 714,\n",
       " 'secure data aggregation model (sdam)': 715,\n",
       " 'sensor node (sn)': 716,\n",
       " 'wireless sensor network (wsn)': 717,\n",
       " 'video steganography': 718,\n",
       " 'motion-based multiple object tracking': 719,\n",
       " 'hamming codes': 720,\n",
       " 'embedding efficiency': 721,\n",
       " 'eembedding payload': 722,\n",
       " 'k-nn': 723,\n",
       " 'evaporation': 724,\n",
       " 'semi-arid climate': 725,\n",
       " 'self-organization parallelization': 726,\n",
       " 'recall of data': 727,\n",
       " 'potentials': 728,\n",
       " 'neurons': 729,\n",
       " 'topology': 730,\n",
       " 'network topology': 731,\n",
       " 'hybrid': 732,\n",
       " 'neurocrfs': 733,\n",
       " 'sequence classification': 734,\n",
       " 'recurrent processing': 735,\n",
       " 'occlusion': 736,\n",
       " 'turbulence modeling': 737,\n",
       " 'rule extraction': 738,\n",
       " 'mixture models': 739,\n",
       " 'gamma distribution': 740,\n",
       " 'generative learning': 741,\n",
       " '3d shapes': 742,\n",
       " 'video event': 743,\n",
       " 'biomedical informatics': 744,\n",
       " 'anaemia': 745,\n",
       " 'donor selection': 746,\n",
       " 'predictive data analytics': 747,\n",
       " 'stem cell transplant': 748,\n",
       " 'svm classification': 749,\n",
       " 'unbalanced data': 750,\n",
       " 'obstructive apnea': 751,\n",
       " 'hypopnea': 752,\n",
       " 'ultra-wide band radar': 753,\n",
       " 'ensembles': 754,\n",
       " 'expert knowledge': 755,\n",
       " 'knowledge base': 756,\n",
       " 'multi-label classifiers': 757,\n",
       " 'survey datasets': 758,\n",
       " 'hierarchical clustering': 759,\n",
       " 'interval-radial algorithm': 760,\n",
       " 'flexibility': 761,\n",
       " 'real-time recurrent learning (rtrl)': 762,\n",
       " 'kernel online learning': 763,\n",
       " 'weight convergence and robust stability': 764,\n",
       " 'sparsification': 765,\n",
       " 'accelerometer data': 766,\n",
       " 'estimation': 767,\n",
       " 'taxonomy': 768,\n",
       " 'phoneme classification': 769,\n",
       " 'speaker adaptation': 770,\n",
       " 'kmeans clustering': 771,\n",
       " 'unsupervised feature learning': 772,\n",
       " 'bio-detection': 773,\n",
       " 'adaptive scheduling': 774,\n",
       " 'ompt': 775,\n",
       " 'collector apis': 776,\n",
       " 'openmp tasks': 777,\n",
       " 'similarity analysis': 778,\n",
       " 'machine learning as a service': 779,\n",
       " 'service oriented architecture': 780,\n",
       " 'service component architecture': 781,\n",
       " 'platform as a service': 782,\n",
       " 'earth levee': 783,\n",
       " 'passive seismic': 784,\n",
       " 'unsupervised clustering': 785,\n",
       " 'geophysical': 786,\n",
       " 'time-series analysis': 787,\n",
       " 'nonstationary processes': 788,\n",
       " 'bootstrap': 789,\n",
       " 'oceanography': 790,\n",
       " 'breaking news': 791,\n",
       " 'application': 792,\n",
       " 'adaptive approaches': 793,\n",
       " 'discrete event systems': 794,\n",
       " 'diagnosabiliy': 795,\n",
       " 'collaboration network': 796,\n",
       " 'achievements information': 797,\n",
       " 'fuzzy-neighborhood density-based clustering': 798,\n",
       " 'level-k thinking': 799,\n",
       " 'blunder': 800,\n",
       " 'satisficing': 801,\n",
       " 'synthetic oversampling': 802,\n",
       " 'autoencoders': 803,\n",
       " 'gamma-ray spectra': 804,\n",
       " 'intelligent systems': 805,\n",
       " 'bus transportation': 806,\n",
       " 'gps': 807,\n",
       " 'pull request': 808,\n",
       " 'learning convex function': 809,\n",
       " 'data-driven': 810,\n",
       " 'optimal control': 811,\n",
       " 'piecewise linear': 812,\n",
       " 'interactive evolutionary computation': 813,\n",
       " 'multi-objective evolutionary algorithm': 814,\n",
       " 'novelty search': 815,\n",
       " 'serendipitous discovery': 816,\n",
       " 'dh-hemts': 817,\n",
       " 'conferences': 818,\n",
       " 'integrated circuits': 819,\n",
       " 'bootstrap approaches': 820,\n",
       " 'robots': 821,\n",
       " 'web servers': 822,\n",
       " 'cascading style sheets': 823,\n",
       " 'html': 824,\n",
       " 'performance evaluation': 825,\n",
       " 'child support': 826,\n",
       " 'case management': 827,\n",
       " 'decision support': 828,\n",
       " 'predictive scoring systems': 829,\n",
       " 'interpretable modeling': 830,\n",
       " 'cm-knn': 831,\n",
       " 'traffic flow prediction': 832,\n",
       " 'common metric learning': 833,\n",
       " 'lcm': 834,\n",
       " 'car following model': 835,\n",
       " 'regime classification': 836,\n",
       " 'model calibration': 837,\n",
       " 'driver behavior': 838,\n",
       " 'markov switching model': 839,\n",
       " 'cluster forest': 840,\n",
       " 'ensemble clustering': 841,\n",
       " 'gaussian mixture': 842,\n",
       " 'implicit feedback': 843,\n",
       " 'recommender systems survey': 844,\n",
       " 'forums': 845,\n",
       " 'programmers': 846,\n",
       " 'unsupervised machine learning': 847,\n",
       " 'collaboration': 848,\n",
       " 'software': 849,\n",
       " 'documentation': 850,\n",
       " 'multi-period prediction': 851,\n",
       " 'arma': 852,\n",
       " 'arima': 853,\n",
       " 'electricity market': 854,\n",
       " 'high voltage feeder': 855,\n",
       " 'demand forecast': 856,\n",
       " 'statistical methods': 857,\n",
       " 'comparative study': 858,\n",
       " 'decorrelation': 859,\n",
       " 'learning systems': 860,\n",
       " 'stability-plasticity dilemma': 861,\n",
       " 'layered learning': 862,\n",
       " 'decomposition-based reinforcement learning': 863,\n",
       " 'variable selection': 864,\n",
       " 'high-dimensional data': 865,\n",
       " 'lasso regression': 866,\n",
       " 'non-linearity': 867,\n",
       " 'cross-validation': 868,\n",
       " 'source-aware': 869,\n",
       " 'robust learning': 870,\n",
       " 'complex event programming': 871,\n",
       " 'frequent sequence pattern mining': 872,\n",
       " 'horizon line detection': 873,\n",
       " 'skyline extraction': 874,\n",
       " 'dynamic programming': 875,\n",
       " 'minutiae': 876,\n",
       " 'bifurcation': 877,\n",
       " 'ridge': 878,\n",
       " 'afis': 879,\n",
       " 'minutia code': 880,\n",
       " 'target tracking': 881,\n",
       " 'binary codes': 882,\n",
       " 'discrete cosine transforms': 883,\n",
       " 'transforms': 884,\n",
       " 'smart homes': 885,\n",
       " 'energy saving': 886,\n",
       " 'internet of things': 887,\n",
       " 'frequent set mining': 888,\n",
       " 'discretization': 889,\n",
       " 'large data': 890,\n",
       " 'mixed data': 891,\n",
       " 'streaming': 892,\n",
       " 'valves': 893,\n",
       " 'discrete-event systems': 894,\n",
       " 'adaptation models': 895,\n",
       " 'wind power forecasting': 896,\n",
       " 'forecast combination': 897,\n",
       " 'lp-norm estimators': 898,\n",
       " 'fuzzy soft sets': 899,\n",
       " 'regression trees': 900,\n",
       " 'electricity retail markets': 901,\n",
       " 'combinatorial reverse auctions': 902,\n",
       " 'renewable energy': 903,\n",
       " 'energy management': 904,\n",
       " 'four dimension': 905,\n",
       " 'training data': 906,\n",
       " 'organ segmentation': 907,\n",
       " 'ct images': 908,\n",
       " 'kidney segmentation': 909,\n",
       " 'ballistocardiogram artifact': 910,\n",
       " 'simultaneous eeg & fmri': 911,\n",
       " 'event related potentials': 912,\n",
       " 'empirical mode decomposition': 913,\n",
       " 'adenoviral conjunctivitis (pink eye)': 914,\n",
       " 'grabcut': 915,\n",
       " 'gray-level co-occurrence matrix (glcm)': 916,\n",
       " 'sclera segmentation': 917,\n",
       " 'vascularization': 918,\n",
       " 'neural network based machine learning': 919,\n",
       " 'vertical handoff (vho)': 920,\n",
       " 'neural network classifier': 921,\n",
       " 'qos over heterogeneous networks': 922,\n",
       " 'vertical scaling': 923,\n",
       " 'virtual world': 924,\n",
       " 'simulation-based training': 925,\n",
       " 'predictive model': 926,\n",
       " 'distributed simulation': 927,\n",
       " 'stylometry': 928,\n",
       " 'naive bayes classifier': 929,\n",
       " 'ensemble method': 930,\n",
       " 'model transformatiomn': 931,\n",
       " 'performance': 932,\n",
       " 'interpretability': 933,\n",
       " 'ip networks': 934,\n",
       " 'electronic mail': 935,\n",
       " 'servers': 936,\n",
       " 'business': 937,\n",
       " 'next generation wireless networks': 938,\n",
       " 'topology mamagement': 939,\n",
       " 'routing and mobility management': 940,\n",
       " 'coloured petri nets': 941,\n",
       " 'formal modeling': 942,\n",
       " 'wireless communication': 943,\n",
       " 'phenotype prediction': 944,\n",
       " 'snp selection': 945,\n",
       " 'support vector regression': 946,\n",
       " 'genome wide association studies': 947,\n",
       " 'ridge regression': 948,\n",
       " 'missing data': 949,\n",
       " 'imputation': 950,\n",
       " 'gene expression data': 951,\n",
       " 'evidential database': 952,\n",
       " 'frequent patterns': 953,\n",
       " 'associative classification': 954,\n",
       " 'class decomposition': 955,\n",
       " 'effort prediction': 956,\n",
       " 'time series representation': 957,\n",
       " 'time series classification': 958,\n",
       " 'grammar': 959,\n",
       " 'noise reduction': 960,\n",
       " 'compression algorithms': 961,\n",
       " 'storage system': 962,\n",
       " 'counters': 963,\n",
       " 'functional time series': 964,\n",
       " 'dynamic factor analysis': 965,\n",
       " 'mixture of experts': 966,\n",
       " 'state-space model': 967,\n",
       " 'variational em': 968,\n",
       " 'acoustic feature learning': 969,\n",
       " 'tuning curve': 970,\n",
       " 'bandwidth': 971,\n",
       " 'equal loudness contour': 972,\n",
       " 'audiogram': 973,\n",
       " 'crime prediction': 974,\n",
       " 'hotspot mapping': 975,\n",
       " 'convolution filtering': 976,\n",
       " 'zero-shot learning': 977,\n",
       " 'kernel ridge regression': 978,\n",
       " 'gaussian process regression': 979,\n",
       " 'confidence region': 980,\n",
       " 'convolutional neural networks (cnns)': 981,\n",
       " 'deconvolutional networks (deconvnet)': 982,\n",
       " 'nelder-mead algorithm (nma)': 983,\n",
       " 'dnn': 984,\n",
       " 'multi-scale': 985,\n",
       " 'nir': 986,\n",
       " 'near infrared': 987,\n",
       " 'colorization': 988,\n",
       " 'bilateral filter': 989,\n",
       " 'cameras': 990,\n",
       " 'normalization': 991,\n",
       " 'preprocessing': 992,\n",
       " 'accelerometers': 993,\n",
       " 'legged locomotion': 994,\n",
       " 'human behavior prediction': 995,\n",
       " 'network representation learning': 996,\n",
       " 'health social networks': 997,\n",
       " 'activity forecasting': 998,\n",
       " 'inverse reinforcement learning': 999,\n",
       " 'multiple object tracking': 1000,\n",
       " ...}"
      ]
     },
     "execution_count": 25,
     "metadata": {},
     "output_type": "execute_result"
    }
   ],
   "source": [
    "y_word_index"
   ]
  },
  {
   "cell_type": "code",
   "execution_count": 26,
   "id": "8984bc44",
   "metadata": {
    "collapsed": false
   },
   "outputs": [
    {
     "data": {
      "text/plain": [
       "['big data', 'gpu computing', 'machine learning', 'gpgpu']"
      ]
     },
     "execution_count": 26,
     "metadata": {},
     "output_type": "execute_result"
    }
   ],
   "source": [
    "targets[440]"
   ]
  },
  {
   "cell_type": "code",
   "execution_count": 27,
   "id": "f74e618d",
   "metadata": {
    "collapsed": false
   },
   "outputs": [
    {
     "data": {
      "text/plain": [
       "'big data'"
      ]
     },
     "execution_count": 27,
     "metadata": {},
     "output_type": "execute_result"
    }
   ],
   "source": [
    "k = list(y_word_index.keys())\n",
    "k[21]"
   ]
  },
  {
   "cell_type": "code",
   "execution_count": 28,
   "id": "b3ba2702",
   "metadata": {
    "collapsed": false
   },
   "outputs": [
    {
     "data": {
      "text/plain": [
       "array([  0,   0,   0,   0,   0,   0,   0,   0, 209,  82, 210], dtype=int32)"
      ]
     },
     "execution_count": 28,
     "metadata": {},
     "output_type": "execute_result"
    }
   ],
   "source": [
    "y_data[0]"
   ]
  },
  {
   "cell_type": "code",
   "execution_count": 29,
   "id": "fb4df67c",
   "metadata": {
    "collapsed": false
   },
   "outputs": [
    {
     "data": {
      "text/plain": [
       "array([0., 0., 0., ..., 0., 0., 0.])"
      ]
     },
     "execution_count": 29,
     "metadata": {},
     "output_type": "execute_result"
    }
   ],
   "source": [
    "multi_hot_tokenized = []\n",
    "\n",
    "for i in range(len(y_data)):\n",
    "    multi_hot_tokenized.append(np.zeros(OUTPUT_SIZE+1))\n",
    "    for t in y_data[i]:\n",
    "        if t != 0:\n",
    "            multi_hot_tokenized[i][t] = 1\n",
    "\n",
    "multi_hot_tokenized = np.asarray(multi_hot_tokenized)\n",
    "multi_hot_tokenized[0]"
   ]
  },
  {
   "cell_type": "code",
   "execution_count": 30,
   "id": "ce305274",
   "metadata": {},
   "outputs": [
    {
     "data": {
      "text/plain": [
       "array([  0,   0,   0,   0,   0,   0,   0,   0, 209,  82, 210], dtype=int32)"
      ]
     },
     "execution_count": 30,
     "metadata": {},
     "output_type": "execute_result"
    }
   ],
   "source": [
    "y_data[0]"
   ]
  },
  {
   "cell_type": "code",
   "execution_count": 31,
   "id": "5809ac89",
   "metadata": {},
   "outputs": [
    {
     "data": {
      "text/plain": [
       "1.0"
      ]
     },
     "execution_count": 31,
     "metadata": {},
     "output_type": "execute_result"
    }
   ],
   "source": [
    "multi_hot_tokenized[0][209]"
   ]
  },
  {
   "cell_type": "markdown",
   "id": "003da4c3",
   "metadata": {
    "collapsed": false
   },
   "source": [
    "# CNN model"
   ]
  },
  {
   "cell_type": "markdown",
   "id": "bf0d5cc8",
   "metadata": {
    "collapsed": false
   },
   "source": [
    "## Embedding layer"
   ]
  },
  {
   "cell_type": "code",
   "execution_count": 32,
   "id": "029db0fa",
   "metadata": {
    "collapsed": false
   },
   "outputs": [
    {
     "name": "stdout",
     "output_type": "stream",
     "text": [
      "Loading embedding with GloVe vectors... done\n"
     ]
    }
   ],
   "source": [
    "print('Loading embedding with GloVe vectors... ', end='')\n",
    "# Cargamos sólo las palabras elegidas de nuestro conjunto de datos\n",
    "num_words = min(MAX_VOCAB_SIZE, len(word_index) + 1)\n",
    "embedding_matrix = np.zeros((num_words, EMBEDDING_DIM))\n",
    "for word, i in word_index.items():\n",
    "    if i < MAX_VOCAB_SIZE:\n",
    "        embedding_vector = word2vec.get(word)\n",
    "        if embedding_vector is not None:\n",
    "            embedding_matrix[i] = embedding_vector\n",
    "\n",
    "# Creamos la capa de embedding\n",
    "embedding_layer = tf.keras.layers.Embedding(\n",
    "  input_dim=num_words,\n",
    "  output_dim=EMBEDDING_DIM,\n",
    "  weights=[embedding_matrix],\n",
    "  input_length=MAX_SEQUENCE_LENGTH,\n",
    "  trainable=False,\n",
    ")\n",
    "print('done')"
   ]
  },
  {
   "cell_type": "code",
   "execution_count": 33,
   "id": "a9d26a37",
   "metadata": {},
   "outputs": [],
   "source": [
    "metric = 'binary_accuracy'"
   ]
  },
  {
   "cell_type": "code",
   "execution_count": 34,
   "id": "6768c034",
   "metadata": {
    "collapsed": false
   },
   "outputs": [
    {
     "name": "stdout",
     "output_type": "stream",
     "text": [
      "Model: \"model\"\n",
      "_________________________________________________________________\n",
      " Layer (type)                Output Shape              Param #   \n",
      "=================================================================\n",
      " input_1 (InputLayer)        [(None, 985)]             0         \n",
      "                                                                 \n",
      " embedding (Embedding)       (None, 985, 50)           332650    \n",
      "                                                                 \n",
      " conv1d (Conv1D)             (None, 983, 16)           2416      \n",
      "                                                                 \n",
      " flatten (Flatten)           (None, 15728)             0         \n",
      "                                                                 \n",
      " dense (Dense)               (None, 1617)              25433793  \n",
      "                                                                 \n",
      "=================================================================\n",
      "Total params: 25,768,859\n",
      "Trainable params: 25,436,209\n",
      "Non-trainable params: 332,650\n",
      "_________________________________________________________________\n"
     ]
    },
    {
     "name": "stderr",
     "output_type": "stream",
     "text": [
      "2023-03-31 11:23:19.638937: W tensorflow/compiler/xla/stream_executor/platform/default/dso_loader.cc:64] Could not load dynamic library 'libcuda.so.1'; dlerror: libcuda.so.1: cannot open shared object file: No such file or directory\n",
      "2023-03-31 11:23:19.638961: W tensorflow/compiler/xla/stream_executor/cuda/cuda_driver.cc:265] failed call to cuInit: UNKNOWN ERROR (303)\n",
      "2023-03-31 11:23:19.638997: I tensorflow/compiler/xla/stream_executor/cuda/cuda_diagnostics.cc:156] kernel driver does not appear to be running on this host (pop-os): /proc/driver/nvidia/version does not exist\n",
      "2023-03-31 11:23:19.639283: I tensorflow/core/platform/cpu_feature_guard.cc:193] This TensorFlow binary is optimized with oneAPI Deep Neural Network Library (oneDNN) to use the following CPU instructions in performance-critical operations:  AVX2 AVX512F AVX512_VNNI FMA\n",
      "To enable them in other operations, rebuild TensorFlow with the appropriate compiler flags.\n",
      "2023-03-31 11:23:19.641579: I tensorflow/compiler/mlir/mlir_graph_optimization_pass.cc:357] MLIR V1 optimization pass is not enabled\n",
      "2023-03-31 11:23:19.657604: W tensorflow/c/c_api.cc:291] Operation '{name:'embedding/embeddings/Assign' id:15 op device:{requested: '', assigned: ''} def:{{{node embedding/embeddings/Assign}} = AssignVariableOp[_has_manual_control_dependencies=true, dtype=DT_FLOAT, validate_shape=false](embedding/embeddings, embedding/embeddings/Initializer/stateless_random_uniform)}}' was changed by setting attribute after it was run by a session. This mutation will have no effect, and will trigger an error in the future. Either don't modify nodes after running them or create a new session.\n"
     ]
    }
   ],
   "source": [
    "input_ = tf.keras.layers.Input(shape=(MAX_SEQUENCE_LENGTH,))\n",
    "x = embedding_layer(input_)\n",
    "# x = tf.keras.layers.Conv1D(16, kernel_size=3, activation='relu')(x)\n",
    "x = tf.keras.layers.Conv1D(16, kernel_size=3, activation='relu')(x)\n",
    "x = tf.keras.layers.Flatten()(x)\n",
    "output = tf.keras.layers.Dense(OUTPUT_SIZE+1, activation='sigmoid')(x)\n",
    "\n",
    "model = tf.keras.Model(input_, output)\n",
    "model.compile(\n",
    "    loss= 'binary_crossentropy',\n",
    "    optimizer='adam',#tf.keras.optimizers.RMSprop(learning_rate=0.01),\n",
    "    metrics=[metric],\n",
    ")\n",
    "model.summary()"
   ]
  },
  {
   "cell_type": "code",
   "execution_count": 35,
   "id": "1554acc0",
   "metadata": {
    "collapsed": false
   },
   "outputs": [
    {
     "data": {
      "text/plain": [
       "(None, 1617)"
      ]
     },
     "execution_count": 35,
     "metadata": {},
     "output_type": "execute_result"
    }
   ],
   "source": [
    "model.output_shape"
   ]
  },
  {
   "cell_type": "code",
   "execution_count": 36,
   "id": "23c5e26e",
   "metadata": {
    "collapsed": false
   },
   "outputs": [
    {
     "data": {
      "text/plain": [
       "(448, 1617)"
      ]
     },
     "execution_count": 36,
     "metadata": {},
     "output_type": "execute_result"
    }
   ],
   "source": [
    "multi_hot_tokenized.shape"
   ]
  },
  {
   "cell_type": "code",
   "execution_count": 37,
   "id": "e2fcfbf8",
   "metadata": {
    "collapsed": false
   },
   "outputs": [],
   "source": [
    "checkpoint_filepath = './checkpoints'"
   ]
  },
  {
   "cell_type": "code",
   "execution_count": 38,
   "id": "f9cee6b6",
   "metadata": {
    "collapsed": false
   },
   "outputs": [],
   "source": [
    "# create checkpoint\n",
    "model_checkpoint_callback = tf.keras.callbacks.ModelCheckpoint(\n",
    "    filepath=checkpoint_filepath,\n",
    "    save_weights_only=True,\n",
    "    monitor='val_accuracy',\n",
    "    mode='max',\n",
    "    save_best_only=True\n",
    ")"
   ]
  },
  {
   "cell_type": "code",
   "execution_count": 39,
   "id": "2c130ad7",
   "metadata": {
    "collapsed": false
   },
   "outputs": [
    {
     "name": "stdout",
     "output_type": "stream",
     "text": [
      "Train on 358 samples, validate on 90 samples\n"
     ]
    },
    {
     "name": "stderr",
     "output_type": "stream",
     "text": [
      "2023-03-31 11:23:20.212835: W tensorflow/c/c_api.cc:291] Operation '{name:'training/Adam/dense/bias/v/Assign' id:327 op device:{requested: '', assigned: ''} def:{{{node training/Adam/dense/bias/v/Assign}} = AssignVariableOp[_has_manual_control_dependencies=true, dtype=DT_FLOAT, validate_shape=false](training/Adam/dense/bias/v, training/Adam/dense/bias/v/Initializer/zeros)}}' was changed by setting attribute after it was run by a session. This mutation will have no effect, and will trigger an error in the future. Either don't modify nodes after running them or create a new session.\n"
     ]
    },
    {
     "name": "stdout",
     "output_type": "stream",
     "text": [
      "Epoch 1/10\n",
      "358/358 [==============================] - 2s 5ms/sample - loss: 0.1569 - binary_accuracy: 0.9507 - val_loss: 0.0251 - val_binary_accuracy: 0.9971\n",
      "Epoch 2/10\n"
     ]
    },
    {
     "name": "stderr",
     "output_type": "stream",
     "text": [
      "/home/b1111y/Documents/AgentesApuntes/practicas/AgentesInteligentes/env/lib/python3.10/site-packages/keras/engine/training_v1.py:2333: UserWarning: `Model.state_updates` will be removed in a future version. This property should not be used in TensorFlow 2.0, as `updates` are applied automatically.\n",
      "  updates = self.state_updates\n",
      "2023-03-31 11:23:22.532801: W tensorflow/c/c_api.cc:291] Operation '{name:'loss/mul' id:139 op device:{requested: '', assigned: ''} def:{{{node loss/mul}} = Mul[T=DT_FLOAT, _has_manual_control_dependencies=true](loss/mul/x, loss/dense_loss/value)}}' was changed by setting attribute after it was run by a session. This mutation will have no effect, and will trigger an error in the future. Either don't modify nodes after running them or create a new session.\n"
     ]
    },
    {
     "name": "stdout",
     "output_type": "stream",
     "text": [
      "358/358 [==============================] - 2s 5ms/sample - loss: 0.0345 - binary_accuracy: 0.9970 - val_loss: 0.0321 - val_binary_accuracy: 0.9971\n",
      "Epoch 3/10\n",
      "358/358 [==============================] - 2s 5ms/sample - loss: 0.0333 - binary_accuracy: 0.9970 - val_loss: 0.0316 - val_binary_accuracy: 0.9971\n",
      "Epoch 4/10\n",
      "358/358 [==============================] - 2s 5ms/sample - loss: 0.0278 - binary_accuracy: 0.9970 - val_loss: 0.0295 - val_binary_accuracy: 0.9971\n",
      "Epoch 5/10\n",
      "358/358 [==============================] - 2s 5ms/sample - loss: 0.0223 - binary_accuracy: 0.9971 - val_loss: 0.0278 - val_binary_accuracy: 0.9971\n",
      "Epoch 6/10\n",
      "358/358 [==============================] - 2s 5ms/sample - loss: 0.0179 - binary_accuracy: 0.9971 - val_loss: 0.0272 - val_binary_accuracy: 0.9971\n",
      "Epoch 7/10\n",
      "358/358 [==============================] - 2s 5ms/sample - loss: 0.0146 - binary_accuracy: 0.9972 - val_loss: 0.0272 - val_binary_accuracy: 0.9971\n",
      "Epoch 8/10\n",
      "358/358 [==============================] - 2s 5ms/sample - loss: 0.0118 - binary_accuracy: 0.9973 - val_loss: 0.0278 - val_binary_accuracy: 0.9971\n",
      "Epoch 9/10\n",
      "358/358 [==============================] - 2s 5ms/sample - loss: 0.0092 - binary_accuracy: 0.9975 - val_loss: 0.0284 - val_binary_accuracy: 0.9971\n",
      "Epoch 10/10\n",
      "358/358 [==============================] - 2s 5ms/sample - loss: 0.0068 - binary_accuracy: 0.9979 - val_loss: 0.0296 - val_binary_accuracy: 0.9971\n"
     ]
    }
   ],
   "source": [
    "# TODO : Model does not predict correctly. It only predicts 'machine learning' for every abstract with acc > 0.5 (see testing down)\n",
    "history = model.fit(data, multi_hot_tokenized, epochs=10, validation_split=0.2)  # callbacks=[model_checkpoint_callback]"
   ]
  },
  {
   "cell_type": "markdown",
   "id": "284e10eb",
   "metadata": {
    "collapsed": false
   },
   "source": [
    "## Plot this shitty history XD"
   ]
  },
  {
   "cell_type": "code",
   "execution_count": 50,
   "id": "37872c1a",
   "metadata": {
    "collapsed": false
   },
   "outputs": [],
   "source": [
    "from utils import plot_history"
   ]
  },
  {
   "cell_type": "code",
   "execution_count": 51,
   "id": "591aef72",
   "metadata": {
    "collapsed": false
   },
   "outputs": [
    {
     "data": {
      "image/png": "[encoded data removed]",
      "text/plain": [
       "<Figure size 1600x900 with 2 Axes>"
      ]
     },
     "metadata": {},
     "output_type": "display_data"
    }
   ],
   "source": [
    "plot_history(history, metric=metric)"
   ]
  },
  {
   "cell_type": "markdown",
   "id": "5146e617",
   "metadata": {
    "collapsed": false
   },
   "source": [
    "### Test set"
   ]
  },
  {
   "cell_type": "code",
   "execution_count": 42,
   "id": "c205ed5a",
   "metadata": {
    "collapsed": false
   },
   "outputs": [
    {
     "data": {
      "text/plain": [
       "'Despite an abundance of commands to make tasks easier to perform, the users of feature-rich applications, such as development environments, use only a fraction of the commands available. Earlier work has shown that command recommendation -- in which, given the command usage history of a set of users, the objective is to predict a command that is likely useful for the user to learn -- can improve the usage of a range of commands available within such applications. In this paper, we present a new algorithm, CoDis, which is built upon three hypotheses. First, we hypothesize that in feature-rich applications there exists co-occurrence patterns between commands. Second, we hypothesize that users of feature-rich applications have prevalent discovery patterns. Finally, we hypothesize that users need different recommendations based on the time elapsed between their last activity and the time of recommendation. We show on data submitted by many users of an integrated development environment (Eclipse) that CoDis outperforms existing approaches: compared to ADAGRAD, the best performing baseline, it achieves an improvement of 10.22% in recall, for a top-N recommendation task (N = 20).'"
      ]
     },
     "execution_count": 42,
     "metadata": {},
     "output_type": "execute_result"
    }
   ],
   "source": [
    "abstracts[200]"
   ]
  },
  {
   "cell_type": "code",
   "execution_count": 43,
   "id": "c03b98f0",
   "metadata": {
    "collapsed": false
   },
   "outputs": [],
   "source": [
    "_, _, test_data = tokenize_and_add_padding([abstracts[440], abstracts[200]], tokenizer, MAX_SEQUENCE_LENGTH)"
   ]
  },
  {
   "cell_type": "code",
   "execution_count": 44,
   "id": "dd12d207",
   "metadata": {
    "collapsed": false
   },
   "outputs": [
    {
     "name": "stderr",
     "output_type": "stream",
     "text": [
      "/home/b1111y/Documents/AgentesApuntes/practicas/AgentesInteligentes/env/lib/python3.10/site-packages/keras/engine/training_v1.py:2357: UserWarning: `Model.state_updates` will be removed in a future version. This property should not be used in TensorFlow 2.0, as `updates` are applied automatically.\n",
      "  updates=self.state_updates,\n",
      "2023-03-31 11:23:39.071320: W tensorflow/c/c_api.cc:291] Operation '{name:'dense/Sigmoid' id:82 op device:{requested: '', assigned: ''} def:{{{node dense/Sigmoid}} = Sigmoid[T=DT_FLOAT, _has_manual_control_dependencies=true](dense/BiasAdd)}}' was changed by setting attribute after it was run by a session. This mutation will have no effect, and will trigger an error in the future. Either don't modify nodes after running them or create a new session.\n"
     ]
    }
   ],
   "source": [
    "y_hat = model.predict(test_data)"
   ]
  },
  {
   "cell_type": "code",
   "execution_count": 45,
   "id": "a41a5519",
   "metadata": {
    "collapsed": false
   },
   "outputs": [
    {
     "name": "stdout",
     "output_type": "stream",
     "text": [
      "[3.1362142e-06 3.5321966e-06 3.7612404e-06 ... 2.6529804e-02 3.4749746e-02\n",
      " 3.8051490e-02]\n",
      "[2.0180121e-06 2.2143386e-06 2.3015095e-06 ... 4.0442947e-02 4.5996808e-02\n",
      " 5.3479940e-02]\n"
     ]
    },
    {
     "data": {
      "text/plain": [
       "[array([ 3, 15,  4,  2,  1]), array([ 1,  3,  6,  4, 16])]"
      ]
     },
     "execution_count": 45,
     "metadata": {},
     "output_type": "execute_result"
    }
   ],
   "source": [
    "keys = []\n",
    "\n",
    "for i, prediction in enumerate(y_hat):\n",
    "    keys.append(np.argsort(prediction)[::-1][:5])\n",
    "    print(np.sort(prediction))\n",
    "\n",
    "keys"
   ]
  },
  {
   "cell_type": "code",
   "execution_count": 46,
   "id": "9d80a8d9",
   "metadata": {},
   "outputs": [
    {
     "name": "stdout",
     "output_type": "stream",
     "text": [
      "------------------------NEXT------------------------\n",
      "data mining\n",
      "recommender systems\n",
      "neural networks\n",
      "classification\n",
      "deep learning\n",
      "------------------------NEXT------------------------\n",
      "deep learning\n",
      "data mining\n",
      "feature extraction\n",
      "neural networks\n",
      "neural network\n"
     ]
    }
   ],
   "source": [
    "# print values\n",
    "for i in keys:\n",
    "    print(\"------------------------NEXT------------------------\")\n",
    "    for j in i:\n",
    "        print(k[j])"
   ]
  },
  {
   "cell_type": "code",
   "execution_count": 47,
   "id": "f5f0f7f0",
   "metadata": {
    "collapsed": false
   },
   "outputs": [
    {
     "data": {
      "text/plain": [
       "['big data', 'gpu computing', 'machine learning', 'gpgpu']"
      ]
     },
     "execution_count": 47,
     "metadata": {},
     "output_type": "execute_result"
    }
   ],
   "source": [
    "targets[440]"
   ]
  },
  {
   "cell_type": "code",
   "execution_count": 48,
   "id": "cc9db286",
   "metadata": {
    "collapsed": false
   },
   "outputs": [
    {
     "data": {
      "text/plain": [
       "['collaboration',\n",
       " 'history',\n",
       " 'recommender systems',\n",
       " 'software',\n",
       " 'documentation',\n",
       " 'computational modeling',\n",
       " 'computer science']"
      ]
     },
     "execution_count": 48,
     "metadata": {},
     "output_type": "execute_result"
    }
   ],
   "source": [
    "targets[200]"
   ]
  },
  {
   "cell_type": "markdown",
   "id": "f193e31f",
   "metadata": {
    "collapsed": false
   },
   "source": [
    "# RNN model"
   ]
  },
  {
   "cell_type": "code",
   "execution_count": 49,
   "id": "75d7c622",
   "metadata": {
    "collapsed": false
   },
   "outputs": [],
   "source": [
    "# XD\n"
   ]
  }
 ],
 "metadata": {
  "colab": {
   "provenance": []
  },
  "kernelspec": {
   "display_name": "Python 3 (ipykernel)",
   "language": "python",
   "name": "python3"
  },
  "language_info": {
   "codemirror_mode": {
    "name": "ipython",
    "version": 3
   },
   "file_extension": ".py",
   "mimetype": "text/x-python",
   "name": "python",
   "nbconvert_exporter": "python",
   "pygments_lexer": "ipython3",
   "version": "3.10.6"
  }
 },
 "nbformat": 4,
 "nbformat_minor": 5
}
