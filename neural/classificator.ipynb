{
  "cells": [
    {
      "cell_type": "code",
      "execution_count": 1,
      "metadata": {
        "id": "edM_ZEc5qAkP"
      },
      "outputs": [],
      "source": [
        "import nltk\n",
        "import numpy as np\n",
        "import pandas as pd\n",
        "import seaborn as sns\n",
        "import tensorflow as tf\n",
        "import matplotlib.pyplot as plt"
      ]
    },
    {
      "cell_type": "markdown",
      "metadata": {
        "id": "aAcVHXU4-j9O"
      },
      "source": [
        "Download:\n",
        "\n",
        "- punkt\n",
        "- stopwords\n",
        "- averaged_perceptron_tagger"
      ]
    },
    {
      "cell_type": "code",
      "execution_count": 2,
      "metadata": {
        "colab": {
          "base_uri": "https://localhost:8080/"
        },
        "id": "uSNknmNErYBD",
        "outputId": "7d545139-b996-4ecd-db9e-631327167ac3"
      },
      "outputs": [
        {
          "name": "stdout",
          "output_type": "stream",
          "text": [
            "NLTK Downloader\n",
            "---------------------------------------------------------------------------\n",
            "    d) Download   l) List    u) Update   c) Config   h) Help   q) Quit\n",
            "---------------------------------------------------------------------------\n",
            "Downloader> d\n",
            "\n",
            "Download which package (l=list; x=cancel)?\n",
            "  Identifier> punkt\n"
          ]
        },
        {
          "output_type": "stream",
          "name": "stderr",
          "text": [
            "    Downloading package punkt to /root/nltk_data...\n",
            "      Unzipping tokenizers/punkt.zip.\n"
          ]
        },
        {
          "name": "stdout",
          "output_type": "stream",
          "text": [
            "\n",
            "---------------------------------------------------------------------------\n",
            "    d) Download   l) List    u) Update   c) Config   h) Help   q) Quit\n",
            "---------------------------------------------------------------------------\n",
            "Downloader> d\n",
            "\n",
            "Download which package (l=list; x=cancel)?\n",
            "  Identifier> stopwords\n"
          ]
        },
        {
          "output_type": "stream",
          "name": "stderr",
          "text": [
            "    Downloading package stopwords to /root/nltk_data...\n",
            "      Unzipping corpora/stopwords.zip.\n"
          ]
        },
        {
          "name": "stdout",
          "output_type": "stream",
          "text": [
            "\n",
            "---------------------------------------------------------------------------\n",
            "    d) Download   l) List    u) Update   c) Config   h) Help   q) Quit\n",
            "---------------------------------------------------------------------------\n",
            "Downloader> d\n",
            "\n",
            "Download which package (l=list; x=cancel)?\n",
            "  Identifier> averaged_perceptron_tagger\n"
          ]
        },
        {
          "output_type": "stream",
          "name": "stderr",
          "text": [
            "    Downloading package averaged_perceptron_tagger to\n",
            "        /root/nltk_data...\n",
            "      Unzipping taggers/averaged_perceptron_tagger.zip.\n"
          ]
        },
        {
          "name": "stdout",
          "output_type": "stream",
          "text": [
            "\n",
            "---------------------------------------------------------------------------\n",
            "    d) Download   l) List    u) Update   c) Config   h) Help   q) Quit\n",
            "---------------------------------------------------------------------------\n",
            "Downloader> q\n"
          ]
        },
        {
          "output_type": "execute_result",
          "data": {
            "text/plain": [
              "True"
            ]
          },
          "metadata": {},
          "execution_count": 2
        }
      ],
      "source": [
        "nltk.download()"
      ]
    },
    {
      "cell_type": "markdown",
      "metadata": {
        "id": "KvXJ3l7QlOUV"
      },
      "source": [
        "# Funcion general"
      ]
    },
    {
      "cell_type": "code",
      "execution_count": 3,
      "metadata": {
        "id": "6_GnFh3elQrA"
      },
      "outputs": [],
      "source": [
        "def plot_history(history, metric):\n",
        "    plt.subplot(1, 2, 1)\n",
        "    plt.plot(history.history['loss'], label='Training')\n",
        "    plt.plot(history.history['val_loss'], label='Validation')\n",
        "    plt.xlabel('Epoch')\n",
        "    plt.ylabel('Loss')\n",
        "    plt.title(f'Training: {history.history[\"loss\"][-1]:.2f}, validation: {history.history[\"val_loss\"][-1]:.2f}')\n",
        "    plt.legend()\n",
        "\n",
        "    plt.subplot(1, 2, 2)\n",
        "    #plt.plot(history.history['accuracy'], label='Training')\n",
        "    plt.plot(history.history[f'{metric}'], label='Training')\n",
        "    plt.plot(history.history[f'val_{metric}'], label='Validation')\n",
        "    plt.xlabel('Epoch')\n",
        "    plt.ylabel('Accuracy')\n",
        "    plt.title(f'Training: {history.history[f\"{metric}\"][-1]:.2f}, validation: {history.history[f\"val_{metric}\"][-1]:.2f}')\n",
        "    plt.legend()\n",
        "\n",
        "    plt.show()"
      ]
    },
    {
      "cell_type": "markdown",
      "metadata": {
        "id": "L3T2IgBQlSGG"
      },
      "source": [
        "# Apartir de aquí, la parte bonita del notebook. Diviertete!! ♥\n",
        "\n",
        "\n",
        "Hecho por NeuralHive 🐝"
      ]
    },
    {
      "cell_type": "code",
      "execution_count": 4,
      "metadata": {
        "id": "CpME5deSp9Tp"
      },
      "outputs": [],
      "source": [
        "papers_path = 'dataset/papers.csv'"
      ]
    },
    {
      "cell_type": "code",
      "execution_count": 5,
      "metadata": {
        "colab": {
          "base_uri": "https://localhost:8080/",
          "height": 670
        },
        "id": "zFGK44VRp9uJ",
        "outputId": "c825525c-0809-4aa9-faef-7ac6dd6361a7"
      },
      "outputs": [
        {
          "output_type": "stream",
          "name": "stdout",
          "text": [
            "(4555, 3)\n"
          ]
        },
        {
          "output_type": "execute_result",
          "data": {
            "text/plain": [
              "                                               title  \\\n",
              "0  Ensemble Statistical and Heuristic Models for ...   \n",
              "1  Improving Spectral Learning by Using Multiple ...   \n",
              "2  Applying Swarm Ensemble Clustering Technique f...   \n",
              "3      Reducing the Effects of Detrimental Instances   \n",
              "4         Concept Drift Awareness in Twitter Streams   \n",
              "\n",
              "                                            abstract  \\\n",
              "0  Statistical word alignment models need large a...   \n",
              "1  Spectral learning algorithms learn an unknown ...   \n",
              "2  Number of defects remaining in a system provid...   \n",
              "3  Not all instances in a data set are equally be...   \n",
              "4  Learning in non-stationary environments is not...   \n",
              "\n",
              "                                            keywords  \n",
              "0            ['ensemble learning', 'word alignment']  \n",
              "1  ['basis selection', 'discrete fourier', 'ensem...  \n",
              "2  ['clustering', 'ensembles', 'particle swarm op...  \n",
              "3  ['filtering', 'instance weighting', 'label noi...  \n",
              "4  ['adaptive', 'context', 'detection', 'time-fre...  "
            ],
            "text/html": [
              "\n",
              "  <div id=\"df-b22e7340-1215-4e3a-b40a-da62839177d8\">\n",
              "    <div class=\"colab-df-container\">\n",
              "      <div>\n",
              "<style scoped>\n",
              "    .dataframe tbody tr th:only-of-type {\n",
              "        vertical-align: middle;\n",
              "    }\n",
              "\n",
              "    .dataframe tbody tr th {\n",
              "        vertical-align: top;\n",
              "    }\n",
              "\n",
              "    .dataframe thead th {\n",
              "        text-align: right;\n",
              "    }\n",
              "</style>\n",
              "<table border=\"1\" class=\"dataframe\">\n",
              "  <thead>\n",
              "    <tr style=\"text-align: right;\">\n",
              "      <th></th>\n",
              "      <th>title</th>\n",
              "      <th>abstract</th>\n",
              "      <th>keywords</th>\n",
              "    </tr>\n",
              "  </thead>\n",
              "  <tbody>\n",
              "    <tr>\n",
              "      <th>0</th>\n",
              "      <td>Ensemble Statistical and Heuristic Models for ...</td>\n",
              "      <td>Statistical word alignment models need large a...</td>\n",
              "      <td>['ensemble learning', 'word alignment']</td>\n",
              "    </tr>\n",
              "    <tr>\n",
              "      <th>1</th>\n",
              "      <td>Improving Spectral Learning by Using Multiple ...</td>\n",
              "      <td>Spectral learning algorithms learn an unknown ...</td>\n",
              "      <td>['basis selection', 'discrete fourier', 'ensem...</td>\n",
              "    </tr>\n",
              "    <tr>\n",
              "      <th>2</th>\n",
              "      <td>Applying Swarm Ensemble Clustering Technique f...</td>\n",
              "      <td>Number of defects remaining in a system provid...</td>\n",
              "      <td>['clustering', 'ensembles', 'particle swarm op...</td>\n",
              "    </tr>\n",
              "    <tr>\n",
              "      <th>3</th>\n",
              "      <td>Reducing the Effects of Detrimental Instances</td>\n",
              "      <td>Not all instances in a data set are equally be...</td>\n",
              "      <td>['filtering', 'instance weighting', 'label noi...</td>\n",
              "    </tr>\n",
              "    <tr>\n",
              "      <th>4</th>\n",
              "      <td>Concept Drift Awareness in Twitter Streams</td>\n",
              "      <td>Learning in non-stationary environments is not...</td>\n",
              "      <td>['adaptive', 'context', 'detection', 'time-fre...</td>\n",
              "    </tr>\n",
              "  </tbody>\n",
              "</table>\n",
              "</div>\n",
              "      <button class=\"colab-df-convert\" onclick=\"convertToInteractive('df-b22e7340-1215-4e3a-b40a-da62839177d8')\"\n",
              "              title=\"Convert this dataframe to an interactive table.\"\n",
              "              style=\"display:none;\">\n",
              "        \n",
              "  <svg xmlns=\"http://www.w3.org/2000/svg\" height=\"24px\"viewBox=\"0 0 24 24\"\n",
              "       width=\"24px\">\n",
              "    <path d=\"M0 0h24v24H0V0z\" fill=\"none\"/>\n",
              "    <path d=\"M18.56 5.44l.94 2.06.94-2.06 2.06-.94-2.06-.94-.94-2.06-.94 2.06-2.06.94zm-11 1L8.5 8.5l.94-2.06 2.06-.94-2.06-.94L8.5 2.5l-.94 2.06-2.06.94zm10 10l.94 2.06.94-2.06 2.06-.94-2.06-.94-.94-2.06-.94 2.06-2.06.94z\"/><path d=\"M17.41 7.96l-1.37-1.37c-.4-.4-.92-.59-1.43-.59-.52 0-1.04.2-1.43.59L10.3 9.45l-7.72 7.72c-.78.78-.78 2.05 0 2.83L4 21.41c.39.39.9.59 1.41.59.51 0 1.02-.2 1.41-.59l7.78-7.78 2.81-2.81c.8-.78.8-2.07 0-2.86zM5.41 20L4 18.59l7.72-7.72 1.47 1.35L5.41 20z\"/>\n",
              "  </svg>\n",
              "      </button>\n",
              "      \n",
              "  <style>\n",
              "    .colab-df-container {\n",
              "      display:flex;\n",
              "      flex-wrap:wrap;\n",
              "      gap: 12px;\n",
              "    }\n",
              "\n",
              "    .colab-df-convert {\n",
              "      background-color: #E8F0FE;\n",
              "      border: none;\n",
              "      border-radius: 50%;\n",
              "      cursor: pointer;\n",
              "      display: none;\n",
              "      fill: #1967D2;\n",
              "      height: 32px;\n",
              "      padding: 0 0 0 0;\n",
              "      width: 32px;\n",
              "    }\n",
              "\n",
              "    .colab-df-convert:hover {\n",
              "      background-color: #E2EBFA;\n",
              "      box-shadow: 0px 1px 2px rgba(60, 64, 67, 0.3), 0px 1px 3px 1px rgba(60, 64, 67, 0.15);\n",
              "      fill: #174EA6;\n",
              "    }\n",
              "\n",
              "    [theme=dark] .colab-df-convert {\n",
              "      background-color: #3B4455;\n",
              "      fill: #D2E3FC;\n",
              "    }\n",
              "\n",
              "    [theme=dark] .colab-df-convert:hover {\n",
              "      background-color: #434B5C;\n",
              "      box-shadow: 0px 1px 3px 1px rgba(0, 0, 0, 0.15);\n",
              "      filter: drop-shadow(0px 1px 2px rgba(0, 0, 0, 0.3));\n",
              "      fill: #FFFFFF;\n",
              "    }\n",
              "  </style>\n",
              "\n",
              "      <script>\n",
              "        const buttonEl =\n",
              "          document.querySelector('#df-b22e7340-1215-4e3a-b40a-da62839177d8 button.colab-df-convert');\n",
              "        buttonEl.style.display =\n",
              "          google.colab.kernel.accessAllowed ? 'block' : 'none';\n",
              "\n",
              "        async function convertToInteractive(key) {\n",
              "          const element = document.querySelector('#df-b22e7340-1215-4e3a-b40a-da62839177d8');\n",
              "          const dataTable =\n",
              "            await google.colab.kernel.invokeFunction('convertToInteractive',\n",
              "                                                     [key], {});\n",
              "          if (!dataTable) return;\n",
              "\n",
              "          const docLinkHtml = 'Like what you see? Visit the ' +\n",
              "            '<a target=\"_blank\" href=https://colab.research.google.com/notebooks/data_table.ipynb>data table notebook</a>'\n",
              "            + ' to learn more about interactive tables.';\n",
              "          element.innerHTML = '';\n",
              "          dataTable['output_type'] = 'display_data';\n",
              "          await google.colab.output.renderOutput(dataTable, element);\n",
              "          const docLink = document.createElement('div');\n",
              "          docLink.innerHTML = docLinkHtml;\n",
              "          element.appendChild(docLink);\n",
              "        }\n",
              "      </script>\n",
              "    </div>\n",
              "  </div>\n",
              "  "
            ]
          },
          "metadata": {},
          "execution_count": 5
        }
      ],
      "source": [
        "df = pd.read_csv(papers_path)\n",
        "print(df.shape)\n",
        "df.head()"
      ]
    },
    {
      "cell_type": "code",
      "execution_count": 6,
      "metadata": {
        "id": "ZZt_H9v7p-xx"
      },
      "outputs": [],
      "source": [
        "X = df[\"abstract\"]\n",
        "y = df[\"keywords\"]"
      ]
    },
    {
      "cell_type": "markdown",
      "metadata": {
        "id": "YJ0a69nNqAJJ"
      },
      "source": [
        "# Abstracts"
      ]
    },
    {
      "cell_type": "markdown",
      "metadata": {
        "id": "jOYc78paLtGD"
      },
      "source": [
        "## Data exploration && cleanning\n",
        "\n",
        "Data exploration and cleaning of all abstracts.\n",
        "\n",
        "1. Data exploration\n",
        "    1. Repetition of words\n",
        "    2. Frecuency of words\n",
        "    3. Length of words\n",
        "    4. Get hapaxes"
      ]
    },
    {
      "cell_type": "markdown",
      "metadata": {
        "id": "eykh-T7bNHXR"
      },
      "source": [
        "Collect all the abstracts into one. This way, we are going to have a top view of the dataset."
      ]
    },
    {
      "cell_type": "code",
      "execution_count": 7,
      "metadata": {
        "colab": {
          "base_uri": "https://localhost:8080/"
        },
        "id": "TIpiIixWNFed",
        "outputId": "0c77f0be-ea2b-401c-cc5b-6523f9d8b260"
      },
      "outputs": [
        {
          "output_type": "execute_result",
          "data": {
            "text/plain": [
              "5105857"
            ]
          },
          "metadata": {},
          "execution_count": 7
        }
      ],
      "source": [
        "mono_abstract = ''\n",
        "\n",
        "for abstract in X.values:\n",
        "    mono_abstract += abstract\n",
        "\n",
        "mono_abstract = mono_abstract.lower()\n",
        "len(mono_abstract)"
      ]
    },
    {
      "cell_type": "markdown",
      "metadata": {
        "id": "WVbYWo40OFq2"
      },
      "source": [
        "First tokenize. This means separating into words the string."
      ]
    },
    {
      "cell_type": "code",
      "execution_count": 8,
      "metadata": {
        "colab": {
          "base_uri": "https://localhost:8080/"
        },
        "id": "evqv6a4DNr2F",
        "outputId": "0677caa1-ada9-4715-a6cd-f5b3960ceeb0"
      },
      "outputs": [
        {
          "output_type": "execute_result",
          "data": {
            "text/plain": [
              "['statistical', 'word', 'alignment', 'models', 'need']"
            ]
          },
          "metadata": {},
          "execution_count": 8
        }
      ],
      "source": [
        "mono_token = nltk.word_tokenize(mono_abstract)\n",
        "mono_token[:5]"
      ]
    },
    {
      "cell_type": "markdown",
      "metadata": {
        "id": "LpxBafE0Qgiu"
      },
      "source": [
        "As we can appreciate, the collocations from using `collocations()` from Text are way better from `BigramCollocationFinder`."
      ]
    },
    {
      "cell_type": "code",
      "execution_count": 9,
      "metadata": {
        "id": "z9SRtL-2P5R9"
      },
      "outputs": [],
      "source": [
        "from nltk.collocations import BigramAssocMeasures, BigramCollocationFinder"
      ]
    },
    {
      "cell_type": "code",
      "execution_count": 10,
      "metadata": {
        "id": "VOAUP3NUP2ON"
      },
      "outputs": [],
      "source": [
        "finder = BigramCollocationFinder.from_words(nltk.bigrams(mono_token))\n",
        "\n",
        "# specify a measure for identifying collocations\n",
        "measures = BigramAssocMeasures()\n",
        "\n",
        "# get the 10 most frequent collocations using the specified measure\n",
        "collocations = finder.nbest(measures.raw_freq, 10)"
      ]
    },
    {
      "cell_type": "code",
      "execution_count": 11,
      "metadata": {
        "colab": {
          "base_uri": "https://localhost:8080/"
        },
        "id": "yQ0qQbFzOlVj",
        "outputId": "91ee8ab8-2b73-4a6a-f37e-08feea936684"
      },
      "outputs": [
        {
          "output_type": "execute_result",
          "data": {
            "text/plain": [
              "[(('.', 'in'), ('in', 'this')),\n",
              " (('in', 'this'), ('this', 'paper')),\n",
              " (('this', 'paper'), ('paper', ',')),\n",
              " (('paper', ','), (',', 'we')),\n",
              " (('.', 'however'), ('however', ',')),\n",
              " (('.', 'this'), ('this', 'paper')),\n",
              " ((',', 'we'), ('we', 'propose')),\n",
              " (('in', 'order'), ('order', 'to')),\n",
              " (('as', 'well'), ('well', 'as')),\n",
              " (('we', 'propose'), ('propose', 'a'))]"
            ]
          },
          "metadata": {},
          "execution_count": 11
        }
      ],
      "source": [
        "collocations"
      ]
    },
    {
      "cell_type": "markdown",
      "metadata": {
        "id": "np9c1xbxOav_"
      },
      "source": [
        "Convert those tokens into a Text object. The best way to get collocations out of it. These collocations are of 2 words or also called (Bigrams)"
      ]
    },
    {
      "cell_type": "code",
      "execution_count": 12,
      "metadata": {
        "id": "ZVtAa8nbQzXD"
      },
      "outputs": [],
      "source": [
        "import io\n",
        "import contextlib"
      ]
    },
    {
      "cell_type": "code",
      "execution_count": 13,
      "metadata": {
        "id": "R-BgULTwWX0l"
      },
      "outputs": [],
      "source": [
        "mono_abstract = nltk.Text(mono_token)"
      ]
    },
    {
      "cell_type": "code",
      "execution_count": 14,
      "metadata": {
        "colab": {
          "base_uri": "https://localhost:8080/"
        },
        "id": "1463L5L7Qwp_",
        "outputId": "a52a5255-24ce-4e4e-9af8-2ab69d0be3df"
      },
      "outputs": [
        {
          "output_type": "stream",
          "name": "stdout",
          "text": [
            "machine learning; neural network; neural networks; experimental\n",
            "results; results show; deep learning; support vector; time series;\n",
            "convolutional neural; feature selection; future research; paper\n",
            "presents; reinforcement learning; comprehensive survey; recent years;\n",
            "proposed method; research directions; deep neural; anomaly detection;\n",
            "data sets\n",
            "\n"
          ]
        }
      ],
      "source": [
        "with contextlib.redirect_stdout(io.StringIO()) as f:\n",
        "    mono_abstract.collocations()\n",
        "\n",
        "collocations_output = f.getvalue()\n",
        "print(collocations_output) # top 10 collocations"
      ]
    },
    {
      "cell_type": "markdown",
      "metadata": {
        "id": "ZwjnR0OuQ74g"
      },
      "source": [
        "#### Repetitions"
      ]
    },
    {
      "cell_type": "code",
      "execution_count": 15,
      "metadata": {
        "colab": {
          "base_uri": "https://localhost:8080/"
        },
        "id": "zvq0SyUnRehr",
        "outputId": "ce53825c-23fa-4ce0-aec4-5f046e3d8921"
      },
      "outputs": [
        {
          "output_type": "execute_result",
          "data": {
            "text/plain": [
              "[('the', 42923),\n",
              " (',', 34425),\n",
              " ('.', 28657),\n",
              " ('of', 27638),\n",
              " ('and', 23294),\n",
              " ('to', 19254),\n",
              " ('a', 16768),\n",
              " ('in', 16275),\n",
              " ('is', 9338),\n",
              " ('for', 9212)]"
            ]
          },
          "metadata": {},
          "execution_count": 15
        }
      ],
      "source": [
        "fdist1 = nltk.punkt.FreqDist(mono_token)\n",
        "top_tokens = fdist1.most_common(10)\n",
        "token_counts = dict(top_tokens)\n",
        "top_tokens[:10]"
      ]
    },
    {
      "cell_type": "code",
      "execution_count": 16,
      "metadata": {
        "colab": {
          "base_uri": "https://localhost:8080/",
          "height": 89
        },
        "id": "kZebjXjoUp2S",
        "outputId": "af66f908-3672-43c6-d343-f7ee86e291df"
      },
      "outputs": [
        {
          "output_type": "execute_result",
          "data": {
            "text/plain": [
              "<Axes: >"
            ]
          },
          "metadata": {},
          "execution_count": 16
        },
        {
          "output_type": "display_data",
          "data": {
            "text/plain": [
              "<Figure size 640x480 with 1 Axes>"
            ],
            "image/png": "[encoded data removed]"
          },
          "metadata": {}
        }
      ],
      "source": [
        "sns.histplot(x=list(token_counts.keys()), y=list(token_counts.values()))"
      ]
    },
    {
      "cell_type": "code",
      "execution_count": 17,
      "metadata": {
        "id": "NpLjCvP4WyO3"
      },
      "outputs": [],
      "source": [
        "hapaxes = fdist1.hapaxes()"
      ]
    },
    {
      "cell_type": "markdown",
      "metadata": {
        "id": "KFZsCG1-YL8_"
      },
      "source": [
        "#### Frequency\n",
        "\n",
        "Como podemos observar, mono_token está compuesto de casi un millon de palabras. De las cuales, aproximadamente el 27% no son totalmente útiles. Como se puede observar, las palabras como `the`, `,`, `.`, `a`, `in`. Are very common and for the purpose of this project, they are not necessary and thus generate noise on model that tries to extract characteristics."
      ]
    },
    {
      "cell_type": "code",
      "execution_count": 18,
      "metadata": {
        "colab": {
          "base_uri": "https://localhost:8080/"
        },
        "id": "ldsPY43cY3Un",
        "outputId": "759f89bf-d3c3-4d96-98f5-6ec18666ae02"
      },
      "outputs": [
        {
          "output_type": "execute_result",
          "data": {
            "text/plain": [
              "826346"
            ]
          },
          "metadata": {},
          "execution_count": 18
        }
      ],
      "source": [
        "len(mono_token)"
      ]
    },
    {
      "cell_type": "code",
      "execution_count": 19,
      "metadata": {
        "colab": {
          "base_uri": "https://localhost:8080/"
        },
        "id": "KF7O6Y2SYKKg",
        "outputId": "65ae54e6-9f9e-45a7-e2fd-1a786034967f"
      },
      "outputs": [
        {
          "output_type": "stream",
          "name": "stdout",
          "text": [
            "- the : 0.05194313277973149\n",
            "- , : 0.041659304940061426\n",
            "- . : 0.034679177971455054\n",
            "- of : 0.033446038342292456\n",
            "- and : 0.02818916047273176\n",
            "- to : 0.02330016724229318\n",
            "- a : 0.020291742199998547\n",
            "- in : 0.019695139808264334\n",
            "- is : 0.01130035118461274\n",
            "- for : 0.011147872682871339\n",
            "Frequency of top 10 words repeated 0.2756520876243123.\n"
          ]
        }
      ],
      "source": [
        "freq = 0.0\n",
        "for word, _ in top_tokens:\n",
        "    freq += fdist1.freq(word)\n",
        "    print(f'- {word} : {fdist1.freq(word)}')\n",
        "\n",
        "print(f'Frequency of top 10 words repeated {freq}.')"
      ]
    },
    {
      "cell_type": "markdown",
      "metadata": {
        "id": "K81BhLqDaWiY"
      },
      "source": [
        "#### Length of words\n",
        "\n",
        "Al parecer las palabras más repetidas son las de tamaño 2. Suponiendo un 14% de todos los abstracts. Lo cual parece muy interesante ya que, si juntamos el apartado anterior con este, podremos observar que palabras de 2 solo se muestran 4.\n",
        "\n",
        "Esta parte del razonamiento se mirará más tarde cuando se clasifiquen las palabras"
      ]
    },
    {
      "cell_type": "code",
      "execution_count": 20,
      "metadata": {
        "id": "aQRy_Xdxap6n"
      },
      "outputs": [],
      "source": [
        "fdLen = nltk.punkt.FreqDist(len(w) for w in mono_token)"
      ]
    },
    {
      "cell_type": "code",
      "execution_count": 21,
      "metadata": {
        "colab": {
          "base_uri": "https://localhost:8080/"
        },
        "id": "qjR_VhupaYZI",
        "outputId": "8b90bd42-4112-45e3-97d2-3b8e0c445eb4"
      },
      "outputs": [
        {
          "output_type": "stream",
          "name": "stdout",
          "text": [
            "El tamaño de las palabras más repetidas es 2:\n",
            "\t- Frecuencia : 115879\n",
            "\t- Frecuencia (%): 0.1402306055816813\n"
          ]
        }
      ],
      "source": [
        "max = fdLen.max()\n",
        "print(f'El tamaño de las palabras más repetidas es {max}:\\n\\t- Frecuencia : {fdLen[max]}\\n\\t- Frecuencia (%): {fdLen.freq(max)}')"
      ]
    },
    {
      "cell_type": "markdown",
      "metadata": {
        "id": "BTlY130iZ6Vw"
      },
      "source": [
        "#### Hapaxes\n",
        "\n",
        "There are 12893 hapaxes, that is around 1% (0.0156) of all the abstracts. So we are going to eliminate them."
      ]
    },
    {
      "cell_type": "code",
      "execution_count": 22,
      "metadata": {
        "colab": {
          "base_uri": "https://localhost:8080/"
        },
        "id": "Rso45k7sRqqK",
        "outputId": "3746348e-a8c2-4289-8092-0f1b989f272b"
      },
      "outputs": [
        {
          "output_type": "stream",
          "name": "stdout",
          "text": [
            "Nº de palabras únicas: 12893, ejemplos: ['models.spectral', 'practice.number', 'models.not', 'them.learning', 'timestamping']\n"
          ]
        }
      ],
      "source": [
        "print(f'Nº de palabras únicas: {len(fdist1.hapaxes())}, ejemplos: {fdist1.hapaxes()[:5]}')"
      ]
    },
    {
      "cell_type": "markdown",
      "metadata": {
        "id": "eHvlkUA0bm5F"
      },
      "source": [
        "#### (Exploration) Remove non-alphanumeric characters from the list of words\n",
        "\n",
        "Como se puede observar, esto es una gran hostia, porque podemos ver que son 109645 (13%) de las palabras. Esto es bueno porque para nuestro clasificador, no nos intersa que existan simbolos de puntuación. La diferencia entre `No, eso es bueno` y `No es bueno`. No está dentro de nuestro scope."
      ]
    },
    {
      "cell_type": "code",
      "execution_count": 23,
      "metadata": {
        "colab": {
          "base_uri": "https://localhost:8080/"
        },
        "id": "zY5F2oy7M7gQ",
        "outputId": "548ad3a8-81b6-4553-d50e-c818a9c3654f"
      },
      "outputs": [
        {
          "output_type": "execute_result",
          "data": {
            "text/plain": [
              "716701"
            ]
          },
          "metadata": {},
          "execution_count": 23
        }
      ],
      "source": [
        "only_alpha = len([word for word in mono_token if word.isalpha()])\n",
        "only_alpha"
      ]
    },
    {
      "cell_type": "code",
      "execution_count": 24,
      "metadata": {
        "colab": {
          "base_uri": "https://localhost:8080/"
        },
        "id": "uV98ESTvb4p8",
        "outputId": "65b1149d-4d0b-4eae-e5ad-f7399d66cbd7"
      },
      "outputs": [
        {
          "output_type": "execute_result",
          "data": {
            "text/plain": [
              "109645"
            ]
          },
          "metadata": {},
          "execution_count": 24
        }
      ],
      "source": [
        "len(mono_token) - only_alpha"
      ]
    },
    {
      "cell_type": "markdown",
      "metadata": {
        "id": "IMPgugbLc8oD"
      },
      "source": [
        "#### (Exploration) Remove articles\n",
        "\n",
        "To do this task, first we need to classify the tokenized words, and use a pretrained model from `nltk`. For this we have to download the package: `averaged_perceptron_tagger`.\n",
        "\n",
        "- `cc` coordinating conjunction\n",
        "- `rb` adverbs\n",
        "- `in` preposition\n",
        "- `nn` noun\n",
        "- `jj` adjective\n",
        "- `vbp` verb"
      ]
    },
    {
      "cell_type": "code",
      "execution_count": 25,
      "metadata": {
        "colab": {
          "base_uri": "https://localhost:8080/"
        },
        "id": "HwBOFmt7dLh1",
        "outputId": "812091c4-4f6d-4a26-ef32-6da5e0f3214a"
      },
      "outputs": [
        {
          "output_type": "execute_result",
          "data": {
            "text/plain": [
              "[('statistical', 'JJ'),\n",
              " ('word', 'NN'),\n",
              " ('alignment', 'NN'),\n",
              " ('models', 'NNS'),\n",
              " ('need', 'VBP')]"
            ]
          },
          "metadata": {},
          "execution_count": 25
        }
      ],
      "source": [
        "tags = nltk.pos_tag(mono_token)\n",
        "tags[:5]"
      ]
    },
    {
      "cell_type": "code",
      "execution_count": 26,
      "metadata": {
        "colab": {
          "base_uri": "https://localhost:8080/"
        },
        "id": "nWaK24tBdwy1",
        "outputId": "e8763bdc-c0d1-4df2-9c1d-46f36168b207"
      },
      "outputs": [
        {
          "output_type": "execute_result",
          "data": {
            "text/plain": [
              "733956"
            ]
          },
          "metadata": {},
          "execution_count": 26
        }
      ],
      "source": [
        "# get rid of prepositions\n",
        "with_no_prepositions = len([word for word, tag in tags if tag != 'IN'])\n",
        "with_no_prepositions"
      ]
    },
    {
      "cell_type": "code",
      "execution_count": 27,
      "metadata": {
        "colab": {
          "base_uri": "https://localhost:8080/"
        },
        "id": "vrVFEJQKd2k8",
        "outputId": "64cf021a-1fc7-4b9e-8a43-f1b14b455efe"
      },
      "outputs": [
        {
          "output_type": "execute_result",
          "data": {
            "text/plain": [
              "92390"
            ]
          },
          "metadata": {},
          "execution_count": 27
        }
      ],
      "source": [
        "len(mono_token) - with_no_prepositions"
      ]
    },
    {
      "cell_type": "markdown",
      "metadata": {
        "id": "KtO5GfMZ8ZBb"
      },
      "source": [
        "Como se ha podido observar, nos interesa quitar tanto las preopisiciones como los valores que no son alphanuméricos. A continuación, para terminar, se analizará de nuevo, las repeticiones de los top 10 y el tamaño de palabras más grande."
      ]
    },
    {
      "cell_type": "markdown",
      "metadata": {
        "id": "f4spkV8U9jBt"
      },
      "source": [
        "#### Conclusión\n",
        "\n",
        "Como se ha podido observar, nos interesa quitar tanto las preopisiciones como los valores que no son alphanuméricos. A continuación, para terminar, se analizará de nuevo, las repeticiones de los top 10 y el tamaño de palabras más grande."
      ]
    },
    {
      "cell_type": "code",
      "execution_count": 28,
      "metadata": {
        "id": "lIEJIaYIe5ZK"
      },
      "outputs": [],
      "source": [
        "# remove hapaxes from the frequency distribution\n",
        "fdist2 = nltk.punkt.FreqDist(mono_token)\n",
        "for hapax in fdist2.hapaxes():\n",
        "    del fdist2[hapax]"
      ]
    },
    {
      "cell_type": "code",
      "execution_count": 29,
      "metadata": {
        "colab": {
          "base_uri": "https://localhost:8080/"
        },
        "id": "s5FOBk-95Wl2",
        "outputId": "3d92a9f5-f34c-493d-eb88-b3a80c55c385"
      },
      "outputs": [
        {
          "output_type": "stream",
          "name": "stdout",
          "text": [
            "fdist2 (get rid of hepaxes): 15667 - fdist1: 28560\n"
          ]
        }
      ],
      "source": [
        "print(f'fdist2 (get rid of hepaxes): {len(fdist2)} - fdist1: {len(fdist1)}')"
      ]
    },
    {
      "cell_type": "code",
      "execution_count": 30,
      "metadata": {
        "id": "OyCnbRAM5xvJ"
      },
      "outputs": [],
      "source": [
        "new_X = fdist2.keys()"
      ]
    },
    {
      "cell_type": "code",
      "execution_count": 31,
      "metadata": {
        "id": "hEpwPrLGeCXk"
      },
      "outputs": [],
      "source": [
        "only_alpha = [word for word in new_X if word.isalpha()]"
      ]
    },
    {
      "cell_type": "code",
      "execution_count": 32,
      "metadata": {
        "colab": {
          "base_uri": "https://localhost:8080/"
        },
        "id": "2UBmdMsN6E-9",
        "outputId": "a88e92e1-f746-4e4f-f475-84db9defbd26"
      },
      "outputs": [
        {
          "output_type": "execute_result",
          "data": {
            "text/plain": [
              "12415"
            ]
          },
          "metadata": {},
          "execution_count": 32
        }
      ],
      "source": [
        "len(only_alpha)"
      ]
    },
    {
      "cell_type": "code",
      "execution_count": 33,
      "metadata": {
        "id": "igoEv481fA8m"
      },
      "outputs": [],
      "source": [
        "new_X = only_alpha\n",
        "tags = nltk.pos_tag(new_X)"
      ]
    },
    {
      "cell_type": "code",
      "execution_count": 34,
      "metadata": {
        "id": "KlkpKKGvfAEy"
      },
      "outputs": [],
      "source": [
        "with_no_prepositions = [word for word, tag in tags if tag != 'IN']"
      ]
    },
    {
      "cell_type": "code",
      "execution_count": 35,
      "metadata": {
        "colab": {
          "base_uri": "https://localhost:8080/"
        },
        "id": "mA2_fENue-os",
        "outputId": "90d8a3bf-7128-4dbe-bb19-82cc2ac05c42"
      },
      "outputs": [
        {
          "output_type": "stream",
          "name": "stdout",
          "text": [
            "El tamaño de las palabras más repetidas es 8:\n",
            "\t- Frecuencia : 1505\n",
            "\t- Frecuencia (%): 0.12237762237762238\n"
          ]
        }
      ],
      "source": [
        "new_X = with_no_prepositions\n",
        "fdLen_2 = nltk.punkt.FreqDist(len(w) for w in with_no_prepositions)\n",
        "max = fdLen_2.max()\n",
        "print(f'El tamaño de las palabras más repetidas es {max}:\\n\\t- Frecuencia : {fdLen_2[max]}\\n\\t- Frecuencia (%): {fdLen_2.freq(max)}')"
      ]
    },
    {
      "cell_type": "code",
      "execution_count": 36,
      "metadata": {
        "colab": {
          "base_uri": "https://localhost:8080/"
        },
        "id": "TYcVVMed8itA",
        "outputId": "70a76ffa-afc1-4462-9714-a0a3bb5d9cef"
      },
      "outputs": [
        {
          "output_type": "stream",
          "name": "stdout",
          "text": [
            "Example of most repetitive len (8) : training\n"
          ]
        }
      ],
      "source": [
        "for w in new_X:\n",
        "    if len(w) == max:\n",
        "        print(f'Example of most repetitive len ({max}) : {w}')\n",
        "        break"
      ]
    },
    {
      "cell_type": "markdown",
      "metadata": {
        "id": "H8nIvUBs649n"
      },
      "source": [
        "Como se puede ver, la diferencia entre quitar o no las palabras con 2 caracteres. Al parecer y como intuímos anteriormente, la gran mayoría eran preposiciones y otros caracteres de la categoría `IN`"
      ]
    },
    {
      "cell_type": "code",
      "execution_count": 37,
      "metadata": {
        "colab": {
          "base_uri": "https://localhost:8080/"
        },
        "id": "CmeYfthk6Q2R",
        "outputId": "cea0a124-cb7f-40a3-a841-252d2afb273d"
      },
      "outputs": [
        {
          "output_type": "stream",
          "name": "stdout",
          "text": [
            "Sizes of each step:\n",
            "\t- hapaxes removed : 15667\n",
            "\t- Only alpha numerics: 12415\n",
            "\t- Prepositions removed: 12298\n",
            "\n",
            "Size of new X is: 12298\n"
          ]
        }
      ],
      "source": [
        "print(f'Sizes of each step:\\n\\t- hapaxes removed : {len(fdist2)}\\n\\t- Only alpha numerics: {len(only_alpha)}\\n\\t- Prepositions removed: {len(with_no_prepositions)}\\n\\nSize of new X is: {len(new_X)}')"
      ]
    },
    {
      "cell_type": "markdown",
      "metadata": {
        "id": "miTrsYYB8EKq"
      },
      "source": [
        "Bueno, igual 12k no es lo mejor del mundo, pero como todo en esta vida, hay que probarlo. Eso es lo que vamos a hacer!!"
      ]
    },
    {
      "cell_type": "markdown",
      "metadata": {
        "id": "TuOg7zMc9rW7"
      },
      "source": [
        "## Cleanning\n",
        "\n",
        "1. Cleanning\n",
        "    1. Remove '.', ',', '?', etc.\n",
        "    2. Remove hepaxes if they are not specific (or niche).\n",
        "    3. Remove (if needed) words with low frequency\n",
        "\n",
        "\n",
        "This cleaning is for each of the abstracts and not as a molotic abstract thing, like earlier."
      ]
    },
    {
      "cell_type": "code",
      "execution_count": 38,
      "metadata": {
        "colab": {
          "base_uri": "https://localhost:8080/"
        },
        "id": "Bl78FJFx905d",
        "outputId": "53a21b72-a257-45a6-9261-b207506d19e3"
      },
      "outputs": [
        {
          "output_type": "stream",
          "name": "stdout",
          "text": [
            "Size of token_list : 4555 (must be 4555 same size as X)\n",
            "Example of abstract 0 (len): 119. First 5 words: ['statistical', 'word', 'alignment', 'models', 'need']\n"
          ]
        }
      ],
      "source": [
        "token_list = []\n",
        "\n",
        "for abstract in X.values:\n",
        "    token_list.append(nltk.word_tokenize(abstract.lower()))\n",
        "\n",
        "print(f'Size of token_list : {len(token_list)} (must be 4555 same size as X)')\n",
        "print(f'Example of abstract 0 (len): {len(token_list[0])}. First 5 words: {token_list[0][:5]}')"
      ]
    },
    {
      "cell_type": "code",
      "execution_count": 39,
      "metadata": {
        "colab": {
          "base_uri": "https://localhost:8080/"
        },
        "id": "FlUk-tsBGgQ4",
        "outputId": "84b7f98c-73c1-430b-8587-74fe0d8bc4d5"
      },
      "outputs": [
        {
          "output_type": "execute_result",
          "data": {
            "text/plain": [
              "['models.spectral',\n",
              " 'practice.number',\n",
              " 'models.not',\n",
              " 'them.learning',\n",
              " 'timestamping']"
            ]
          },
          "metadata": {},
          "execution_count": 39
        }
      ],
      "source": [
        "# Get overall hapaxes\n",
        "fdist2 = nltk.punkt.FreqDist(mono_token)\n",
        "global_hapaxes = fdist2.hapaxes()\n",
        "global_hapaxes[:5]"
      ]
    },
    {
      "cell_type": "code",
      "execution_count": 40,
      "metadata": {
        "id": "XHLndvI1KRAg"
      },
      "outputs": [],
      "source": [
        "hapax_dict = {i: None for i in global_hapaxes}"
      ]
    },
    {
      "cell_type": "code",
      "execution_count": 41,
      "metadata": {
        "colab": {
          "base_uri": "https://localhost:8080/"
        },
        "id": "bl3tF5oRKnbi",
        "outputId": "dc082cef-7eee-432c-8f7b-1dc705324812"
      },
      "outputs": [
        {
          "output_type": "execute_result",
          "data": {
            "text/plain": [
              "['statistical',\n",
              " 'word',\n",
              " 'alignment',\n",
              " 'models',\n",
              " 'need',\n",
              " 'large',\n",
              " 'amount',\n",
              " 'of',\n",
              " 'training',\n",
              " 'data',\n",
              " 'while',\n",
              " 'they',\n",
              " 'are',\n",
              " 'weak',\n",
              " 'in',\n",
              " 'small-size',\n",
              " 'corpora',\n",
              " '.',\n",
              " 'this',\n",
              " 'paper',\n",
              " 'proposes',\n",
              " 'a',\n",
              " 'new',\n",
              " 'approach',\n",
              " 'of',\n",
              " 'unsupervised',\n",
              " 'hybrid',\n",
              " 'word',\n",
              " 'alignment',\n",
              " 'technique',\n",
              " 'using',\n",
              " 'ensemble',\n",
              " 'learning',\n",
              " 'method',\n",
              " '.',\n",
              " 'this',\n",
              " 'algorithm',\n",
              " 'uses',\n",
              " 'three',\n",
              " 'base',\n",
              " 'alignment',\n",
              " 'models',\n",
              " 'in',\n",
              " 'several',\n",
              " 'rounds',\n",
              " 'to',\n",
              " 'generate',\n",
              " 'alignments',\n",
              " '.',\n",
              " 'the',\n",
              " 'ensemble',\n",
              " 'algorithm',\n",
              " 'uses',\n",
              " 'a',\n",
              " 'weighed',\n",
              " 'scheme',\n",
              " 'for',\n",
              " 'resampling',\n",
              " 'training',\n",
              " 'data',\n",
              " 'and',\n",
              " 'a',\n",
              " 'voting',\n",
              " 'score',\n",
              " 'to',\n",
              " 'consider',\n",
              " 'aggregated',\n",
              " 'alignments',\n",
              " '.',\n",
              " 'the',\n",
              " 'underlying',\n",
              " 'alignment',\n",
              " 'algorithms',\n",
              " 'used',\n",
              " 'in',\n",
              " 'this',\n",
              " 'study',\n",
              " 'include',\n",
              " 'ibm',\n",
              " 'model',\n",
              " '1',\n",
              " ',',\n",
              " '2',\n",
              " 'and',\n",
              " 'a',\n",
              " 'heuristic',\n",
              " 'method',\n",
              " 'based',\n",
              " 'on',\n",
              " 'dice',\n",
              " 'measurement',\n",
              " '.',\n",
              " 'our',\n",
              " 'experimental',\n",
              " 'results',\n",
              " 'show',\n",
              " 'that',\n",
              " 'by',\n",
              " 'this',\n",
              " 'approach',\n",
              " ',',\n",
              " 'the',\n",
              " 'alignment',\n",
              " 'error',\n",
              " 'rate',\n",
              " 'could',\n",
              " 'be',\n",
              " 'improved',\n",
              " 'by',\n",
              " 'at',\n",
              " 'least',\n",
              " '%',\n",
              " '15',\n",
              " 'for',\n",
              " 'the',\n",
              " 'base',\n",
              " 'alignment',\n",
              " 'models',\n",
              " '.']"
            ]
          },
          "metadata": {},
          "execution_count": 41
        }
      ],
      "source": [
        "[word for word in token_list[0] if word not in hapax_dict]"
      ]
    },
    {
      "cell_type": "code",
      "execution_count": 42,
      "metadata": {
        "colab": {
          "base_uri": "https://localhost:8080/"
        },
        "id": "j5cp5T9f-oL1",
        "outputId": "aea09164-f9f2-4c13-b319-74a055495114"
      },
      "outputs": [
        {
          "output_type": "stream",
          "name": "stdout",
          "text": [
            "Size of clean_abstracts : 4555 (must be 4555 same size as X)\n",
            "Example length of new abstract: 642. First 5 words: stati\n"
          ]
        }
      ],
      "source": [
        "clean_abstracts = []\n",
        "for abs_tok in token_list:\n",
        "    # remove hapaxes from the frequency distribution\n",
        "    # Only hapaxes from the overall\n",
        "    abs_freq = [word for word in abs_tok if word not in hapax_dict]\n",
        "\n",
        "    # remove non-alphanumeric values\n",
        "    only_alpha = [word for word in abs_freq if word.isalpha()]\n",
        "\n",
        "    # remove `IN`\n",
        "    tags = nltk.pos_tag(only_alpha)\n",
        "    with_no_prepositions = [word for word, tag in tags if tag != 'IN']\n",
        "\n",
        "    clean_abstracts.append(' '.join(with_no_prepositions))\n",
        "\n",
        "del token_list\n",
        "\n",
        "print(f'Size of clean_abstracts : {len(clean_abstracts)} (must be 4555 same size as X)')\n",
        "print(f'Example length of new abstract: {len(clean_abstracts[0])}. First 5 words: {clean_abstracts[0][:5]}')"
      ]
    },
    {
      "cell_type": "code",
      "execution_count": 43,
      "metadata": {
        "colab": {
          "base_uri": "https://localhost:8080/",
          "height": 1000
        },
        "id": "1cNX6iaXODVO",
        "outputId": "9e13e0a9-8deb-4312-bcb3-15520adc473b"
      },
      "outputs": [
        {
          "output_type": "execute_result",
          "data": {
            "text/plain": [
              "'statistical word alignment models need large amount training data they are weak corpora this paper proposes a new approach unsupervised hybrid word alignment technique using ensemble learning method this algorithm uses three base alignment models several rounds to generate alignments the ensemble algorithm uses a weighed scheme resampling training data and a voting score to consider aggregated alignments the underlying alignment algorithms used this study include ibm model and a heuristic method based dice measurement our experimental results show this approach the alignment error rate could be improved least the base alignment models'"
            ],
            "application/vnd.google.colaboratory.intrinsic+json": {
              "type": "string"
            }
          },
          "metadata": {},
          "execution_count": 43
        }
      ],
      "source": [
        "clean_abstracts[0]"
      ]
    },
    {
      "cell_type": "code",
      "execution_count": 44,
      "metadata": {
        "colab": {
          "base_uri": "https://localhost:8080/"
        },
        "id": "HcLxuo-FO_Wq",
        "outputId": "941e842f-5fec-4864-c6ec-c0dab8b20305"
      },
      "outputs": [
        {
          "output_type": "stream",
          "name": "stdout",
          "text": [
            "The median is: 925\n"
          ]
        }
      ],
      "source": [
        "# create a list of string lengths\n",
        "lengths = [len(s) for s in clean_abstracts]\n",
        "\n",
        "# sort the list of lengths\n",
        "lengths_sorted = sorted(lengths)\n",
        "\n",
        "# find the middle index of the sorted list\n",
        "middle_index = len(lengths_sorted) // 2\n",
        "\n",
        "\n",
        "if len(lengths_sorted) % 2 == 1:\n",
        "    # if odd, the median is the value at the middle index\n",
        "    median = lengths_sorted[middle_index]\n",
        "else:\n",
        "    # if even, the median is the average of the values at the middle two indices\n",
        "    median = (lengths_sorted[middle_index - 1] + lengths_sorted[middle_index]) / 2\n",
        "\n",
        "print(f'The median is: {median}')"
      ]
    },
    {
      "cell_type": "markdown",
      "metadata": {
        "id": "9Q3flI3PMCtY"
      },
      "source": [
        "# Keywords"
      ]
    },
    {
      "cell_type": "markdown",
      "metadata": {
        "id": "breKWmezMjfh"
      },
      "source": [
        "## Data exploration\n",
        "\n",
        "Data exploration and cleaning of all abstracts.\n",
        "\n",
        "1. Data exploration\n",
        "    1. Repetitions of keywords\n",
        "    2. Evaluation of different percentiles\n",
        "    3. Frequency of keywords together in the same row"
      ]
    },
    {
      "cell_type": "markdown",
      "metadata": {
        "id": "fQl_reTHQz1p"
      },
      "source": [
        "### Repetition of keywords\n",
        "\n",
        "Before getting the bars. We need to parse the keywords from a string to a list of strings."
      ]
    },
    {
      "cell_type": "code",
      "execution_count": 45,
      "metadata": {
        "colab": {
          "base_uri": "https://localhost:8080/"
        },
        "id": "1UfM3iYFQwQC",
        "outputId": "0d54c07f-12ea-4bb0-d158-90cdda56773e"
      },
      "outputs": [
        {
          "output_type": "stream",
          "name": "stdout",
          "text": [
            "Terminado, hay 31607 palabras\n"
          ]
        }
      ],
      "source": [
        "words = []\n",
        "\n",
        "for i, abs in enumerate(y.values):\n",
        "    words.append([])\n",
        "    for w in abs.replace('[', '').replace(']', '').replace('\\'', '').split(','):\n",
        "        words[i].append(w.strip())\n",
        "\n",
        "flat_keys = [item for subkeys in words for item in subkeys]\n",
        "\n",
        "print(\"Terminado, hay\", len(flat_keys), \"palabras\")"
      ]
    },
    {
      "cell_type": "markdown",
      "metadata": {
        "id": "feGpdwEsUE11"
      },
      "source": [
        "As we can appreciate, the most common one is `machine learning` by far. From there, we can see that each key is followed closely."
      ]
    },
    {
      "cell_type": "code",
      "execution_count": 46,
      "metadata": {
        "colab": {
          "base_uri": "https://localhost:8080/",
          "height": 124
        },
        "id": "fq0BEW_4Q_DH",
        "outputId": "60a990e6-3db6-4c56-a6af-d79a35516ad8"
      },
      "outputs": [
        {
          "output_type": "stream",
          "name": "stdout",
          "text": [
            "('interference constraints', 1)\n"
          ]
        },
        {
          "output_type": "execute_result",
          "data": {
            "text/plain": [
              "Text(0, 0.5, 'Key')"
            ]
          },
          "metadata": {},
          "execution_count": 46
        },
        {
          "output_type": "display_data",
          "data": {
            "text/plain": [
              "<Figure size 640x480 with 1 Axes>"
            ],
            "image/png": "[encoded data removed]"
          },
          "metadata": {}
        }
      ],
      "source": [
        "from collections import Counter\n",
        "\n",
        "string_counts = Counter(flat_keys)\n",
        "print(string_counts.most_common()[-1])\n",
        "top_strings = string_counts.most_common(60)\n",
        "\n",
        "df = pd.DataFrame(top_strings, columns=['Key', 'Count'])\n",
        "df = df.iloc[::-1]  # Reverse the order of rows\n",
        "labels, counts = zip(*top_strings)\n",
        "\n",
        "fig, ax = plt.subplots()\n",
        "sns.barplot(x='Count', y='Key', data=df, color='blue')\n",
        "\n",
        "# Add count label for each bar\n",
        "for i, v in enumerate(counts[::-1]):\n",
        "    ax.text(v + 0.5, i, str(v), color='black', fontweight='bold')\n",
        "\n",
        "ax.set_title(\"Top 60 Most Common Strings\")\n",
        "ax.set_xlabel(\"Count\")\n",
        "ax.set_ylabel(\"Key\")"
      ]
    },
    {
      "cell_type": "markdown",
      "metadata": {
        "id": "yZs9Vu3yUUfc"
      },
      "source": [
        "### Evaluation of different percentiles\n",
        "\n",
        "I don't know exactly the percentiles they are. But we can infere the definition of percentile for this use case.\n",
        "\n",
        "It can be very obvious that we should use under 50 as a minimum. Think about this, we cannot use as minimum under 3 repetitions since, 6% is repeated, compared to the 10% of the 50. As you can see, the probability of finding a keyword with repetition X is not accumulative (on this example). But it can be done."
      ]
    },
    {
      "cell_type": "code",
      "execution_count": 47,
      "metadata": {
        "colab": {
          "base_uri": "https://localhost:8080/"
        },
        "id": "YHKVrcfwT-3S",
        "outputId": "41a6a268-6069-4b56-dcca-58df8b4846f7"
      },
      "outputs": [
        {
          "output_type": "stream",
          "name": "stdout",
          "text": [
            "De las 31607 palabras totales hay 2109 palabras que aparecen menos de 3 veces, de las cuales 1626 aparecen una sola vez.\n",
            "Es decir, un 5.144430031322175 % de las palabras aparecen una sola vez\n",
            "Es decir, un 6.672572531401272 % de las palabras aparecen tres veces\n",
            "Es decir, un 10.510329990192046 % de las palabras aparecen 50 veces\n",
            "Es decir, un 10.706489068877149 % de las palabras aparecen 90 veces\n",
            "Es decir, un 10.73812762995539 % de las palabras aparecen 100 veces\n"
          ]
        }
      ],
      "source": [
        "una_sola_vez = 0\n",
        "poco_frecuentes = 0\n",
        "poco_frecuentes_50 = 0\n",
        "poco_frecuentes_90 = 0\n",
        "poco_frecuentes_100 = 0\n",
        "\n",
        "# dejamos la elegancia de lado\n",
        "for i in string_counts:\n",
        "  if string_counts.get(i) < 3:\n",
        "    poco_frecuentes +=1\n",
        "\n",
        "for i in string_counts:\n",
        "  if string_counts.get(i) < 2:\n",
        "    una_sola_vez +=1\n",
        "\n",
        "for i in string_counts:\n",
        "  if string_counts.get(i) < 50:\n",
        "    poco_frecuentes_50 +=1\n",
        "\n",
        "for i in string_counts:\n",
        "  if string_counts.get(i) < 90:\n",
        "    poco_frecuentes_90 +=1\n",
        "\n",
        "for i in string_counts:\n",
        "  if string_counts.get(i) < 100:\n",
        "    poco_frecuentes_100 +=1\n",
        "\n",
        "print(\"De las\", len(flat_keys), \"palabras totales hay\", poco_frecuentes, \"palabras que aparecen menos de 3 veces, de las cuales\", una_sola_vez, \"aparecen una sola vez.\")\n",
        "print(\"Es decir, un\", (una_sola_vez/len(flat_keys))*100,\"% de las palabras aparecen una sola vez\")\n",
        "print(\"Es decir, un\", (poco_frecuentes/len(flat_keys))*100,\"% de las palabras aparecen tres veces\")\n",
        "print(\"Es decir, un\", (poco_frecuentes_50/len(flat_keys))*100,\"% de las palabras aparecen 50 veces\")\n",
        "print(\"Es decir, un\", (poco_frecuentes_90/len(flat_keys))*100,\"% de las palabras aparecen 90 veces\")\n",
        "print(\"Es decir, un\", (poco_frecuentes_100/len(flat_keys))*100,\"% de las palabras aparecen 100 veces\")"
      ]
    },
    {
      "cell_type": "markdown",
      "metadata": {
        "id": "UorBRppTVzdC"
      },
      "source": [
        "### Get new keys under X"
      ]
    },
    {
      "cell_type": "code",
      "execution_count": 48,
      "metadata": {
        "colab": {
          "base_uri": "https://localhost:8080/",
          "height": 385
        },
        "id": "GC8Zr3clWXqK",
        "outputId": "c03c070f-fefd-401c-8729-0bd0fe7fe000"
      },
      "outputs": [
        {
          "output_type": "execute_result",
          "data": {
            "text/plain": [
              "'ensemble learning'"
            ],
            "application/vnd.google.colaboratory.intrinsic+json": {
              "type": "string"
            }
          },
          "metadata": {},
          "execution_count": 48
        }
      ],
      "source": [
        "flat_keys[0]"
      ]
    },
    {
      "cell_type": "code",
      "execution_count": 49,
      "metadata": {
        "colab": {
          "base_uri": "https://localhost:8080/"
        },
        "id": "vb67xPvSV5o8",
        "outputId": "7243ec07-a09a-453d-b61b-6a5810caad5e"
      },
      "outputs": [
        {
          "output_type": "stream",
          "name": "stdout",
          "text": [
            "Tal y como vimos antes, 1626 palabras que aparecen una vez y 2592 palabras que aparecen dos veces o menos\n",
            "Lo cual nos deja con 29981 palabras si quitamos las que aparecen una vez y 29015 si quitamos las que aparecen dos veces o menos\n",
            "Quitar las repeticiones menores de 50, nos deja con 126 keywords unicas.\n",
            "Quitar las repeticiones menores de 90, nos deja con 64 keywords unicas.\n",
            "Quitar las repeticiones menores de 100, nos deja con 54 keywords unicas.\n"
          ]
        }
      ],
      "source": [
        "arr = np.array(flat_keys)\n",
        "\n",
        "# contar ocurrencias de todas las palabras\n",
        "unique_vals, val_counts = np.unique(arr, return_counts=True)\n",
        "\n",
        "# filtrar los valores con más de 2 o 3 repeticiones\n",
        "filtered_vals_under2 = unique_vals[val_counts >= 2]         # las leyes de DeMorgan lo convierten en < 2, eliminando los que aparecen una sola vez\n",
        "filtered_vals_under3 = unique_vals[val_counts >= 3]         # las leyes de DeMorgan lo convierten en < 3, eliminando los que aparecen dos veces o menos\n",
        "filtered_vals_under50 = unique_vals[val_counts >= 50]         # las leyes de DeMorgan lo convierten en < 50, eliminando los que aparecen dos veces o menos\n",
        "filtered_vals_under90 = unique_vals[val_counts >= 90]         # las leyes de DeMorgan lo convierten en < 90, eliminando los que aparecen dos veces o menos\n",
        "filtered_vals_under100 = unique_vals[val_counts >= 100]         # las leyes de DeMorgan lo convierten en < 100, eliminando los que aparecen dos veces o menos\n",
        "\n",
        "# obtenemos al quitar \n",
        "filtered_arr_under2 = arr[np.isin(arr, filtered_vals_under2)]       # quitamos los que aparecen una sola vez\n",
        "filtered_arr_under3 = arr[np.isin(arr, filtered_vals_under3)]       # quitamos los que aparecen dos veces o menos\n",
        "filtered_arr_under50 = arr[np.isin(arr, filtered_vals_under50)]       # quitamos los que aparecen 50 veces o menos\n",
        "filtered_arr_under90 = arr[np.isin(arr, filtered_vals_under90)]       # quitamos los que aparecen 50 veces o menos\n",
        "filtered_arr_under100 = arr[np.isin(arr, filtered_vals_under100)]       # quitamos los que aparecen 50 veces o menos\n",
        "\n",
        "print(\"Tal y como vimos antes,\", len(flat_keys)-len(filtered_arr_under2), \"palabras que aparecen una vez y\", len(flat_keys)-len(filtered_arr_under3), \"palabras que aparecen dos veces o menos\")\n",
        "print(\"Lo cual nos deja con\", len(filtered_arr_under2), \"palabras si quitamos las que aparecen una vez y\", len(filtered_arr_under3), \"si quitamos las que aparecen dos veces o menos\")\n",
        "\n",
        "print(f\"Quitar las repeticiones menores de 50, nos deja con {len(np.unique(filtered_arr_under50))} keywords unicas.\")\n",
        "print(f\"Quitar las repeticiones menores de 90, nos deja con {len(np.unique(filtered_arr_under90))} keywords unicas.\")\n",
        "print(f\"Quitar las repeticiones menores de 100, nos deja con {len(np.unique(filtered_arr_under100))} keywords unicas.\")"
      ]
    },
    {
      "cell_type": "markdown",
      "metadata": {
        "id": "RyKRVnakVOrF"
      },
      "source": [
        "### Frequency of keywords together in the same row\n",
        "\n",
        "Now we are going to obtain more information about the sesgation and unbalance of the keywords. It is of our interest to relationate each words. For this, we are going to use a correlation matrix.\n",
        "\n",
        "> `underX` is intended to have the `X` so that you don't have to change the code 100 times"
      ]
    },
    {
      "cell_type": "markdown",
      "metadata": {
        "id": "zLucJjxCaiY1"
      },
      "source": [
        "_**CHANGE THIS VALUE TO 2, 3, 50, 90 or 100**_"
      ]
    },
    {
      "cell_type": "code",
      "execution_count": 50,
      "metadata": {
        "id": "RMhpVuxXatK_"
      },
      "outputs": [],
      "source": [
        "underX = pd.DataFrame(filtered_arr_under100, columns=['Keywords'])"
      ]
    },
    {
      "cell_type": "markdown",
      "metadata": {
        "id": "8iGJnwrobTPJ"
      },
      "source": [
        "Las palabras más frecuentes, como podemos ver, aparecen juntas con una frecuencia muy baja, lo que da a entender que en los datos está presente una gran cantidad de ruido."
      ]
    },
    {
      "cell_type": "code",
      "execution_count": 51,
      "metadata": {
        "colab": {
          "base_uri": "https://localhost:8080/",
          "height": 89
        },
        "id": "YonqCcOhVmik",
        "outputId": "9a152d7b-8649-4269-b593-7f02e66b316e"
      },
      "outputs": [
        {
          "output_type": "stream",
          "name": "stderr",
          "text": [
            "<ipython-input-51-98e88d7e65f8>:3: FutureWarning: Using the level keyword in DataFrame and Series aggregations is deprecated and will be removed in a future version. Use groupby instead. df.sum(level=1) should use df.groupby(level=1).sum().\n",
            "  keyw = pd.get_dummies(underX['Keywords'].apply(pd.Series).stack()).sum(level=0)\n"
          ]
        },
        {
          "output_type": "display_data",
          "data": {
            "text/plain": [
              "<Figure size 1200x1200 with 2 Axes>"
            ],
            "image/png": "[encoded data removed]"
          },
          "metadata": {}
        }
      ],
      "source": [
        "# Convertimos las palabras en valores numéricos\n",
        "keyw = pd.DataFrame(words)\n",
        "keyw = pd.get_dummies(underX['Keywords'].apply(pd.Series).stack()).sum(level=0)\n",
        "\n",
        "# crea la matriz de correlación\n",
        "corr_matrix = np.corrcoef(keyw, rowvar=False)\n",
        "\n",
        "# crea el mapa de calor con matplotlib\n",
        "fig, ax = plt.subplots(figsize=(12, 12))\n",
        "im = ax.imshow(corr_matrix, cmap='coolwarm')\n",
        "\n",
        "# personaliza los ejes y el título del mapa de calor\n",
        "ax.set_xticks(np.arange(len(keyw.columns)))\n",
        "ax.set_yticks(np.arange(len(keyw.columns)))\n",
        "ax.set_xticklabels(keyw.columns)\n",
        "ax.set_yticklabels(keyw.columns)\n",
        "plt.setp(ax.get_xticklabels(), rotation=45, ha=\"right\", rotation_mode=\"anchor\")\n",
        "ax.set_title(\"Frecuencia de palabras clave juntas en una misma fila\")\n",
        "\n",
        "# añade una barra de color al mapa de calor\n",
        "cbar = ax.figure.colorbar(im, ax=ax)\n",
        "\n",
        "# muestra el mapa de calor\n",
        "plt.show()"
      ]
    },
    {
      "cell_type": "code",
      "execution_count": 52,
      "metadata": {
        "colab": {
          "base_uri": "https://localhost:8080/"
        },
        "id": "lMVOZcQma7y_",
        "outputId": "54eb2685-5d9e-4e57-ed97-9bd6759199ae"
      },
      "outputs": [
        {
          "output_type": "execute_result",
          "data": {
            "text/plain": [
              "54"
            ]
          },
          "metadata": {},
          "execution_count": 52
        }
      ],
      "source": [
        "len(np.unique(underX))"
      ]
    },
    {
      "cell_type": "code",
      "execution_count": 53,
      "metadata": {
        "colab": {
          "base_uri": "https://localhost:8080/"
        },
        "id": "wBPqAtFpbhxT",
        "outputId": "a4681afc-09c0-41ad-e667-e3cec7362344"
      },
      "outputs": [
        {
          "output_type": "execute_result",
          "data": {
            "text/plain": [
              "array(['5g', 'adaptive', 'algorithm', 'algorithm design and analysis',\n",
              "       'application software', 'bayesian', 'classification', 'clustering',\n",
              "       'cnn', 'computational modeling', 'computer architecture',\n",
              "       'computer science', 'conferences', 'correlation', 'data mining',\n",
              "       'data models', 'databases', 'deep learning', 'detection',\n",
              "       'feature extraction', 'forecasting', 'hidden markov model',\n",
              "       'internet', 'kernel', 'learning', 'machine learning',\n",
              "       'machine learning algorithms', 'mathematical model', 'measurement',\n",
              "       'measuring and metrics', 'monitoring', 'neural networks',\n",
              "       'optimization', 'predictive model', 'protocols',\n",
              "       'quality of service', 'recognition', 'resource management',\n",
              "       'robustness', 'routing', 'security', 'sensors', 'software',\n",
              "       'standards', 'svr', 'task analysis', 'testing', 'time series',\n",
              "       'training', 'training data', 'tutorials', 'wireless communication',\n",
              "       'wireless networks', 'wireless sensor networks'], dtype=object)"
            ]
          },
          "metadata": {},
          "execution_count": 53
        }
      ],
      "source": [
        "np.unique(underX)"
      ]
    },
    {
      "cell_type": "markdown",
      "metadata": {
        "id": "9QOPrx07PWtn"
      },
      "source": [
        "## Cleanning\n",
        "\n",
        "1. Cleanning\n",
        "    1. Remove words which are similar. (Here for the future, we could use nltk `similarity()`)\n",
        "\n",
        "\n",
        "This cleaning is for each of the abstracts and not as a molotic abstract thing, like earlier."
      ]
    },
    {
      "cell_type": "markdown",
      "metadata": {
        "id": "7AnQ2wwibuER"
      },
      "source": [
        "Al tratarse de únicamente 54 valores, vamos a intentar agrupar a mano para reducir algo el ruido las palabras clave que estén relacionadas."
      ]
    },
    {
      "cell_type": "code",
      "execution_count": 54,
      "metadata": {
        "colab": {
          "base_uri": "https://localhost:8080/"
        },
        "id": "FB_uJt9ebvg0",
        "outputId": "47dc0356-a46b-469c-e0d0-dff0712a37d7"
      },
      "outputs": [
        {
          "output_type": "stream",
          "name": "stderr",
          "text": [
            "<ipython-input-54-407d12932dee>:1: FutureWarning: Using the level keyword in DataFrame and Series aggregations is deprecated and will be removed in a future version. Use groupby instead. df.sum(level=1) should use df.groupby(level=1).sum().\n",
            "  underX = pd.get_dummies(underX['Keywords'].apply(pd.Series).stack()).sum(level=0)\n"
          ]
        }
      ],
      "source": [
        "underX = pd.get_dummies(underX['Keywords'].apply(pd.Series).stack()).sum(level=0)"
      ]
    },
    {
      "cell_type": "markdown",
      "metadata": {
        "id": "CPavXZFbcO8N"
      },
      "source": [
        "Creamos un multi-hot, para agrupar a posteriori"
      ]
    },
    {
      "cell_type": "code",
      "execution_count": 55,
      "metadata": {
        "id": "cUQkv-nDcIu-"
      },
      "outputs": [],
      "source": [
        "# Agrupamiento de las keywords que tienen que ver con redes inalámbricas en una sola \"wireless\"\n",
        "underX[\"wireless\"] = underX[\"5g\"] + underX[\"wireless networks\"] + underX[\"wireless sensor networks\"] + underX[\"wireless communication\"]\n",
        "keywords_clean = underX.drop([\"5g\", \"wireless sensor networks\", \"wireless communication\"], axis=1)\n",
        "\n",
        "# Agrupamiento de palabras clave de algoritmos\n",
        "underX[\"algorithms\"] = underX[\"algorithm\"] + underX[\"algorithm design and analysis\"] + underX[\"wireless sensor networks\"] + underX[\"machine learning algorithms\"]\n",
        "keywords_clean = underX.drop([\"algorithm\", \"algorithm design and analysis\", \"machine learning algorithms\"], axis=1)\n",
        "\n",
        "# Agrupamiento de palabras clave de minería de datos\n",
        "underX[\"mining\"] = underX[\"classification\"] + underX[\"clustering\"] + underX[\"data mining\"] + underX[\"correlation\"]\n",
        "keywords_clean = underX.drop([\"classification\", \"clustering\", \"data mining\", \"correlation\"], axis=1)\n",
        "\n",
        "# Agrupamiento de palabras clave de computers\n",
        "underX[\"computers\"] = underX[\"computational modeling\"] + underX[\"computer architecture\"] + underX[\"computer science\"]\n",
        "keywords_clean = underX.drop([\"computational modeling\", \"computer architecture\", \"computer science\"], axis=1)"
      ]
    },
    {
      "cell_type": "code",
      "execution_count": 56,
      "metadata": {
        "colab": {
          "base_uri": "https://localhost:8080/",
          "height": 352
        },
        "id": "0yiuVVL1cLf0",
        "outputId": "28812200-3340-4fd5-a8cd-5dbc6b588225"
      },
      "outputs": [
        {
          "output_type": "execute_result",
          "data": {
            "text/plain": [
              "   5g  adaptive  algorithm  algorithm design and analysis  \\\n",
              "0   0         0          0                              0   \n",
              "1   0         0          0                              0   \n",
              "2   0         1          0                              0   \n",
              "3   0         0          0                              0   \n",
              "4   0         0          0                              0   \n",
              "\n",
              "   application software  bayesian  classification  clustering  cnn  \\\n",
              "0                     0         0               0           1    0   \n",
              "1                     0         0               0           0    0   \n",
              "2                     0         0               0           0    0   \n",
              "3                     0         0               0           0    0   \n",
              "4                     0         0               0           0    0   \n",
              "\n",
              "   computational modeling  ...  training  training data  tutorials  \\\n",
              "0                       0  ...         0              0          0   \n",
              "1                       0  ...         0              0          0   \n",
              "2                       0  ...         0              0          0   \n",
              "3                       0  ...         0              0          0   \n",
              "4                       0  ...         0              0          0   \n",
              "\n",
              "   wireless communication  wireless networks  wireless sensor networks  \\\n",
              "0                       0                  0                         0   \n",
              "1                       0                  0                         0   \n",
              "2                       0                  0                         0   \n",
              "3                       0                  0                         0   \n",
              "4                       0                  0                         0   \n",
              "\n",
              "   wireless  algorithms  mining  computers  \n",
              "0         0           0       1          0  \n",
              "1         0           0       0          0  \n",
              "2         0           0       0          0  \n",
              "3         0           0       0          0  \n",
              "4         0           0       0          0  \n",
              "\n",
              "[5 rows x 58 columns]"
            ],
            "text/html": [
              "\n",
              "  <div id=\"df-dad521c1-a24d-4651-abda-22b1c59dc5a3\">\n",
              "    <div class=\"colab-df-container\">\n",
              "      <div>\n",
              "<style scoped>\n",
              "    .dataframe tbody tr th:only-of-type {\n",
              "        vertical-align: middle;\n",
              "    }\n",
              "\n",
              "    .dataframe tbody tr th {\n",
              "        vertical-align: top;\n",
              "    }\n",
              "\n",
              "    .dataframe thead th {\n",
              "        text-align: right;\n",
              "    }\n",
              "</style>\n",
              "<table border=\"1\" class=\"dataframe\">\n",
              "  <thead>\n",
              "    <tr style=\"text-align: right;\">\n",
              "      <th></th>\n",
              "      <th>5g</th>\n",
              "      <th>adaptive</th>\n",
              "      <th>algorithm</th>\n",
              "      <th>algorithm design and analysis</th>\n",
              "      <th>application software</th>\n",
              "      <th>bayesian</th>\n",
              "      <th>classification</th>\n",
              "      <th>clustering</th>\n",
              "      <th>cnn</th>\n",
              "      <th>computational modeling</th>\n",
              "      <th>...</th>\n",
              "      <th>training</th>\n",
              "      <th>training data</th>\n",
              "      <th>tutorials</th>\n",
              "      <th>wireless communication</th>\n",
              "      <th>wireless networks</th>\n",
              "      <th>wireless sensor networks</th>\n",
              "      <th>wireless</th>\n",
              "      <th>algorithms</th>\n",
              "      <th>mining</th>\n",
              "      <th>computers</th>\n",
              "    </tr>\n",
              "  </thead>\n",
              "  <tbody>\n",
              "    <tr>\n",
              "      <th>0</th>\n",
              "      <td>0</td>\n",
              "      <td>0</td>\n",
              "      <td>0</td>\n",
              "      <td>0</td>\n",
              "      <td>0</td>\n",
              "      <td>0</td>\n",
              "      <td>0</td>\n",
              "      <td>1</td>\n",
              "      <td>0</td>\n",
              "      <td>0</td>\n",
              "      <td>...</td>\n",
              "      <td>0</td>\n",
              "      <td>0</td>\n",
              "      <td>0</td>\n",
              "      <td>0</td>\n",
              "      <td>0</td>\n",
              "      <td>0</td>\n",
              "      <td>0</td>\n",
              "      <td>0</td>\n",
              "      <td>1</td>\n",
              "      <td>0</td>\n",
              "    </tr>\n",
              "    <tr>\n",
              "      <th>1</th>\n",
              "      <td>0</td>\n",
              "      <td>0</td>\n",
              "      <td>0</td>\n",
              "      <td>0</td>\n",
              "      <td>0</td>\n",
              "      <td>0</td>\n",
              "      <td>0</td>\n",
              "      <td>0</td>\n",
              "      <td>0</td>\n",
              "      <td>0</td>\n",
              "      <td>...</td>\n",
              "      <td>0</td>\n",
              "      <td>0</td>\n",
              "      <td>0</td>\n",
              "      <td>0</td>\n",
              "      <td>0</td>\n",
              "      <td>0</td>\n",
              "      <td>0</td>\n",
              "      <td>0</td>\n",
              "      <td>0</td>\n",
              "      <td>0</td>\n",
              "    </tr>\n",
              "    <tr>\n",
              "      <th>2</th>\n",
              "      <td>0</td>\n",
              "      <td>1</td>\n",
              "      <td>0</td>\n",
              "      <td>0</td>\n",
              "      <td>0</td>\n",
              "      <td>0</td>\n",
              "      <td>0</td>\n",
              "      <td>0</td>\n",
              "      <td>0</td>\n",
              "      <td>0</td>\n",
              "      <td>...</td>\n",
              "      <td>0</td>\n",
              "      <td>0</td>\n",
              "      <td>0</td>\n",
              "      <td>0</td>\n",
              "      <td>0</td>\n",
              "      <td>0</td>\n",
              "      <td>0</td>\n",
              "      <td>0</td>\n",
              "      <td>0</td>\n",
              "      <td>0</td>\n",
              "    </tr>\n",
              "    <tr>\n",
              "      <th>3</th>\n",
              "      <td>0</td>\n",
              "      <td>0</td>\n",
              "      <td>0</td>\n",
              "      <td>0</td>\n",
              "      <td>0</td>\n",
              "      <td>0</td>\n",
              "      <td>0</td>\n",
              "      <td>0</td>\n",
              "      <td>0</td>\n",
              "      <td>0</td>\n",
              "      <td>...</td>\n",
              "      <td>0</td>\n",
              "      <td>0</td>\n",
              "      <td>0</td>\n",
              "      <td>0</td>\n",
              "      <td>0</td>\n",
              "      <td>0</td>\n",
              "      <td>0</td>\n",
              "      <td>0</td>\n",
              "      <td>0</td>\n",
              "      <td>0</td>\n",
              "    </tr>\n",
              "    <tr>\n",
              "      <th>4</th>\n",
              "      <td>0</td>\n",
              "      <td>0</td>\n",
              "      <td>0</td>\n",
              "      <td>0</td>\n",
              "      <td>0</td>\n",
              "      <td>0</td>\n",
              "      <td>0</td>\n",
              "      <td>0</td>\n",
              "      <td>0</td>\n",
              "      <td>0</td>\n",
              "      <td>...</td>\n",
              "      <td>0</td>\n",
              "      <td>0</td>\n",
              "      <td>0</td>\n",
              "      <td>0</td>\n",
              "      <td>0</td>\n",
              "      <td>0</td>\n",
              "      <td>0</td>\n",
              "      <td>0</td>\n",
              "      <td>0</td>\n",
              "      <td>0</td>\n",
              "    </tr>\n",
              "  </tbody>\n",
              "</table>\n",
              "<p>5 rows × 58 columns</p>\n",
              "</div>\n",
              "      <button class=\"colab-df-convert\" onclick=\"convertToInteractive('df-dad521c1-a24d-4651-abda-22b1c59dc5a3')\"\n",
              "              title=\"Convert this dataframe to an interactive table.\"\n",
              "              style=\"display:none;\">\n",
              "        \n",
              "  <svg xmlns=\"http://www.w3.org/2000/svg\" height=\"24px\"viewBox=\"0 0 24 24\"\n",
              "       width=\"24px\">\n",
              "    <path d=\"M0 0h24v24H0V0z\" fill=\"none\"/>\n",
              "    <path d=\"M18.56 5.44l.94 2.06.94-2.06 2.06-.94-2.06-.94-.94-2.06-.94 2.06-2.06.94zm-11 1L8.5 8.5l.94-2.06 2.06-.94-2.06-.94L8.5 2.5l-.94 2.06-2.06.94zm10 10l.94 2.06.94-2.06 2.06-.94-2.06-.94-.94-2.06-.94 2.06-2.06.94z\"/><path d=\"M17.41 7.96l-1.37-1.37c-.4-.4-.92-.59-1.43-.59-.52 0-1.04.2-1.43.59L10.3 9.45l-7.72 7.72c-.78.78-.78 2.05 0 2.83L4 21.41c.39.39.9.59 1.41.59.51 0 1.02-.2 1.41-.59l7.78-7.78 2.81-2.81c.8-.78.8-2.07 0-2.86zM5.41 20L4 18.59l7.72-7.72 1.47 1.35L5.41 20z\"/>\n",
              "  </svg>\n",
              "      </button>\n",
              "      \n",
              "  <style>\n",
              "    .colab-df-container {\n",
              "      display:flex;\n",
              "      flex-wrap:wrap;\n",
              "      gap: 12px;\n",
              "    }\n",
              "\n",
              "    .colab-df-convert {\n",
              "      background-color: #E8F0FE;\n",
              "      border: none;\n",
              "      border-radius: 50%;\n",
              "      cursor: pointer;\n",
              "      display: none;\n",
              "      fill: #1967D2;\n",
              "      height: 32px;\n",
              "      padding: 0 0 0 0;\n",
              "      width: 32px;\n",
              "    }\n",
              "\n",
              "    .colab-df-convert:hover {\n",
              "      background-color: #E2EBFA;\n",
              "      box-shadow: 0px 1px 2px rgba(60, 64, 67, 0.3), 0px 1px 3px 1px rgba(60, 64, 67, 0.15);\n",
              "      fill: #174EA6;\n",
              "    }\n",
              "\n",
              "    [theme=dark] .colab-df-convert {\n",
              "      background-color: #3B4455;\n",
              "      fill: #D2E3FC;\n",
              "    }\n",
              "\n",
              "    [theme=dark] .colab-df-convert:hover {\n",
              "      background-color: #434B5C;\n",
              "      box-shadow: 0px 1px 3px 1px rgba(0, 0, 0, 0.15);\n",
              "      filter: drop-shadow(0px 1px 2px rgba(0, 0, 0, 0.3));\n",
              "      fill: #FFFFFF;\n",
              "    }\n",
              "  </style>\n",
              "\n",
              "      <script>\n",
              "        const buttonEl =\n",
              "          document.querySelector('#df-dad521c1-a24d-4651-abda-22b1c59dc5a3 button.colab-df-convert');\n",
              "        buttonEl.style.display =\n",
              "          google.colab.kernel.accessAllowed ? 'block' : 'none';\n",
              "\n",
              "        async function convertToInteractive(key) {\n",
              "          const element = document.querySelector('#df-dad521c1-a24d-4651-abda-22b1c59dc5a3');\n",
              "          const dataTable =\n",
              "            await google.colab.kernel.invokeFunction('convertToInteractive',\n",
              "                                                     [key], {});\n",
              "          if (!dataTable) return;\n",
              "\n",
              "          const docLinkHtml = 'Like what you see? Visit the ' +\n",
              "            '<a target=\"_blank\" href=https://colab.research.google.com/notebooks/data_table.ipynb>data table notebook</a>'\n",
              "            + ' to learn more about interactive tables.';\n",
              "          element.innerHTML = '';\n",
              "          dataTable['output_type'] = 'display_data';\n",
              "          await google.colab.output.renderOutput(dataTable, element);\n",
              "          const docLink = document.createElement('div');\n",
              "          docLink.innerHTML = docLinkHtml;\n",
              "          element.appendChild(docLink);\n",
              "        }\n",
              "      </script>\n",
              "    </div>\n",
              "  </div>\n",
              "  "
            ]
          },
          "metadata": {},
          "execution_count": 56
        }
      ],
      "source": [
        "underX.head()"
      ]
    },
    {
      "cell_type": "code",
      "execution_count": 57,
      "metadata": {
        "id": "gEvvR7PtcZuu"
      },
      "outputs": [],
      "source": [
        "def join_keywords(row):\n",
        "    keywords_list = []\n",
        "    for column in row.index:\n",
        "        if row[column] == 1:\n",
        "            keywords_list.append(column)\n",
        "    return keywords_list"
      ]
    },
    {
      "cell_type": "code",
      "execution_count": 58,
      "metadata": {
        "id": "JquqGhdQcb9o"
      },
      "outputs": [],
      "source": [
        "data = []\n",
        "words_df_underX = pd.DataFrame(data, columns=['keywords'])"
      ]
    },
    {
      "cell_type": "code",
      "execution_count": 59,
      "metadata": {
        "colab": {
          "base_uri": "https://localhost:8080/",
          "height": 609
        },
        "id": "imeMa-5Pcf-0",
        "outputId": "93d35a58-55bb-40d7-f899-a41efa23b34f"
      },
      "outputs": [
        {
          "output_type": "execute_result",
          "data": {
            "text/plain": [
              "                            keywords\n",
              "0               [clustering, mining]\n",
              "1                         [software]\n",
              "2                         [adaptive]\n",
              "3                        [detection]\n",
              "4                      [recognition]\n",
              "...                              ...\n",
              "11779         [application software]\n",
              "11780  [computer science, computers]\n",
              "11781             [machine learning]\n",
              "11782              [neural networks]\n",
              "11783                  [recognition]\n",
              "\n",
              "[11784 rows x 1 columns]"
            ],
            "text/html": [
              "\n",
              "  <div id=\"df-5d6c17b3-f34b-414e-bce7-74c414d77711\">\n",
              "    <div class=\"colab-df-container\">\n",
              "      <div>\n",
              "<style scoped>\n",
              "    .dataframe tbody tr th:only-of-type {\n",
              "        vertical-align: middle;\n",
              "    }\n",
              "\n",
              "    .dataframe tbody tr th {\n",
              "        vertical-align: top;\n",
              "    }\n",
              "\n",
              "    .dataframe thead th {\n",
              "        text-align: right;\n",
              "    }\n",
              "</style>\n",
              "<table border=\"1\" class=\"dataframe\">\n",
              "  <thead>\n",
              "    <tr style=\"text-align: right;\">\n",
              "      <th></th>\n",
              "      <th>keywords</th>\n",
              "    </tr>\n",
              "  </thead>\n",
              "  <tbody>\n",
              "    <tr>\n",
              "      <th>0</th>\n",
              "      <td>[clustering, mining]</td>\n",
              "    </tr>\n",
              "    <tr>\n",
              "      <th>1</th>\n",
              "      <td>[software]</td>\n",
              "    </tr>\n",
              "    <tr>\n",
              "      <th>2</th>\n",
              "      <td>[adaptive]</td>\n",
              "    </tr>\n",
              "    <tr>\n",
              "      <th>3</th>\n",
              "      <td>[detection]</td>\n",
              "    </tr>\n",
              "    <tr>\n",
              "      <th>4</th>\n",
              "      <td>[recognition]</td>\n",
              "    </tr>\n",
              "    <tr>\n",
              "      <th>...</th>\n",
              "      <td>...</td>\n",
              "    </tr>\n",
              "    <tr>\n",
              "      <th>11779</th>\n",
              "      <td>[application software]</td>\n",
              "    </tr>\n",
              "    <tr>\n",
              "      <th>11780</th>\n",
              "      <td>[computer science, computers]</td>\n",
              "    </tr>\n",
              "    <tr>\n",
              "      <th>11781</th>\n",
              "      <td>[machine learning]</td>\n",
              "    </tr>\n",
              "    <tr>\n",
              "      <th>11782</th>\n",
              "      <td>[neural networks]</td>\n",
              "    </tr>\n",
              "    <tr>\n",
              "      <th>11783</th>\n",
              "      <td>[recognition]</td>\n",
              "    </tr>\n",
              "  </tbody>\n",
              "</table>\n",
              "<p>11784 rows × 1 columns</p>\n",
              "</div>\n",
              "      <button class=\"colab-df-convert\" onclick=\"convertToInteractive('df-5d6c17b3-f34b-414e-bce7-74c414d77711')\"\n",
              "              title=\"Convert this dataframe to an interactive table.\"\n",
              "              style=\"display:none;\">\n",
              "        \n",
              "  <svg xmlns=\"http://www.w3.org/2000/svg\" height=\"24px\"viewBox=\"0 0 24 24\"\n",
              "       width=\"24px\">\n",
              "    <path d=\"M0 0h24v24H0V0z\" fill=\"none\"/>\n",
              "    <path d=\"M18.56 5.44l.94 2.06.94-2.06 2.06-.94-2.06-.94-.94-2.06-.94 2.06-2.06.94zm-11 1L8.5 8.5l.94-2.06 2.06-.94-2.06-.94L8.5 2.5l-.94 2.06-2.06.94zm10 10l.94 2.06.94-2.06 2.06-.94-2.06-.94-.94-2.06-.94 2.06-2.06.94z\"/><path d=\"M17.41 7.96l-1.37-1.37c-.4-.4-.92-.59-1.43-.59-.52 0-1.04.2-1.43.59L10.3 9.45l-7.72 7.72c-.78.78-.78 2.05 0 2.83L4 21.41c.39.39.9.59 1.41.59.51 0 1.02-.2 1.41-.59l7.78-7.78 2.81-2.81c.8-.78.8-2.07 0-2.86zM5.41 20L4 18.59l7.72-7.72 1.47 1.35L5.41 20z\"/>\n",
              "  </svg>\n",
              "      </button>\n",
              "      \n",
              "  <style>\n",
              "    .colab-df-container {\n",
              "      display:flex;\n",
              "      flex-wrap:wrap;\n",
              "      gap: 12px;\n",
              "    }\n",
              "\n",
              "    .colab-df-convert {\n",
              "      background-color: #E8F0FE;\n",
              "      border: none;\n",
              "      border-radius: 50%;\n",
              "      cursor: pointer;\n",
              "      display: none;\n",
              "      fill: #1967D2;\n",
              "      height: 32px;\n",
              "      padding: 0 0 0 0;\n",
              "      width: 32px;\n",
              "    }\n",
              "\n",
              "    .colab-df-convert:hover {\n",
              "      background-color: #E2EBFA;\n",
              "      box-shadow: 0px 1px 2px rgba(60, 64, 67, 0.3), 0px 1px 3px 1px rgba(60, 64, 67, 0.15);\n",
              "      fill: #174EA6;\n",
              "    }\n",
              "\n",
              "    [theme=dark] .colab-df-convert {\n",
              "      background-color: #3B4455;\n",
              "      fill: #D2E3FC;\n",
              "    }\n",
              "\n",
              "    [theme=dark] .colab-df-convert:hover {\n",
              "      background-color: #434B5C;\n",
              "      box-shadow: 0px 1px 3px 1px rgba(0, 0, 0, 0.15);\n",
              "      filter: drop-shadow(0px 1px 2px rgba(0, 0, 0, 0.3));\n",
              "      fill: #FFFFFF;\n",
              "    }\n",
              "  </style>\n",
              "\n",
              "      <script>\n",
              "        const buttonEl =\n",
              "          document.querySelector('#df-5d6c17b3-f34b-414e-bce7-74c414d77711 button.colab-df-convert');\n",
              "        buttonEl.style.display =\n",
              "          google.colab.kernel.accessAllowed ? 'block' : 'none';\n",
              "\n",
              "        async function convertToInteractive(key) {\n",
              "          const element = document.querySelector('#df-5d6c17b3-f34b-414e-bce7-74c414d77711');\n",
              "          const dataTable =\n",
              "            await google.colab.kernel.invokeFunction('convertToInteractive',\n",
              "                                                     [key], {});\n",
              "          if (!dataTable) return;\n",
              "\n",
              "          const docLinkHtml = 'Like what you see? Visit the ' +\n",
              "            '<a target=\"_blank\" href=https://colab.research.google.com/notebooks/data_table.ipynb>data table notebook</a>'\n",
              "            + ' to learn more about interactive tables.';\n",
              "          element.innerHTML = '';\n",
              "          dataTable['output_type'] = 'display_data';\n",
              "          await google.colab.output.renderOutput(dataTable, element);\n",
              "          const docLink = document.createElement('div');\n",
              "          docLink.innerHTML = docLinkHtml;\n",
              "          element.appendChild(docLink);\n",
              "        }\n",
              "      </script>\n",
              "    </div>\n",
              "  </div>\n",
              "  "
            ]
          },
          "metadata": {},
          "execution_count": 59
        }
      ],
      "source": [
        "words_df_underX['keywords'] = underX.apply(join_keywords, axis=1)\n",
        "words_df_underX"
      ]
    },
    {
      "cell_type": "markdown",
      "metadata": {
        "id": "TEtYOKeAQATs"
      },
      "source": [
        "# Preprocessing\n",
        "\n",
        "1. Tokenize keywords\n",
        "2. Join keywords wih abstracts\n",
        "3. Get rid of rows with no keywords after purge\n",
        "4. Tokenize abstracts\n",
        "\n",
        "Ideas for future:\n",
        "- With `occurrences` we can do https://datascience.stackexchange.com/questions/13490/how-to-set-class-weights-for-imbalanced-classes-in-keras"
      ]
    },
    {
      "cell_type": "code",
      "execution_count": 60,
      "metadata": {
        "id": "PIgzSSwWjzG6"
      },
      "outputs": [],
      "source": [
        "# Constants\n",
        "EMBEDDING_DIM = 300\n",
        "\n",
        "MAX_VOCAB_SIZE = 40000\n",
        "\n",
        "# tamaño de la frase más larga con la que alimentar el modelo\n",
        "# se escoge la mediana para evitar anomalías\n",
        "MAX_SEQUENCE_LENGTH = median"
      ]
    },
    {
      "cell_type": "markdown",
      "metadata": {
        "id": "jor0KyGgcw-F"
      },
      "source": [
        "### Define tokenizer function && multihot\n",
        "\n",
        "This tokenizer function is for this special purpose.\n",
        "The multi-hot is used to generate the `y`"
      ]
    },
    {
      "cell_type": "code",
      "execution_count": 61,
      "metadata": {
        "id": "rftoTL1hdLhw"
      },
      "outputs": [],
      "source": [
        "def tokenize_and_add_padding(words, tokenizer, max_sequence_length=None):\n",
        "    tokenizer.fit_on_texts(words)\n",
        "    sequences = tokenizer.texts_to_sequences(words)\n",
        "    word_index = tokenizer.word_index\n",
        "    data = None\n",
        "    \n",
        "    if max_sequence_length is not None:\n",
        "        data = tf.keras.preprocessing.sequence.pad_sequences(\n",
        "            sequences,\n",
        "            maxlen=max_sequence_length\n",
        "        )\n",
        "        print('Shape of data tensor:', data.shape)\n",
        "\n",
        "    print('Found %s unique tokens.' % len(word_index))\n",
        "\n",
        "    return sequences, word_index, data"
      ]
    },
    {
      "cell_type": "code",
      "execution_count": 62,
      "metadata": {
        "id": "ytKXT5tzdJgU"
      },
      "outputs": [],
      "source": [
        "def multihot_tokenize(target, y_sequences, word_index):\n",
        "    output_size = len(word_index.keys())\n",
        "    multi_hot_tokenized = []\n",
        "\n",
        "    for i, keys in enumerate(target):\n",
        "        multi_hot_tokenized.append(np.zeros(output_size+1))\n",
        "        for key in keys:\n",
        "            if key in word_index:\n",
        "                multi_hot_tokenized[i][word_index[key]] = 1\n",
        "\n",
        "    multi_hot_tokenized = np.asarray(multi_hot_tokenized)\n",
        "    multi_hot_tokenized[0]\n",
        "\n",
        "    return multi_hot_tokenized"
      ]
    },
    {
      "cell_type": "markdown",
      "metadata": {
        "id": "SBowO-16eB-R"
      },
      "source": [
        "### Create tokenizer"
      ]
    },
    {
      "cell_type": "code",
      "execution_count": 63,
      "metadata": {
        "id": "zRIO1vhMeED_"
      },
      "outputs": [],
      "source": [
        "tokenizer = tf.keras.preprocessing.text.Tokenizer(num_words=MAX_VOCAB_SIZE)"
      ]
    },
    {
      "cell_type": "markdown",
      "metadata": {
        "id": "ifi6uOdedRIU"
      },
      "source": [
        "### Tokenize keywords\n",
        "\n",
        "Remember to choose the same frecuency or percentile done earlier.\n",
        "\n",
        "> Remember the `X`"
      ]
    },
    {
      "cell_type": "code",
      "execution_count": 64,
      "metadata": {
        "id": "oareKRJZdrPi"
      },
      "outputs": [],
      "source": [
        "targets_under_X = []\n",
        "filtered_arr_under100_dict = {i: None for i in filtered_arr_under100}\n",
        "\n",
        "for i, keys in enumerate(words):\n",
        "    targets_under_X.append([])\n",
        "    for key in keys:\n",
        "        if key in filtered_arr_under100_dict:\n",
        "            targets_under_X[i].append(key)"
      ]
    },
    {
      "cell_type": "code",
      "execution_count": 65,
      "metadata": {
        "colab": {
          "base_uri": "https://localhost:8080/"
        },
        "id": "6EnmwMcLdl7s",
        "outputId": "ef76e1b0-1751-44f5-b885-6f42348518fa"
      },
      "outputs": [
        {
          "output_type": "stream",
          "name": "stdout",
          "text": [
            "Found 54 unique tokens.\n"
          ]
        },
        {
          "output_type": "execute_result",
          "data": {
            "text/plain": [
              "54"
            ]
          },
          "metadata": {},
          "execution_count": 65
        }
      ],
      "source": [
        "y_sequencesX, y_word_indexX, _ = tokenize_and_add_padding(targets_under_X, tokenizer)\n",
        "OUTPUT_SIZE_UNDER_X = len(y_word_indexX.keys())\n",
        "OUTPUT_SIZE_UNDER_X"
      ]
    },
    {
      "cell_type": "code",
      "execution_count": 66,
      "metadata": {
        "colab": {
          "base_uri": "https://localhost:8080/"
        },
        "id": "myLUOEgEfldr",
        "outputId": "02f9b046-3a06-4ffa-c910-e9b49b5a41cc"
      },
      "outputs": [
        {
          "output_type": "execute_result",
          "data": {
            "text/plain": [
              "4555"
            ]
          },
          "metadata": {},
          "execution_count": 66
        }
      ],
      "source": [
        "len(y_sequencesX)"
      ]
    },
    {
      "cell_type": "markdown",
      "metadata": {
        "id": "fAD2O2IvfvJh"
      },
      "source": [
        "### Get rid of rows with no keywords after purge\n"
      ]
    },
    {
      "cell_type": "code",
      "execution_count": 67,
      "metadata": {
        "colab": {
          "base_uri": "https://localhost:8080/"
        },
        "id": "-4vtWRiegcM3",
        "outputId": "354a19a2-5c13-4045-ea20-0d671952e343"
      },
      "outputs": [
        {
          "output_type": "execute_result",
          "data": {
            "text/plain": [
              "True"
            ]
          },
          "metadata": {},
          "execution_count": 67
        }
      ],
      "source": [
        "len(clean_abstracts) == len(y_sequencesX)"
      ]
    },
    {
      "cell_type": "code",
      "execution_count": 68,
      "metadata": {
        "colab": {
          "base_uri": "https://localhost:8080/",
          "height": 635
        },
        "id": "Iz_n7U8RgFfr",
        "outputId": "e471c91b-b080-4e3b-df01-28baa124f87f"
      },
      "outputs": [
        {
          "output_type": "execute_result",
          "data": {
            "text/plain": [
              "                                           Abstracts  keywords\n",
              "0  statistical word alignment models need large a...        []\n",
              "1  spectral learning algorithms learn an unknown ...        []\n",
              "2  number defects remaining a system provides an ...  [19, 47]\n",
              "3  not all instances a data set are equally benef...        []\n",
              "4  learning environments is not an easy task and ...  [48, 10]"
            ],
            "text/html": [
              "\n",
              "  <div id=\"df-3eb3eb71-e5ab-48fc-b06c-ad33c8b54123\">\n",
              "    <div class=\"colab-df-container\">\n",
              "      <div>\n",
              "<style scoped>\n",
              "    .dataframe tbody tr th:only-of-type {\n",
              "        vertical-align: middle;\n",
              "    }\n",
              "\n",
              "    .dataframe tbody tr th {\n",
              "        vertical-align: top;\n",
              "    }\n",
              "\n",
              "    .dataframe thead th {\n",
              "        text-align: right;\n",
              "    }\n",
              "</style>\n",
              "<table border=\"1\" class=\"dataframe\">\n",
              "  <thead>\n",
              "    <tr style=\"text-align: right;\">\n",
              "      <th></th>\n",
              "      <th>Abstracts</th>\n",
              "      <th>keywords</th>\n",
              "    </tr>\n",
              "  </thead>\n",
              "  <tbody>\n",
              "    <tr>\n",
              "      <th>0</th>\n",
              "      <td>statistical word alignment models need large a...</td>\n",
              "      <td>[]</td>\n",
              "    </tr>\n",
              "    <tr>\n",
              "      <th>1</th>\n",
              "      <td>spectral learning algorithms learn an unknown ...</td>\n",
              "      <td>[]</td>\n",
              "    </tr>\n",
              "    <tr>\n",
              "      <th>2</th>\n",
              "      <td>number defects remaining a system provides an ...</td>\n",
              "      <td>[19, 47]</td>\n",
              "    </tr>\n",
              "    <tr>\n",
              "      <th>3</th>\n",
              "      <td>not all instances a data set are equally benef...</td>\n",
              "      <td>[]</td>\n",
              "    </tr>\n",
              "    <tr>\n",
              "      <th>4</th>\n",
              "      <td>learning environments is not an easy task and ...</td>\n",
              "      <td>[48, 10]</td>\n",
              "    </tr>\n",
              "  </tbody>\n",
              "</table>\n",
              "</div>\n",
              "      <button class=\"colab-df-convert\" onclick=\"convertToInteractive('df-3eb3eb71-e5ab-48fc-b06c-ad33c8b54123')\"\n",
              "              title=\"Convert this dataframe to an interactive table.\"\n",
              "              style=\"display:none;\">\n",
              "        \n",
              "  <svg xmlns=\"http://www.w3.org/2000/svg\" height=\"24px\"viewBox=\"0 0 24 24\"\n",
              "       width=\"24px\">\n",
              "    <path d=\"M0 0h24v24H0V0z\" fill=\"none\"/>\n",
              "    <path d=\"M18.56 5.44l.94 2.06.94-2.06 2.06-.94-2.06-.94-.94-2.06-.94 2.06-2.06.94zm-11 1L8.5 8.5l.94-2.06 2.06-.94-2.06-.94L8.5 2.5l-.94 2.06-2.06.94zm10 10l.94 2.06.94-2.06 2.06-.94-2.06-.94-.94-2.06-.94 2.06-2.06.94z\"/><path d=\"M17.41 7.96l-1.37-1.37c-.4-.4-.92-.59-1.43-.59-.52 0-1.04.2-1.43.59L10.3 9.45l-7.72 7.72c-.78.78-.78 2.05 0 2.83L4 21.41c.39.39.9.59 1.41.59.51 0 1.02-.2 1.41-.59l7.78-7.78 2.81-2.81c.8-.78.8-2.07 0-2.86zM5.41 20L4 18.59l7.72-7.72 1.47 1.35L5.41 20z\"/>\n",
              "  </svg>\n",
              "      </button>\n",
              "      \n",
              "  <style>\n",
              "    .colab-df-container {\n",
              "      display:flex;\n",
              "      flex-wrap:wrap;\n",
              "      gap: 12px;\n",
              "    }\n",
              "\n",
              "    .colab-df-convert {\n",
              "      background-color: #E8F0FE;\n",
              "      border: none;\n",
              "      border-radius: 50%;\n",
              "      cursor: pointer;\n",
              "      display: none;\n",
              "      fill: #1967D2;\n",
              "      height: 32px;\n",
              "      padding: 0 0 0 0;\n",
              "      width: 32px;\n",
              "    }\n",
              "\n",
              "    .colab-df-convert:hover {\n",
              "      background-color: #E2EBFA;\n",
              "      box-shadow: 0px 1px 2px rgba(60, 64, 67, 0.3), 0px 1px 3px 1px rgba(60, 64, 67, 0.15);\n",
              "      fill: #174EA6;\n",
              "    }\n",
              "\n",
              "    [theme=dark] .colab-df-convert {\n",
              "      background-color: #3B4455;\n",
              "      fill: #D2E3FC;\n",
              "    }\n",
              "\n",
              "    [theme=dark] .colab-df-convert:hover {\n",
              "      background-color: #434B5C;\n",
              "      box-shadow: 0px 1px 3px 1px rgba(0, 0, 0, 0.15);\n",
              "      filter: drop-shadow(0px 1px 2px rgba(0, 0, 0, 0.3));\n",
              "      fill: #FFFFFF;\n",
              "    }\n",
              "  </style>\n",
              "\n",
              "      <script>\n",
              "        const buttonEl =\n",
              "          document.querySelector('#df-3eb3eb71-e5ab-48fc-b06c-ad33c8b54123 button.colab-df-convert');\n",
              "        buttonEl.style.display =\n",
              "          google.colab.kernel.accessAllowed ? 'block' : 'none';\n",
              "\n",
              "        async function convertToInteractive(key) {\n",
              "          const element = document.querySelector('#df-3eb3eb71-e5ab-48fc-b06c-ad33c8b54123');\n",
              "          const dataTable =\n",
              "            await google.colab.kernel.invokeFunction('convertToInteractive',\n",
              "                                                     [key], {});\n",
              "          if (!dataTable) return;\n",
              "\n",
              "          const docLinkHtml = 'Like what you see? Visit the ' +\n",
              "            '<a target=\"_blank\" href=https://colab.research.google.com/notebooks/data_table.ipynb>data table notebook</a>'\n",
              "            + ' to learn more about interactive tables.';\n",
              "          element.innerHTML = '';\n",
              "          dataTable['output_type'] = 'display_data';\n",
              "          await google.colab.output.renderOutput(dataTable, element);\n",
              "          const docLink = document.createElement('div');\n",
              "          docLink.innerHTML = docLinkHtml;\n",
              "          element.appendChild(docLink);\n",
              "        }\n",
              "      </script>\n",
              "    </div>\n",
              "  </div>\n",
              "  "
            ]
          },
          "metadata": {},
          "execution_count": 68
        }
      ],
      "source": [
        "# Create new dataframe with newly abstracts\n",
        "prepro = pd.DataFrame(clean_abstracts, columns=['Abstracts'])\n",
        "prepro['keywords'] = y_sequencesX\n",
        "prepro.head()"
      ]
    },
    {
      "cell_type": "markdown",
      "metadata": {
        "id": "PoxexObOgq40"
      },
      "source": [
        "Now eliminate abstracts with empty list as keywords"
      ]
    },
    {
      "cell_type": "code",
      "execution_count": 69,
      "metadata": {
        "colab": {
          "base_uri": "https://localhost:8080/",
          "height": 583
        },
        "id": "qky1V5RJgvGF",
        "outputId": "b2d88a52-9718-4e63-99f2-caad8586fadf"
      },
      "outputs": [
        {
          "output_type": "execute_result",
          "data": {
            "text/plain": [
              "                                           Abstracts  keywords\n",
              "2  number defects remaining a system provides an ...  [19, 47]\n",
              "4  learning environments is not an easy task and ...  [48, 10]\n",
              "6  captchas are tests that are widely used the in...      [18]\n",
              "7  reinforcement learning techniques become more ...   [1, 27]\n",
              "8  signatures are the single most widely used met...   [20, 2]"
            ],
            "text/html": [
              "\n",
              "  <div id=\"df-527d8f74-4d8a-4429-b2f8-333ac5578f98\">\n",
              "    <div class=\"colab-df-container\">\n",
              "      <div>\n",
              "<style scoped>\n",
              "    .dataframe tbody tr th:only-of-type {\n",
              "        vertical-align: middle;\n",
              "    }\n",
              "\n",
              "    .dataframe tbody tr th {\n",
              "        vertical-align: top;\n",
              "    }\n",
              "\n",
              "    .dataframe thead th {\n",
              "        text-align: right;\n",
              "    }\n",
              "</style>\n",
              "<table border=\"1\" class=\"dataframe\">\n",
              "  <thead>\n",
              "    <tr style=\"text-align: right;\">\n",
              "      <th></th>\n",
              "      <th>Abstracts</th>\n",
              "      <th>keywords</th>\n",
              "    </tr>\n",
              "  </thead>\n",
              "  <tbody>\n",
              "    <tr>\n",
              "      <th>2</th>\n",
              "      <td>number defects remaining a system provides an ...</td>\n",
              "      <td>[19, 47]</td>\n",
              "    </tr>\n",
              "    <tr>\n",
              "      <th>4</th>\n",
              "      <td>learning environments is not an easy task and ...</td>\n",
              "      <td>[48, 10]</td>\n",
              "    </tr>\n",
              "    <tr>\n",
              "      <th>6</th>\n",
              "      <td>captchas are tests that are widely used the in...</td>\n",
              "      <td>[18]</td>\n",
              "    </tr>\n",
              "    <tr>\n",
              "      <th>7</th>\n",
              "      <td>reinforcement learning techniques become more ...</td>\n",
              "      <td>[1, 27]</td>\n",
              "    </tr>\n",
              "    <tr>\n",
              "      <th>8</th>\n",
              "      <td>signatures are the single most widely used met...</td>\n",
              "      <td>[20, 2]</td>\n",
              "    </tr>\n",
              "  </tbody>\n",
              "</table>\n",
              "</div>\n",
              "      <button class=\"colab-df-convert\" onclick=\"convertToInteractive('df-527d8f74-4d8a-4429-b2f8-333ac5578f98')\"\n",
              "              title=\"Convert this dataframe to an interactive table.\"\n",
              "              style=\"display:none;\">\n",
              "        \n",
              "  <svg xmlns=\"http://www.w3.org/2000/svg\" height=\"24px\"viewBox=\"0 0 24 24\"\n",
              "       width=\"24px\">\n",
              "    <path d=\"M0 0h24v24H0V0z\" fill=\"none\"/>\n",
              "    <path d=\"M18.56 5.44l.94 2.06.94-2.06 2.06-.94-2.06-.94-.94-2.06-.94 2.06-2.06.94zm-11 1L8.5 8.5l.94-2.06 2.06-.94-2.06-.94L8.5 2.5l-.94 2.06-2.06.94zm10 10l.94 2.06.94-2.06 2.06-.94-2.06-.94-.94-2.06-.94 2.06-2.06.94z\"/><path d=\"M17.41 7.96l-1.37-1.37c-.4-.4-.92-.59-1.43-.59-.52 0-1.04.2-1.43.59L10.3 9.45l-7.72 7.72c-.78.78-.78 2.05 0 2.83L4 21.41c.39.39.9.59 1.41.59.51 0 1.02-.2 1.41-.59l7.78-7.78 2.81-2.81c.8-.78.8-2.07 0-2.86zM5.41 20L4 18.59l7.72-7.72 1.47 1.35L5.41 20z\"/>\n",
              "  </svg>\n",
              "      </button>\n",
              "      \n",
              "  <style>\n",
              "    .colab-df-container {\n",
              "      display:flex;\n",
              "      flex-wrap:wrap;\n",
              "      gap: 12px;\n",
              "    }\n",
              "\n",
              "    .colab-df-convert {\n",
              "      background-color: #E8F0FE;\n",
              "      border: none;\n",
              "      border-radius: 50%;\n",
              "      cursor: pointer;\n",
              "      display: none;\n",
              "      fill: #1967D2;\n",
              "      height: 32px;\n",
              "      padding: 0 0 0 0;\n",
              "      width: 32px;\n",
              "    }\n",
              "\n",
              "    .colab-df-convert:hover {\n",
              "      background-color: #E2EBFA;\n",
              "      box-shadow: 0px 1px 2px rgba(60, 64, 67, 0.3), 0px 1px 3px 1px rgba(60, 64, 67, 0.15);\n",
              "      fill: #174EA6;\n",
              "    }\n",
              "\n",
              "    [theme=dark] .colab-df-convert {\n",
              "      background-color: #3B4455;\n",
              "      fill: #D2E3FC;\n",
              "    }\n",
              "\n",
              "    [theme=dark] .colab-df-convert:hover {\n",
              "      background-color: #434B5C;\n",
              "      box-shadow: 0px 1px 3px 1px rgba(0, 0, 0, 0.15);\n",
              "      filter: drop-shadow(0px 1px 2px rgba(0, 0, 0, 0.3));\n",
              "      fill: #FFFFFF;\n",
              "    }\n",
              "  </style>\n",
              "\n",
              "      <script>\n",
              "        const buttonEl =\n",
              "          document.querySelector('#df-527d8f74-4d8a-4429-b2f8-333ac5578f98 button.colab-df-convert');\n",
              "        buttonEl.style.display =\n",
              "          google.colab.kernel.accessAllowed ? 'block' : 'none';\n",
              "\n",
              "        async function convertToInteractive(key) {\n",
              "          const element = document.querySelector('#df-527d8f74-4d8a-4429-b2f8-333ac5578f98');\n",
              "          const dataTable =\n",
              "            await google.colab.kernel.invokeFunction('convertToInteractive',\n",
              "                                                     [key], {});\n",
              "          if (!dataTable) return;\n",
              "\n",
              "          const docLinkHtml = 'Like what you see? Visit the ' +\n",
              "            '<a target=\"_blank\" href=https://colab.research.google.com/notebooks/data_table.ipynb>data table notebook</a>'\n",
              "            + ' to learn more about interactive tables.';\n",
              "          element.innerHTML = '';\n",
              "          dataTable['output_type'] = 'display_data';\n",
              "          await google.colab.output.renderOutput(dataTable, element);\n",
              "          const docLink = document.createElement('div');\n",
              "          docLink.innerHTML = docLinkHtml;\n",
              "          element.appendChild(docLink);\n",
              "        }\n",
              "      </script>\n",
              "    </div>\n",
              "  </div>\n",
              "  "
            ]
          },
          "metadata": {},
          "execution_count": 69
        }
      ],
      "source": [
        "df_under_X = prepro[prepro['keywords'].apply(len) > 0]\n",
        "df_under_X.head()"
      ]
    },
    {
      "cell_type": "code",
      "execution_count": 70,
      "metadata": {
        "colab": {
          "base_uri": "https://localhost:8080/"
        },
        "id": "74UsgsBqjIbO",
        "outputId": "238a2279-5443-4cdd-ff89-a2912bbc801d"
      },
      "outputs": [
        {
          "output_type": "execute_result",
          "data": {
            "text/plain": [
              "(4186,)"
            ]
          },
          "metadata": {},
          "execution_count": 70
        }
      ],
      "source": [
        "abstracts = df_under_X['Abstracts'].values[:]\n",
        "\n",
        "abstracts.shape"
      ]
    },
    {
      "cell_type": "markdown",
      "metadata": {
        "id": "IPXLOiCxjQGr"
      },
      "source": [
        "### Tokenize abstracts"
      ]
    },
    {
      "cell_type": "code",
      "execution_count": 71,
      "metadata": {
        "colab": {
          "base_uri": "https://localhost:8080/"
        },
        "id": "6JHLs6sOjSYT",
        "outputId": "01e29787-acb3-41a7-90ab-7e43cd69b1e8"
      },
      "outputs": [
        {
          "output_type": "stream",
          "name": "stdout",
          "text": [
            "Shape of data tensor: (4186, 925)\n",
            "Found 12352 unique tokens.\n"
          ]
        }
      ],
      "source": [
        "sequences, word_index, data = tokenize_and_add_padding(abstracts, tokenizer, MAX_SEQUENCE_LENGTH)"
      ]
    },
    {
      "cell_type": "markdown",
      "metadata": {
        "id": "Ax0mCF8nhDgL"
      },
      "source": [
        "### Create multihot"
      ]
    },
    {
      "cell_type": "code",
      "execution_count": 72,
      "metadata": {
        "colab": {
          "base_uri": "https://localhost:8080/"
        },
        "id": "xeHAi3nmhF-P",
        "outputId": "7ac1b9d3-f848-4454-ca5d-35b54b7ac4b3"
      },
      "outputs": [
        {
          "output_type": "execute_result",
          "data": {
            "text/plain": [
              "(4186, 55)"
            ]
          },
          "metadata": {},
          "execution_count": 72
        }
      ],
      "source": [
        "targets_under_X_flatten = [lst for lst in targets_under_X if lst]\n",
        "multihot_X = multihot_tokenize(targets_under_X_flatten, y_sequencesX, y_word_indexX)\n",
        "multihot_X.shape"
      ]
    },
    {
      "cell_type": "markdown",
      "metadata": {
        "id": "QgLgh39BQX5d"
      },
      "source": [
        "## Train GLoVe\n",
        "\n",
        "Vamos a entrenar una capa de word embedding con el conjunto de datos de Stanford:"
      ]
    },
    {
      "cell_type": "code",
      "execution_count": 73,
      "metadata": {
        "id": "zhLfPwiekNO3"
      },
      "outputs": [],
      "source": [
        "import os\n",
        "import requests\n",
        "from shutil import unpack_archive"
      ]
    },
    {
      "cell_type": "code",
      "execution_count": 74,
      "metadata": {
        "id": "T6ujlPzrkG1t"
      },
      "outputs": [],
      "source": [
        "plt.style.use('ggplot')\n",
        "plt.rcParams.update({'figure.figsize': (16, 9),'figure.dpi': 100})\n",
        "\n",
        "tf.compat.v1.disable_eager_execution()  # Esto es por un problema (creo) con las RTX2070"
      ]
    },
    {
      "cell_type": "code",
      "execution_count": 75,
      "metadata": {
        "id": "fM6HLv7-kJ5-"
      },
      "outputs": [],
      "source": [
        "GLOVE_URL = 'http://nlp.stanford.edu/data/glove.6B.zip'\n",
        "GLOVE_FILE = 'glove.6B.zip'\n",
        "GLOVE_DIR = 'glove'\n",
        "\n",
        "if not os.path.isdir(GLOVE_DIR):\n",
        "    # Descargamos el dataset comprimido de GloVe (si no lo tenemos ya)\n",
        "    if not os.path.exists(GLOVE_FILE):\n",
        "        with open(GLOVE_FILE, 'wb') as f:\n",
        "            r = requests.get(GLOVE_URL, allow_redirects=True)\n",
        "            f.write(r.content)\n",
        "    # Lo descomprimimos en el directorio 'glove'\n",
        "    unpack_archive(GLOVE_FILE, 'glove/')"
      ]
    },
    {
      "cell_type": "markdown",
      "metadata": {
        "id": "gV562ji3kuVF"
      },
      "source": [
        "We load the Embedding of the dimension specified in the configuration"
      ]
    },
    {
      "cell_type": "code",
      "execution_count": 76,
      "metadata": {
        "colab": {
          "base_uri": "https://localhost:8080/"
        },
        "id": "QfGbARkxkuB_",
        "outputId": "bdf05056-5eec-4c94-9b24-20911db552e6"
      },
      "outputs": [
        {
          "output_type": "stream",
          "name": "stdout",
          "text": [
            "Loading GloVe 300-d embedding... done (400000 word vectors loaded)\n"
          ]
        }
      ],
      "source": [
        "print(f'Loading GloVe {EMBEDDING_DIM}-d embedding... ', end='')\n",
        "word2vec = {}\n",
        "with open(os.path.join(GLOVE_DIR, f'glove.6B.{EMBEDDING_DIM}d.txt')) as f:\n",
        "    for line in f:\n",
        "        values = line.split()\n",
        "        word2vec[values[0]] = np.asarray(values[1:], dtype='float32')\n",
        "print(f'done ({len(word2vec)} word vectors loaded)')"
      ]
    },
    {
      "cell_type": "markdown",
      "metadata": {
        "id": "xYqJHVIhQorJ"
      },
      "source": [
        "# Models"
      ]
    },
    {
      "cell_type": "markdown",
      "metadata": {
        "id": "HUe7UkP9Qd64"
      },
      "source": [
        "## f1 score && loss function"
      ]
    },
    {
      "cell_type": "code",
      "execution_count": 77,
      "metadata": {
        "id": "DeUXWc9jk3nc"
      },
      "outputs": [],
      "source": [
        "import keras.backend as K\n",
        "\n",
        "def f1(y_true, y_pred):\n",
        "    y_pred = K.round(y_pred)\n",
        "    tp = K.sum(K.cast(y_true*y_pred, 'float'), axis=0)\n",
        "    tn = K.sum(K.cast((1-y_true)*(1-y_pred), 'float'), axis=0)\n",
        "    fp = K.sum(K.cast((1-y_true)*y_pred, 'float'), axis=0)\n",
        "    fn = K.sum(K.cast(y_true*(1-y_pred), 'float'), axis=0)\n",
        "\n",
        "    p = tp / (tp + fp + K.epsilon())\n",
        "    r = tp / (tp + fn + K.epsilon())\n",
        "\n",
        "    f1 = 2*p*r / (p+r+K.epsilon())\n",
        "    f1 = tf.where(tf.math.is_nan(f1), tf.zeros_like(f1), f1)\n",
        "    return K.mean(f1)\n",
        "\n",
        "def f1_loss(y_true, y_pred):\n",
        "    \n",
        "    tp = K.sum(K.cast(y_true*y_pred, 'float'), axis=0)\n",
        "    tn = K.sum(K.cast((1-y_true)*(1-y_pred), 'float'), axis=0)\n",
        "    fp = K.sum(K.cast((1-y_true)*y_pred, 'float'), axis=0)\n",
        "    fn = K.sum(K.cast(y_true*(1-y_pred), 'float'), axis=0)\n",
        "\n",
        "    p = tp / (tp + fp + K.epsilon())\n",
        "    r = tp / (tp + fn + K.epsilon())\n",
        "\n",
        "    f1 = 2*p*r / (p+r+K.epsilon())\n",
        "    f1 = tf.where(tf.math.is_nan(f1), tf.zeros_like(f1), f1)\n",
        "    return 1 - K.mean(f1)"
      ]
    },
    {
      "cell_type": "markdown",
      "metadata": {
        "id": "Hf3k74ArQcRt"
      },
      "source": [
        "## Embedding Layer"
      ]
    },
    {
      "cell_type": "code",
      "execution_count": 78,
      "metadata": {
        "colab": {
          "base_uri": "https://localhost:8080/"
        },
        "id": "Tpt4pSmgk2Dg",
        "outputId": "0234ab9f-e105-4591-c9d6-1770e512193a"
      },
      "outputs": [
        {
          "output_type": "stream",
          "name": "stdout",
          "text": [
            "Loading embedding with GloVe vectors... done\n",
            "Converted 11280 words (1072 misses)\n"
          ]
        }
      ],
      "source": [
        "print('Loading embedding with GloVe vectors... ', end='')\n",
        "# Cargamos sólo las palabras elegidas de nuestro conjunto de datos\n",
        "num_words = MAX_VOCAB_SIZE\n",
        "embedding_matrix = np.zeros((num_words, EMBEDDING_DIM))\n",
        "\n",
        "hits = misses = 0\n",
        "for word, i in word_index.items():\n",
        "    embedding_vector = word2vec.get(word)\n",
        "    if embedding_vector is not None:\n",
        "        embedding_matrix[i] = embedding_vector\n",
        "        hits += 1\n",
        "    else:\n",
        "        misses += 1\n",
        "\n",
        "# Creamos la capa de embedding\n",
        "embedding_layer = tf.keras.layers.Embedding(\n",
        "  input_dim=num_words,\n",
        "  output_dim=EMBEDDING_DIM,\n",
        "  weights=[embedding_matrix],\n",
        "  input_length=MAX_SEQUENCE_LENGTH,\n",
        "  trainable=False,\n",
        ")\n",
        "\n",
        "print('done')\n",
        "\n",
        "print(\"Converted %d words (%d misses)\" % (hits, misses))"
      ]
    },
    {
      "cell_type": "markdown",
      "metadata": {
        "id": "vKt9_cfxQhzV"
      },
      "source": [
        "## CNN"
      ]
    },
    {
      "cell_type": "code",
      "execution_count": 79,
      "metadata": {
        "colab": {
          "base_uri": "https://localhost:8080/"
        },
        "id": "LoW7WMX73FMN",
        "outputId": "b051423d-4e8d-481e-837e-bd96d1e0e5cc"
      },
      "outputs": [
        {
          "output_type": "stream",
          "name": "stdout",
          "text": [
            "Model: \"model\"\n",
            "_________________________________________________________________\n",
            " Layer (type)                Output Shape              Param #   \n",
            "=================================================================\n",
            " input_1 (InputLayer)        [(None, 925)]             0         \n",
            "                                                                 \n",
            " embedding (Embedding)       (None, 925, 300)          12000000  \n",
            "                                                                 \n",
            " dropout (Dropout)           (None, 925, 300)          0         \n",
            "                                                                 \n",
            " conv1d (Conv1D)             (None, 307, 128)          268928    \n",
            "                                                                 \n",
            " global_max_pooling1d (Globa  (None, 128)              0         \n",
            " lMaxPooling1D)                                                  \n",
            "                                                                 \n",
            " dense (Dense)               (None, 64)                8256      \n",
            "                                                                 \n",
            " dropout_1 (Dropout)         (None, 64)                0         \n",
            "                                                                 \n",
            " dense_1 (Dense)             (None, 55)                3575      \n",
            "                                                                 \n",
            "=================================================================\n",
            "Total params: 12,280,759\n",
            "Trainable params: 280,759\n",
            "Non-trainable params: 12,000,000\n",
            "_________________________________________________________________\n"
          ]
        }
      ],
      "source": [
        "cnn_graph = tf.Graph()\n",
        "\n",
        "with cnn_graph.as_default():\n",
        "    input_ = tf.keras.layers.Input(shape=(MAX_SEQUENCE_LENGTH,))\n",
        "    x = embedding_layer(input_)\n",
        "    x = tf.keras.layers.Dropout(0.5)(x)\n",
        "\n",
        "    # Conv1D + global max pooling\n",
        "    x = tf.keras.layers.Conv1D(128, 7, padding=\"valid\",\n",
        "                            activation=\"relu\", strides=3)(x)\n",
        "    x = tf.keras.layers.GlobalMaxPooling1D()(x)\n",
        "\n",
        "    # We add a vanilla hidden layer:\n",
        "    x = tf.keras.layers.Dense(64, activation=\"relu\")(x)\n",
        "    x = tf.keras.layers.Dropout(0.33)(x)\n",
        "\n",
        "    predictions = tf.keras.layers.Dense(\n",
        "        OUTPUT_SIZE_UNDER_X+1, activation=\"sigmoid\")(x)\n",
        "\n",
        "    cnn_model = tf.keras.Model(input_, predictions)\n",
        "    # Compile the model with F1 score metric\n",
        "    cnn_model.compile(\n",
        "        optimizer='adam',\n",
        "        loss=f1_loss,\n",
        "        metrics=[f1]\n",
        "    )\n",
        "    cnn_model.summary()"
      ]
    },
    {
      "cell_type": "code",
      "execution_count": 80,
      "metadata": {
        "id": "HHNw7nKr3FMN"
      },
      "outputs": [],
      "source": [
        "# create checkpoint\n",
        "cnn_checkpoint_filepath = 'cnn_model_under_100.h5'\n",
        "model_checkpoint_callback = tf.keras.callbacks.ModelCheckpoint(\n",
        "    filepath=f'checkpoints/{cnn_checkpoint_filepath}',\n",
        "    save_weights_only=True,\n",
        "    monitor='val_loss',\n",
        "    mode='min',\n",
        "    save_best_only=True\n",
        ")"
      ]
    },
    {
      "cell_type": "code",
      "execution_count": 81,
      "metadata": {
        "id": "pbdAdd1M3FMO"
      },
      "outputs": [],
      "source": [
        "def execute_model(model, X, y, epochs=10, batch_size=64, validation_split=0.1, model_checkpoint_callback=None, checkpoint_filepath=''):\n",
        "    if os.path.exists(f'checkpoints/{checkpoint_filepath}'):\n",
        "        model.load_weights(f'checkpoints/{checkpoint_filepath}')\n",
        "        return None\n",
        "    else:    \n",
        "        history = model.fit(\n",
        "            X, y,\n",
        "            epochs=epochs,\n",
        "            batch_size=batch_size,\n",
        "            validation_split=validation_split,\n",
        "            callbacks=[model_checkpoint_callback]\n",
        "        )\n",
        "        return history"
      ]
    },
    {
      "cell_type": "code",
      "execution_count": 85,
      "metadata": {
        "colab": {
          "base_uri": "https://localhost:8080/"
        },
        "id": "twhbnVZM3FMO",
        "outputId": "5d370944-352e-46c1-8bf7-93630e937f24"
      },
      "outputs": [
        {
          "output_type": "stream",
          "name": "stdout",
          "text": [
            "Train on 3348 samples, validate on 838 samples\n",
            "Epoch 1/10\n",
            "3348/3348 [==============================] - 1s 360us/sample - loss: 0.7924 - f1: 0.2165 - val_loss: 0.8643 - val_f1: 0.1433\n",
            "Epoch 2/10\n",
            "3348/3348 [==============================] - 1s 306us/sample - loss: 0.7849 - f1: 0.2244 - val_loss: 0.8637 - val_f1: 0.1415\n",
            "Epoch 3/10\n",
            "3348/3348 [==============================] - 1s 229us/sample - loss: 0.7696 - f1: 0.2416 - val_loss: 0.8615 - val_f1: 0.1422\n",
            "Epoch 4/10\n",
            "3348/3348 [==============================] - 1s 231us/sample - loss: 0.7655 - f1: 0.2431 - val_loss: 0.8533 - val_f1: 0.1525\n",
            "Epoch 5/10\n",
            "3348/3348 [==============================] - 1s 204us/sample - loss: 0.7524 - f1: 0.2630 - val_loss: 0.8539 - val_f1: 0.1507\n",
            "Epoch 6/10\n",
            "3348/3348 [==============================] - 1s 219us/sample - loss: 0.7470 - f1: 0.2645 - val_loss: 0.8498 - val_f1: 0.1539\n",
            "Epoch 7/10\n",
            "3348/3348 [==============================] - 1s 232us/sample - loss: 0.7427 - f1: 0.2699 - val_loss: 0.8488 - val_f1: 0.1541\n",
            "Epoch 8/10\n",
            "3348/3348 [==============================] - 1s 230us/sample - loss: 0.7334 - f1: 0.2782 - val_loss: 0.8474 - val_f1: 0.1591\n",
            "Epoch 9/10\n",
            "3348/3348 [==============================] - 1s 224us/sample - loss: 0.7245 - f1: 0.2875 - val_loss: 0.8468 - val_f1: 0.1530\n",
            "Epoch 10/10\n",
            "3348/3348 [==============================] - 1s 214us/sample - loss: 0.7186 - f1: 0.2943 - val_loss: 0.8476 - val_f1: 0.1526\n"
          ]
        }
      ],
      "source": [
        "with cnn_graph.as_default():\n",
        "    history = execute_model(cnn_model, data, multihot_X, epochs=10, validation_split=0.2, model_checkpoint_callback=model_checkpoint_callback, checkpoint_filepath='cnn_model_under_100.h5')"
      ]
    },
    {
      "cell_type": "code",
      "execution_count": 86,
      "metadata": {
        "colab": {
          "base_uri": "https://localhost:8080/",
          "height": 800
        },
        "id": "Su0B6iOV3FMO",
        "outputId": "f59a4b66-bf26-4bb0-a690-f7eaceb393ca"
      },
      "outputs": [
        {
          "output_type": "display_data",
          "data": {
            "text/plain": [
              "<Figure size 1600x900 with 2 Axes>"
            ],
            "image/png": "[encoded data removed]"
          },
          "metadata": {}
        }
      ],
      "source": [
        "if history:\n",
        "    plot_history(history, metric='f1')"
      ]
    },
    {
      "cell_type": "markdown",
      "metadata": {
        "id": "10mBgGZAQjps"
      },
      "source": [
        "## RNN"
      ]
    },
    {
      "cell_type": "code",
      "execution_count": 88,
      "metadata": {
        "id": "ktD3itisTVuC"
      },
      "outputs": [],
      "source": [
        "import keras_tuner as kt"
      ]
    },
    {
      "cell_type": "markdown",
      "metadata": {
        "id": "Mae77vxUSoZb"
      },
      "source": [
        "### Keras tunner\n",
        "\n",
        "Using keras tunner, we are going to find the optimum or at least, the best combination of the model."
      ]
    },
    {
      "cell_type": "code",
      "execution_count": 100,
      "metadata": {
        "id": "zdTs8vRiS8-1"
      },
      "outputs": [],
      "source": [
        "class HyperRNN(kt.HyperModel):\n",
        "    def build(self, hp):\n",
        "        input_ = tf.keras.layers.Input(shape=(median,))\n",
        "\n",
        "        embedding_layer = tf.keras.layers.Embedding(\n",
        "            input_dim=num_words,\n",
        "            output_dim=EMBEDDING_DIM,\n",
        "            weights=[embedding_matrix],\n",
        "            input_length=MAX_SEQUENCE_LENGTH,\n",
        "            trainable=False,\n",
        "        )\n",
        "\n",
        "        emd_layer = embedding_layer(input_)\n",
        "\n",
        "        lstm_units = hp.Int('lstm_units', min_value=256, max_value=1024, step=256)\n",
        "        x = tf.keras.layers.LSTM(lstm_units)(emd_layer)\n",
        "        \n",
        "        choice = hp.Choice('add_dense_layers', range(0, 2))\n",
        "        for i in range(choice):\n",
        "            x = tf.keras.layers.Dense(\n",
        "                units=hp.Int(f'dense_layer_{i}_units', min_value=8, max_value=256, step=16),\n",
        "                activation='relu'\n",
        "            )(x)                \n",
        "    \n",
        "        if choice != 0:\n",
        "            dropout_rate = hp.Int(\n",
        "                'drop_out_val', min_value=0.2, max_value=0.8, step=0.1)\n",
        "            x = tf.keras.layers.Dropout(dropout_rate)(x)\n",
        "\n",
        "        outputs = tf.keras.layers.Dense(OUTPUT_SIZE_UNDER_X+1, activation='sigmoid')(x)\n",
        "        model = tf.keras.Model(inputs=input_, outputs=outputs)\n",
        "\n",
        "        hp_learning_rate = hp.Choice('learning_rate', values=[1e-2, 1e-3, 1e-4])\n",
        "        adam_optimizer = tf.keras.optimizers.legacy.Adam(learning_rate=hp_learning_rate)\n",
        "        model.compile(optimizer=adam_optimizer,\n",
        "                      loss=f1_loss,\n",
        "                      metrics=['accuracy', f1])\n",
        "\n",
        "        return model\n",
        "\n",
        "    def fit(self, hp, model, *args, **kwargs):\n",
        "        return model.fit(\n",
        "            *args,\n",
        "            batch_size=hp.Choice(\"batch_size\", [128, 256, 512]),\n",
        "            **kwargs,\n",
        "        )"
      ]
    },
    {
      "cell_type": "code",
      "execution_count": 101,
      "metadata": {
        "id": "uhcydVd1UqnQ",
        "colab": {
          "base_uri": "https://localhost:8080/"
        },
        "outputId": "a9fa5ec7-15f4-446b-ce31-9a370e8394ee"
      },
      "outputs": [
        {
          "output_type": "stream",
          "name": "stderr",
          "text": [
            "WARNING:tensorflow:Layer lstm_1 will not use cuDNN kernels since it doesn't meet the criteria. It will use a generic GPU kernel as fallback when running on GPU.\n"
          ]
        }
      ],
      "source": [
        "tuner = kt.Hyperband(HyperRNN(),\n",
        "                     objective=[\n",
        "                        kt.Objective('val_f1', 'max'),\n",
        "                        kt.Objective('loss', 'min')\n",
        "                    ],\n",
        "                     max_epochs=100,\n",
        "                     factor=5,\n",
        "                     directory='fine_tuning/',\n",
        "                     project_name='LSTM_with_dropout_v3')"
      ]
    },
    {
      "cell_type": "code",
      "execution_count": 102,
      "metadata": {
        "id": "8oqkIyZvYVxS"
      },
      "outputs": [],
      "source": [
        "stop_early = tf.keras.callbacks.EarlyStopping(monitor='val_loss', patience=5)"
      ]
    },
    {
      "cell_type": "code",
      "source": [
        "!rm -rf fine_tuning"
      ],
      "metadata": {
        "id": "GnAvpyRv7R67"
      },
      "execution_count": 99,
      "outputs": []
    },
    {
      "cell_type": "code",
      "execution_count": 103,
      "metadata": {
        "colab": {
          "base_uri": "https://localhost:8080/",
          "height": 1000
        },
        "id": "PnsM1C6qYYF0",
        "outputId": "ab8addb4-0be0-462b-9cf2-0aae1d9e662d"
      },
      "outputs": [
        {
          "output_type": "stream",
          "name": "stdout",
          "text": [
            "Trial 10 Complete [00h 00m 01s]\n",
            "\n",
            "Best multi_objective So Far: 0.7447135075392689\n",
            "Total elapsed time: 00h 04m 51s\n",
            "\n",
            "Search: Running Trial #11\n",
            "\n",
            "Value             |Best Value So Far |Hyperparameter\n",
            "1024              |256               |lstm_units\n",
            "0                 |0                 |add_dense_layers\n",
            "0.01              |0.01              |learning_rate\n",
            "200               |120               |dense_layer_0_units\n",
            "256               |128               |batch_size\n",
            "4                 |4                 |tuner/epochs\n",
            "0                 |0                 |tuner/initial_epoch\n",
            "2                 |2                 |tuner/bracket\n",
            "0                 |0                 |tuner/round\n",
            "\n"
          ]
        },
        {
          "output_type": "stream",
          "name": "stderr",
          "text": [
            "WARNING:tensorflow:Layer lstm will not use cuDNN kernels since it doesn't meet the criteria. It will use a generic GPU kernel as fallback when running on GPU.\n"
          ]
        },
        {
          "output_type": "stream",
          "name": "stdout",
          "text": [
            "Train on 3348 samples, validate on 838 samples\n",
            "Epoch 1/4\n"
          ]
        },
        {
          "output_type": "stream",
          "name": "stderr",
          "text": [
            "Traceback (most recent call last):\n",
            "  File \"/usr/local/lib/python3.10/dist-packages/keras_tuner/engine/base_tuner.py\", line 270, in _try_run_and_update_trial\n",
            "    self._run_and_update_trial(trial, *fit_args, **fit_kwargs)\n",
            "  File \"/usr/local/lib/python3.10/dist-packages/keras_tuner/engine/base_tuner.py\", line 235, in _run_and_update_trial\n",
            "    results = self.run_trial(trial, *fit_args, **fit_kwargs)\n",
            "  File \"/usr/local/lib/python3.10/dist-packages/keras_tuner/tuners/hyperband.py\", line 425, in run_trial\n",
            "    return super().run_trial(trial, *fit_args, **fit_kwargs)\n",
            "  File \"/usr/local/lib/python3.10/dist-packages/keras_tuner/engine/tuner.py\", line 287, in run_trial\n",
            "    obj_value = self._build_and_fit_model(trial, *args, **copied_kwargs)\n",
            "  File \"/usr/local/lib/python3.10/dist-packages/keras_tuner/engine/tuner.py\", line 214, in _build_and_fit_model\n",
            "    results = self.hypermodel.fit(hp, model, *args, **kwargs)\n",
            "  File \"<ipython-input-100-ccd5f1b00e47>\", line 42, in fit\n",
            "    return model.fit(\n",
            "  File \"/usr/local/lib/python3.10/dist-packages/keras/engine/training_v1.py\", line 856, in fit\n",
            "    return func.fit(\n",
            "  File \"/usr/local/lib/python3.10/dist-packages/keras/engine/training_arrays_v1.py\", line 734, in fit\n",
            "    return fit_loop(\n",
            "  File \"/usr/local/lib/python3.10/dist-packages/keras/engine/training_arrays_v1.py\", line 421, in model_iteration\n",
            "    batch_outs = f(ins_batch)\n",
            "  File \"/usr/local/lib/python3.10/dist-packages/keras/backend.py\", line 4608, in __call__\n",
            "    fetched = self._callable_fn(*array_vals, run_metadata=self.run_metadata)\n",
            "  File \"/usr/local/lib/python3.10/dist-packages/tensorflow/python/client/session.py\", line 1481, in __call__\n",
            "    ret = tf_session.TF_SessionRunCallable(self._session._session,\n",
            "tensorflow.python.framework.errors_impl.ResourceExhaustedError: 2 root error(s) found.\n",
            "  (0) RESOURCE_EXHAUSTED: OOM when allocating tensor with shape[256,1024] and type float on /job:localhost/replica:0/task:0/device:GPU:0 by allocator GPU_0_bfc\n",
            "\t [[{{function_node lstm_while_body_15665_rewritten}}{{node lstm_cell/split}}]]\n",
            "Hint: If you want to see a list of allocated tensors when OOM happens, add report_tensor_allocations_upon_oom to RunOptions for current allocation info. This isn't available when running in Eager mode.\n",
            "\n",
            "\t [[metrics/accuracy/Identity/_103]]\n",
            "Hint: If you want to see a list of allocated tensors when OOM happens, add report_tensor_allocations_upon_oom to RunOptions for current allocation info. This isn't available when running in Eager mode.\n",
            "\n",
            "  (1) RESOURCE_EXHAUSTED: OOM when allocating tensor with shape[256,1024] and type float on /job:localhost/replica:0/task:0/device:GPU:0 by allocator GPU_0_bfc\n",
            "\t [[{{function_node lstm_while_body_15665_rewritten}}{{node lstm_cell/split}}]]\n",
            "Hint: If you want to see a list of allocated tensors when OOM happens, add report_tensor_allocations_upon_oom to RunOptions for current allocation info. This isn't available when running in Eager mode.\n",
            "\n",
            "0 successful operations.\n",
            "0 derived errors ignored.\n"
          ]
        },
        {
          "output_type": "error",
          "ename": "RuntimeError",
          "evalue": "ignored",
          "traceback": [
            "\u001b[0;31m---------------------------------------------------------------------------\u001b[0m",
            "\u001b[0;31mRuntimeError\u001b[0m                              Traceback (most recent call last)",
            "\u001b[0;32m<ipython-input-103-91edae2d0ebc>\u001b[0m in \u001b[0;36m<cell line: 1>\u001b[0;34m()\u001b[0m\n\u001b[0;32m----> 1\u001b[0;31m \u001b[0mtuner\u001b[0m\u001b[0;34m.\u001b[0m\u001b[0msearch\u001b[0m\u001b[0;34m(\u001b[0m\u001b[0mdata\u001b[0m\u001b[0;34m,\u001b[0m \u001b[0mmultihot_X\u001b[0m\u001b[0;34m,\u001b[0m \u001b[0mepochs\u001b[0m\u001b[0;34m=\u001b[0m\u001b[0;36m50\u001b[0m\u001b[0;34m,\u001b[0m \u001b[0mvalidation_split\u001b[0m\u001b[0;34m=\u001b[0m\u001b[0;36m0.2\u001b[0m\u001b[0;34m,\u001b[0m \u001b[0mcallbacks\u001b[0m\u001b[0;34m=\u001b[0m\u001b[0;34m[\u001b[0m\u001b[0mstop_early\u001b[0m\u001b[0;34m]\u001b[0m\u001b[0;34m)\u001b[0m\u001b[0;34m\u001b[0m\u001b[0;34m\u001b[0m\u001b[0m\n\u001b[0m\u001b[1;32m      2\u001b[0m \u001b[0;34m\u001b[0m\u001b[0m\n\u001b[1;32m      3\u001b[0m \u001b[0;31m# Get the optimal hyperparameters\u001b[0m\u001b[0;34m\u001b[0m\u001b[0;34m\u001b[0m\u001b[0m\n\u001b[1;32m      4\u001b[0m \u001b[0mbest_hps\u001b[0m \u001b[0;34m=\u001b[0m \u001b[0mtuner\u001b[0m\u001b[0;34m.\u001b[0m\u001b[0mget_best_hyperparameters\u001b[0m\u001b[0;34m(\u001b[0m\u001b[0mnum_trials\u001b[0m\u001b[0;34m=\u001b[0m\u001b[0;36m1\u001b[0m\u001b[0;34m)\u001b[0m\u001b[0;34m[\u001b[0m\u001b[0;36m0\u001b[0m\u001b[0;34m]\u001b[0m\u001b[0;34m\u001b[0m\u001b[0;34m\u001b[0m\u001b[0m\n\u001b[1;32m      5\u001b[0m \u001b[0;34m\u001b[0m\u001b[0m\n",
            "\u001b[0;32m/usr/local/lib/python3.10/dist-packages/keras_tuner/engine/base_tuner.py\u001b[0m in \u001b[0;36msearch\u001b[0;34m(self, *fit_args, **fit_kwargs)\u001b[0m\n\u001b[1;32m    229\u001b[0m             \u001b[0mself\u001b[0m\u001b[0;34m.\u001b[0m\u001b[0mon_trial_begin\u001b[0m\u001b[0;34m(\u001b[0m\u001b[0mtrial\u001b[0m\u001b[0;34m)\u001b[0m\u001b[0;34m\u001b[0m\u001b[0;34m\u001b[0m\u001b[0m\n\u001b[1;32m    230\u001b[0m             \u001b[0mself\u001b[0m\u001b[0;34m.\u001b[0m\u001b[0m_try_run_and_update_trial\u001b[0m\u001b[0;34m(\u001b[0m\u001b[0mtrial\u001b[0m\u001b[0;34m,\u001b[0m \u001b[0;34m*\u001b[0m\u001b[0mfit_args\u001b[0m\u001b[0;34m,\u001b[0m \u001b[0;34m**\u001b[0m\u001b[0mfit_kwargs\u001b[0m\u001b[0;34m)\u001b[0m\u001b[0;34m\u001b[0m\u001b[0;34m\u001b[0m\u001b[0m\n\u001b[0;32m--> 231\u001b[0;31m             \u001b[0mself\u001b[0m\u001b[0;34m.\u001b[0m\u001b[0mon_trial_end\u001b[0m\u001b[0;34m(\u001b[0m\u001b[0mtrial\u001b[0m\u001b[0;34m)\u001b[0m\u001b[0;34m\u001b[0m\u001b[0;34m\u001b[0m\u001b[0m\n\u001b[0m\u001b[1;32m    232\u001b[0m         \u001b[0mself\u001b[0m\u001b[0;34m.\u001b[0m\u001b[0mon_search_end\u001b[0m\u001b[0;34m(\u001b[0m\u001b[0;34m)\u001b[0m\u001b[0;34m\u001b[0m\u001b[0;34m\u001b[0m\u001b[0m\n\u001b[1;32m    233\u001b[0m \u001b[0;34m\u001b[0m\u001b[0m\n",
            "\u001b[0;32m/usr/local/lib/python3.10/dist-packages/keras_tuner/engine/base_tuner.py\u001b[0m in \u001b[0;36mon_trial_end\u001b[0;34m(self, trial)\u001b[0m\n\u001b[1;32m    333\u001b[0m             \u001b[0mtrial\u001b[0m\u001b[0;34m:\u001b[0m \u001b[0mA\u001b[0m\u001b[0;31m \u001b[0m\u001b[0;31m`\u001b[0m\u001b[0mTrial\u001b[0m\u001b[0;31m`\u001b[0m \u001b[0minstance\u001b[0m\u001b[0;34m.\u001b[0m\u001b[0;34m\u001b[0m\u001b[0;34m\u001b[0m\u001b[0m\n\u001b[1;32m    334\u001b[0m         \"\"\"\n\u001b[0;32m--> 335\u001b[0;31m         \u001b[0mself\u001b[0m\u001b[0;34m.\u001b[0m\u001b[0moracle\u001b[0m\u001b[0;34m.\u001b[0m\u001b[0mend_trial\u001b[0m\u001b[0;34m(\u001b[0m\u001b[0mtrial\u001b[0m\u001b[0;34m)\u001b[0m\u001b[0;34m\u001b[0m\u001b[0;34m\u001b[0m\u001b[0m\n\u001b[0m\u001b[1;32m    336\u001b[0m         \u001b[0;31m# Display needs the updated trial scored by the Oracle.\u001b[0m\u001b[0;34m\u001b[0m\u001b[0;34m\u001b[0m\u001b[0m\n\u001b[1;32m    337\u001b[0m         \u001b[0mself\u001b[0m\u001b[0;34m.\u001b[0m\u001b[0m_display\u001b[0m\u001b[0;34m.\u001b[0m\u001b[0mon_trial_end\u001b[0m\u001b[0;34m(\u001b[0m\u001b[0mself\u001b[0m\u001b[0;34m.\u001b[0m\u001b[0moracle\u001b[0m\u001b[0;34m.\u001b[0m\u001b[0mget_trial\u001b[0m\u001b[0;34m(\u001b[0m\u001b[0mtrial\u001b[0m\u001b[0;34m.\u001b[0m\u001b[0mtrial_id\u001b[0m\u001b[0;34m)\u001b[0m\u001b[0;34m)\u001b[0m\u001b[0;34m\u001b[0m\u001b[0;34m\u001b[0m\u001b[0m\n",
            "\u001b[0;32m/usr/local/lib/python3.10/dist-packages/keras_tuner/engine/oracle.py\u001b[0m in \u001b[0;36mwrapped_func\u001b[0;34m(*args, **kwargs)\u001b[0m\n\u001b[1;32m    105\u001b[0m             \u001b[0mLOCKS\u001b[0m\u001b[0;34m[\u001b[0m\u001b[0moracle\u001b[0m\u001b[0;34m]\u001b[0m\u001b[0;34m.\u001b[0m\u001b[0macquire\u001b[0m\u001b[0;34m(\u001b[0m\u001b[0;34m)\u001b[0m\u001b[0;34m\u001b[0m\u001b[0;34m\u001b[0m\u001b[0m\n\u001b[1;32m    106\u001b[0m             \u001b[0mTHREADS\u001b[0m\u001b[0;34m[\u001b[0m\u001b[0moracle\u001b[0m\u001b[0;34m]\u001b[0m \u001b[0;34m=\u001b[0m \u001b[0mthread_name\u001b[0m\u001b[0;34m\u001b[0m\u001b[0;34m\u001b[0m\u001b[0m\n\u001b[0;32m--> 107\u001b[0;31m         \u001b[0mret_val\u001b[0m \u001b[0;34m=\u001b[0m \u001b[0mfunc\u001b[0m\u001b[0;34m(\u001b[0m\u001b[0;34m*\u001b[0m\u001b[0margs\u001b[0m\u001b[0;34m,\u001b[0m \u001b[0;34m**\u001b[0m\u001b[0mkwargs\u001b[0m\u001b[0;34m)\u001b[0m\u001b[0;34m\u001b[0m\u001b[0;34m\u001b[0m\u001b[0m\n\u001b[0m\u001b[1;32m    108\u001b[0m         \u001b[0;32mif\u001b[0m \u001b[0mneed_acquire\u001b[0m\u001b[0;34m:\u001b[0m\u001b[0;34m\u001b[0m\u001b[0;34m\u001b[0m\u001b[0m\n\u001b[1;32m    109\u001b[0m             \u001b[0mTHREADS\u001b[0m\u001b[0;34m[\u001b[0m\u001b[0moracle\u001b[0m\u001b[0;34m]\u001b[0m \u001b[0;34m=\u001b[0m \u001b[0;32mNone\u001b[0m\u001b[0;34m\u001b[0m\u001b[0;34m\u001b[0m\u001b[0m\n",
            "\u001b[0;32m/usr/local/lib/python3.10/dist-packages/keras_tuner/engine/oracle.py\u001b[0m in \u001b[0;36mend_trial\u001b[0;34m(self, trial)\u001b[0m\n\u001b[1;32m    432\u001b[0m         \u001b[0;32mif\u001b[0m \u001b[0;32mnot\u001b[0m \u001b[0mself\u001b[0m\u001b[0;34m.\u001b[0m\u001b[0m_retry\u001b[0m\u001b[0;34m(\u001b[0m\u001b[0mtrial\u001b[0m\u001b[0;34m)\u001b[0m\u001b[0;34m:\u001b[0m\u001b[0;34m\u001b[0m\u001b[0;34m\u001b[0m\u001b[0m\n\u001b[1;32m    433\u001b[0m             \u001b[0mself\u001b[0m\u001b[0;34m.\u001b[0m\u001b[0mend_order\u001b[0m\u001b[0;34m.\u001b[0m\u001b[0mappend\u001b[0m\u001b[0;34m(\u001b[0m\u001b[0mtrial\u001b[0m\u001b[0;34m.\u001b[0m\u001b[0mtrial_id\u001b[0m\u001b[0;34m)\u001b[0m\u001b[0;34m\u001b[0m\u001b[0;34m\u001b[0m\u001b[0m\n\u001b[0;32m--> 434\u001b[0;31m             \u001b[0mself\u001b[0m\u001b[0;34m.\u001b[0m\u001b[0m_check_consecutive_failures\u001b[0m\u001b[0;34m(\u001b[0m\u001b[0;34m)\u001b[0m\u001b[0;34m\u001b[0m\u001b[0;34m\u001b[0m\u001b[0m\n\u001b[0m\u001b[1;32m    435\u001b[0m \u001b[0;34m\u001b[0m\u001b[0m\n\u001b[1;32m    436\u001b[0m         \u001b[0mself\u001b[0m\u001b[0;34m.\u001b[0m\u001b[0m_save_trial\u001b[0m\u001b[0;34m(\u001b[0m\u001b[0mtrial\u001b[0m\u001b[0;34m)\u001b[0m\u001b[0;34m\u001b[0m\u001b[0;34m\u001b[0m\u001b[0m\n",
            "\u001b[0;32m/usr/local/lib/python3.10/dist-packages/keras_tuner/engine/oracle.py\u001b[0m in \u001b[0;36m_check_consecutive_failures\u001b[0;34m(self)\u001b[0m\n\u001b[1;32m    384\u001b[0m                 \u001b[0mconsecutive_failures\u001b[0m \u001b[0;34m=\u001b[0m \u001b[0;36m0\u001b[0m\u001b[0;34m\u001b[0m\u001b[0;34m\u001b[0m\u001b[0m\n\u001b[1;32m    385\u001b[0m             \u001b[0;32mif\u001b[0m \u001b[0mconsecutive_failures\u001b[0m \u001b[0;34m==\u001b[0m \u001b[0mself\u001b[0m\u001b[0;34m.\u001b[0m\u001b[0mmax_consecutive_failed_trials\u001b[0m\u001b[0;34m:\u001b[0m\u001b[0;34m\u001b[0m\u001b[0;34m\u001b[0m\u001b[0m\n\u001b[0;32m--> 386\u001b[0;31m                 raise RuntimeError(\n\u001b[0m\u001b[1;32m    387\u001b[0m                     \u001b[0;34m\"Number of consecutive failures excceeded the limit \"\u001b[0m\u001b[0;34m\u001b[0m\u001b[0;34m\u001b[0m\u001b[0m\n\u001b[1;32m    388\u001b[0m                     \u001b[0;34mf\"of {self.max_consecutive_failed_trials}.\\n\"\u001b[0m\u001b[0;34m\u001b[0m\u001b[0;34m\u001b[0m\u001b[0m\n",
            "\u001b[0;31mRuntimeError\u001b[0m: Number of consecutive failures excceeded the limit of 3.\nTraceback (most recent call last):\n  File \"/usr/local/lib/python3.10/dist-packages/keras_tuner/engine/base_tuner.py\", line 270, in _try_run_and_update_trial\n    self._run_and_update_trial(trial, *fit_args, **fit_kwargs)\n  File \"/usr/local/lib/python3.10/dist-packages/keras_tuner/engine/base_tuner.py\", line 235, in _run_and_update_trial\n    results = self.run_trial(trial, *fit_args, **fit_kwargs)\n  File \"/usr/local/lib/python3.10/dist-packages/keras_tuner/tuners/hyperband.py\", line 425, in run_trial\n    return super().run_trial(trial, *fit_args, **fit_kwargs)\n  File \"/usr/local/lib/python3.10/dist-packages/keras_tuner/engine/tuner.py\", line 287, in run_trial\n    obj_value = self._build_and_fit_model(trial, *args, **copied_kwargs)\n  File \"/usr/local/lib/python3.10/dist-packages/keras_tuner/engine/tuner.py\", line 214, in _build_and_fit_model\n    results = self.hypermodel.fit(hp, model, *args, **kwargs)\n  File \"<ipython-input-100-ccd5f1b00e47>\", line 42, in fit\n    return model.fit(\n  File \"/usr/local/lib/python3.10/dist-packages/keras/engine/training_v1.py\", line 856, in fit\n    return func.fit(\n  File \"/usr/local/lib/python3.10/dist-packages/keras/engine/training_arrays_v1.py\", line 734, in fit\n    return fit_loop(\n  File \"/usr/local/lib/python3.10/dist-packages/keras/engine/training_arrays_v1.py\", line 421, in model_iteration\n    batch_outs = f(ins_batch)\n  File \"/usr/local/lib/python3.10/dist-packages/keras/backend.py\", line 4608, in __call__\n    fetched = self._callable_fn(*array_vals, run_metadata=self.run_metadata)\n  File \"/usr/local/lib/python3.10/dist-packages/tensorflow/python/client/session.py\", line 1481, in __call__\n    ret = tf_session.TF_SessionRunCallable(self._session._session,\ntensorflow.python.framework.errors_impl.ResourceExhaustedError: 2 root error(s) found.\n  (0) RESOURCE_EXHAUSTED: OOM when allocating tensor with shape[256,1024] and type float on /job:localhost/replica:0/task:0/device:GPU:0 by allocator GPU_0_bfc\n\t [[{{function_node lstm_while_body_15665_rewritten}}{{node lstm_cell/split}}]]\nHint: If you want to see a list of allocated tensors when OOM happens, add report_tensor_allocations_upon_oom to RunOptions for current allocation info. This isn't available when running in Eager mode.\n\n\t [[metrics/accuracy/Identity/_103]]\nHint: If you want to see a list of allocated tensors when OOM happens, add report_tensor_allocations_upon_oom to RunOptions for current allocation info. This isn't available when running in Eager mode.\n\n  (1) RESOURCE_EXHAUSTED: OOM when allocating tensor with shape[256,1024] and type float on /job:localhost/replica:0/task:0/device:GPU:0 by allocator GPU_0_bfc\n\t [[{{function_node lstm_while_body_15665_rewritten}}{{node lstm_cell/split}}]]\nHint: If you want to see a list of allocated tensors when OOM happens, add report_tensor_allocations_upon_oom to RunOptions for current allocation info. This isn't available when running in Eager mode.\n\n0 successful operations.\n0 derived errors ignored.\n"
          ]
        }
      ],
      "source": [
        "tuner.search(data, multihot_X, epochs=50, validation_split=0.2, callbacks=[stop_early])\n",
        "\n",
        "# Get the optimal hyperparameters\n",
        "best_hps = tuner.get_best_hyperparameters(num_trials=1)[0]\n",
        "\n",
        "print(f\"\"\"\n",
        "The hyperparameter search is complete. The optimal learning rate for the optimizer\n",
        "is {best_hps.get('learning_rate')}.\n",
        "\"\"\")"
      ]
    },
    {
      "cell_type": "markdown",
      "metadata": {
        "id": "vnR0Coko3FMR"
      },
      "source": [
        "## Best model"
      ]
    },
    {
      "cell_type": "code",
      "execution_count": 104,
      "metadata": {
        "colab": {
          "base_uri": "https://localhost:8080/"
        },
        "id": "I-xRweTq3FMR",
        "outputId": "21734141-6f6d-420c-9145-3660415ce1ad"
      },
      "outputs": [
        {
          "output_type": "stream",
          "name": "stderr",
          "text": [
            "WARNING:tensorflow:Layer lstm will not use cuDNN kernels since it doesn't meet the criteria. It will use a generic GPU kernel as fallback when running on GPU.\n"
          ]
        },
        {
          "output_type": "stream",
          "name": "stdout",
          "text": [
            "Model: \"model\"\n",
            "_________________________________________________________________\n",
            " Layer (type)                Output Shape              Param #   \n",
            "=================================================================\n",
            " input_1 (InputLayer)        [(None, 925)]             0         \n",
            "                                                                 \n",
            " embedding (Embedding)       (None, 925, 300)          12000000  \n",
            "                                                                 \n",
            " lstm (LSTM)                 (None, 256)               570368    \n",
            "                                                                 \n",
            " dense (Dense)               (None, 55)                14135     \n",
            "                                                                 \n",
            "=================================================================\n",
            "Total params: 12,584,503\n",
            "Trainable params: 584,503\n",
            "Non-trainable params: 12,000,000\n",
            "_________________________________________________________________\n"
          ]
        }
      ],
      "source": [
        "best_model = tuner.get_best_models()[0]\n",
        "best_model.summary()"
      ]
    },
    {
      "cell_type": "code",
      "execution_count": 105,
      "metadata": {
        "id": "vwYcm8fw3FMS"
      },
      "outputs": [],
      "source": [
        "best_hps = tuner.get_best_hyperparameters()[0]"
      ]
    },
    {
      "cell_type": "code",
      "execution_count": 106,
      "metadata": {
        "colab": {
          "base_uri": "https://localhost:8080/"
        },
        "id": "qWWx6c093FMS",
        "outputId": "8d0bff4e-9369-4a51-dee5-d7496564576d"
      },
      "outputs": [
        {
          "output_type": "execute_result",
          "data": {
            "text/plain": [
              "[Int(name: 'lstm_units', min_value: 256, max_value: 1024, step: 256, sampling: linear, default: 256),\n",
              " Choice(name: 'add_dense_layers', values: [0, 1], ordered: True, default: 0),\n",
              " Choice(name: 'learning_rate', values: [0.01, 0.001, 0.0001], ordered: True, default: 0.01),\n",
              " Int(name: 'dense_layer_0_units', min_value: 8, max_value: 256, step: 16, sampling: linear, default: 8),\n",
              " Choice(name: 'batch_size', values: [128, 256, 512], ordered: True, default: 128)]"
            ]
          },
          "metadata": {},
          "execution_count": 106
        }
      ],
      "source": [
        "best_hps.space"
      ]
    },
    {
      "cell_type": "code",
      "source": [
        "batch_size = best_hps.space[-1].default"
      ],
      "metadata": {
        "id": "e_-HulfT9a4b"
      },
      "execution_count": 117,
      "outputs": []
    },
    {
      "cell_type": "code",
      "execution_count": 107,
      "metadata": {
        "colab": {
          "base_uri": "https://localhost:8080/"
        },
        "id": "UTYsZDQe3FMS",
        "outputId": "ebde50b7-eba1-4847-be56-e7aa45e96380"
      },
      "outputs": [
        {
          "output_type": "stream",
          "name": "stderr",
          "text": [
            "WARNING:tensorflow:Layer lstm_1 will not use cuDNN kernels since it doesn't meet the criteria. It will use a generic GPU kernel as fallback when running on GPU.\n"
          ]
        }
      ],
      "source": [
        "rnn_model = tuner.hypermodel.build(best_hps)"
      ]
    },
    {
      "cell_type": "code",
      "execution_count": 108,
      "metadata": {
        "id": "-TB8KE4B3FMS"
      },
      "outputs": [],
      "source": [
        "# create checkpoint\n",
        "rnn_checkpoint_filepath = 'rnn_model_under_100.h5'\n",
        "rnn_model_checkpoint_callback = tf.keras.callbacks.ModelCheckpoint(\n",
        "    filepath=f'checkpoints/{rnn_checkpoint_filepath}',\n",
        "    save_weights_only=True,\n",
        "    monitor='val_loss',\n",
        "    mode='min',\n",
        "    save_best_only=True\n",
        ")"
      ]
    },
    {
      "cell_type": "code",
      "execution_count": 118,
      "metadata": {
        "colab": {
          "base_uri": "https://localhost:8080/"
        },
        "id": "IGmdL7Jy3FMS",
        "outputId": "237aabff-2162-4666-bb74-19e04fd72537"
      },
      "outputs": [
        {
          "output_type": "stream",
          "name": "stdout",
          "text": [
            "Train on 3348 samples, validate on 838 samples\n",
            "Epoch 1/10\n",
            "3348/3348 [==============================] - 15s 4ms/sample - loss: 0.8734 - accuracy: 0.1246 - f1: 0.1280 - val_loss: 0.9047 - val_accuracy: 0.3317 - val_f1: 0.0946\n",
            "Epoch 2/10\n",
            "3348/3348 [==============================] - 14s 4ms/sample - loss: 0.8624 - accuracy: 0.1780 - f1: 0.1396 - val_loss: 0.8914 - val_accuracy: 0.3126 - val_f1: 0.1112\n",
            "Epoch 3/10\n",
            "3348/3348 [==============================] - 14s 4ms/sample - loss: 0.8506 - accuracy: 0.1732 - f1: 0.1530 - val_loss: 0.8906 - val_accuracy: 0.0800 - val_f1: 0.1093\n",
            "Epoch 4/10\n",
            "3348/3348 [==============================] - 14s 4ms/sample - loss: 0.8456 - accuracy: 0.0759 - f1: 0.1584 - val_loss: 0.8946 - val_accuracy: 0.2220 - val_f1: 0.1010\n",
            "Epoch 5/10\n",
            "3348/3348 [==============================] - 15s 5ms/sample - loss: 0.8314 - accuracy: 0.1063 - f1: 0.1764 - val_loss: 0.8917 - val_accuracy: 0.0979 - val_f1: 0.1141\n",
            "Epoch 6/10\n",
            "3348/3348 [==============================] - 14s 4ms/sample - loss: 0.8140 - accuracy: 0.0986 - f1: 0.1975 - val_loss: 0.8942 - val_accuracy: 0.2148 - val_f1: 0.1037\n",
            "Epoch 7/10\n",
            "3348/3348 [==============================] - 14s 4ms/sample - loss: 0.7913 - accuracy: 0.1299 - f1: 0.2234 - val_loss: 0.8957 - val_accuracy: 0.0656 - val_f1: 0.0999\n",
            "Epoch 8/10\n",
            "3348/3348 [==============================] - 14s 4ms/sample - loss: 0.7721 - accuracy: 0.1269 - f1: 0.2449 - val_loss: 0.9078 - val_accuracy: 0.2518 - val_f1: 0.0859\n",
            "Epoch 9/10\n",
            "3348/3348 [==============================] - 14s 4ms/sample - loss: 0.7473 - accuracy: 0.1535 - f1: 0.2717 - val_loss: 0.8996 - val_accuracy: 0.1516 - val_f1: 0.1014\n",
            "Epoch 10/10\n",
            "3348/3348 [==============================] - 13s 4ms/sample - loss: 0.7147 - accuracy: 0.1765 - f1: 0.3058 - val_loss: 0.9070 - val_accuracy: 0.2625 - val_f1: 0.0858\n"
          ]
        }
      ],
      "source": [
        "history_best_model = execute_model(rnn_model, data, multihot_X, epochs=10, batch_size=batch_size, validation_split=0.2, model_checkpoint_callback=rnn_model_checkpoint_callback, checkpoint_filepath=rnn_checkpoint_filepath)"
      ]
    },
    {
      "cell_type": "code",
      "execution_count": 119,
      "metadata": {
        "colab": {
          "base_uri": "https://localhost:8080/",
          "height": 800
        },
        "id": "m4i18iJT3FMS",
        "outputId": "7f257f93-f675-4b10-dfec-2c6e42980672"
      },
      "outputs": [
        {
          "output_type": "display_data",
          "data": {
            "text/plain": [
              "<Figure size 1600x900 with 2 Axes>"
            ],
            "image/png": "[encoded data removed]"
          },
          "metadata": {}
        }
      ],
      "source": [
        "if history_best_model:\n",
        "    plot_history(history_best_model, metric='f1')"
      ]
    },
    {
      "cell_type": "markdown",
      "metadata": {
        "id": "dzpMuMQ63FMT"
      },
      "source": [
        "## Predictions"
      ]
    },
    {
      "cell_type": "code",
      "execution_count": 120,
      "metadata": {
        "id": "sq7La8IG3FMT"
      },
      "outputs": [],
      "source": [
        "# predict one value\n",
        "def predict(model, texts, tokenizer):\n",
        "    # encode\n",
        "    _, _, data = tokenize_and_add_padding(texts, tokenizer, MAX_SEQUENCE_LENGTH)\n",
        "    # predict\n",
        "    yhat = model.predict(data, verbose=0)\n",
        "    return yhat"
      ]
    },
    {
      "cell_type": "code",
      "execution_count": 121,
      "metadata": {
        "id": "NyaJjkG_3FMT"
      },
      "outputs": [],
      "source": [
        "data_to_predict = [abstracts[0]]"
      ]
    },
    {
      "cell_type": "code",
      "execution_count": 122,
      "metadata": {
        "id": "pxihReU63FMT"
      },
      "outputs": [],
      "source": [
        "existing_keys = []\n",
        "for target in targets_under_X:\n",
        "    for key in target:\n",
        "        existing_keys.append(key)"
      ]
    },
    {
      "cell_type": "code",
      "execution_count": 123,
      "metadata": {
        "colab": {
          "base_uri": "https://localhost:8080/",
          "height": 35
        },
        "id": "3E9R9ke13FMT",
        "outputId": "8a42b75d-5616-4871-ab74-a65ee7838a54"
      },
      "outputs": [
        {
          "output_type": "execute_result",
          "data": {
            "text/plain": [
              "'clustering'"
            ],
            "application/vnd.google.colaboratory.intrinsic+json": {
              "type": "string"
            }
          },
          "metadata": {},
          "execution_count": 123
        }
      ],
      "source": [
        "existing_keys[0]"
      ]
    },
    {
      "cell_type": "markdown",
      "metadata": {
        "id": "LbnfKcFL3FMT"
      },
      "source": [
        "#### CNN"
      ]
    },
    {
      "cell_type": "code",
      "execution_count": 124,
      "metadata": {
        "colab": {
          "base_uri": "https://localhost:8080/"
        },
        "id": "WdAn5EJr3FMU",
        "outputId": "50cdef90-c46a-4333-8b7a-e9db773b776c"
      },
      "outputs": [
        {
          "output_type": "stream",
          "name": "stdout",
          "text": [
            "Shape of data tensor: (1, 925)\n",
            "Found 12352 unique tokens.\n"
          ]
        },
        {
          "output_type": "stream",
          "name": "stderr",
          "text": [
            "/usr/local/lib/python3.10/dist-packages/keras/engine/training_v1.py:2359: UserWarning: `Model.state_updates` will be removed in a future version. This property should not be used in TensorFlow 2.0, as `updates` are applied automatically.\n",
            "  updates=self.state_updates,\n"
          ]
        }
      ],
      "source": [
        "with cnn_graph.as_default():\n",
        "    if os.path.exists(f'checkpoints/{cnn_checkpoint_filepath}'):\n",
        "        cnn_model.load_weights(f'checkpoints/{cnn_checkpoint_filepath}')\n",
        "    cnn_predictions = predict(cnn_model, data_to_predict, tokenizer)"
      ]
    },
    {
      "cell_type": "code",
      "execution_count": 135,
      "metadata": {
        "colab": {
          "base_uri": "https://localhost:8080/"
        },
        "id": "4om3F30U3FMU",
        "outputId": "c83e8b47-8a3d-431f-aabb-420af747bd62"
      },
      "outputs": [
        {
          "output_type": "execute_result",
          "data": {
            "text/plain": [
              "array([ 5,  0, 54,  1, 41, 23])"
            ]
          },
          "metadata": {},
          "execution_count": 135
        }
      ],
      "source": [
        "# sort predictions ascending order and get the top 5\n",
        "cnn_top_5 = np.argsort(cnn_predictions[0])[-6:]\n",
        "cnn_top_5"
      ]
    },
    {
      "cell_type": "code",
      "source": [
        "cnn_top_5 = cnn_top_5[cnn_top_5 != 0]"
      ],
      "metadata": {
        "id": "rZkGODec_Rs_"
      },
      "execution_count": 136,
      "outputs": []
    },
    {
      "cell_type": "code",
      "execution_count": 145,
      "metadata": {
        "colab": {
          "base_uri": "https://localhost:8080/"
        },
        "id": "sQ3tcMOW3FMU",
        "outputId": "7689964c-836f-44b0-cc1f-bfe52930af6b"
      },
      "outputs": [
        {
          "output_type": "execute_result",
          "data": {
            "text/plain": [
              "['machine learning',\n",
              " 'feature extraction',\n",
              " 'measurement',\n",
              " 'standards',\n",
              " 'robustness']"
            ]
          },
          "metadata": {},
          "execution_count": 145
        }
      ],
      "source": [
        "cnn_keys = []\n",
        "for key in y_word_indexX:\n",
        "    if y_word_indexX[key] in cnn_top_5 and len(cnn_keys) != 5:\n",
        "        cnn_keys.append(key)\n",
        "\n",
        "cnn_keys"
      ]
    },
    {
      "cell_type": "markdown",
      "metadata": {
        "id": "0CDy_Dj43FMU"
      },
      "source": [
        "#### RNN"
      ]
    },
    {
      "cell_type": "code",
      "execution_count": 138,
      "metadata": {
        "id": "tyXpIqny3FMU"
      },
      "outputs": [],
      "source": [
        "if os.path.exists(f'checkpoints/{rnn_checkpoint_filepath}'):\n",
        "    rnn_model.load_weights(f'checkpoints/{rnn_checkpoint_filepath}')"
      ]
    },
    {
      "cell_type": "code",
      "execution_count": 139,
      "metadata": {
        "colab": {
          "base_uri": "https://localhost:8080/"
        },
        "id": "hb9C3yh03FMV",
        "outputId": "84301862-f502-45de-ed93-53b189a6bd16"
      },
      "outputs": [
        {
          "output_type": "stream",
          "name": "stdout",
          "text": [
            "Shape of data tensor: (1, 925)\n",
            "Found 12352 unique tokens.\n"
          ]
        }
      ],
      "source": [
        "rnn_predictions = predict(rnn_model, data_to_predict, tokenizer)"
      ]
    },
    {
      "cell_type": "code",
      "execution_count": 140,
      "metadata": {
        "colab": {
          "base_uri": "https://localhost:8080/"
        },
        "id": "pijXjf223FMV",
        "outputId": "a68b9cca-9162-460f-f611-c461244f90db"
      },
      "outputs": [
        {
          "output_type": "execute_result",
          "data": {
            "text/plain": [
              "array([ 3, 16,  1, 37, 10, 31])"
            ]
          },
          "metadata": {},
          "execution_count": 140
        }
      ],
      "source": [
        "# sort predictions ascending order and get the top 5\n",
        "rnn_top_5 = np.argsort(rnn_predictions[0])[-6:]\n",
        "rnn_top_5"
      ]
    },
    {
      "cell_type": "code",
      "source": [
        "rnn_top_5 = rnn_top_5[rnn_top_5 != 0]"
      ],
      "metadata": {
        "id": "eBrOhDPY_o93"
      },
      "execution_count": 141,
      "outputs": []
    },
    {
      "cell_type": "code",
      "execution_count": 144,
      "metadata": {
        "colab": {
          "base_uri": "https://localhost:8080/"
        },
        "id": "pajw9BM63FMW",
        "outputId": "973cf7dc-0689-4a23-e6c2-61b6252ad207"
      },
      "outputs": [
        {
          "output_type": "execute_result",
          "data": {
            "text/plain": [
              "['machine learning',\n",
              " 'neural networks',\n",
              " 'detection',\n",
              " 'deep learning',\n",
              " 'computer science']"
            ]
          },
          "metadata": {},
          "execution_count": 144
        }
      ],
      "source": [
        "rnn_keys = []\n",
        "for key in y_word_indexX:\n",
        "    if y_word_indexX[key] in rnn_top_5 and len(rnn_keys) != 5:\n",
        "        rnn_keys.append(key)\n",
        "\n",
        "rnn_keys"
      ]
    },
    {
      "cell_type": "markdown",
      "metadata": {
        "id": "7kHetndM3FMW"
      },
      "source": [
        "## RNN Tests"
      ]
    },
    {
      "cell_type": "markdown",
      "metadata": {
        "id": "fbbYnVkcqROn"
      },
      "source": [
        "### With LSTM"
      ]
    },
    {
      "cell_type": "code",
      "execution_count": null,
      "metadata": {
        "id": "tRFWz1HVqTiF"
      },
      "outputs": [],
      "source": [
        "from keras import layers\n",
        "\n",
        "rnn_lstm = tf.keras.Sequential()\n",
        "\n",
        "rnn_lstm.add(embedding_layer)\n",
        "\n",
        "rnn_lstm.add(layers.LSTM(150))\n",
        "rnn_lstm.add(layers.Dropout(0.5))\n",
        "rnn_lstm.add(layers.Dense(OUTPUT_SIZE_UNDER_X+1, activation='sigmoid'))\n",
        "\n",
        "rnn_lstm.summary()"
      ]
    },
    {
      "cell_type": "code",
      "execution_count": null,
      "metadata": {
        "id": "3K2Xnk13qhZB"
      },
      "outputs": [],
      "source": [
        "# Compile the model with F1 score metric\n",
        "rnn_lstm.compile(\n",
        "    optimizer='adam', #tf.keras.optimizers.RMSprop(learning_rate=0.01),\n",
        "    loss=f1_loss,\n",
        "    metrics=['accuracy', f1]\n",
        ")"
      ]
    },
    {
      "cell_type": "code",
      "execution_count": null,
      "metadata": {
        "id": "wXUG1BISqisH"
      },
      "outputs": [],
      "source": [
        "history_rnn_lstm = rnn_lstm.fit(data, multihot_X, validation_split=0.2 ,epochs=10)"
      ]
    },
    {
      "cell_type": "code",
      "execution_count": null,
      "metadata": {
        "id": "DlUJsAsorOH8"
      },
      "outputs": [],
      "source": [
        "plot_history(history_rnn_lstm, metric='f1')"
      ]
    },
    {
      "cell_type": "markdown",
      "metadata": {
        "id": "yd86QXosqNdR"
      },
      "source": [
        "### With GRU"
      ]
    },
    {
      "cell_type": "code",
      "execution_count": null,
      "metadata": {
        "id": "Ism4hnlek-If"
      },
      "outputs": [],
      "source": [
        "from keras import layers\n",
        "\n",
        "rnn = tf.keras.Sequential()\n",
        "\n",
        "rnn.add(embedding_layer)\n",
        "\n",
        "rnn.add(layers.GRU(128))\n",
        "rnn.add(layers.Dropout(0.5))\n",
        "rnn.add(layers.Dense(OUTPUT_SIZE_UNDER_X+1, activation='sigmoid'))\n",
        "\n",
        "rnn.summary()"
      ]
    },
    {
      "cell_type": "code",
      "execution_count": null,
      "metadata": {
        "id": "oa3-DH35lDHB"
      },
      "outputs": [],
      "source": [
        "# Compile the model with F1 score metric\n",
        "rnn.compile(\n",
        "    optimizer='adam', #tf.keras.optimizers.RMSprop(learning_rate=0.01),\n",
        "    loss=f1_loss,\n",
        "    metrics=['accuracy', f1]\n",
        ")"
      ]
    },
    {
      "cell_type": "code",
      "execution_count": null,
      "metadata": {
        "id": "VTAhGEEMlEj9"
      },
      "outputs": [],
      "source": [
        "history_rnn = rnn.fit(data, multihot_X, validation_split=0.2 ,epochs=10)"
      ]
    },
    {
      "cell_type": "code",
      "execution_count": null,
      "metadata": {
        "id": "OF2Or3j-lGxq"
      },
      "outputs": [],
      "source": [
        "plot_history(history_rnn, metric='f1')"
      ]
    },
    {
      "cell_type": "markdown",
      "metadata": {
        "id": "VrtRLkN2zcvY"
      },
      "source": [
        "# Example (Some tests to dabstracts)\n",
        "\n",
        "Conocimiento cogido de https://www.nltk.org/book/"
      ]
    },
    {
      "cell_type": "code",
      "execution_count": null,
      "metadata": {
        "id": "apkQJyH1s9rq"
      },
      "outputs": [],
      "source": [
        "example = X.values[0]\n",
        "example"
      ]
    },
    {
      "cell_type": "code",
      "execution_count": null,
      "metadata": {
        "id": "bQgd4qZDtAjc"
      },
      "outputs": [],
      "source": [
        "tokens = nltk.word_tokenize(example.lower())\n",
        "tokens[:5]  # Los puntos, comas y demás también se separan"
      ]
    },
    {
      "cell_type": "markdown",
      "metadata": {
        "id": "mbCCc5Jxuji-"
      },
      "source": [
        "### Frecuencia\n",
        "\n",
        "En las siguientes celdas se mostrará información sobre la frecuencia de las palabras. Es decir, el número de veces que se repite una palabra."
      ]
    },
    {
      "cell_type": "code",
      "execution_count": null,
      "metadata": {
        "id": "LsLzaWnhtmEc"
      },
      "outputs": [],
      "source": [
        "fdist1 = nltk.punkt.FreqDist(tokens)"
      ]
    },
    {
      "cell_type": "code",
      "execution_count": null,
      "metadata": {
        "id": "uqdvfX0GvaZk"
      },
      "outputs": [],
      "source": [
        "fdist1.most_common(10)"
      ]
    },
    {
      "cell_type": "code",
      "execution_count": null,
      "metadata": {
        "id": "yqziQAgdx4RR"
      },
      "outputs": [],
      "source": [
        "type(fdist1)"
      ]
    },
    {
      "cell_type": "code",
      "execution_count": null,
      "metadata": {
        "id": "mGcvVGqyxnXU"
      },
      "outputs": [],
      "source": [
        "fdist1.plot(title=\"Frecuencia de example\")"
      ]
    },
    {
      "cell_type": "markdown",
      "metadata": {
        "id": "QOjnrDYpzFyT"
      },
      "source": [
        "Como se puede observar, en el abstract de example, se tienen muchos valores que solo aparecen una vez, también son llamados `hapaxes`. Esto no puede interesar, porque si existen palabras con pocas repeticiones en todos los abstracts, entonces las podemos eliminar."
      ]
    },
    {
      "cell_type": "code",
      "execution_count": null,
      "metadata": {
        "id": "0s6xzXAwxanL"
      },
      "outputs": [],
      "source": [
        "print(f'Nº de palabras únicas: {len(fdist1.hapaxes())}, ejemplos: {fdist1.hapaxes()[:5]}')"
      ]
    },
    {
      "cell_type": "markdown",
      "metadata": {
        "id": "UdY0DEKV0aqy"
      },
      "source": [
        "Bigramas. Son secuencias de palabras. Por ejemplo, `vino rojo`. Esto es importante, ya que `vino marrón` suena muy mal. Por supuesto, al coger bigramas, estamos cogiendo conjuntos de dos datos. Lo que signigica que habrá muchos que no tengan sentido.\n",
        "\n",
        "Lo bueno, `nltk` tiene un modulo llamado `collocations` que genera **bigramas** más \"importantes\" o que, se pueden \"encontrar\" en la realidad. Estos valores se sacan con una tabla de **contingencia**.\n",
        "\n",
        "https://tedboy.github.io/nlps/generated/generated/nltk.BigramAssocMeasures.html"
      ]
    },
    {
      "cell_type": "code",
      "execution_count": null,
      "metadata": {
        "id": "4zCzPy9uyV1y"
      },
      "outputs": [],
      "source": [
        "list(nltk.bigrams(tokens))"
      ]
    },
    {
      "cell_type": "code",
      "execution_count": null,
      "metadata": {
        "id": "oF2LMWj71WPP"
      },
      "outputs": [],
      "source": [
        "b_finder = nltk.collocations.BigramCollocationFinder.from_words(tokens)"
      ]
    },
    {
      "cell_type": "code",
      "execution_count": null,
      "metadata": {
        "id": "-4vjyTVe2k92"
      },
      "outputs": [],
      "source": [
        "bigram_measures = nltk.collocations.BigramAssocMeasures()"
      ]
    },
    {
      "cell_type": "code",
      "execution_count": null,
      "metadata": {
        "id": "aFD4nX5h14U_"
      },
      "outputs": [],
      "source": [
        "b_finder.nbest(bigram_measures.pmi, 10)"
      ]
    },
    {
      "cell_type": "markdown",
      "metadata": {
        "id": "lcYxNL3z4E7I"
      },
      "source": [
        "También se pueden contar el número de veces que aparece el tamaño de las palabras."
      ]
    },
    {
      "cell_type": "code",
      "execution_count": null,
      "metadata": {
        "id": "WeN-tpRR2h55"
      },
      "outputs": [],
      "source": [
        "fdLen = nltk.punkt.FreqDist(len(w) for w in tokens)"
      ]
    },
    {
      "cell_type": "code",
      "execution_count": null,
      "metadata": {
        "id": "UrO0ZtZ24dZH"
      },
      "outputs": [],
      "source": [
        "max = fdLen.max()\n",
        "print(f'El tamaño de las palabras más repetidas es {max}:\\n\\t- Frecuencia : {fdLen[max]}\\n\\t- Frecuencia (%): {fdLen.freq(max)}')"
      ]
    },
    {
      "cell_type": "code",
      "execution_count": null,
      "metadata": {
        "id": "vC0IJsHF4f3b"
      },
      "outputs": [],
      "source": [
        "print(f'Número total de samples: {fdLen.N()}')"
      ]
    },
    {
      "cell_type": "markdown",
      "metadata": {
        "id": "YJTyuiGc7kwX"
      },
      "source": [
        "### Best way to do everything earlier\n",
        "\n",
        "Converting the string into a nltk.Text(), using the `stopwords` dataset, we can see that the collocations are way better than earlier."
      ]
    },
    {
      "cell_type": "code",
      "execution_count": null,
      "metadata": {
        "id": "W7LuW5mI7y1b"
      },
      "outputs": [],
      "source": [
        "text = nltk.Text(tokens)\n",
        "text[:5]"
      ]
    },
    {
      "cell_type": "code",
      "execution_count": null,
      "metadata": {
        "id": "xdVIYR_R-byq"
      },
      "outputs": [],
      "source": [
        "text.collocations()"
      ]
    },
    {
      "cell_type": "markdown",
      "metadata": {
        "id": "NHRCRjaY_t4i"
      },
      "source": [
        "### Tagging\n",
        "\n",
        "Lo que mola de `nltk`, es que, una vez tienes las palabras, puedes clasificar las palabras. Usa el paquete: `averaged_perceptron_tagger`\n",
        "\n",
        "- `cc` coordinating conjunction\n",
        "- `rb` adverbs\n",
        "- `in` preposition\n",
        "- `nn` noun\n",
        "- `jj` adjective\n",
        "- `vbp` verb"
      ]
    },
    {
      "cell_type": "markdown",
      "metadata": {
        "id": "e3rWzbt0AiaB"
      },
      "source": [
        "#### Pos_tagger"
      ]
    },
    {
      "cell_type": "code",
      "execution_count": null,
      "metadata": {
        "id": "jxrVQnZq-dZf"
      },
      "outputs": [],
      "source": [
        "tags = nltk.pos_tag(tokens)\n",
        "tags[:5]"
      ]
    },
    {
      "cell_type": "code",
      "execution_count": null,
      "metadata": {
        "id": "3yj4J2yPEXR0"
      },
      "outputs": [],
      "source": [
        "len(tags)"
      ]
    },
    {
      "cell_type": "code",
      "execution_count": null,
      "metadata": {
        "id": "bfQ4l0weAHBI"
      },
      "outputs": [],
      "source": [
        "# get rid of prepositions\n",
        "len([word for word, tag in tags if tag != 'IN'])"
      ]
    },
    {
      "cell_type": "code",
      "execution_count": null,
      "metadata": {
        "id": "V2x9HSMkBaAx"
      },
      "outputs": [],
      "source": []
    }
  ],
  "metadata": {
    "accelerator": "GPU",
    "colab": {
      "collapsed_sections": [
        "KvXJ3l7QlOUV",
        "L3T2IgBQlSGG",
        "YJ0a69nNqAJJ",
        "jOYc78paLtGD",
        "ZwjnR0OuQ74g",
        "KFZsCG1-YL8_",
        "K81BhLqDaWiY",
        "BTlY130iZ6Vw",
        "eHvlkUA0bm5F",
        "IMPgugbLc8oD",
        "f4spkV8U9jBt",
        "9Q3flI3PMCtY",
        "fQl_reTHQz1p",
        "yZs9Vu3yUUfc",
        "UorBRppTVzdC",
        "TEtYOKeAQATs",
        "jor0KyGgcw-F",
        "SBowO-16eB-R",
        "ifi6uOdedRIU",
        "fAD2O2IvfvJh",
        "IPXLOiCxjQGr",
        "Ax0mCF8nhDgL",
        "HUe7UkP9Qd64",
        "yd86QXosqNdR",
        "VrtRLkN2zcvY",
        "mbCCc5Jxuji-",
        "YJTyuiGc7kwX"
      ],
      "provenance": []
    },
    "gpuClass": "standard",
    "kernelspec": {
      "display_name": "Python 3",
      "name": "python3"
    },
    "language_info": {
      "codemirror_mode": {
        "name": "ipython",
        "version": 3
      },
      "file_extension": ".py",
      "mimetype": "text/x-python",
      "name": "python",
      "nbconvert_exporter": "python",
      "pygments_lexer": "ipython3",
      "version": "3.10.6"
    }
  },
  "nbformat": 4,
  "nbformat_minor": 0
}