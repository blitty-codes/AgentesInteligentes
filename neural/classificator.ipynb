{
 "cells": [
  {
   "cell_type": "markdown",
   "id": "cvhgYqW3h9ZE",
   "metadata": {
    "id": "cvhgYqW3h9ZE"
   },
   "source": [
    "# Notas\n",
    "\n"
   ]
  },
  {
   "cell_type": "markdown",
   "id": "UbNyr9hwOg4E",
   "metadata": {
    "id": "UbNyr9hwOg4E"
   },
   "source": [
    "Pipeline sugerido: <br>\n",
    "![1-s2.0-S092523121931687X-gr1.jpg](data:image/jpeg;base64,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)"
   ]
  },
  {
   "cell_type": "markdown",
   "id": "WNTBsnGjiDgx",
   "metadata": {
    "id": "WNTBsnGjiDgx"
   },
   "source": [
    "Fuente: https://reader.elsevier.com/reader/sd/pii/S092523121931687X?token=FC73D0A2D97F651107829FA32607FEB1805FAEC2511A5EE011CEBD5C1E56D90AD074665F19F578230F696CD46DB25CA2&originRegion=eu-west-1&originCreation=20230307084138"
   ]
  },
  {
   "cell_type": "code",
   "execution_count": 1,
   "id": "UsGhVXHVkQoZ",
   "metadata": {
    "id": "UsGhVXHVkQoZ"
   },
   "outputs": [
    {
     "name": "stderr",
     "output_type": "stream",
     "text": [
      "2023-03-28 15:28:19.459212: I tensorflow/core/platform/cpu_feature_guard.cc:193] This TensorFlow binary is optimized with oneAPI Deep Neural Network Library (oneDNN) to use the following CPU instructions in performance-critical operations:  AVX2 AVX512F AVX512_VNNI FMA\n",
      "To enable them in other operations, rebuild TensorFlow with the appropriate compiler flags.\n",
      "2023-03-28 15:28:19.606895: I tensorflow/core/util/port.cc:104] oneDNN custom operations are on. You may see slightly different numerical results due to floating-point round-off errors from different computation orders. To turn them off, set the environment variable `TF_ENABLE_ONEDNN_OPTS=0`.\n",
      "2023-03-28 15:28:19.610270: W tensorflow/compiler/xla/stream_executor/platform/default/dso_loader.cc:64] Could not load dynamic library 'libcudart.so.11.0'; dlerror: libcudart.so.11.0: cannot open shared object file: No such file or directory; LD_LIBRARY_PATH: \n",
      "2023-03-28 15:28:19.610285: I tensorflow/compiler/xla/stream_executor/cuda/cudart_stub.cc:29] Ignore above cudart dlerror if you do not have a GPU set up on your machine.\n",
      "2023-03-28 15:28:20.447222: W tensorflow/compiler/xla/stream_executor/platform/default/dso_loader.cc:64] Could not load dynamic library 'libnvinfer.so.7'; dlerror: libnvinfer.so.7: cannot open shared object file: No such file or directory; LD_LIBRARY_PATH: \n",
      "2023-03-28 15:28:20.447285: W tensorflow/compiler/xla/stream_executor/platform/default/dso_loader.cc:64] Could not load dynamic library 'libnvinfer_plugin.so.7'; dlerror: libnvinfer_plugin.so.7: cannot open shared object file: No such file or directory; LD_LIBRARY_PATH: \n",
      "2023-03-28 15:28:20.447291: W tensorflow/compiler/tf2tensorrt/utils/py_utils.cc:38] TF-TRT Warning: Cannot dlopen some TensorRT libraries. If you would like to use Nvidia GPU with TensorRT, please make sure the missing libraries mentioned above are installed properly.\n"
     ]
    }
   ],
   "source": [
    "import os.path\n",
    "import requests\n",
    "from shutil import unpack_archive\n",
    "\n",
    "import numpy as np\n",
    "import pandas as pd\n",
    "import tensorflow as tf\n",
    "\n",
    "import matplotlib.pyplot as plt"
   ]
  },
  {
   "cell_type": "markdown",
   "id": "Ly4ypP8kiHmU",
   "metadata": {
    "id": "Ly4ypP8kiHmU"
   },
   "source": [
    "# Preprocesamiento muy inicial de los datos"
   ]
  },
  {
   "cell_type": "code",
   "execution_count": 2,
   "id": "muRdKxy4iJvz",
   "metadata": {
    "id": "muRdKxy4iJvz"
   },
   "outputs": [],
   "source": [
    "# datos preparados\n",
    "url_datos_moodle = \"https://gist.githubusercontent.com/w-dan/b84bdbfbd86b610a89aa0aa57e6efb5e/raw/aeaffaa9d26c66678b697ecb9fd99fd0c8eaca52/papers.csv\""
   ]
  },
  {
   "cell_type": "code",
   "execution_count": 3,
   "id": "20SJGrJBiLsX",
   "metadata": {
    "colab": {
     "base_uri": "https://localhost:8080/",
     "height": 424
    },
    "id": "20SJGrJBiLsX",
    "outputId": "25970f49-c9de-4b81-9f75-2ada1ee910d0"
   },
   "outputs": [
    {
     "data": {
      "text/plain": "      id                                              title  \\\n0      1  Ensemble Statistical and Heuristic Models for ...   \n1      2  Improving Spectral Learning by Using Multiple ...   \n2      3  Applying Swarm Ensemble Clustering Technique f...   \n3      4      Reducing the Effects of Detrimental Instances   \n4      5         Concept Drift Awareness in Twitter Streams   \n..   ...                                                ...   \n443  444  A Machine Learning Tool for Supporting Advance...   \n444  445  Advanced ECHMM-Based Machine Learning Tools fo...   \n445  446  A Cluster Analysis of Challenging Behaviors in...   \n446  447  Predicting Psychosis Using the Experience Samp...   \n447  448  Bayesian Nonparametric Clustering of Patients ...   \n\n                                              abstract  Unnamed: 3  \\\n0    Statistical word alignment models need large a...         NaN   \n1    Spectral learning algorithms learn an unknown ...         NaN   \n2    Number of defects remaining in a system provid...         NaN   \n3    Not all instances in a data set are equally be...         NaN   \n4    Learning in non-stationary environments is not...         NaN   \n..                                                 ...         ...   \n443  In the current era of big data, high volumes o...         NaN   \n444  We present a novel approach for accurate chara...         NaN   \n445  We apply cluster analysis to a sample of 2,116...         NaN   \n446  Smart phones have become ubiquitous in the rec...         NaN   \n447  Bayesian nonparametric (BNP) statistical techn...         NaN   \n\n                                              keywords Unnamed: 5 Unnamed: 6  \\\n0    statistical word alignment, ensemble learning,...        NaN        NaN   \n1    representation, spectral learning, discrete fo...        NaN        NaN   \n2    software defect prediction, particle swarm opt...        NaN        NaN   \n3           filtering, label noise, instance weighting        NaN        NaN   \n4    twitter, adaptation models, time-frequency ana...        NaN        NaN   \n..                                                 ...        ...        ...   \n443  machine-learning,unsupervised-learning,knowled...        NaN        NaN   \n444  workload characterization,hmm,cepstral coeffic...        NaN        NaN   \n445  cluster analysis,autism spectrum disorder,chal...        NaN        NaN   \n446  predicting psychosis,esm,mhealth,svm,gaussian ...        NaN        NaN   \n447  bayes methods,monte carlo methods,numerical si...        NaN        NaN   \n\n     Unnamed: 7  \n0           NaN  \n1           NaN  \n2           NaN  \n3           NaN  \n4           NaN  \n..          ...  \n443         NaN  \n444         NaN  \n445         NaN  \n446         NaN  \n447         NaN  \n\n[448 rows x 8 columns]",
      "text/html": "<div>\n<style scoped>\n    .dataframe tbody tr th:only-of-type {\n        vertical-align: middle;\n    }\n\n    .dataframe tbody tr th {\n        vertical-align: top;\n    }\n\n    .dataframe thead th {\n        text-align: right;\n    }\n</style>\n<table border=\"1\" class=\"dataframe\">\n  <thead>\n    <tr style=\"text-align: right;\">\n      <th></th>\n      <th>id</th>\n      <th>title</th>\n      <th>abstract</th>\n      <th>Unnamed: 3</th>\n      <th>keywords</th>\n      <th>Unnamed: 5</th>\n      <th>Unnamed: 6</th>\n      <th>Unnamed: 7</th>\n    </tr>\n  </thead>\n  <tbody>\n    <tr>\n      <th>0</th>\n      <td>1</td>\n      <td>Ensemble Statistical and Heuristic Models for ...</td>\n      <td>Statistical word alignment models need large a...</td>\n      <td>NaN</td>\n      <td>statistical word alignment, ensemble learning,...</td>\n      <td>NaN</td>\n      <td>NaN</td>\n      <td>NaN</td>\n    </tr>\n    <tr>\n      <th>1</th>\n      <td>2</td>\n      <td>Improving Spectral Learning by Using Multiple ...</td>\n      <td>Spectral learning algorithms learn an unknown ...</td>\n      <td>NaN</td>\n      <td>representation, spectral learning, discrete fo...</td>\n      <td>NaN</td>\n      <td>NaN</td>\n      <td>NaN</td>\n    </tr>\n    <tr>\n      <th>2</th>\n      <td>3</td>\n      <td>Applying Swarm Ensemble Clustering Technique f...</td>\n      <td>Number of defects remaining in a system provid...</td>\n      <td>NaN</td>\n      <td>software defect prediction, particle swarm opt...</td>\n      <td>NaN</td>\n      <td>NaN</td>\n      <td>NaN</td>\n    </tr>\n    <tr>\n      <th>3</th>\n      <td>4</td>\n      <td>Reducing the Effects of Detrimental Instances</td>\n      <td>Not all instances in a data set are equally be...</td>\n      <td>NaN</td>\n      <td>filtering, label noise, instance weighting</td>\n      <td>NaN</td>\n      <td>NaN</td>\n      <td>NaN</td>\n    </tr>\n    <tr>\n      <th>4</th>\n      <td>5</td>\n      <td>Concept Drift Awareness in Twitter Streams</td>\n      <td>Learning in non-stationary environments is not...</td>\n      <td>NaN</td>\n      <td>twitter, adaptation models, time-frequency ana...</td>\n      <td>NaN</td>\n      <td>NaN</td>\n      <td>NaN</td>\n    </tr>\n    <tr>\n      <th>...</th>\n      <td>...</td>\n      <td>...</td>\n      <td>...</td>\n      <td>...</td>\n      <td>...</td>\n      <td>...</td>\n      <td>...</td>\n      <td>...</td>\n    </tr>\n    <tr>\n      <th>443</th>\n      <td>444</td>\n      <td>A Machine Learning Tool for Supporting Advance...</td>\n      <td>In the current era of big data, high volumes o...</td>\n      <td>NaN</td>\n      <td>machine-learning,unsupervised-learning,knowled...</td>\n      <td>NaN</td>\n      <td>NaN</td>\n      <td>NaN</td>\n    </tr>\n    <tr>\n      <th>444</th>\n      <td>445</td>\n      <td>Advanced ECHMM-Based Machine Learning Tools fo...</td>\n      <td>We present a novel approach for accurate chara...</td>\n      <td>NaN</td>\n      <td>workload characterization,hmm,cepstral coeffic...</td>\n      <td>NaN</td>\n      <td>NaN</td>\n      <td>NaN</td>\n    </tr>\n    <tr>\n      <th>445</th>\n      <td>446</td>\n      <td>A Cluster Analysis of Challenging Behaviors in...</td>\n      <td>We apply cluster analysis to a sample of 2,116...</td>\n      <td>NaN</td>\n      <td>cluster analysis,autism spectrum disorder,chal...</td>\n      <td>NaN</td>\n      <td>NaN</td>\n      <td>NaN</td>\n    </tr>\n    <tr>\n      <th>446</th>\n      <td>447</td>\n      <td>Predicting Psychosis Using the Experience Samp...</td>\n      <td>Smart phones have become ubiquitous in the rec...</td>\n      <td>NaN</td>\n      <td>predicting psychosis,esm,mhealth,svm,gaussian ...</td>\n      <td>NaN</td>\n      <td>NaN</td>\n      <td>NaN</td>\n    </tr>\n    <tr>\n      <th>447</th>\n      <td>448</td>\n      <td>Bayesian Nonparametric Clustering of Patients ...</td>\n      <td>Bayesian nonparametric (BNP) statistical techn...</td>\n      <td>NaN</td>\n      <td>bayes methods,monte carlo methods,numerical si...</td>\n      <td>NaN</td>\n      <td>NaN</td>\n      <td>NaN</td>\n    </tr>\n  </tbody>\n</table>\n<p>448 rows × 8 columns</p>\n</div>"
     },
     "execution_count": 3,
     "metadata": {},
     "output_type": "execute_result"
    }
   ],
   "source": [
    "df = pd.read_csv(url_datos_moodle)\n",
    "df"
   ]
  },
  {
   "cell_type": "markdown",
   "id": "uOalJuzTiQIu",
   "metadata": {
    "id": "uOalJuzTiQIu"
   },
   "source": [
    "Separación de variable objetivo y demás atributos"
   ]
  },
  {
   "cell_type": "code",
   "execution_count": 4,
   "id": "5WmVE1_siSDB",
   "metadata": {
    "id": "5WmVE1_siSDB"
   },
   "outputs": [],
   "source": [
    "y = df['keywords']\n",
    "X = df.drop(['keywords'], axis=1)"
   ]
  },
  {
   "cell_type": "markdown",
   "id": "mBEuV2x_iVLe",
   "metadata": {
    "id": "mBEuV2x_iVLe"
   },
   "source": [
    "Comprobamos las columnas Unnamed, tienen muchos valores NaN y parecen raras"
   ]
  },
  {
   "cell_type": "code",
   "execution_count": 5,
   "id": "LVI3IkNpiZHO",
   "metadata": {
    "colab": {
     "base_uri": "https://localhost:8080/"
    },
    "id": "LVI3IkNpiZHO",
    "outputId": "48f29184-cd8a-4450-ce30-7f3de54322aa"
   },
   "outputs": [
    {
     "name": "stdout",
     "output_type": "stream",
     "text": [
      "El dataset tiene  448  filas\n",
      "===== NULOS =====\n"
     ]
    },
    {
     "data": {
      "text/plain": "id              0\ntitle           0\nabstract        0\nUnnamed: 3    448\nkeywords        0\nUnnamed: 5    443\nUnnamed: 6    444\nUnnamed: 7    447\ndtype: int64"
     },
     "execution_count": 5,
     "metadata": {},
     "output_type": "execute_result"
    }
   ],
   "source": [
    "print(\"El dataset tiene \", len(df), \" filas\")\n",
    "\n",
    "print(\"===== NULOS =====\")\n",
    "df.isnull().sum()"
   ]
  },
  {
   "cell_type": "code",
   "execution_count": 6,
   "id": "Dt4-1uA0icsB",
   "metadata": {
    "colab": {
     "base_uri": "https://localhost:8080/",
     "height": 424
    },
    "id": "Dt4-1uA0icsB",
    "outputId": "c6056794-461d-4487-a3e8-c54cee58fdd5"
   },
   "outputs": [
    {
     "data": {
      "text/plain": "                                                 title  \\\n0    Ensemble Statistical and Heuristic Models for ...   \n1    Improving Spectral Learning by Using Multiple ...   \n2    Applying Swarm Ensemble Clustering Technique f...   \n3        Reducing the Effects of Detrimental Instances   \n4           Concept Drift Awareness in Twitter Streams   \n..                                                 ...   \n443  A Machine Learning Tool for Supporting Advance...   \n444  Advanced ECHMM-Based Machine Learning Tools fo...   \n445  A Cluster Analysis of Challenging Behaviors in...   \n446  Predicting Psychosis Using the Experience Samp...   \n447  Bayesian Nonparametric Clustering of Patients ...   \n\n                                              abstract  \n0    Statistical word alignment models need large a...  \n1    Spectral learning algorithms learn an unknown ...  \n2    Number of defects remaining in a system provid...  \n3    Not all instances in a data set are equally be...  \n4    Learning in non-stationary environments is not...  \n..                                                 ...  \n443  In the current era of big data, high volumes o...  \n444  We present a novel approach for accurate chara...  \n445  We apply cluster analysis to a sample of 2,116...  \n446  Smart phones have become ubiquitous in the rec...  \n447  Bayesian nonparametric (BNP) statistical techn...  \n\n[448 rows x 2 columns]",
      "text/html": "<div>\n<style scoped>\n    .dataframe tbody tr th:only-of-type {\n        vertical-align: middle;\n    }\n\n    .dataframe tbody tr th {\n        vertical-align: top;\n    }\n\n    .dataframe thead th {\n        text-align: right;\n    }\n</style>\n<table border=\"1\" class=\"dataframe\">\n  <thead>\n    <tr style=\"text-align: right;\">\n      <th></th>\n      <th>title</th>\n      <th>abstract</th>\n    </tr>\n  </thead>\n  <tbody>\n    <tr>\n      <th>0</th>\n      <td>Ensemble Statistical and Heuristic Models for ...</td>\n      <td>Statistical word alignment models need large a...</td>\n    </tr>\n    <tr>\n      <th>1</th>\n      <td>Improving Spectral Learning by Using Multiple ...</td>\n      <td>Spectral learning algorithms learn an unknown ...</td>\n    </tr>\n    <tr>\n      <th>2</th>\n      <td>Applying Swarm Ensemble Clustering Technique f...</td>\n      <td>Number of defects remaining in a system provid...</td>\n    </tr>\n    <tr>\n      <th>3</th>\n      <td>Reducing the Effects of Detrimental Instances</td>\n      <td>Not all instances in a data set are equally be...</td>\n    </tr>\n    <tr>\n      <th>4</th>\n      <td>Concept Drift Awareness in Twitter Streams</td>\n      <td>Learning in non-stationary environments is not...</td>\n    </tr>\n    <tr>\n      <th>...</th>\n      <td>...</td>\n      <td>...</td>\n    </tr>\n    <tr>\n      <th>443</th>\n      <td>A Machine Learning Tool for Supporting Advance...</td>\n      <td>In the current era of big data, high volumes o...</td>\n    </tr>\n    <tr>\n      <th>444</th>\n      <td>Advanced ECHMM-Based Machine Learning Tools fo...</td>\n      <td>We present a novel approach for accurate chara...</td>\n    </tr>\n    <tr>\n      <th>445</th>\n      <td>A Cluster Analysis of Challenging Behaviors in...</td>\n      <td>We apply cluster analysis to a sample of 2,116...</td>\n    </tr>\n    <tr>\n      <th>446</th>\n      <td>Predicting Psychosis Using the Experience Samp...</td>\n      <td>Smart phones have become ubiquitous in the rec...</td>\n    </tr>\n    <tr>\n      <th>447</th>\n      <td>Bayesian Nonparametric Clustering of Patients ...</td>\n      <td>Bayesian nonparametric (BNP) statistical techn...</td>\n    </tr>\n  </tbody>\n</table>\n<p>448 rows × 2 columns</p>\n</div>"
     },
     "execution_count": 6,
     "metadata": {},
     "output_type": "execute_result"
    }
   ],
   "source": [
    "X = X.drop(['id', 'Unnamed: 3', 'Unnamed: 5', 'Unnamed: 6', 'Unnamed: 7'], axis=1)\n",
    "X"
   ]
  },
  {
   "cell_type": "code",
   "execution_count": 7,
   "id": "tkROj3BVisry",
   "metadata": {
    "colab": {
     "base_uri": "https://localhost:8080/",
     "height": 424
    },
    "id": "tkROj3BVisry",
    "outputId": "988b5433-2fba-4ccd-8488-dbc61c2d0dd5"
   },
   "outputs": [
    {
     "data": {
      "text/plain": "                                              keywords\n0    statistical word alignment, ensemble learning,...\n1    representation, spectral learning, discrete fo...\n2    software defect prediction, particle swarm opt...\n3           filtering, label noise, instance weighting\n4    twitter, adaptation models, time-frequency ana...\n..                                                 ...\n443  machine-learning,unsupervised-learning,knowled...\n444  workload characterization,hmm,cepstral coeffic...\n445  cluster analysis,autism spectrum disorder,chal...\n446  predicting psychosis,esm,mhealth,svm,gaussian ...\n447  bayes methods,monte carlo methods,numerical si...\n\n[448 rows x 1 columns]",
      "text/html": "<div>\n<style scoped>\n    .dataframe tbody tr th:only-of-type {\n        vertical-align: middle;\n    }\n\n    .dataframe tbody tr th {\n        vertical-align: top;\n    }\n\n    .dataframe thead th {\n        text-align: right;\n    }\n</style>\n<table border=\"1\" class=\"dataframe\">\n  <thead>\n    <tr style=\"text-align: right;\">\n      <th></th>\n      <th>keywords</th>\n    </tr>\n  </thead>\n  <tbody>\n    <tr>\n      <th>0</th>\n      <td>statistical word alignment, ensemble learning,...</td>\n    </tr>\n    <tr>\n      <th>1</th>\n      <td>representation, spectral learning, discrete fo...</td>\n    </tr>\n    <tr>\n      <th>2</th>\n      <td>software defect prediction, particle swarm opt...</td>\n    </tr>\n    <tr>\n      <th>3</th>\n      <td>filtering, label noise, instance weighting</td>\n    </tr>\n    <tr>\n      <th>4</th>\n      <td>twitter, adaptation models, time-frequency ana...</td>\n    </tr>\n    <tr>\n      <th>...</th>\n      <td>...</td>\n    </tr>\n    <tr>\n      <th>443</th>\n      <td>machine-learning,unsupervised-learning,knowled...</td>\n    </tr>\n    <tr>\n      <th>444</th>\n      <td>workload characterization,hmm,cepstral coeffic...</td>\n    </tr>\n    <tr>\n      <th>445</th>\n      <td>cluster analysis,autism spectrum disorder,chal...</td>\n    </tr>\n    <tr>\n      <th>446</th>\n      <td>predicting psychosis,esm,mhealth,svm,gaussian ...</td>\n    </tr>\n    <tr>\n      <th>447</th>\n      <td>bayes methods,monte carlo methods,numerical si...</td>\n    </tr>\n  </tbody>\n</table>\n<p>448 rows × 1 columns</p>\n</div>"
     },
     "execution_count": 7,
     "metadata": {},
     "output_type": "execute_result"
    }
   ],
   "source": [
    "y = pd.DataFrame(y, columns=['keywords'])\n",
    "y"
   ]
  },
  {
   "cell_type": "markdown",
   "id": "-NfR3rJNkCYk",
   "metadata": {
    "id": "-NfR3rJNkCYk"
   },
   "source": [
    "Hacer un bag of words con estos abstracts produciría una segmentación demencial que nos haría perder el hilo, aunque aún es pronto para descartarlo. Podemos emplear alguna técnica de [word embedding](https://es.wikipedia.org/wiki/Word_embedding):"
   ]
  },
  {
   "cell_type": "markdown",
   "id": "d2489222",
   "metadata": {
    "id": "d2489222"
   },
   "source": [
    "# Entrenamiento de word embedding con GLoVe\n",
    "\n",
    "Vamos a entrenar una capa de word embedding con el conjunto de datos de Stanford:"
   ]
  },
  {
   "cell_type": "code",
   "execution_count": 8,
   "id": "1140df89",
   "metadata": {
    "id": "1140df89"
   },
   "outputs": [],
   "source": [
    "plt.style.use('ggplot')\n",
    "plt.rcParams.update({'figure.figsize': (16, 9),'figure.dpi': 100})\n",
    "\n",
    "tf.compat.v1.disable_eager_execution()  # Esto es por un problema (creo) con las RTX2070"
   ]
  },
  {
   "cell_type": "code",
   "execution_count": 9,
   "id": "67b5594b",
   "metadata": {
    "id": "67b5594b"
   },
   "outputs": [],
   "source": [
    "GLOVE_URL = 'http://nlp.stanford.edu/data/glove.6B.zip'\n",
    "GLOVE_FILE = 'glove.6B.zip'\n",
    "GLOVE_DIR = 'glove'\n",
    "\n",
    "if not os.path.isdir(GLOVE_DIR):\n",
    "    # Descargamos el dataset comprimido de GloVe (si no lo tenemos ya)\n",
    "    if not os.path.exists(GLOVE_FILE):\n",
    "        with open(GLOVE_FILE, 'wb') as f:\n",
    "            r = requests.get(GLOVE_URL, allow_redirects=True)\n",
    "            f.write(r.content)\n",
    "    # Lo descomprimimos en el directorio 'glove'\n",
    "    unpack_archive(GLOVE_FILE, 'glove/')"
   ]
  },
  {
   "cell_type": "markdown",
   "id": "c9fd945b",
   "metadata": {
    "id": "c9fd945b"
   },
   "source": [
    "Establecemos parámetros"
   ]
  },
  {
   "cell_type": "code",
   "execution_count": 10,
   "id": "8b5f9390",
   "metadata": {},
   "outputs": [],
   "source": [
    "lens = [len(s) for s in X['abstract']]\n",
    "\n",
    "lens = pd.DataFrame(lens)\n"
   ]
  },
  {
   "attachments": {},
   "cell_type": "markdown",
   "id": "ddf3eaa5",
   "metadata": {},
   "source": [
    "Establecemos MAX_SEQUENCE_LENGTH a la mediana de las longitudes de los abstracts, de aproximadamente 986 palabras."
   ]
  },
  {
   "cell_type": "code",
   "execution_count": 11,
   "id": "51a1ad15",
   "metadata": {
    "id": "51a1ad15"
   },
   "outputs": [],
   "source": [
    "# Dimensiones de los word vectors (50, 100, 200 o 300)\n",
    "EMBEDDING_DIM = 50\n",
    "# Tamaño máximo de nuestro vocabulario (se escogerán las más frecuentes)\n",
    "MAX_VOCAB_SIZE = 10000\n",
    "# El tamaño de la frase más larga con la que alimentar el modelo\n",
    "MAX_SEQUENCE_LENGTH = int(lens.median())"
   ]
  },
  {
   "cell_type": "code",
   "execution_count": 12,
   "id": "af4180eb",
   "metadata": {},
   "outputs": [],
   "source": [
    "del lens"
   ]
  },
  {
   "cell_type": "markdown",
   "id": "9bdcdc82",
   "metadata": {
    "id": "9bdcdc82"
   },
   "source": [
    "We load the Embedding of the dimension specified in the configuration"
   ]
  },
  {
   "cell_type": "code",
   "execution_count": 13,
   "id": "98b853ed",
   "metadata": {
    "id": "98b853ed"
   },
   "outputs": [
    {
     "name": "stdout",
     "output_type": "stream",
     "text": [
      "Loading GloVe 50-d embedding... done (400000 word vectors loaded)\n"
     ]
    }
   ],
   "source": [
    "print(f'Loading GloVe {EMBEDDING_DIM}-d embedding... ', end='')\n",
    "word2vec = {}\n",
    "with open(os.path.join(GLOVE_DIR, f'glove.6B.{EMBEDDING_DIM}d.txt')) as f:\n",
    "    for line in f:\n",
    "        values = line.split()\n",
    "        word2vec[values[0]] = np.asarray(values[1:], dtype='float32')\n",
    "print(f'done ({len(word2vec)} word vectors loaded)')"
   ]
  },
  {
   "cell_type": "code",
   "execution_count": 14,
   "id": "WgvFofzRkka_",
   "metadata": {
    "id": "WgvFofzRkka_"
   },
   "outputs": [
    {
     "name": "stdout",
     "output_type": "stream",
     "text": [
      "Loading training articles dataset... done (448 abstracts loaded)\n",
      "Biggest abstract length:  2008\n",
      "Smallest abstract length: 10\n",
      "Avg. abstract length:     1038.9441964285713\n",
      "--------------------\n",
      "Example abstract: title       Detection of abnormal human behavior using a m...\n",
      "abstract    Automatic detection of abnormal events is one ...\n",
      "Name: 9, dtype: object\n",
      "Example keywords: abnormal event detection, low-rank approximation, adaptive learning\n"
     ]
    }
   ],
   "source": [
    "print('Loading training articles dataset... ', end='')\n",
    "\n",
    "targets = y.values[:,0]\n",
    "abstracts = X.values[:,1]\n",
    "titles = X.values[:,0]\n",
    "\n",
    "print(f'done ({len(y)} abstracts loaded)')\n",
    "print(f'Biggest abstract length:  {max(len(s) for s in abstracts)}')\n",
    "print(f'Smallest abstract length: {min(len(s) for s in abstracts)}')\n",
    "print(f'Avg. abstract length:     {np.mean([len(s) for s in abstracts])}')\n",
    "# print(f'Median abstract length:   {sorted(len(s) for s in X)[len(X) // 2]}')\n",
    "print('-' * 20)\n",
    "print(f'Example abstract: {X.iloc[9]}')\n",
    "print(f'Example keywords: {targets[9]}')"
   ]
  },
  {
   "cell_type": "markdown",
   "source": [
    "## Tokenize and add Padding\n",
    "\n",
    "1. Abstracts\n",
    "2. Keywords"
   ],
   "metadata": {
    "collapsed": false
   }
  },
  {
   "cell_type": "code",
   "execution_count": 15,
   "outputs": [],
   "source": [
    "from utils import tokenize_and_add_padding"
   ],
   "metadata": {
    "collapsed": false
   }
  },
  {
   "cell_type": "code",
   "execution_count": 16,
   "outputs": [],
   "source": [
    "tokenizer = tf.keras.preprocessing.text.Tokenizer(num_words=MAX_VOCAB_SIZE)"
   ],
   "metadata": {
    "collapsed": false
   }
  },
  {
   "cell_type": "code",
   "execution_count": 17,
   "outputs": [],
   "source": [
    "y_tokenizer = tf.keras.preprocessing.text.Tokenizer(num_words=MAX_VOCAB_SIZE)"
   ],
   "metadata": {
    "collapsed": false
   }
  },
  {
   "cell_type": "code",
   "execution_count": 18,
   "outputs": [],
   "source": [
    "sequences, word_index, data = tokenize_and_add_padding(abstracts, tokenizer, MAX_SEQUENCE_LENGTH)"
   ],
   "metadata": {
    "collapsed": false
   }
  },
  {
   "cell_type": "code",
   "execution_count": 19,
   "outputs": [
    {
     "data": {
      "text/plain": "985"
     },
     "execution_count": 19,
     "metadata": {},
     "output_type": "execute_result"
    }
   ],
   "source": [
    "len(data[400])"
   ],
   "metadata": {
    "collapsed": false
   }
  },
  {
   "cell_type": "code",
   "execution_count": 20,
   "outputs": [
    {
     "data": {
      "text/plain": "'representation, spectral learning, discrete fourier, basis selection, ensemble'"
     },
     "execution_count": 20,
     "metadata": {},
     "output_type": "execute_result"
    }
   ],
   "source": [
    "targets[1]"
   ],
   "metadata": {
    "collapsed": false
   }
  },
  {
   "cell_type": "code",
   "execution_count": 21,
   "outputs": [],
   "source": [
    "targets = [k.split(',') for k in targets]"
   ],
   "metadata": {
    "collapsed": false
   }
  },
  {
   "cell_type": "code",
   "execution_count": 22,
   "outputs": [],
   "source": [
    "max_len = sorted(len(target) for target in targets)[-1]"
   ],
   "metadata": {
    "collapsed": false
   }
  },
  {
   "cell_type": "code",
   "execution_count": 23,
   "outputs": [],
   "source": [
    "y_sequences, y_word_index, y_data = tokenize_and_add_padding(targets, y_tokenizer, max_len)"
   ],
   "metadata": {
    "collapsed": false
   }
  },
  {
   "cell_type": "code",
   "execution_count": 24,
   "outputs": [
    {
     "data": {
      "text/plain": "1616"
     },
     "execution_count": 24,
     "metadata": {},
     "output_type": "execute_result"
    }
   ],
   "source": [
    "OUTPUT_SIZE = len(y_word_index.keys())\n",
    "OUTPUT_SIZE"
   ],
   "metadata": {
    "collapsed": false
   }
  },
  {
   "cell_type": "code",
   "execution_count": 25,
   "outputs": [
    {
     "data": {
      "text/plain": "['big data', 'gpu computing', 'machine learning', 'gpgpu']"
     },
     "execution_count": 25,
     "metadata": {},
     "output_type": "execute_result"
    }
   ],
   "source": [
    "targets[440]"
   ],
   "metadata": {
    "collapsed": false
   }
  },
  {
   "cell_type": "code",
   "execution_count": 26,
   "outputs": [
    {
     "data": {
      "text/plain": "'big data'"
     },
     "execution_count": 26,
     "metadata": {},
     "output_type": "execute_result"
    }
   ],
   "source": [
    "k = list(y_word_index.keys())\n",
    "k[21]"
   ],
   "metadata": {
    "collapsed": false
   }
  },
  {
   "cell_type": "code",
   "execution_count": 27,
   "outputs": [
    {
     "data": {
      "text/plain": "array([   0,    0,    0,    0,    0,    0,    0,   22, 1595,    1, 1596],\n      dtype=int32)"
     },
     "execution_count": 27,
     "metadata": {},
     "output_type": "execute_result"
    }
   ],
   "source": [
    "y_data[440]"
   ],
   "metadata": {
    "collapsed": false
   }
  },
  {
   "cell_type": "code",
   "execution_count": 28,
   "outputs": [],
   "source": [
    "one_hot_tokenized = []\n",
    "\n",
    "for i in range(len(y_data)):\n",
    "    one_hot_tokenized.append(np.zeros(OUTPUT_SIZE+1))\n",
    "    for t in y_data[i]:\n",
    "        one_hot_tokenized[i][t] = 1\n",
    "\n",
    "one_hot_tokenized = np.asarray(one_hot_tokenized)"
   ],
   "metadata": {
    "collapsed": false
   }
  },
  {
   "cell_type": "markdown",
   "source": [
    "# CNN model"
   ],
   "metadata": {
    "collapsed": false
   }
  },
  {
   "cell_type": "markdown",
   "source": [
    "## Embedding layer"
   ],
   "metadata": {
    "collapsed": false
   }
  },
  {
   "cell_type": "code",
   "execution_count": 29,
   "outputs": [
    {
     "name": "stdout",
     "output_type": "stream",
     "text": [
      "Loading embedding with GloVe vectors... done\n"
     ]
    }
   ],
   "source": [
    "print('Loading embedding with GloVe vectors... ', end='')\n",
    "# Cargamos sólo las palabras elegidas de nuestro conjunto de datos\n",
    "num_words = min(MAX_VOCAB_SIZE, len(word_index) + 1)\n",
    "embedding_matrix = np.zeros((num_words, EMBEDDING_DIM))\n",
    "for word, i in word_index.items():\n",
    "    if i < MAX_VOCAB_SIZE:\n",
    "        embedding_vector = word2vec.get(word)\n",
    "        if embedding_vector is not None:\n",
    "            embedding_matrix[i] = embedding_vector\n",
    "\n",
    "# Creamos la capa de embedding\n",
    "embedding_layer = tf.keras.layers.Embedding(\n",
    "  input_dim=num_words,\n",
    "  output_dim=EMBEDDING_DIM,\n",
    "  weights=[embedding_matrix],\n",
    "  input_length=MAX_SEQUENCE_LENGTH,\n",
    "  trainable=False,\n",
    ")\n",
    "print('done')"
   ],
   "metadata": {
    "collapsed": false
   }
  },
  {
   "cell_type": "code",
   "execution_count": 30,
   "outputs": [
    {
     "name": "stdout",
     "output_type": "stream",
     "text": [
      "Model: \"model\"\n",
      "_________________________________________________________________\n",
      " Layer (type)                Output Shape              Param #   \n",
      "=================================================================\n",
      " input_1 (InputLayer)        [(None, 985)]             0         \n",
      "                                                                 \n",
      " embedding (Embedding)       (None, 985, 50)           332650    \n",
      "                                                                 \n",
      " conv1d (Conv1D)             (None, 983, 16)           2416      \n",
      "                                                                 \n",
      " flatten (Flatten)           (None, 15728)             0         \n",
      "                                                                 \n",
      " dense (Dense)               (None, 1617)              25433793  \n",
      "                                                                 \n",
      "=================================================================\n",
      "Total params: 25,768,859\n",
      "Trainable params: 25,436,209\n",
      "Non-trainable params: 332,650\n",
      "_________________________________________________________________\n"
     ]
    },
    {
     "name": "stderr",
     "output_type": "stream",
     "text": [
      "2023-03-28 15:28:27.206849: W tensorflow/compiler/xla/stream_executor/platform/default/dso_loader.cc:64] Could not load dynamic library 'libcuda.so.1'; dlerror: libcuda.so.1: cannot open shared object file: No such file or directory; LD_LIBRARY_PATH: \n",
      "2023-03-28 15:28:27.206877: W tensorflow/compiler/xla/stream_executor/cuda/cuda_driver.cc:265] failed call to cuInit: UNKNOWN ERROR (303)\n",
      "2023-03-28 15:28:27.206900: I tensorflow/compiler/xla/stream_executor/cuda/cuda_diagnostics.cc:156] kernel driver does not appear to be running on this host (pop-os): /proc/driver/nvidia/version does not exist\n",
      "2023-03-28 15:28:27.207251: I tensorflow/core/platform/cpu_feature_guard.cc:193] This TensorFlow binary is optimized with oneAPI Deep Neural Network Library (oneDNN) to use the following CPU instructions in performance-critical operations:  AVX2 AVX512F AVX512_VNNI FMA\n",
      "To enable them in other operations, rebuild TensorFlow with the appropriate compiler flags.\n",
      "2023-03-28 15:28:27.209763: I tensorflow/compiler/mlir/mlir_graph_optimization_pass.cc:357] MLIR V1 optimization pass is not enabled\n",
      "2023-03-28 15:28:27.226244: W tensorflow/c/c_api.cc:291] Operation '{name:'embedding/embeddings/Assign' id:15 op device:{requested: '', assigned: ''} def:{{{node embedding/embeddings/Assign}} = AssignVariableOp[_has_manual_control_dependencies=true, dtype=DT_FLOAT, validate_shape=false](embedding/embeddings, embedding/embeddings/Initializer/stateless_random_uniform)}}' was changed by setting attribute after it was run by a session. This mutation will have no effect, and will trigger an error in the future. Either don't modify nodes after running them or create a new session.\n"
     ]
    }
   ],
   "source": [
    "input_ = tf.keras.layers.Input(shape=(MAX_SEQUENCE_LENGTH,))\n",
    "x = embedding_layer(input_)\n",
    "x = tf.keras.layers.Conv1D(16, kernel_size=3, activation='relu')(x)\n",
    "x = tf.keras.layers.Flatten()(x)\n",
    "# x = tf.keras.layers.Dense(8, activation='relu')(x)\n",
    "output = tf.keras.layers.Dense(OUTPUT_SIZE+1, activation='linear')(x)\n",
    "\n",
    "model = tf.keras.Model(input_, output)\n",
    "model.compile(\n",
    "    loss='MSE',\n",
    "    optimizer='adam',\n",
    "    metrics=['accuracy'],\n",
    ")\n",
    "model.summary()"
   ],
   "metadata": {
    "collapsed": false
   }
  },
  {
   "cell_type": "code",
   "execution_count": 31,
   "outputs": [
    {
     "data": {
      "text/plain": "(None, 1617)"
     },
     "execution_count": 31,
     "metadata": {},
     "output_type": "execute_result"
    }
   ],
   "source": [
    "model.output_shape"
   ],
   "metadata": {
    "collapsed": false
   }
  },
  {
   "cell_type": "code",
   "execution_count": 32,
   "outputs": [
    {
     "data": {
      "text/plain": "(448, 1617)"
     },
     "execution_count": 32,
     "metadata": {},
     "output_type": "execute_result"
    }
   ],
   "source": [
    "one_hot_tokenized.shape"
   ],
   "metadata": {
    "collapsed": false
   }
  },
  {
   "cell_type": "code",
   "execution_count": 33,
   "outputs": [],
   "source": [
    "checkpoint_filepath = './checkpoints'"
   ],
   "metadata": {
    "collapsed": false
   }
  },
  {
   "cell_type": "code",
   "execution_count": 34,
   "outputs": [],
   "source": [
    "# create checkpoint\n",
    "model_checkpoint_callback = tf.keras.callbacks.ModelCheckpoint(\n",
    "    filepath=checkpoint_filepath,\n",
    "    save_weights_only=True,\n",
    "    monitor='val_accuracy',\n",
    "    mode='max',\n",
    "    save_best_only=True\n",
    ")"
   ],
   "metadata": {
    "collapsed": false
   }
  },
  {
   "cell_type": "code",
   "execution_count": 35,
   "outputs": [
    {
     "name": "stdout",
     "output_type": "stream",
     "text": [
      "Train on 380 samples, validate on 68 samples\n"
     ]
    },
    {
     "name": "stderr",
     "output_type": "stream",
     "text": [
      "2023-03-28 15:28:27.587394: W tensorflow/c/c_api.cc:291] Operation '{name:'training/Adam/dense/bias/m/Assign' id:265 op device:{requested: '', assigned: ''} def:{{{node training/Adam/dense/bias/m/Assign}} = AssignVariableOp[_has_manual_control_dependencies=true, dtype=DT_FLOAT, validate_shape=false](training/Adam/dense/bias/m, training/Adam/dense/bias/m/Initializer/zeros)}}' was changed by setting attribute after it was run by a session. This mutation will have no effect, and will trigger an error in the future. Either don't modify nodes after running them or create a new session.\n"
     ]
    },
    {
     "name": "stdout",
     "output_type": "stream",
     "text": [
      "Epoch 1/10\n",
      "380/380 [==============================] - 2s 5ms/sample - loss: 0.2446 - accuracy: 0.4132 - val_loss: 0.1218 - val_accuracy: 0.9412\n",
      "Epoch 2/10\n"
     ]
    },
    {
     "name": "stderr",
     "output_type": "stream",
     "text": [
      "/home/b1111y/Documents/AgentesApuntes/practicas/AgentesInteligentes/env/lib/python3.10/site-packages/keras/engine/training_v1.py:2333: UserWarning: `Model.state_updates` will be removed in a future version. This property should not be used in TensorFlow 2.0, as `updates` are applied automatically.\n",
      "  updates = self.state_updates\n",
      "2023-03-28 15:28:29.777513: W tensorflow/c/c_api.cc:291] Operation '{name:'loss/mul' id:128 op device:{requested: '', assigned: ''} def:{{{node loss/mul}} = Mul[T=DT_FLOAT, _has_manual_control_dependencies=true](loss/mul/x, loss/dense_loss/value)}}' was changed by setting attribute after it was run by a session. This mutation will have no effect, and will trigger an error in the future. Either don't modify nodes after running them or create a new session.\n"
     ]
    },
    {
     "name": "stdout",
     "output_type": "stream",
     "text": [
      "380/380 [==============================] - 1s 4ms/sample - loss: 0.0645 - accuracy: 0.7395 - val_loss: 0.0401 - val_accuracy: 0.9706\n",
      "Epoch 3/10\n",
      "380/380 [==============================] - 1s 4ms/sample - loss: 0.0309 - accuracy: 0.9789 - val_loss: 0.0314 - val_accuracy: 0.9706\n",
      "Epoch 4/10\n",
      "380/380 [==============================] - 2s 4ms/sample - loss: 0.0185 - accuracy: 0.9658 - val_loss: 0.0248 - val_accuracy: 1.0000\n",
      "Epoch 5/10\n",
      "380/380 [==============================] - 1s 4ms/sample - loss: 0.0125 - accuracy: 0.9684 - val_loss: 0.0216 - val_accuracy: 1.0000\n",
      "Epoch 6/10\n",
      "380/380 [==============================] - 1s 4ms/sample - loss: 0.0094 - accuracy: 0.9737 - val_loss: 0.0204 - val_accuracy: 1.0000\n",
      "Epoch 7/10\n",
      "380/380 [==============================] - 2s 4ms/sample - loss: 0.0075 - accuracy: 0.9789 - val_loss: 0.0195 - val_accuracy: 1.0000\n",
      "Epoch 8/10\n",
      "380/380 [==============================] - 1s 4ms/sample - loss: 0.0061 - accuracy: 0.9868 - val_loss: 0.0190 - val_accuracy: 1.0000\n",
      "Epoch 9/10\n",
      "380/380 [==============================] - 2s 4ms/sample - loss: 0.0050 - accuracy: 0.9842 - val_loss: 0.0186 - val_accuracy: 1.0000\n",
      "Epoch 10/10\n",
      "380/380 [==============================] - 2s 4ms/sample - loss: 0.0042 - accuracy: 0.9842 - val_loss: 0.0183 - val_accuracy: 1.0000\n"
     ]
    }
   ],
   "source": [
    "# TODO : Model does not predict correctly. It only predicts 'machine learning' for every abstract with acc > 0.5 (see testing down)\n",
    "history = model.fit(data, one_hot_tokenized, epochs=10, validation_split=0.15)  # callbacks=[model_checkpoint_callback]"
   ],
   "metadata": {
    "collapsed": false
   }
  },
  {
   "cell_type": "markdown",
   "source": [
    "## Plot this shitty history XD"
   ],
   "metadata": {
    "collapsed": false
   }
  },
  {
   "cell_type": "code",
   "execution_count": 36,
   "outputs": [],
   "source": [
    "from utils import plot_history"
   ],
   "metadata": {
    "collapsed": false
   }
  },
  {
   "cell_type": "code",
   "execution_count": 37,
   "outputs": [
    {
     "data": {
      "text/plain": "<Figure size 1600x900 with 2 Axes>",
      "image/png": "[encoded data removed]"
     },
     "metadata": {},
     "output_type": "display_data"
    }
   ],
   "source": [
    "plot_history(history)"
   ],
   "metadata": {
    "collapsed": false
   }
  },
  {
   "cell_type": "markdown",
   "source": [
    "### Test set"
   ],
   "metadata": {
    "collapsed": false
   }
  },
  {
   "cell_type": "code",
   "execution_count": 38,
   "outputs": [
    {
     "data": {
      "text/plain": "'Despite an abundance of commands to make tasks easier to perform, the users of feature-rich applications, such as development environments, use only a fraction of the commands available. Earlier work has shown that command recommendation -- in which, given the command usage history of a set of users, the objective is to predict a command that is likely useful for the user to learn -- can improve the usage of a range of commands available within such applications. In this paper, we present a new algorithm, CoDis, which is built upon three hypotheses. First, we hypothesize that in feature-rich applications there exists co-occurrence patterns between commands. Second, we hypothesize that users of feature-rich applications have prevalent discovery patterns. Finally, we hypothesize that users need different recommendations based on the time elapsed between their last activity and the time of recommendation. We show on data submitted by many users of an integrated development environment (Eclipse) that CoDis outperforms existing approaches: compared to ADAGRAD, the best performing baseline, it achieves an improvement of 10.22% in recall, for a top-N recommendation task (N = 20).'"
     },
     "execution_count": 38,
     "metadata": {},
     "output_type": "execute_result"
    }
   ],
   "source": [
    "abstracts[200]"
   ],
   "metadata": {
    "collapsed": false
   }
  },
  {
   "cell_type": "code",
   "execution_count": 39,
   "outputs": [],
   "source": [
    "_, _, test_data = tokenize_and_add_padding([abstracts[440], abstracts[200]], tokenizer, MAX_SEQUENCE_LENGTH)"
   ],
   "metadata": {
    "collapsed": false
   }
  },
  {
   "cell_type": "code",
   "execution_count": 40,
   "outputs": [
    {
     "name": "stderr",
     "output_type": "stream",
     "text": [
      "/home/b1111y/Documents/AgentesApuntes/practicas/AgentesInteligentes/env/lib/python3.10/site-packages/keras/engine/training_v1.py:2357: UserWarning: `Model.state_updates` will be removed in a future version. This property should not be used in TensorFlow 2.0, as `updates` are applied automatically.\n",
      "  updates=self.state_updates,\n",
      "2023-03-28 15:28:44.070318: W tensorflow/c/c_api.cc:291] Operation '{name:'dense/BiasAdd' id:81 op device:{requested: '', assigned: ''} def:{{{node dense/BiasAdd}} = BiasAdd[T=DT_FLOAT, _has_manual_control_dependencies=true, data_format=\"NHWC\"](dense/MatMul, dense/BiasAdd/ReadVariableOp)}}' was changed by setting attribute after it was run by a session. This mutation will have no effect, and will trigger an error in the future. Either don't modify nodes after running them or create a new session.\n"
     ]
    }
   ],
   "source": [
    "y_hat = model.predict(test_data)"
   ],
   "metadata": {
    "collapsed": false
   }
  },
  {
   "cell_type": "code",
   "execution_count": 41,
   "outputs": [
    {
     "data": {
      "text/plain": "[['machine learning'], ['machine learning']]"
     },
     "execution_count": 41,
     "metadata": {},
     "output_type": "execute_result"
    }
   ],
   "source": [
    "keys = []\n",
    "\n",
    "for i, prediction in enumerate(y_hat):\n",
    "    keys.append([])\n",
    "    for j, key in enumerate(prediction):\n",
    "        if key >= 0.5:\n",
    "            keys[i].append(k[j])\n",
    "\n",
    "keys"
   ],
   "metadata": {
    "collapsed": false
   }
  },
  {
   "cell_type": "code",
   "execution_count": 42,
   "outputs": [
    {
     "data": {
      "text/plain": "['big data', 'gpu computing', 'machine learning', 'gpgpu']"
     },
     "execution_count": 42,
     "metadata": {},
     "output_type": "execute_result"
    }
   ],
   "source": [
    "targets[440]"
   ],
   "metadata": {
    "collapsed": false
   }
  },
  {
   "cell_type": "code",
   "execution_count": 43,
   "outputs": [
    {
     "data": {
      "text/plain": "['collaboration',\n 'history',\n 'recommender systems',\n 'software',\n 'documentation',\n 'computational modeling',\n 'computer science']"
     },
     "execution_count": 43,
     "metadata": {},
     "output_type": "execute_result"
    }
   ],
   "source": [
    "targets[200]"
   ],
   "metadata": {
    "collapsed": false
   }
  },
  {
   "cell_type": "markdown",
   "source": [
    "# RNN model"
   ],
   "metadata": {
    "collapsed": false
   }
  },
  {
   "cell_type": "code",
   "execution_count": 44,
   "outputs": [],
   "source": [
    "# XD\n"
   ],
   "metadata": {
    "collapsed": false
   }
  }
 ],
 "metadata": {
  "colab": {
   "provenance": []
  },
  "kernelspec": {
   "display_name": "Python 3 (ipykernel)",
   "language": "python",
   "name": "python3"
  },
  "language_info": {
   "codemirror_mode": {
    "name": "ipython",
    "version": 3
   },
   "file_extension": ".py",
   "mimetype": "text/x-python",
   "name": "python",
   "nbconvert_exporter": "python",
   "pygments_lexer": "ipython3",
   "version": "3.10.6"
  }
 },
 "nbformat": 4,
 "nbformat_minor": 5
}
